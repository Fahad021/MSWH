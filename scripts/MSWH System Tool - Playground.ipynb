{
 "cells": [
  {
   "cell_type": "markdown",
   "metadata": {},
   "source": [
    "## Example usage for climates outside of CA"
   ]
  },
  {
   "cell_type": "code",
   "execution_count": 1,
   "metadata": {},
   "outputs": [
    {
     "data": {
      "text/html": [
       "        <script type=\"text/javascript\">\n",
       "        window.PlotlyConfig = {MathJaxConfig: 'local'};\n",
       "        if (window.MathJax) {MathJax.Hub.Config({SVG: {font: \"STIX-Web\"}});}\n",
       "        if (typeof require !== 'undefined') {\n",
       "        require.undef(\"plotly\");\n",
       "        requirejs.config({\n",
       "            paths: {\n",
       "                'plotly': ['https://cdn.plot.ly/plotly-latest.min']\n",
       "            }\n",
       "        });\n",
       "        require(['plotly'], function(Plotly) {\n",
       "            window._Plotly = Plotly;\n",
       "        });\n",
       "        }\n",
       "        </script>\n",
       "        "
      ]
     },
     "metadata": {},
     "output_type": "display_data"
    }
   ],
   "source": [
    "import unittest\n",
    "import os\n",
    "\n",
    "# please restart the kernel if rerunning this for the paths to align\n",
    "os.chdir('../')\n",
    "\n",
    "import numpy as np\n",
    "import pandas as pd\n",
    "\n",
    "from mswh.comm.label_map import SwhLabels\n",
    "from mswh.system.components import Converter, Storage\n",
    "from mswh.system.source_and_sink import SourceAndSink\n",
    "from mswh.system.models import System\n",
    "from mswh.system.source_and_sink import SourceAndSink\n",
    "\n",
    "from mswh.tools.unit_converters import UnitConv, Utility\n",
    "from mswh.comm.sql import Sql\n",
    "\n",
    "from mswh.tools.plots import Plot\n",
    "from plotly.offline import iplot, init_notebook_mode\n",
    "init_notebook_mode(connected=True)\n",
    "import seaborn as sns\n",
    "sns.set(rc={'figure.figsize':(16,12)})\n",
    "sns.set_style(\"whitegrid\")\n",
    "\n",
    "import datetime\n",
    "\n",
    "import logging\n",
    "logging.basicConfig(level=logging.INFO)\n",
    "log = logging.getLogger(__name__)\n",
    "log.setLevel(logging.DEBUG)\n",
    "\n",
    "# label maps\n",
    "c = SwhLabels().set_hous_labels()\n",
    "s = SwhLabels().set_prod_labels()\n",
    "r = SwhLabels().set_res_labels()\n",
    "\n",
    "# pd.options.display.float_format = '{:,.3f}'.format"
   ]
  },
  {
   "cell_type": "markdown",
   "metadata": {},
   "source": [
    "\n",
    "# Multiscale Solar Water Heating System Simulation Tool \n",
    "\n",
    "## Contents\n",
    "\n",
    "\n",
    "* **Project input (minimum user requirment)**\n",
    "* **Weather (CA climate zones available in the database)** \n",
    "* **Loads (example CA hourly loads available in the database)**\n",
    "* **Performance paramters (defaults provided, user edits optional, such as providing insulation thickness for tanks)**\n",
    "* **Component sizing (sizing rules provided, user edits optional, such as providing the actual length of the piping)**\n",
    "* **System simulation examples with plots and summaries for all system configurations**\n",
    "\n",
    "### System configurations\n",
    "* Basecase gas tank water heater (WH)\n",
    "* Active solar thermal system with a new tankless gas WH backup\n",
    "* Active solar thermal system with a retrofit tankless gas WH backup\n",
    "\n",
    "\n",
    "# Setup \n",
    "## Import modules "
   ]
  },
  {
   "cell_type": "markdown",
   "metadata": {},
   "source": [
    "## Project inputs\n",
    "* The user in the default case only needs to specify household occupancy and a climate in CA"
   ]
  },
  {
   "cell_type": "code",
   "execution_count": 2,
   "metadata": {},
   "outputs": [],
   "source": [
    "# Add a value to the list for each additional household in a community scale project\n",
    "\n",
    "# Community scale household occupancies for 4 households\n",
    "occ_com = [3, 3, 3, 3]\n",
    "\n",
    "# Individual scale household occupancy\n",
    "occ_ind = [3]\n",
    "\n",
    "# indicate whether any occupants are at home during the day\n",
    "at_home_com = ['n', 'n', 'n', 'n']\n",
    "at_home_ind = ['n']\n",
    "\n",
    "# Example climate zone : Banja Luka, Bosnia and Hercegowina\n",
    "bl_climate = '00'"
   ]
  },
  {
   "cell_type": "markdown",
   "metadata": {},
   "source": [
    "## Load in input database (DB)"
   ]
  },
  {
   "cell_type": "code",
   "execution_count": 3,
   "metadata": {},
   "outputs": [],
   "source": [
    "weather_db_path = os.path.join(os.getcwd(), 'mswh/comm/mswh_system_input.db')\n",
    "\n",
    "db = Sql(weather_db_path)\n",
    "\n",
    "try:\n",
    "    # read table names for all tables in a\n",
    "    # {table name : sheet name} form\n",
    "    inputs = db.tables2dict(close = True)\n",
    "except:\n",
    "    msg = 'Failed to read input tables from {}.'\n",
    "    log.error(msg.format(inpath))"
   ]
  },
  {
   "cell_type": "markdown",
   "metadata": {},
   "source": [
    "## Generate weather data\n",
    "* Includes calculation of the incident irradiation with the default tilt and azimuth"
   ]
  },
  {
   "cell_type": "code",
   "execution_count": 4,
   "metadata": {},
   "outputs": [
    {
     "name": "stderr",
     "output_type": "stream",
     "text": [
      "INFO:mswh.system.source_and_sink:The user did not provide a numpy random state object. Initiating one with a provided or default seed value = 123.\n"
     ]
    }
   ],
   "source": [
    "source_and_sink = SourceAndSink(\\\n",
    "    input_dfs = inputs)\n",
    "\n",
    "# Using TMY data for Banja Luka\n",
    "weather_bl = source_and_sink.irradiation_and_water_main('00',\n",
    "    weather_data_source = 'tmy3',\n",
    "    method='isotropic diffuse')"
   ]
  },
  {
   "cell_type": "code",
   "execution_count": 5,
   "metadata": {},
   "outputs": [
    {
     "data": {
      "text/html": [
       "<div>\n",
       "<style scoped>\n",
       "    .dataframe tbody tr th:only-of-type {\n",
       "        vertical-align: middle;\n",
       "    }\n",
       "\n",
       "    .dataframe tbody tr th {\n",
       "        vertical-align: top;\n",
       "    }\n",
       "\n",
       "    .dataframe thead th {\n",
       "        text-align: right;\n",
       "    }\n",
       "</style>\n",
       "<table border=\"1\" class=\"dataframe\">\n",
       "  <thead>\n",
       "    <tr style=\"text-align: right;\">\n",
       "      <th></th>\n",
       "      <th>date (mm/dd/yyyy)</th>\n",
       "      <th>time (hh:mm)</th>\n",
       "      <th>extraterrestrial_horizontal_radiation_Wm2</th>\n",
       "      <th>extraterrestrial_normal_radiation_Wm2</th>\n",
       "      <th>global_horizontal_radiation_Wm2</th>\n",
       "      <th>ghi source</th>\n",
       "      <th>ghi uncert (%)</th>\n",
       "      <th>direct_normal_radiation_Wm2</th>\n",
       "      <th>dni source</th>\n",
       "      <th>dni uncert (%)</th>\n",
       "      <th>...</th>\n",
       "      <th>day_number_of_year</th>\n",
       "      <th>season</th>\n",
       "      <th>beam_horizontal_radiation_Wm2</th>\n",
       "      <th>global_tilt_radiation_Wm2</th>\n",
       "      <th>water_main_t_F</th>\n",
       "      <th>water_main_t_C</th>\n",
       "      <th>dry_bulb_C</th>\n",
       "      <th>wet_bulb_C</th>\n",
       "      <th>Tilt</th>\n",
       "      <th>Azimuth</th>\n",
       "    </tr>\n",
       "  </thead>\n",
       "  <tbody>\n",
       "    <tr>\n",
       "      <td>0</td>\n",
       "      <td>01/01/05</td>\n",
       "      <td>01:00</td>\n",
       "      <td>0</td>\n",
       "      <td>0</td>\n",
       "      <td>0</td>\n",
       "      <td>0</td>\n",
       "      <td>0</td>\n",
       "      <td>0</td>\n",
       "      <td>0</td>\n",
       "      <td>0</td>\n",
       "      <td>...</td>\n",
       "      <td>1</td>\n",
       "      <td>winter</td>\n",
       "      <td>0</td>\n",
       "      <td>0.000000</td>\n",
       "      <td>51.6</td>\n",
       "      <td>10.888889</td>\n",
       "      <td>0.8</td>\n",
       "      <td>0.259183</td>\n",
       "      <td>17.217</td>\n",
       "      <td>0.0</td>\n",
       "    </tr>\n",
       "    <tr>\n",
       "      <td>1</td>\n",
       "      <td>01/01/05</td>\n",
       "      <td>02:00</td>\n",
       "      <td>0</td>\n",
       "      <td>0</td>\n",
       "      <td>0</td>\n",
       "      <td>0</td>\n",
       "      <td>0</td>\n",
       "      <td>0</td>\n",
       "      <td>0</td>\n",
       "      <td>0</td>\n",
       "      <td>...</td>\n",
       "      <td>1</td>\n",
       "      <td>winter</td>\n",
       "      <td>0</td>\n",
       "      <td>0.000000</td>\n",
       "      <td>51.6</td>\n",
       "      <td>10.888889</td>\n",
       "      <td>-1.8</td>\n",
       "      <td>-2.178397</td>\n",
       "      <td>17.217</td>\n",
       "      <td>0.0</td>\n",
       "    </tr>\n",
       "    <tr>\n",
       "      <td>2</td>\n",
       "      <td>01/01/05</td>\n",
       "      <td>03:00</td>\n",
       "      <td>0</td>\n",
       "      <td>0</td>\n",
       "      <td>0</td>\n",
       "      <td>0</td>\n",
       "      <td>0</td>\n",
       "      <td>0</td>\n",
       "      <td>0</td>\n",
       "      <td>0</td>\n",
       "      <td>...</td>\n",
       "      <td>1</td>\n",
       "      <td>winter</td>\n",
       "      <td>0</td>\n",
       "      <td>0.000000</td>\n",
       "      <td>51.6</td>\n",
       "      <td>10.888889</td>\n",
       "      <td>-1.9</td>\n",
       "      <td>-2.278473</td>\n",
       "      <td>17.217</td>\n",
       "      <td>0.0</td>\n",
       "    </tr>\n",
       "    <tr>\n",
       "      <td>3</td>\n",
       "      <td>01/01/05</td>\n",
       "      <td>04:00</td>\n",
       "      <td>0</td>\n",
       "      <td>0</td>\n",
       "      <td>0</td>\n",
       "      <td>0</td>\n",
       "      <td>0</td>\n",
       "      <td>0</td>\n",
       "      <td>0</td>\n",
       "      <td>0</td>\n",
       "      <td>...</td>\n",
       "      <td>1</td>\n",
       "      <td>winter</td>\n",
       "      <td>0</td>\n",
       "      <td>0.000000</td>\n",
       "      <td>51.6</td>\n",
       "      <td>10.888889</td>\n",
       "      <td>-2.1</td>\n",
       "      <td>-2.478625</td>\n",
       "      <td>17.217</td>\n",
       "      <td>0.0</td>\n",
       "    </tr>\n",
       "    <tr>\n",
       "      <td>4</td>\n",
       "      <td>01/01/05</td>\n",
       "      <td>05:00</td>\n",
       "      <td>0</td>\n",
       "      <td>0</td>\n",
       "      <td>0</td>\n",
       "      <td>0</td>\n",
       "      <td>0</td>\n",
       "      <td>0</td>\n",
       "      <td>0</td>\n",
       "      <td>0</td>\n",
       "      <td>...</td>\n",
       "      <td>1</td>\n",
       "      <td>winter</td>\n",
       "      <td>0</td>\n",
       "      <td>0.000000</td>\n",
       "      <td>51.6</td>\n",
       "      <td>10.888889</td>\n",
       "      <td>-2.2</td>\n",
       "      <td>-2.502155</td>\n",
       "      <td>17.217</td>\n",
       "      <td>0.0</td>\n",
       "    </tr>\n",
       "    <tr>\n",
       "      <td>5</td>\n",
       "      <td>01/01/05</td>\n",
       "      <td>06:00</td>\n",
       "      <td>0</td>\n",
       "      <td>0</td>\n",
       "      <td>0</td>\n",
       "      <td>0</td>\n",
       "      <td>0</td>\n",
       "      <td>0</td>\n",
       "      <td>0</td>\n",
       "      <td>0</td>\n",
       "      <td>...</td>\n",
       "      <td>1</td>\n",
       "      <td>winter</td>\n",
       "      <td>0</td>\n",
       "      <td>0.000000</td>\n",
       "      <td>51.6</td>\n",
       "      <td>10.888889</td>\n",
       "      <td>-2.4</td>\n",
       "      <td>-2.702735</td>\n",
       "      <td>17.217</td>\n",
       "      <td>0.0</td>\n",
       "    </tr>\n",
       "    <tr>\n",
       "      <td>6</td>\n",
       "      <td>01/01/05</td>\n",
       "      <td>07:00</td>\n",
       "      <td>0</td>\n",
       "      <td>0</td>\n",
       "      <td>0</td>\n",
       "      <td>0</td>\n",
       "      <td>0</td>\n",
       "      <td>0</td>\n",
       "      <td>0</td>\n",
       "      <td>0</td>\n",
       "      <td>...</td>\n",
       "      <td>1</td>\n",
       "      <td>winter</td>\n",
       "      <td>0</td>\n",
       "      <td>0.000000</td>\n",
       "      <td>51.6</td>\n",
       "      <td>10.888889</td>\n",
       "      <td>-2.5</td>\n",
       "      <td>-2.803025</td>\n",
       "      <td>17.217</td>\n",
       "      <td>0.0</td>\n",
       "    </tr>\n",
       "    <tr>\n",
       "      <td>7</td>\n",
       "      <td>01/01/05</td>\n",
       "      <td>08:00</td>\n",
       "      <td>0</td>\n",
       "      <td>0</td>\n",
       "      <td>0</td>\n",
       "      <td>0</td>\n",
       "      <td>0</td>\n",
       "      <td>0</td>\n",
       "      <td>0</td>\n",
       "      <td>0</td>\n",
       "      <td>...</td>\n",
       "      <td>1</td>\n",
       "      <td>winter</td>\n",
       "      <td>0</td>\n",
       "      <td>0.000000</td>\n",
       "      <td>51.6</td>\n",
       "      <td>10.888889</td>\n",
       "      <td>-2.7</td>\n",
       "      <td>-3.003606</td>\n",
       "      <td>17.217</td>\n",
       "      <td>0.0</td>\n",
       "    </tr>\n",
       "    <tr>\n",
       "      <td>8</td>\n",
       "      <td>01/01/05</td>\n",
       "      <td>09:00</td>\n",
       "      <td>189</td>\n",
       "      <td>1298</td>\n",
       "      <td>24</td>\n",
       "      <td>0</td>\n",
       "      <td>0</td>\n",
       "      <td>0</td>\n",
       "      <td>0</td>\n",
       "      <td>0</td>\n",
       "      <td>...</td>\n",
       "      <td>1</td>\n",
       "      <td>winter</td>\n",
       "      <td>0</td>\n",
       "      <td>23.462287</td>\n",
       "      <td>51.6</td>\n",
       "      <td>10.888889</td>\n",
       "      <td>-1.9</td>\n",
       "      <td>-2.201285</td>\n",
       "      <td>17.217</td>\n",
       "      <td>0.0</td>\n",
       "    </tr>\n",
       "    <tr>\n",
       "      <td>9</td>\n",
       "      <td>01/01/05</td>\n",
       "      <td>10:00</td>\n",
       "      <td>355</td>\n",
       "      <td>1415</td>\n",
       "      <td>61</td>\n",
       "      <td>0</td>\n",
       "      <td>0</td>\n",
       "      <td>0</td>\n",
       "      <td>0</td>\n",
       "      <td>0</td>\n",
       "      <td>...</td>\n",
       "      <td>1</td>\n",
       "      <td>winter</td>\n",
       "      <td>0</td>\n",
       "      <td>59.633313</td>\n",
       "      <td>51.6</td>\n",
       "      <td>10.888889</td>\n",
       "      <td>-1.2</td>\n",
       "      <td>-1.577944</td>\n",
       "      <td>17.217</td>\n",
       "      <td>0.0</td>\n",
       "    </tr>\n",
       "    <tr>\n",
       "      <td>10</td>\n",
       "      <td>01/01/05</td>\n",
       "      <td>11:00</td>\n",
       "      <td>470</td>\n",
       "      <td>1415</td>\n",
       "      <td>90</td>\n",
       "      <td>0</td>\n",
       "      <td>0</td>\n",
       "      <td>0</td>\n",
       "      <td>0</td>\n",
       "      <td>0</td>\n",
       "      <td>...</td>\n",
       "      <td>1</td>\n",
       "      <td>winter</td>\n",
       "      <td>0</td>\n",
       "      <td>87.983576</td>\n",
       "      <td>51.6</td>\n",
       "      <td>10.888889</td>\n",
       "      <td>-0.4</td>\n",
       "      <td>-0.857191</td>\n",
       "      <td>17.217</td>\n",
       "      <td>0.0</td>\n",
       "    </tr>\n",
       "    <tr>\n",
       "      <td>11</td>\n",
       "      <td>01/01/05</td>\n",
       "      <td>12:00</td>\n",
       "      <td>527</td>\n",
       "      <td>1415</td>\n",
       "      <td>140</td>\n",
       "      <td>0</td>\n",
       "      <td>0</td>\n",
       "      <td>2</td>\n",
       "      <td>0</td>\n",
       "      <td>0</td>\n",
       "      <td>...</td>\n",
       "      <td>1</td>\n",
       "      <td>winter</td>\n",
       "      <td>0</td>\n",
       "      <td>136.863341</td>\n",
       "      <td>51.6</td>\n",
       "      <td>10.888889</td>\n",
       "      <td>0.5</td>\n",
       "      <td>-0.200663</td>\n",
       "      <td>17.217</td>\n",
       "      <td>0.0</td>\n",
       "    </tr>\n",
       "    <tr>\n",
       "      <td>12</td>\n",
       "      <td>01/01/05</td>\n",
       "      <td>13:00</td>\n",
       "      <td>521</td>\n",
       "      <td>1415</td>\n",
       "      <td>159</td>\n",
       "      <td>0</td>\n",
       "      <td>0</td>\n",
       "      <td>27</td>\n",
       "      <td>0</td>\n",
       "      <td>0</td>\n",
       "      <td>...</td>\n",
       "      <td>1</td>\n",
       "      <td>winter</td>\n",
       "      <td>9</td>\n",
       "      <td>154.322793</td>\n",
       "      <td>51.6</td>\n",
       "      <td>10.888889</td>\n",
       "      <td>1.5</td>\n",
       "      <td>0.627940</td>\n",
       "      <td>17.217</td>\n",
       "      <td>0.0</td>\n",
       "    </tr>\n",
       "    <tr>\n",
       "      <td>13</td>\n",
       "      <td>01/01/05</td>\n",
       "      <td>14:00</td>\n",
       "      <td>453</td>\n",
       "      <td>1415</td>\n",
       "      <td>85</td>\n",
       "      <td>0</td>\n",
       "      <td>0</td>\n",
       "      <td>0</td>\n",
       "      <td>0</td>\n",
       "      <td>0</td>\n",
       "      <td>...</td>\n",
       "      <td>1</td>\n",
       "      <td>winter</td>\n",
       "      <td>0</td>\n",
       "      <td>83.095600</td>\n",
       "      <td>51.6</td>\n",
       "      <td>10.888889</td>\n",
       "      <td>2.4</td>\n",
       "      <td>1.269152</td>\n",
       "      <td>17.217</td>\n",
       "      <td>0.0</td>\n",
       "    </tr>\n",
       "    <tr>\n",
       "      <td>14</td>\n",
       "      <td>01/01/05</td>\n",
       "      <td>15:00</td>\n",
       "      <td>328</td>\n",
       "      <td>1415</td>\n",
       "      <td>103</td>\n",
       "      <td>0</td>\n",
       "      <td>0</td>\n",
       "      <td>36</td>\n",
       "      <td>0</td>\n",
       "      <td>0</td>\n",
       "      <td>...</td>\n",
       "      <td>1</td>\n",
       "      <td>winter</td>\n",
       "      <td>9</td>\n",
       "      <td>100.122511</td>\n",
       "      <td>51.6</td>\n",
       "      <td>10.888889</td>\n",
       "      <td>2.6</td>\n",
       "      <td>1.383270</td>\n",
       "      <td>17.217</td>\n",
       "      <td>0.0</td>\n",
       "    </tr>\n",
       "    <tr>\n",
       "      <td>15</td>\n",
       "      <td>01/01/05</td>\n",
       "      <td>16:00</td>\n",
       "      <td>153</td>\n",
       "      <td>1415</td>\n",
       "      <td>34</td>\n",
       "      <td>0</td>\n",
       "      <td>0</td>\n",
       "      <td>0</td>\n",
       "      <td>0</td>\n",
       "      <td>0</td>\n",
       "      <td>...</td>\n",
       "      <td>1</td>\n",
       "      <td>winter</td>\n",
       "      <td>0</td>\n",
       "      <td>33.238240</td>\n",
       "      <td>51.6</td>\n",
       "      <td>10.888889</td>\n",
       "      <td>2.8</td>\n",
       "      <td>1.496921</td>\n",
       "      <td>17.217</td>\n",
       "      <td>0.0</td>\n",
       "    </tr>\n",
       "    <tr>\n",
       "      <td>16</td>\n",
       "      <td>01/01/05</td>\n",
       "      <td>17:00</td>\n",
       "      <td>0</td>\n",
       "      <td>1027</td>\n",
       "      <td>0</td>\n",
       "      <td>0</td>\n",
       "      <td>0</td>\n",
       "      <td>0</td>\n",
       "      <td>0</td>\n",
       "      <td>0</td>\n",
       "      <td>...</td>\n",
       "      <td>1</td>\n",
       "      <td>winter</td>\n",
       "      <td>0</td>\n",
       "      <td>0.000000</td>\n",
       "      <td>51.6</td>\n",
       "      <td>10.888889</td>\n",
       "      <td>3.1</td>\n",
       "      <td>1.789550</td>\n",
       "      <td>17.217</td>\n",
       "      <td>0.0</td>\n",
       "    </tr>\n",
       "    <tr>\n",
       "      <td>17</td>\n",
       "      <td>01/01/05</td>\n",
       "      <td>18:00</td>\n",
       "      <td>0</td>\n",
       "      <td>0</td>\n",
       "      <td>0</td>\n",
       "      <td>0</td>\n",
       "      <td>0</td>\n",
       "      <td>0</td>\n",
       "      <td>0</td>\n",
       "      <td>0</td>\n",
       "      <td>...</td>\n",
       "      <td>1</td>\n",
       "      <td>winter</td>\n",
       "      <td>0</td>\n",
       "      <td>0.000000</td>\n",
       "      <td>51.6</td>\n",
       "      <td>10.888889</td>\n",
       "      <td>3.3</td>\n",
       "      <td>1.901977</td>\n",
       "      <td>17.217</td>\n",
       "      <td>0.0</td>\n",
       "    </tr>\n",
       "    <tr>\n",
       "      <td>18</td>\n",
       "      <td>01/01/05</td>\n",
       "      <td>19:00</td>\n",
       "      <td>0</td>\n",
       "      <td>0</td>\n",
       "      <td>0</td>\n",
       "      <td>0</td>\n",
       "      <td>0</td>\n",
       "      <td>0</td>\n",
       "      <td>0</td>\n",
       "      <td>0</td>\n",
       "      <td>...</td>\n",
       "      <td>1</td>\n",
       "      <td>winter</td>\n",
       "      <td>0</td>\n",
       "      <td>0.000000</td>\n",
       "      <td>51.6</td>\n",
       "      <td>10.888889</td>\n",
       "      <td>3.5</td>\n",
       "      <td>2.013897</td>\n",
       "      <td>17.217</td>\n",
       "      <td>0.0</td>\n",
       "    </tr>\n",
       "    <tr>\n",
       "      <td>19</td>\n",
       "      <td>01/01/05</td>\n",
       "      <td>20:00</td>\n",
       "      <td>0</td>\n",
       "      <td>0</td>\n",
       "      <td>0</td>\n",
       "      <td>0</td>\n",
       "      <td>0</td>\n",
       "      <td>0</td>\n",
       "      <td>0</td>\n",
       "      <td>0</td>\n",
       "      <td>...</td>\n",
       "      <td>1</td>\n",
       "      <td>winter</td>\n",
       "      <td>0</td>\n",
       "      <td>0.000000</td>\n",
       "      <td>51.6</td>\n",
       "      <td>10.888889</td>\n",
       "      <td>3.7</td>\n",
       "      <td>2.207987</td>\n",
       "      <td>17.217</td>\n",
       "      <td>0.0</td>\n",
       "    </tr>\n",
       "    <tr>\n",
       "      <td>20</td>\n",
       "      <td>01/01/05</td>\n",
       "      <td>21:00</td>\n",
       "      <td>0</td>\n",
       "      <td>0</td>\n",
       "      <td>0</td>\n",
       "      <td>0</td>\n",
       "      <td>0</td>\n",
       "      <td>0</td>\n",
       "      <td>0</td>\n",
       "      <td>0</td>\n",
       "      <td>...</td>\n",
       "      <td>1</td>\n",
       "      <td>winter</td>\n",
       "      <td>0</td>\n",
       "      <td>0.000000</td>\n",
       "      <td>51.6</td>\n",
       "      <td>10.888889</td>\n",
       "      <td>3.5</td>\n",
       "      <td>2.096568</td>\n",
       "      <td>17.217</td>\n",
       "      <td>0.0</td>\n",
       "    </tr>\n",
       "    <tr>\n",
       "      <td>21</td>\n",
       "      <td>01/01/05</td>\n",
       "      <td>22:00</td>\n",
       "      <td>0</td>\n",
       "      <td>0</td>\n",
       "      <td>0</td>\n",
       "      <td>0</td>\n",
       "      <td>0</td>\n",
       "      <td>0</td>\n",
       "      <td>0</td>\n",
       "      <td>0</td>\n",
       "      <td>...</td>\n",
       "      <td>1</td>\n",
       "      <td>winter</td>\n",
       "      <td>0</td>\n",
       "      <td>0.000000</td>\n",
       "      <td>51.6</td>\n",
       "      <td>10.888889</td>\n",
       "      <td>3.3</td>\n",
       "      <td>1.984636</td>\n",
       "      <td>17.217</td>\n",
       "      <td>0.0</td>\n",
       "    </tr>\n",
       "    <tr>\n",
       "      <td>22</td>\n",
       "      <td>01/01/05</td>\n",
       "      <td>23:00</td>\n",
       "      <td>0</td>\n",
       "      <td>0</td>\n",
       "      <td>0</td>\n",
       "      <td>0</td>\n",
       "      <td>0</td>\n",
       "      <td>0</td>\n",
       "      <td>0</td>\n",
       "      <td>0</td>\n",
       "      <td>...</td>\n",
       "      <td>1</td>\n",
       "      <td>winter</td>\n",
       "      <td>0</td>\n",
       "      <td>0.000000</td>\n",
       "      <td>51.6</td>\n",
       "      <td>10.888889</td>\n",
       "      <td>3.1</td>\n",
       "      <td>1.872207</td>\n",
       "      <td>17.217</td>\n",
       "      <td>0.0</td>\n",
       "    </tr>\n",
       "    <tr>\n",
       "      <td>23</td>\n",
       "      <td>01/01/05</td>\n",
       "      <td>24:00</td>\n",
       "      <td>0</td>\n",
       "      <td>0</td>\n",
       "      <td>0</td>\n",
       "      <td>0</td>\n",
       "      <td>0</td>\n",
       "      <td>0</td>\n",
       "      <td>0</td>\n",
       "      <td>0</td>\n",
       "      <td>...</td>\n",
       "      <td>1</td>\n",
       "      <td>winter</td>\n",
       "      <td>0</td>\n",
       "      <td>0.000000</td>\n",
       "      <td>51.6</td>\n",
       "      <td>10.888889</td>\n",
       "      <td>2.1</td>\n",
       "      <td>1.056316</td>\n",
       "      <td>17.217</td>\n",
       "      <td>0.0</td>\n",
       "    </tr>\n",
       "    <tr>\n",
       "      <td>24</td>\n",
       "      <td>01/02/05</td>\n",
       "      <td>01:00</td>\n",
       "      <td>0</td>\n",
       "      <td>0</td>\n",
       "      <td>0</td>\n",
       "      <td>0</td>\n",
       "      <td>0</td>\n",
       "      <td>0</td>\n",
       "      <td>0</td>\n",
       "      <td>0</td>\n",
       "      <td>...</td>\n",
       "      <td>2</td>\n",
       "      <td>winter</td>\n",
       "      <td>0</td>\n",
       "      <td>0.000000</td>\n",
       "      <td>51.6</td>\n",
       "      <td>10.888889</td>\n",
       "      <td>1.0</td>\n",
       "      <td>0.134262</td>\n",
       "      <td>17.217</td>\n",
       "      <td>0.0</td>\n",
       "    </tr>\n",
       "    <tr>\n",
       "      <td>25</td>\n",
       "      <td>01/02/05</td>\n",
       "      <td>02:00</td>\n",
       "      <td>0</td>\n",
       "      <td>0</td>\n",
       "      <td>0</td>\n",
       "      <td>0</td>\n",
       "      <td>0</td>\n",
       "      <td>0</td>\n",
       "      <td>0</td>\n",
       "      <td>0</td>\n",
       "      <td>...</td>\n",
       "      <td>2</td>\n",
       "      <td>winter</td>\n",
       "      <td>0</td>\n",
       "      <td>0.000000</td>\n",
       "      <td>51.6</td>\n",
       "      <td>10.888889</td>\n",
       "      <td>4.5</td>\n",
       "      <td>2.565304</td>\n",
       "      <td>17.217</td>\n",
       "      <td>0.0</td>\n",
       "    </tr>\n",
       "    <tr>\n",
       "      <td>26</td>\n",
       "      <td>01/02/05</td>\n",
       "      <td>03:00</td>\n",
       "      <td>0</td>\n",
       "      <td>0</td>\n",
       "      <td>0</td>\n",
       "      <td>0</td>\n",
       "      <td>0</td>\n",
       "      <td>0</td>\n",
       "      <td>0</td>\n",
       "      <td>0</td>\n",
       "      <td>...</td>\n",
       "      <td>2</td>\n",
       "      <td>winter</td>\n",
       "      <td>0</td>\n",
       "      <td>0.000000</td>\n",
       "      <td>51.6</td>\n",
       "      <td>10.888889</td>\n",
       "      <td>2.8</td>\n",
       "      <td>1.334583</td>\n",
       "      <td>17.217</td>\n",
       "      <td>0.0</td>\n",
       "    </tr>\n",
       "    <tr>\n",
       "      <td>27</td>\n",
       "      <td>01/02/05</td>\n",
       "      <td>04:00</td>\n",
       "      <td>0</td>\n",
       "      <td>0</td>\n",
       "      <td>0</td>\n",
       "      <td>0</td>\n",
       "      <td>0</td>\n",
       "      <td>0</td>\n",
       "      <td>0</td>\n",
       "      <td>0</td>\n",
       "      <td>...</td>\n",
       "      <td>2</td>\n",
       "      <td>winter</td>\n",
       "      <td>0</td>\n",
       "      <td>0.000000</td>\n",
       "      <td>51.6</td>\n",
       "      <td>10.888889</td>\n",
       "      <td>1.0</td>\n",
       "      <td>0.054547</td>\n",
       "      <td>17.217</td>\n",
       "      <td>0.0</td>\n",
       "    </tr>\n",
       "    <tr>\n",
       "      <td>28</td>\n",
       "      <td>01/02/05</td>\n",
       "      <td>05:00</td>\n",
       "      <td>0</td>\n",
       "      <td>0</td>\n",
       "      <td>0</td>\n",
       "      <td>0</td>\n",
       "      <td>0</td>\n",
       "      <td>0</td>\n",
       "      <td>0</td>\n",
       "      <td>0</td>\n",
       "      <td>...</td>\n",
       "      <td>2</td>\n",
       "      <td>winter</td>\n",
       "      <td>0</td>\n",
       "      <td>0.000000</td>\n",
       "      <td>51.6</td>\n",
       "      <td>10.888889</td>\n",
       "      <td>-0.7</td>\n",
       "      <td>-1.156767</td>\n",
       "      <td>17.217</td>\n",
       "      <td>0.0</td>\n",
       "    </tr>\n",
       "    <tr>\n",
       "      <td>29</td>\n",
       "      <td>01/02/05</td>\n",
       "      <td>06:00</td>\n",
       "      <td>0</td>\n",
       "      <td>0</td>\n",
       "      <td>0</td>\n",
       "      <td>0</td>\n",
       "      <td>0</td>\n",
       "      <td>0</td>\n",
       "      <td>0</td>\n",
       "      <td>0</td>\n",
       "      <td>...</td>\n",
       "      <td>2</td>\n",
       "      <td>winter</td>\n",
       "      <td>0</td>\n",
       "      <td>0.000000</td>\n",
       "      <td>51.6</td>\n",
       "      <td>10.888889</td>\n",
       "      <td>-0.7</td>\n",
       "      <td>-1.156767</td>\n",
       "      <td>17.217</td>\n",
       "      <td>0.0</td>\n",
       "    </tr>\n",
       "  </tbody>\n",
       "</table>\n",
       "<p>30 rows × 81 columns</p>\n",
       "</div>"
      ],
      "text/plain": [
       "   date (mm/dd/yyyy) time (hh:mm)  extraterrestrial_horizontal_radiation_Wm2  \\\n",
       "0           01/01/05        01:00                                          0   \n",
       "1           01/01/05        02:00                                          0   \n",
       "2           01/01/05        03:00                                          0   \n",
       "3           01/01/05        04:00                                          0   \n",
       "4           01/01/05        05:00                                          0   \n",
       "5           01/01/05        06:00                                          0   \n",
       "6           01/01/05        07:00                                          0   \n",
       "7           01/01/05        08:00                                          0   \n",
       "8           01/01/05        09:00                                        189   \n",
       "9           01/01/05        10:00                                        355   \n",
       "10          01/01/05        11:00                                        470   \n",
       "11          01/01/05        12:00                                        527   \n",
       "12          01/01/05        13:00                                        521   \n",
       "13          01/01/05        14:00                                        453   \n",
       "14          01/01/05        15:00                                        328   \n",
       "15          01/01/05        16:00                                        153   \n",
       "16          01/01/05        17:00                                          0   \n",
       "17          01/01/05        18:00                                          0   \n",
       "18          01/01/05        19:00                                          0   \n",
       "19          01/01/05        20:00                                          0   \n",
       "20          01/01/05        21:00                                          0   \n",
       "21          01/01/05        22:00                                          0   \n",
       "22          01/01/05        23:00                                          0   \n",
       "23          01/01/05        24:00                                          0   \n",
       "24          01/02/05        01:00                                          0   \n",
       "25          01/02/05        02:00                                          0   \n",
       "26          01/02/05        03:00                                          0   \n",
       "27          01/02/05        04:00                                          0   \n",
       "28          01/02/05        05:00                                          0   \n",
       "29          01/02/05        06:00                                          0   \n",
       "\n",
       "    extraterrestrial_normal_radiation_Wm2  global_horizontal_radiation_Wm2  \\\n",
       "0                                       0                                0   \n",
       "1                                       0                                0   \n",
       "2                                       0                                0   \n",
       "3                                       0                                0   \n",
       "4                                       0                                0   \n",
       "5                                       0                                0   \n",
       "6                                       0                                0   \n",
       "7                                       0                                0   \n",
       "8                                    1298                               24   \n",
       "9                                    1415                               61   \n",
       "10                                   1415                               90   \n",
       "11                                   1415                              140   \n",
       "12                                   1415                              159   \n",
       "13                                   1415                               85   \n",
       "14                                   1415                              103   \n",
       "15                                   1415                               34   \n",
       "16                                   1027                                0   \n",
       "17                                      0                                0   \n",
       "18                                      0                                0   \n",
       "19                                      0                                0   \n",
       "20                                      0                                0   \n",
       "21                                      0                                0   \n",
       "22                                      0                                0   \n",
       "23                                      0                                0   \n",
       "24                                      0                                0   \n",
       "25                                      0                                0   \n",
       "26                                      0                                0   \n",
       "27                                      0                                0   \n",
       "28                                      0                                0   \n",
       "29                                      0                                0   \n",
       "\n",
       "    ghi source  ghi uncert (%)  direct_normal_radiation_Wm2  dni source  \\\n",
       "0            0               0                            0           0   \n",
       "1            0               0                            0           0   \n",
       "2            0               0                            0           0   \n",
       "3            0               0                            0           0   \n",
       "4            0               0                            0           0   \n",
       "5            0               0                            0           0   \n",
       "6            0               0                            0           0   \n",
       "7            0               0                            0           0   \n",
       "8            0               0                            0           0   \n",
       "9            0               0                            0           0   \n",
       "10           0               0                            0           0   \n",
       "11           0               0                            2           0   \n",
       "12           0               0                           27           0   \n",
       "13           0               0                            0           0   \n",
       "14           0               0                           36           0   \n",
       "15           0               0                            0           0   \n",
       "16           0               0                            0           0   \n",
       "17           0               0                            0           0   \n",
       "18           0               0                            0           0   \n",
       "19           0               0                            0           0   \n",
       "20           0               0                            0           0   \n",
       "21           0               0                            0           0   \n",
       "22           0               0                            0           0   \n",
       "23           0               0                            0           0   \n",
       "24           0               0                            0           0   \n",
       "25           0               0                            0           0   \n",
       "26           0               0                            0           0   \n",
       "27           0               0                            0           0   \n",
       "28           0               0                            0           0   \n",
       "29           0               0                            0           0   \n",
       "\n",
       "    dni uncert (%)  ...  day_number_of_year  season  \\\n",
       "0                0  ...                   1  winter   \n",
       "1                0  ...                   1  winter   \n",
       "2                0  ...                   1  winter   \n",
       "3                0  ...                   1  winter   \n",
       "4                0  ...                   1  winter   \n",
       "5                0  ...                   1  winter   \n",
       "6                0  ...                   1  winter   \n",
       "7                0  ...                   1  winter   \n",
       "8                0  ...                   1  winter   \n",
       "9                0  ...                   1  winter   \n",
       "10               0  ...                   1  winter   \n",
       "11               0  ...                   1  winter   \n",
       "12               0  ...                   1  winter   \n",
       "13               0  ...                   1  winter   \n",
       "14               0  ...                   1  winter   \n",
       "15               0  ...                   1  winter   \n",
       "16               0  ...                   1  winter   \n",
       "17               0  ...                   1  winter   \n",
       "18               0  ...                   1  winter   \n",
       "19               0  ...                   1  winter   \n",
       "20               0  ...                   1  winter   \n",
       "21               0  ...                   1  winter   \n",
       "22               0  ...                   1  winter   \n",
       "23               0  ...                   1  winter   \n",
       "24               0  ...                   2  winter   \n",
       "25               0  ...                   2  winter   \n",
       "26               0  ...                   2  winter   \n",
       "27               0  ...                   2  winter   \n",
       "28               0  ...                   2  winter   \n",
       "29               0  ...                   2  winter   \n",
       "\n",
       "    beam_horizontal_radiation_Wm2  global_tilt_radiation_Wm2  water_main_t_F  \\\n",
       "0                               0                   0.000000            51.6   \n",
       "1                               0                   0.000000            51.6   \n",
       "2                               0                   0.000000            51.6   \n",
       "3                               0                   0.000000            51.6   \n",
       "4                               0                   0.000000            51.6   \n",
       "5                               0                   0.000000            51.6   \n",
       "6                               0                   0.000000            51.6   \n",
       "7                               0                   0.000000            51.6   \n",
       "8                               0                  23.462287            51.6   \n",
       "9                               0                  59.633313            51.6   \n",
       "10                              0                  87.983576            51.6   \n",
       "11                              0                 136.863341            51.6   \n",
       "12                              9                 154.322793            51.6   \n",
       "13                              0                  83.095600            51.6   \n",
       "14                              9                 100.122511            51.6   \n",
       "15                              0                  33.238240            51.6   \n",
       "16                              0                   0.000000            51.6   \n",
       "17                              0                   0.000000            51.6   \n",
       "18                              0                   0.000000            51.6   \n",
       "19                              0                   0.000000            51.6   \n",
       "20                              0                   0.000000            51.6   \n",
       "21                              0                   0.000000            51.6   \n",
       "22                              0                   0.000000            51.6   \n",
       "23                              0                   0.000000            51.6   \n",
       "24                              0                   0.000000            51.6   \n",
       "25                              0                   0.000000            51.6   \n",
       "26                              0                   0.000000            51.6   \n",
       "27                              0                   0.000000            51.6   \n",
       "28                              0                   0.000000            51.6   \n",
       "29                              0                   0.000000            51.6   \n",
       "\n",
       "    water_main_t_C  dry_bulb_C  wet_bulb_C    Tilt  Azimuth  \n",
       "0        10.888889         0.8    0.259183  17.217      0.0  \n",
       "1        10.888889        -1.8   -2.178397  17.217      0.0  \n",
       "2        10.888889        -1.9   -2.278473  17.217      0.0  \n",
       "3        10.888889        -2.1   -2.478625  17.217      0.0  \n",
       "4        10.888889        -2.2   -2.502155  17.217      0.0  \n",
       "5        10.888889        -2.4   -2.702735  17.217      0.0  \n",
       "6        10.888889        -2.5   -2.803025  17.217      0.0  \n",
       "7        10.888889        -2.7   -3.003606  17.217      0.0  \n",
       "8        10.888889        -1.9   -2.201285  17.217      0.0  \n",
       "9        10.888889        -1.2   -1.577944  17.217      0.0  \n",
       "10       10.888889        -0.4   -0.857191  17.217      0.0  \n",
       "11       10.888889         0.5   -0.200663  17.217      0.0  \n",
       "12       10.888889         1.5    0.627940  17.217      0.0  \n",
       "13       10.888889         2.4    1.269152  17.217      0.0  \n",
       "14       10.888889         2.6    1.383270  17.217      0.0  \n",
       "15       10.888889         2.8    1.496921  17.217      0.0  \n",
       "16       10.888889         3.1    1.789550  17.217      0.0  \n",
       "17       10.888889         3.3    1.901977  17.217      0.0  \n",
       "18       10.888889         3.5    2.013897  17.217      0.0  \n",
       "19       10.888889         3.7    2.207987  17.217      0.0  \n",
       "20       10.888889         3.5    2.096568  17.217      0.0  \n",
       "21       10.888889         3.3    1.984636  17.217      0.0  \n",
       "22       10.888889         3.1    1.872207  17.217      0.0  \n",
       "23       10.888889         2.1    1.056316  17.217      0.0  \n",
       "24       10.888889         1.0    0.134262  17.217      0.0  \n",
       "25       10.888889         4.5    2.565304  17.217      0.0  \n",
       "26       10.888889         2.8    1.334583  17.217      0.0  \n",
       "27       10.888889         1.0    0.054547  17.217      0.0  \n",
       "28       10.888889        -0.7   -1.156767  17.217      0.0  \n",
       "29       10.888889        -0.7   -1.156767  17.217      0.0  \n",
       "\n",
       "[30 rows x 81 columns]"
      ]
     },
     "execution_count": 5,
     "metadata": {},
     "output_type": "execute_result"
    }
   ],
   "source": [
    "weather_bl.head(30)"
   ]
  },
  {
   "cell_type": "markdown",
   "metadata": {},
   "source": [
    "## Select hourly hot water draw profiles from DB"
   ]
  },
  {
   "cell_type": "code",
   "execution_count": 6,
   "metadata": {},
   "outputs": [],
   "source": [
    "# Returns hourly load profiles in m3/h and the peak load in gal/h for each household in the project\n",
    "\n",
    "# as water demand in California is low, a quick way to adjust it is to increase the number of occupants\n",
    "\n",
    "rs = np.random.RandomState(123)\n",
    "\n",
    "# peakload_com output shows the consumer ID, load ID and the peak hourly end-use load\n",
    "# loads_com holds the loads itself, with the associated consumer ID and occupancy\n",
    "\n",
    "loads_com, peakload_com = \\\n",
    "    SourceAndSink._make_example_loading_inputs(\n",
    "    inputs, c, rs,\n",
    "    occupancy = list(occ_com + np.ones(len(occ_com)).astype(int)), at_home = at_home_com)\n",
    "\n",
    "loads_indiv, peakload_indiv = \\\n",
    "    SourceAndSink._make_example_loading_inputs(\n",
    "    inputs, c, rs,\n",
    "    occupancy = [occ_ind[0] + 1], at_home = at_home_ind)"
   ]
  },
  {
   "cell_type": "code",
   "execution_count": 7,
   "metadata": {},
   "outputs": [
    {
     "data": {
      "text/plain": [
       "[4]"
      ]
     },
     "execution_count": 7,
     "metadata": {},
     "output_type": "execute_result"
    }
   ],
   "source": [
    "[occ_ind[0] + 1]"
   ]
  },
  {
   "cell_type": "code",
   "execution_count": 8,
   "metadata": {},
   "outputs": [
    {
     "data": {
      "text/html": [
       "<div>\n",
       "<style scoped>\n",
       "    .dataframe tbody tr th:only-of-type {\n",
       "        vertical-align: middle;\n",
       "    }\n",
       "\n",
       "    .dataframe tbody tr th {\n",
       "        vertical-align: top;\n",
       "    }\n",
       "\n",
       "    .dataframe thead th {\n",
       "        text-align: right;\n",
       "    }\n",
       "</style>\n",
       "<table border=\"1\" class=\"dataframe\">\n",
       "  <thead>\n",
       "    <tr style=\"text-align: right;\">\n",
       "      <th></th>\n",
       "      <th>Consumer ID</th>\n",
       "      <th>Load ID</th>\n",
       "      <th>Peak End-Use Load [gal]</th>\n",
       "    </tr>\n",
       "  </thead>\n",
       "  <tbody>\n",
       "    <tr>\n",
       "      <td>0</td>\n",
       "      <td>1</td>\n",
       "      <td>122</td>\n",
       "      <td>44.25</td>\n",
       "    </tr>\n",
       "  </tbody>\n",
       "</table>\n",
       "</div>"
      ],
      "text/plain": [
       "   Consumer ID Load ID  Peak End-Use Load [gal]\n",
       "0            1     122                    44.25"
      ]
     },
     "execution_count": 8,
     "metadata": {},
     "output_type": "execute_result"
    }
   ],
   "source": [
    "peakload_indiv"
   ]
  },
  {
   "cell_type": "markdown",
   "metadata": {},
   "source": [
    "## Set performance parameters"
   ]
  },
  {
   "cell_type": "markdown",
   "metadata": {},
   "source": [
    "* Active solar thermal system"
   ]
  },
  {
   "cell_type": "code",
   "execution_count": 9,
   "metadata": {},
   "outputs": [
    {
     "data": {
      "text/html": [
       "<div>\n",
       "<style scoped>\n",
       "    .dataframe tbody tr th:only-of-type {\n",
       "        vertical-align: middle;\n",
       "    }\n",
       "\n",
       "    .dataframe tbody tr th {\n",
       "        vertical-align: top;\n",
       "    }\n",
       "\n",
       "    .dataframe thead th {\n",
       "        text-align: right;\n",
       "    }\n",
       "</style>\n",
       "<table border=\"1\" class=\"dataframe\">\n",
       "  <thead>\n",
       "    <tr style=\"text-align: right;\">\n",
       "      <th></th>\n",
       "      <th>Component</th>\n",
       "      <th>Performance Parameter</th>\n",
       "      <th>Performance Parameter Value</th>\n",
       "    </tr>\n",
       "  </thead>\n",
       "  <tbody>\n",
       "    <tr>\n",
       "      <td>0</td>\n",
       "      <td>thermal storage tank</td>\n",
       "      <td>upper volume fraction</td>\n",
       "      <td>0.5</td>\n",
       "    </tr>\n",
       "    <tr>\n",
       "      <td>1</td>\n",
       "      <td>thermal storage tank</td>\n",
       "      <td>insulation thickness</td>\n",
       "      <td>0.085</td>\n",
       "    </tr>\n",
       "    <tr>\n",
       "      <td>2</td>\n",
       "      <td>thermal storage tank</td>\n",
       "      <td>specific heat conductivity</td>\n",
       "      <td>0.04</td>\n",
       "    </tr>\n",
       "    <tr>\n",
       "      <td>3</td>\n",
       "      <td>thermal storage tank</td>\n",
       "      <td>tap temperature setpoint</td>\n",
       "      <td>322.04</td>\n",
       "    </tr>\n",
       "    <tr>\n",
       "      <td>4</td>\n",
       "      <td>thermal storage tank</td>\n",
       "      <td>height vs. radius</td>\n",
       "      <td>6</td>\n",
       "    </tr>\n",
       "    <tr>\n",
       "      <td>5</td>\n",
       "      <td>thermal storage tank</td>\n",
       "      <td>temperature difference (approach)</td>\n",
       "      <td>2</td>\n",
       "    </tr>\n",
       "    <tr>\n",
       "      <td>6</td>\n",
       "      <td>thermal storage tank</td>\n",
       "      <td>maximum temperature</td>\n",
       "      <td>344.15</td>\n",
       "    </tr>\n",
       "    <tr>\n",
       "      <td>7</td>\n",
       "      <td>thermal storage tank</td>\n",
       "      <td>coil efficiency</td>\n",
       "      <td>0.84</td>\n",
       "    </tr>\n",
       "    <tr>\n",
       "      <td>8</td>\n",
       "      <td>thermal storage tank</td>\n",
       "      <td>circulation</td>\n",
       "      <td>0</td>\n",
       "    </tr>\n",
       "    <tr>\n",
       "      <td>9</td>\n",
       "      <td>solar collector</td>\n",
       "      <td>interc hwb</td>\n",
       "      <td>0.753</td>\n",
       "    </tr>\n",
       "    <tr>\n",
       "      <td>10</td>\n",
       "      <td>solar collector</td>\n",
       "      <td>slope hwb</td>\n",
       "      <td>-4.025</td>\n",
       "    </tr>\n",
       "    <tr>\n",
       "      <td>11</td>\n",
       "      <td>solar pump</td>\n",
       "      <td>nominal distribution pump efficiency</td>\n",
       "      <td>0.85</td>\n",
       "    </tr>\n",
       "    <tr>\n",
       "      <td>12</td>\n",
       "      <td>piping</td>\n",
       "      <td>piping insulation specific heat conductivity</td>\n",
       "      <td>0.0175</td>\n",
       "    </tr>\n",
       "    <tr>\n",
       "      <td>13</td>\n",
       "      <td>piping</td>\n",
       "      <td>piping insulation thickness</td>\n",
       "      <td>0.008</td>\n",
       "    </tr>\n",
       "    <tr>\n",
       "      <td>14</td>\n",
       "      <td>piping</td>\n",
       "      <td>flow factor</td>\n",
       "      <td>0.8</td>\n",
       "    </tr>\n",
       "    <tr>\n",
       "      <td>15</td>\n",
       "      <td>piping</td>\n",
       "      <td>diameter vs. length exponent</td>\n",
       "      <td>0.430827</td>\n",
       "    </tr>\n",
       "    <tr>\n",
       "      <td>16</td>\n",
       "      <td>piping</td>\n",
       "      <td>diameter vs. length scaler</td>\n",
       "      <td>0.00791128</td>\n",
       "    </tr>\n",
       "    <tr>\n",
       "      <td>17</td>\n",
       "      <td>piping</td>\n",
       "      <td>discrete diameters</td>\n",
       "      <td>[0.0127, 0.01905, 0.0254, 0.03175, 0.0381, 0.0...</td>\n",
       "    </tr>\n",
       "    <tr>\n",
       "      <td>18</td>\n",
       "      <td>piping</td>\n",
       "      <td>circulation</td>\n",
       "      <td>False</td>\n",
       "    </tr>\n",
       "    <tr>\n",
       "      <td>19</td>\n",
       "      <td>piping</td>\n",
       "      <td>longest branch length fraction</td>\n",
       "      <td>1</td>\n",
       "    </tr>\n",
       "    <tr>\n",
       "      <td>20</td>\n",
       "      <td>distribution pump</td>\n",
       "      <td>nominal solar pump efficiency</td>\n",
       "      <td>0.85</td>\n",
       "    </tr>\n",
       "  </tbody>\n",
       "</table>\n",
       "</div>"
      ],
      "text/plain": [
       "               Component                         Performance Parameter  \\\n",
       "0   thermal storage tank                         upper volume fraction   \n",
       "1   thermal storage tank                          insulation thickness   \n",
       "2   thermal storage tank                    specific heat conductivity   \n",
       "3   thermal storage tank                      tap temperature setpoint   \n",
       "4   thermal storage tank                             height vs. radius   \n",
       "5   thermal storage tank             temperature difference (approach)   \n",
       "6   thermal storage tank                           maximum temperature   \n",
       "7   thermal storage tank                               coil efficiency   \n",
       "8   thermal storage tank                                   circulation   \n",
       "9        solar collector                                    interc hwb   \n",
       "10       solar collector                                     slope hwb   \n",
       "11            solar pump          nominal distribution pump efficiency   \n",
       "12                piping  piping insulation specific heat conductivity   \n",
       "13                piping                   piping insulation thickness   \n",
       "14                piping                                   flow factor   \n",
       "15                piping                  diameter vs. length exponent   \n",
       "16                piping                    diameter vs. length scaler   \n",
       "17                piping                            discrete diameters   \n",
       "18                piping                                   circulation   \n",
       "19                piping                longest branch length fraction   \n",
       "20     distribution pump                 nominal solar pump efficiency   \n",
       "\n",
       "                          Performance Parameter Value  \n",
       "0                                                 0.5  \n",
       "1                                               0.085  \n",
       "2                                                0.04  \n",
       "3                                              322.04  \n",
       "4                                                   6  \n",
       "5                                                   2  \n",
       "6                                              344.15  \n",
       "7                                                0.84  \n",
       "8                                                   0  \n",
       "9                                               0.753  \n",
       "10                                             -4.025  \n",
       "11                                               0.85  \n",
       "12                                             0.0175  \n",
       "13                                              0.008  \n",
       "14                                                0.8  \n",
       "15                                           0.430827  \n",
       "16                                         0.00791128  \n",
       "17  [0.0127, 0.01905, 0.0254, 0.03175, 0.0381, 0.0...  \n",
       "18                                              False  \n",
       "19                                                  1  \n",
       "20                                               0.85  "
      ]
     },
     "execution_count": 9,
     "metadata": {},
     "output_type": "execute_result"
    }
   ],
   "source": [
    "# Community scale system (includes distribution pump parameters)\n",
    "\n",
    "sol_the_sys_params_com = pd.DataFrame(data = \\\n",
    "            [[s['the_sto'], s['f_upper_vol'], .5], \\\n",
    "             [s['the_sto'], s['ins_thi'], .085], \\\n",
    "             [s['the_sto'], s['spec_hea_con'], .04], \\\n",
    "             [s['the_sto'], s['t_tap_set'], 322.04], \\\n",
    "             [s['the_sto'], s['h_vs_r'], 6.], \\\n",
    "             [s['the_sto'], s['dt_appr'], 2.], \\\n",
    "             [s['the_sto'], s['t_max_tank'], 344.15], \\\n",
    "             [s['the_sto'], s['eta_coil'], .84], \\\n",
    "             [s['the_sto'], s['circ'], 0.], \\\n",
    "             [s['sol_col'], s['interc_hwb'], .753], \\\n",
    "             [s['sol_col'], s['slope_hwb'], -4.025],\\\n",
    "             [s['sol_pump'], s['eta_sol_pump'], .85], \\\n",
    "             [s['piping'], s['pipe_spec_hea_con'], .0175], \\\n",
    "             [s['piping'], s['pipe_ins_thick'], .008], \\\n",
    "             [s['piping'], s['flow_factor'], .8], \\\n",
    "             [s['piping'], s['dia_len_exp'], 0.43082708345352605], \\\n",
    "             [s['piping'], s['dia_len_sca'], 0.007911283766743384],\\\n",
    "             [s['piping'], s['discr_diam_m'], \\\n",
    "               '[0.0127, 0.01905, 0.0254, '\\\n",
    "               '0.03175, 0.0381, 0.0508, 0.0635, 0.0762, 0.1016]'],\\\n",
    "             [s['piping'], s['circ'], False], \\\n",
    "             [s['piping'], s['long_br_len_fr'], 1.], \\\n",
    "             [s['dist_pump'], s['eta_dist_pump'], .85]], \\\n",
    "            columns = \\\n",
    "             [s['comp'], s['param'], s['param_value']])\n",
    "\n",
    "sol_the_sys_params_com"
   ]
  },
  {
   "cell_type": "code",
   "execution_count": 10,
   "metadata": {},
   "outputs": [
    {
     "data": {
      "text/html": [
       "<div>\n",
       "<style scoped>\n",
       "    .dataframe tbody tr th:only-of-type {\n",
       "        vertical-align: middle;\n",
       "    }\n",
       "\n",
       "    .dataframe tbody tr th {\n",
       "        vertical-align: top;\n",
       "    }\n",
       "\n",
       "    .dataframe thead th {\n",
       "        text-align: right;\n",
       "    }\n",
       "</style>\n",
       "<table border=\"1\" class=\"dataframe\">\n",
       "  <thead>\n",
       "    <tr style=\"text-align: right;\">\n",
       "      <th></th>\n",
       "      <th>Component</th>\n",
       "      <th>Performance Parameter</th>\n",
       "      <th>Performance Parameter Value</th>\n",
       "    </tr>\n",
       "  </thead>\n",
       "  <tbody>\n",
       "    <tr>\n",
       "      <td>0</td>\n",
       "      <td>thermal storage tank</td>\n",
       "      <td>upper volume fraction</td>\n",
       "      <td>0.5</td>\n",
       "    </tr>\n",
       "    <tr>\n",
       "      <td>1</td>\n",
       "      <td>thermal storage tank</td>\n",
       "      <td>insulation thickness</td>\n",
       "      <td>0.085</td>\n",
       "    </tr>\n",
       "    <tr>\n",
       "      <td>2</td>\n",
       "      <td>thermal storage tank</td>\n",
       "      <td>specific heat conductivity</td>\n",
       "      <td>0.04</td>\n",
       "    </tr>\n",
       "    <tr>\n",
       "      <td>3</td>\n",
       "      <td>thermal storage tank</td>\n",
       "      <td>tap temperature setpoint</td>\n",
       "      <td>322.04</td>\n",
       "    </tr>\n",
       "    <tr>\n",
       "      <td>4</td>\n",
       "      <td>thermal storage tank</td>\n",
       "      <td>height vs. radius</td>\n",
       "      <td>6</td>\n",
       "    </tr>\n",
       "    <tr>\n",
       "      <td>5</td>\n",
       "      <td>thermal storage tank</td>\n",
       "      <td>temperature difference (approach)</td>\n",
       "      <td>2</td>\n",
       "    </tr>\n",
       "    <tr>\n",
       "      <td>6</td>\n",
       "      <td>thermal storage tank</td>\n",
       "      <td>maximum temperature</td>\n",
       "      <td>344.15</td>\n",
       "    </tr>\n",
       "    <tr>\n",
       "      <td>7</td>\n",
       "      <td>thermal storage tank</td>\n",
       "      <td>coil efficiency</td>\n",
       "      <td>0.84</td>\n",
       "    </tr>\n",
       "    <tr>\n",
       "      <td>8</td>\n",
       "      <td>thermal storage tank</td>\n",
       "      <td>circulation</td>\n",
       "      <td>0</td>\n",
       "    </tr>\n",
       "    <tr>\n",
       "      <td>9</td>\n",
       "      <td>solar collector</td>\n",
       "      <td>interc hwb</td>\n",
       "      <td>0.753</td>\n",
       "    </tr>\n",
       "    <tr>\n",
       "      <td>10</td>\n",
       "      <td>solar collector</td>\n",
       "      <td>slope hwb</td>\n",
       "      <td>-4.025</td>\n",
       "    </tr>\n",
       "    <tr>\n",
       "      <td>11</td>\n",
       "      <td>solar pump</td>\n",
       "      <td>nominal distribution pump efficiency</td>\n",
       "      <td>0.85</td>\n",
       "    </tr>\n",
       "    <tr>\n",
       "      <td>12</td>\n",
       "      <td>piping</td>\n",
       "      <td>piping insulation specific heat conductivity</td>\n",
       "      <td>0.0175</td>\n",
       "    </tr>\n",
       "    <tr>\n",
       "      <td>13</td>\n",
       "      <td>piping</td>\n",
       "      <td>piping insulation thickness</td>\n",
       "      <td>0.008</td>\n",
       "    </tr>\n",
       "    <tr>\n",
       "      <td>14</td>\n",
       "      <td>piping</td>\n",
       "      <td>flow factor</td>\n",
       "      <td>0.8</td>\n",
       "    </tr>\n",
       "    <tr>\n",
       "      <td>15</td>\n",
       "      <td>piping</td>\n",
       "      <td>diameter vs. length exponent</td>\n",
       "      <td>0.430827</td>\n",
       "    </tr>\n",
       "    <tr>\n",
       "      <td>16</td>\n",
       "      <td>piping</td>\n",
       "      <td>diameter vs. length scaler</td>\n",
       "      <td>0.00791128</td>\n",
       "    </tr>\n",
       "    <tr>\n",
       "      <td>17</td>\n",
       "      <td>piping</td>\n",
       "      <td>discrete diameters</td>\n",
       "      <td>[0.0127, 0.01905, 0.0254, 0.03175, 0.0381, 0.0...</td>\n",
       "    </tr>\n",
       "    <tr>\n",
       "      <td>18</td>\n",
       "      <td>piping</td>\n",
       "      <td>circulation</td>\n",
       "      <td>False</td>\n",
       "    </tr>\n",
       "    <tr>\n",
       "      <td>19</td>\n",
       "      <td>piping</td>\n",
       "      <td>longest branch length fraction</td>\n",
       "      <td>1</td>\n",
       "    </tr>\n",
       "  </tbody>\n",
       "</table>\n",
       "</div>"
      ],
      "text/plain": [
       "               Component                         Performance Parameter  \\\n",
       "0   thermal storage tank                         upper volume fraction   \n",
       "1   thermal storage tank                          insulation thickness   \n",
       "2   thermal storage tank                    specific heat conductivity   \n",
       "3   thermal storage tank                      tap temperature setpoint   \n",
       "4   thermal storage tank                             height vs. radius   \n",
       "5   thermal storage tank             temperature difference (approach)   \n",
       "6   thermal storage tank                           maximum temperature   \n",
       "7   thermal storage tank                               coil efficiency   \n",
       "8   thermal storage tank                                   circulation   \n",
       "9        solar collector                                    interc hwb   \n",
       "10       solar collector                                     slope hwb   \n",
       "11            solar pump          nominal distribution pump efficiency   \n",
       "12                piping  piping insulation specific heat conductivity   \n",
       "13                piping                   piping insulation thickness   \n",
       "14                piping                                   flow factor   \n",
       "15                piping                  diameter vs. length exponent   \n",
       "16                piping                    diameter vs. length scaler   \n",
       "17                piping                            discrete diameters   \n",
       "18                piping                                   circulation   \n",
       "19                piping                longest branch length fraction   \n",
       "\n",
       "                          Performance Parameter Value  \n",
       "0                                                 0.5  \n",
       "1                                               0.085  \n",
       "2                                                0.04  \n",
       "3                                              322.04  \n",
       "4                                                   6  \n",
       "5                                                   2  \n",
       "6                                              344.15  \n",
       "7                                                0.84  \n",
       "8                                                   0  \n",
       "9                                               0.753  \n",
       "10                                             -4.025  \n",
       "11                                               0.85  \n",
       "12                                             0.0175  \n",
       "13                                              0.008  \n",
       "14                                                0.8  \n",
       "15                                           0.430827  \n",
       "16                                         0.00791128  \n",
       "17  [0.0127, 0.01905, 0.0254, 0.03175, 0.0381, 0.0...  \n",
       "18                                              False  \n",
       "19                                                  1  "
      ]
     },
     "execution_count": 10,
     "metadata": {},
     "output_type": "execute_result"
    }
   ],
   "source": [
    "# Individual scale system, assuming a distribution pump is not needed similarly to a basecase gas tank WH\n",
    "\n",
    "last_row_for_indiv = sol_the_sys_params_com.shape[0] - 1 - \\\n",
    "    sol_the_sys_params_com.loc[\\\n",
    "    sol_the_sys_params_com[s['comp']] == s['dist_pump'], :].\\\n",
    "    shape[0]\n",
    "\n",
    "sol_the_sys_params_indiv = sol_the_sys_params_com.loc[:last_row_for_indiv,:]\n",
    "sol_the_sys_params_indiv\n",
    "\n",
    "sol_the_sys_params_indiv"
   ]
  },
  {
   "cell_type": "markdown",
   "metadata": {},
   "source": [
    "* Basecase and backup gas tank water heater (WH)"
   ]
  },
  {
   "cell_type": "code",
   "execution_count": 11,
   "metadata": {},
   "outputs": [
    {
     "data": {
      "text/html": [
       "<div>\n",
       "<style scoped>\n",
       "    .dataframe tbody tr th:only-of-type {\n",
       "        vertical-align: middle;\n",
       "    }\n",
       "\n",
       "    .dataframe tbody tr th {\n",
       "        vertical-align: top;\n",
       "    }\n",
       "\n",
       "    .dataframe thead th {\n",
       "        text-align: right;\n",
       "    }\n",
       "</style>\n",
       "<table border=\"1\" class=\"dataframe\">\n",
       "  <thead>\n",
       "    <tr style=\"text-align: right;\">\n",
       "      <th></th>\n",
       "      <th>Component</th>\n",
       "      <th>Performance Parameter</th>\n",
       "      <th>Performance Parameter Value</th>\n",
       "      <th>Performance Parameter Unit</th>\n",
       "    </tr>\n",
       "  </thead>\n",
       "  <tbody>\n",
       "    <tr>\n",
       "      <td>0</td>\n",
       "      <td>gas tank WH</td>\n",
       "      <td>tank recovery efficiency</td>\n",
       "      <td>0.780</td>\n",
       "      <td>-</td>\n",
       "    </tr>\n",
       "    <tr>\n",
       "      <td>1</td>\n",
       "      <td>gas tank WH</td>\n",
       "      <td>insulation thickness</td>\n",
       "      <td>0.030</td>\n",
       "      <td>m</td>\n",
       "    </tr>\n",
       "    <tr>\n",
       "      <td>2</td>\n",
       "      <td>gas tank WH</td>\n",
       "      <td>specific heat conductivity</td>\n",
       "      <td>0.081</td>\n",
       "      <td>W/mK</td>\n",
       "    </tr>\n",
       "    <tr>\n",
       "      <td>3</td>\n",
       "      <td>gas tank WH</td>\n",
       "      <td>tap temperature setpoint</td>\n",
       "      <td>322.040</td>\n",
       "      <td>K</td>\n",
       "    </tr>\n",
       "  </tbody>\n",
       "</table>\n",
       "</div>"
      ],
      "text/plain": [
       "     Component       Performance Parameter  Performance Parameter Value  \\\n",
       "0  gas tank WH    tank recovery efficiency                        0.780   \n",
       "1  gas tank WH        insulation thickness                        0.030   \n",
       "2  gas tank WH  specific heat conductivity                        0.081   \n",
       "3  gas tank WH    tap temperature setpoint                      322.040   \n",
       "\n",
       "  Performance Parameter Unit  \n",
       "0                          -  \n",
       "1                          m  \n",
       "2                       W/mK  \n",
       "3                          K  "
      ]
     },
     "execution_count": 11,
     "metadata": {},
     "output_type": "execute_result"
    }
   ],
   "source": [
    "gas_tank_wh_params = pd.DataFrame(data = \\\n",
    "    [[s['gas_tank'], s['tank_re'], .78, '-'], \\\n",
    "     [s['gas_tank'], s['ins_thi'], .03, 'm'], \\\n",
    "     [s['gas_tank'], s['spec_hea_con'], .081, 'W/mK'], \\\n",
    "     [s['gas_tank'], s['t_tap_set'], 322.04, 'K']], \\\n",
    "    columns = \\\n",
    "     [s['comp'], s['param'], s['param_value'], s['param_unit']])\n",
    "\n",
    "gas_tank_wh_params"
   ]
  },
  {
   "cell_type": "markdown",
   "metadata": {},
   "source": [
    "* Gas tankless WH"
   ]
  },
  {
   "cell_type": "code",
   "execution_count": 12,
   "metadata": {},
   "outputs": [
    {
     "data": {
      "text/html": [
       "<div>\n",
       "<style scoped>\n",
       "    .dataframe tbody tr th:only-of-type {\n",
       "        vertical-align: middle;\n",
       "    }\n",
       "\n",
       "    .dataframe tbody tr th {\n",
       "        vertical-align: top;\n",
       "    }\n",
       "\n",
       "    .dataframe thead th {\n",
       "        text-align: right;\n",
       "    }\n",
       "</style>\n",
       "<table border=\"1\" class=\"dataframe\">\n",
       "  <thead>\n",
       "    <tr style=\"text-align: right;\">\n",
       "      <th></th>\n",
       "      <th>Component</th>\n",
       "      <th>Performance Parameter</th>\n",
       "      <th>Performance Parameter Value</th>\n",
       "      <th>Performance Parameter Unit</th>\n",
       "    </tr>\n",
       "  </thead>\n",
       "  <tbody>\n",
       "    <tr>\n",
       "      <td>0</td>\n",
       "      <td>gas burner</td>\n",
       "      <td>combustion efficiency</td>\n",
       "      <td>0.85</td>\n",
       "      <td>-</td>\n",
       "    </tr>\n",
       "  </tbody>\n",
       "</table>\n",
       "</div>"
      ],
      "text/plain": [
       "    Component  Performance Parameter  Performance Parameter Value  \\\n",
       "0  gas burner  combustion efficiency                         0.85   \n",
       "\n",
       "  Performance Parameter Unit  \n",
       "0                          -  "
      ]
     },
     "execution_count": 12,
     "metadata": {},
     "output_type": "execute_result"
    }
   ],
   "source": [
    "gas_tankless_wh_params = pd.DataFrame(data = [[s['gas_burn'], s['comb_eff'], .85, '-']], \\\n",
    "    columns = [s['comp'], s['param'], s['param_value'], s['param_unit']])\n",
    "gas_tankless_wh_params"
   ]
  },
  {
   "cell_type": "markdown",
   "metadata": {},
   "source": [
    "* All performance parameters"
   ]
  },
  {
   "cell_type": "code",
   "execution_count": 13,
   "metadata": {},
   "outputs": [
    {
     "data": {
      "text/html": [
       "<div>\n",
       "<style scoped>\n",
       "    .dataframe tbody tr th:only-of-type {\n",
       "        vertical-align: middle;\n",
       "    }\n",
       "\n",
       "    .dataframe tbody tr th {\n",
       "        vertical-align: top;\n",
       "    }\n",
       "\n",
       "    .dataframe thead th {\n",
       "        text-align: right;\n",
       "    }\n",
       "</style>\n",
       "<table border=\"1\" class=\"dataframe\">\n",
       "  <thead>\n",
       "    <tr style=\"text-align: right;\">\n",
       "      <th></th>\n",
       "      <th>Component ID</th>\n",
       "      <th>Performance Parameter</th>\n",
       "      <th>Performance Parameter Value</th>\n",
       "      <th>Performance Parameter Unit</th>\n",
       "    </tr>\n",
       "  </thead>\n",
       "  <tbody>\n",
       "    <tr>\n",
       "      <td>0</td>\n",
       "      <td>1</td>\n",
       "      <td>interc hwb</td>\n",
       "      <td>0.753</td>\n",
       "      <td>-</td>\n",
       "    </tr>\n",
       "    <tr>\n",
       "      <td>1</td>\n",
       "      <td>1</td>\n",
       "      <td>slope hwb</td>\n",
       "      <td>-4.025</td>\n",
       "      <td>W/m2K</td>\n",
       "    </tr>\n",
       "    <tr>\n",
       "      <td>2</td>\n",
       "      <td>1</td>\n",
       "      <td>interc cd</td>\n",
       "      <td>0.75</td>\n",
       "      <td>-</td>\n",
       "    </tr>\n",
       "    <tr>\n",
       "      <td>3</td>\n",
       "      <td>1</td>\n",
       "      <td>a1 cd</td>\n",
       "      <td>-3.688</td>\n",
       "      <td>W/m2K</td>\n",
       "    </tr>\n",
       "    <tr>\n",
       "      <td>4</td>\n",
       "      <td>1</td>\n",
       "      <td>a2 cd</td>\n",
       "      <td>-0.0055</td>\n",
       "      <td>W/m2K2</td>\n",
       "    </tr>\n",
       "    <tr>\n",
       "      <td>5</td>\n",
       "      <td>4</td>\n",
       "      <td>PV efficiency</td>\n",
       "      <td>0.16</td>\n",
       "      <td>-</td>\n",
       "    </tr>\n",
       "    <tr>\n",
       "      <td>6</td>\n",
       "      <td>4</td>\n",
       "      <td>fraction of active PV area</td>\n",
       "      <td>1</td>\n",
       "      <td>-</td>\n",
       "    </tr>\n",
       "    <tr>\n",
       "      <td>7</td>\n",
       "      <td>4</td>\n",
       "      <td>reference irradiation</td>\n",
       "      <td>1000</td>\n",
       "      <td>W/m2</td>\n",
       "    </tr>\n",
       "    <tr>\n",
       "      <td>8</td>\n",
       "      <td>5</td>\n",
       "      <td>tank recovery efficiency</td>\n",
       "      <td>0.78</td>\n",
       "      <td>-</td>\n",
       "    </tr>\n",
       "    <tr>\n",
       "      <td>9</td>\n",
       "      <td>5</td>\n",
       "      <td>tap temperature setpoint</td>\n",
       "      <td>322.04</td>\n",
       "      <td>K</td>\n",
       "    </tr>\n",
       "    <tr>\n",
       "      <td>10</td>\n",
       "      <td>5</td>\n",
       "      <td>insulation thickness</td>\n",
       "      <td>0.03</td>\n",
       "      <td>m</td>\n",
       "    </tr>\n",
       "    <tr>\n",
       "      <td>11</td>\n",
       "      <td>5</td>\n",
       "      <td>specific heat conductivity</td>\n",
       "      <td>0.081</td>\n",
       "      <td>W/mK</td>\n",
       "    </tr>\n",
       "    <tr>\n",
       "      <td>12</td>\n",
       "      <td>7</td>\n",
       "      <td>insulation thickness</td>\n",
       "      <td>0.085</td>\n",
       "      <td>m</td>\n",
       "    </tr>\n",
       "    <tr>\n",
       "      <td>13</td>\n",
       "      <td>7</td>\n",
       "      <td>specific heat conductivity</td>\n",
       "      <td>0.04</td>\n",
       "      <td>W/mK</td>\n",
       "    </tr>\n",
       "    <tr>\n",
       "      <td>14</td>\n",
       "      <td>7</td>\n",
       "      <td>upper volume fraction</td>\n",
       "      <td>0.5</td>\n",
       "      <td>-</td>\n",
       "    </tr>\n",
       "    <tr>\n",
       "      <td>15</td>\n",
       "      <td>7</td>\n",
       "      <td>height vs. radius</td>\n",
       "      <td>6</td>\n",
       "      <td>-</td>\n",
       "    </tr>\n",
       "    <tr>\n",
       "      <td>16</td>\n",
       "      <td>7</td>\n",
       "      <td>temperature difference (approach)</td>\n",
       "      <td>2</td>\n",
       "      <td>K</td>\n",
       "    </tr>\n",
       "    <tr>\n",
       "      <td>17</td>\n",
       "      <td>7</td>\n",
       "      <td>maximum temperature</td>\n",
       "      <td>344.15</td>\n",
       "      <td>K</td>\n",
       "    </tr>\n",
       "    <tr>\n",
       "      <td>18</td>\n",
       "      <td>7</td>\n",
       "      <td>tap temperature setpoint</td>\n",
       "      <td>322.04</td>\n",
       "      <td>K</td>\n",
       "    </tr>\n",
       "    <tr>\n",
       "      <td>19</td>\n",
       "      <td>7</td>\n",
       "      <td>coil efficiency</td>\n",
       "      <td>0.84</td>\n",
       "      <td>-</td>\n",
       "    </tr>\n",
       "    <tr>\n",
       "      <td>20</td>\n",
       "      <td>8</td>\n",
       "      <td>combustion efficiency</td>\n",
       "      <td>0.85</td>\n",
       "      <td>-</td>\n",
       "    </tr>\n",
       "    <tr>\n",
       "      <td>21</td>\n",
       "      <td>9</td>\n",
       "      <td>efficiency</td>\n",
       "      <td>1</td>\n",
       "      <td>-</td>\n",
       "    </tr>\n",
       "    <tr>\n",
       "      <td>22</td>\n",
       "      <td>10</td>\n",
       "      <td>rated heating capacity</td>\n",
       "      <td>2350</td>\n",
       "      <td>W</td>\n",
       "    </tr>\n",
       "    <tr>\n",
       "      <td>23</td>\n",
       "      <td>10</td>\n",
       "      <td>rated COP</td>\n",
       "      <td>2.43</td>\n",
       "      <td>-</td>\n",
       "    </tr>\n",
       "    <tr>\n",
       "      <td>24</td>\n",
       "      <td>10</td>\n",
       "      <td>c1_cop</td>\n",
       "      <td>1.229</td>\n",
       "      <td>-</td>\n",
       "    </tr>\n",
       "    <tr>\n",
       "      <td>25</td>\n",
       "      <td>10</td>\n",
       "      <td>c2_cop</td>\n",
       "      <td>0.05549</td>\n",
       "      <td>1/degC</td>\n",
       "    </tr>\n",
       "    <tr>\n",
       "      <td>26</td>\n",
       "      <td>10</td>\n",
       "      <td>c3_cop</td>\n",
       "      <td>0.0001139</td>\n",
       "      <td>1/degC2</td>\n",
       "    </tr>\n",
       "    <tr>\n",
       "      <td>27</td>\n",
       "      <td>10</td>\n",
       "      <td>c4_cop</td>\n",
       "      <td>-0.01128</td>\n",
       "      <td>-</td>\n",
       "    </tr>\n",
       "    <tr>\n",
       "      <td>28</td>\n",
       "      <td>10</td>\n",
       "      <td>c5_cop</td>\n",
       "      <td>-3.57e-06</td>\n",
       "      <td>1/degC</td>\n",
       "    </tr>\n",
       "    <tr>\n",
       "      <td>29</td>\n",
       "      <td>10</td>\n",
       "      <td>c6_cop</td>\n",
       "      <td>-0.0007234</td>\n",
       "      <td>1/degC2</td>\n",
       "    </tr>\n",
       "    <tr>\n",
       "      <td>30</td>\n",
       "      <td>10</td>\n",
       "      <td>c1_heat_cap</td>\n",
       "      <td>0.7055</td>\n",
       "      <td>-</td>\n",
       "    </tr>\n",
       "    <tr>\n",
       "      <td>31</td>\n",
       "      <td>10</td>\n",
       "      <td>c2_heat_cap</td>\n",
       "      <td>0.03945</td>\n",
       "      <td>-</td>\n",
       "    </tr>\n",
       "    <tr>\n",
       "      <td>32</td>\n",
       "      <td>10</td>\n",
       "      <td>c3_heat_cap</td>\n",
       "      <td>0.0001433</td>\n",
       "      <td>-</td>\n",
       "    </tr>\n",
       "    <tr>\n",
       "      <td>33</td>\n",
       "      <td>10</td>\n",
       "      <td>c4_heat_cap</td>\n",
       "      <td>0.002768</td>\n",
       "      <td>-</td>\n",
       "    </tr>\n",
       "    <tr>\n",
       "      <td>34</td>\n",
       "      <td>10</td>\n",
       "      <td>c5_heat_cap</td>\n",
       "      <td>-0.0001069</td>\n",
       "      <td>-</td>\n",
       "    </tr>\n",
       "    <tr>\n",
       "      <td>35</td>\n",
       "      <td>10</td>\n",
       "      <td>c6_heat_cap</td>\n",
       "      <td>-0.0002494</td>\n",
       "      <td>-</td>\n",
       "    </tr>\n",
       "    <tr>\n",
       "      <td>36</td>\n",
       "      <td>12</td>\n",
       "      <td>nominal distribution pump efficiency</td>\n",
       "      <td>0.85</td>\n",
       "      <td>-</td>\n",
       "    </tr>\n",
       "    <tr>\n",
       "      <td>37</td>\n",
       "      <td>13</td>\n",
       "      <td>nominal solar pump efficiency</td>\n",
       "      <td>0.85</td>\n",
       "      <td>-</td>\n",
       "    </tr>\n",
       "    <tr>\n",
       "      <td>38</td>\n",
       "      <td>14</td>\n",
       "      <td>piping insulation specific heat conductivity</td>\n",
       "      <td>0.0175</td>\n",
       "      <td>W/mK</td>\n",
       "    </tr>\n",
       "    <tr>\n",
       "      <td>39</td>\n",
       "      <td>14</td>\n",
       "      <td>piping insulation thickness</td>\n",
       "      <td>0.008</td>\n",
       "      <td>m</td>\n",
       "    </tr>\n",
       "    <tr>\n",
       "      <td>40</td>\n",
       "      <td>14</td>\n",
       "      <td>diameter vs. length scaler</td>\n",
       "      <td>0.00791128</td>\n",
       "      <td>m</td>\n",
       "    </tr>\n",
       "    <tr>\n",
       "      <td>41</td>\n",
       "      <td>14</td>\n",
       "      <td>diameter vs. length exponent</td>\n",
       "      <td>0.430827</td>\n",
       "      <td>m</td>\n",
       "    </tr>\n",
       "    <tr>\n",
       "      <td>42</td>\n",
       "      <td>14</td>\n",
       "      <td>single-family attached scaler</td>\n",
       "      <td>3</td>\n",
       "      <td>-</td>\n",
       "    </tr>\n",
       "    <tr>\n",
       "      <td>43</td>\n",
       "      <td>14</td>\n",
       "      <td>single-family detached scaler</td>\n",
       "      <td>6</td>\n",
       "      <td>-</td>\n",
       "    </tr>\n",
       "    <tr>\n",
       "      <td>44</td>\n",
       "      <td>14</td>\n",
       "      <td>discrete diameters</td>\n",
       "      <td>[0.0127, 0.01905, 0.0254, 0.03175, 0.0381, 0.0...</td>\n",
       "      <td>m</td>\n",
       "    </tr>\n",
       "    <tr>\n",
       "      <td>45</td>\n",
       "      <td>14</td>\n",
       "      <td>flow factor</td>\n",
       "      <td>0.8</td>\n",
       "      <td>-</td>\n",
       "    </tr>\n",
       "    <tr>\n",
       "      <td>46</td>\n",
       "      <td>14</td>\n",
       "      <td>circulation</td>\n",
       "      <td>0</td>\n",
       "      <td>-</td>\n",
       "    </tr>\n",
       "    <tr>\n",
       "      <td>47</td>\n",
       "      <td>14</td>\n",
       "      <td>longest branch length fraction</td>\n",
       "      <td>1</td>\n",
       "      <td>-</td>\n",
       "    </tr>\n",
       "    <tr>\n",
       "      <td>48</td>\n",
       "      <td>15</td>\n",
       "      <td>DC to AC efficiency</td>\n",
       "      <td>0.85</td>\n",
       "      <td>-</td>\n",
       "    </tr>\n",
       "  </tbody>\n",
       "</table>\n",
       "</div>"
      ],
      "text/plain": [
       "    Component ID                         Performance Parameter  \\\n",
       "0              1                                    interc hwb   \n",
       "1              1                                     slope hwb   \n",
       "2              1                                     interc cd   \n",
       "3              1                                         a1 cd   \n",
       "4              1                                         a2 cd   \n",
       "5              4                                 PV efficiency   \n",
       "6              4                    fraction of active PV area   \n",
       "7              4                         reference irradiation   \n",
       "8              5                      tank recovery efficiency   \n",
       "9              5                      tap temperature setpoint   \n",
       "10             5                          insulation thickness   \n",
       "11             5                    specific heat conductivity   \n",
       "12             7                          insulation thickness   \n",
       "13             7                    specific heat conductivity   \n",
       "14             7                         upper volume fraction   \n",
       "15             7                             height vs. radius   \n",
       "16             7             temperature difference (approach)   \n",
       "17             7                           maximum temperature   \n",
       "18             7                      tap temperature setpoint   \n",
       "19             7                               coil efficiency   \n",
       "20             8                         combustion efficiency   \n",
       "21             9                                    efficiency   \n",
       "22            10                        rated heating capacity   \n",
       "23            10                                     rated COP   \n",
       "24            10                                        c1_cop   \n",
       "25            10                                        c2_cop   \n",
       "26            10                                        c3_cop   \n",
       "27            10                                        c4_cop   \n",
       "28            10                                        c5_cop   \n",
       "29            10                                        c6_cop   \n",
       "30            10                                   c1_heat_cap   \n",
       "31            10                                   c2_heat_cap   \n",
       "32            10                                   c3_heat_cap   \n",
       "33            10                                   c4_heat_cap   \n",
       "34            10                                   c5_heat_cap   \n",
       "35            10                                   c6_heat_cap   \n",
       "36            12          nominal distribution pump efficiency   \n",
       "37            13                 nominal solar pump efficiency   \n",
       "38            14  piping insulation specific heat conductivity   \n",
       "39            14                   piping insulation thickness   \n",
       "40            14                    diameter vs. length scaler   \n",
       "41            14                  diameter vs. length exponent   \n",
       "42            14                 single-family attached scaler   \n",
       "43            14                 single-family detached scaler   \n",
       "44            14                            discrete diameters   \n",
       "45            14                                   flow factor   \n",
       "46            14                                   circulation   \n",
       "47            14                longest branch length fraction   \n",
       "48            15                           DC to AC efficiency   \n",
       "\n",
       "                          Performance Parameter Value  \\\n",
       "0                                               0.753   \n",
       "1                                              -4.025   \n",
       "2                                                0.75   \n",
       "3                                              -3.688   \n",
       "4                                             -0.0055   \n",
       "5                                                0.16   \n",
       "6                                                   1   \n",
       "7                                                1000   \n",
       "8                                                0.78   \n",
       "9                                              322.04   \n",
       "10                                               0.03   \n",
       "11                                              0.081   \n",
       "12                                              0.085   \n",
       "13                                               0.04   \n",
       "14                                                0.5   \n",
       "15                                                  6   \n",
       "16                                                  2   \n",
       "17                                             344.15   \n",
       "18                                             322.04   \n",
       "19                                               0.84   \n",
       "20                                               0.85   \n",
       "21                                                  1   \n",
       "22                                               2350   \n",
       "23                                               2.43   \n",
       "24                                              1.229   \n",
       "25                                            0.05549   \n",
       "26                                          0.0001139   \n",
       "27                                           -0.01128   \n",
       "28                                          -3.57e-06   \n",
       "29                                         -0.0007234   \n",
       "30                                             0.7055   \n",
       "31                                            0.03945   \n",
       "32                                          0.0001433   \n",
       "33                                           0.002768   \n",
       "34                                         -0.0001069   \n",
       "35                                         -0.0002494   \n",
       "36                                               0.85   \n",
       "37                                               0.85   \n",
       "38                                             0.0175   \n",
       "39                                              0.008   \n",
       "40                                         0.00791128   \n",
       "41                                           0.430827   \n",
       "42                                                  3   \n",
       "43                                                  6   \n",
       "44  [0.0127, 0.01905, 0.0254, 0.03175, 0.0381, 0.0...   \n",
       "45                                                0.8   \n",
       "46                                                  0   \n",
       "47                                                  1   \n",
       "48                                               0.85   \n",
       "\n",
       "   Performance Parameter Unit  \n",
       "0                           -  \n",
       "1                       W/m2K  \n",
       "2                           -  \n",
       "3                       W/m2K  \n",
       "4                      W/m2K2  \n",
       "5                           -  \n",
       "6                           -  \n",
       "7                        W/m2  \n",
       "8                           -  \n",
       "9                           K  \n",
       "10                          m  \n",
       "11                       W/mK  \n",
       "12                          m  \n",
       "13                       W/mK  \n",
       "14                          -  \n",
       "15                          -  \n",
       "16                          K  \n",
       "17                          K  \n",
       "18                          K  \n",
       "19                          -  \n",
       "20                          -  \n",
       "21                          -  \n",
       "22                          W  \n",
       "23                          -  \n",
       "24                          -  \n",
       "25                     1/degC  \n",
       "26                    1/degC2  \n",
       "27                          -  \n",
       "28                     1/degC  \n",
       "29                    1/degC2  \n",
       "30                          -  \n",
       "31                          -  \n",
       "32                          -  \n",
       "33                          -  \n",
       "34                          -  \n",
       "35                          -  \n",
       "36                          -  \n",
       "37                          -  \n",
       "38                       W/mK  \n",
       "39                          m  \n",
       "40                          m  \n",
       "41                          m  \n",
       "42                          -  \n",
       "43                          -  \n",
       "44                          m  \n",
       "45                          -  \n",
       "46                          -  \n",
       "47                          -  \n",
       "48                          -  "
      ]
     },
     "execution_count": 13,
     "metadata": {},
     "output_type": "execute_result"
    }
   ],
   "source": [
    "# this input table provides all available component performance parameters\n",
    "inputs['component_performance']"
   ]
  },
  {
   "cell_type": "code",
   "execution_count": 14,
   "metadata": {},
   "outputs": [
    {
     "data": {
      "text/html": [
       "<div>\n",
       "<style scoped>\n",
       "    .dataframe tbody tr th:only-of-type {\n",
       "        vertical-align: middle;\n",
       "    }\n",
       "\n",
       "    .dataframe tbody tr th {\n",
       "        vertical-align: top;\n",
       "    }\n",
       "\n",
       "    .dataframe thead th {\n",
       "        text-align: right;\n",
       "    }\n",
       "</style>\n",
       "<table border=\"1\" class=\"dataframe\">\n",
       "  <thead>\n",
       "    <tr style=\"text-align: right;\">\n",
       "      <th></th>\n",
       "      <th>Component ID</th>\n",
       "      <th>Component</th>\n",
       "      <th>Component Technology</th>\n",
       "      <th>Component Size Unit</th>\n",
       "    </tr>\n",
       "  </thead>\n",
       "  <tbody>\n",
       "    <tr>\n",
       "      <td>0</td>\n",
       "      <td>1</td>\n",
       "      <td>solar collector</td>\n",
       "      <td>flat plate</td>\n",
       "      <td>m2</td>\n",
       "    </tr>\n",
       "    <tr>\n",
       "      <td>1</td>\n",
       "      <td>2</td>\n",
       "      <td>solar collector</td>\n",
       "      <td>tubular</td>\n",
       "      <td>m2</td>\n",
       "    </tr>\n",
       "    <tr>\n",
       "      <td>2</td>\n",
       "      <td>3</td>\n",
       "      <td>pv</td>\n",
       "      <td>monochrystalline</td>\n",
       "      <td>W</td>\n",
       "    </tr>\n",
       "    <tr>\n",
       "      <td>3</td>\n",
       "      <td>4</td>\n",
       "      <td>pv</td>\n",
       "      <td>polychrystalline</td>\n",
       "      <td>W</td>\n",
       "    </tr>\n",
       "    <tr>\n",
       "      <td>4</td>\n",
       "      <td>5</td>\n",
       "      <td>gas tank WH</td>\n",
       "      <td>conventional gas tank water heater</td>\n",
       "      <td>m3</td>\n",
       "    </tr>\n",
       "    <tr>\n",
       "      <td>5</td>\n",
       "      <td>6</td>\n",
       "      <td>electric resistance tank WH</td>\n",
       "      <td>conventional electric resistance tank water he...</td>\n",
       "      <td>m3</td>\n",
       "    </tr>\n",
       "    <tr>\n",
       "      <td>6</td>\n",
       "      <td>7</td>\n",
       "      <td>thermal storage tank</td>\n",
       "      <td>thermal storage tank with an in-tank coil</td>\n",
       "      <td>m3</td>\n",
       "    </tr>\n",
       "    <tr>\n",
       "      <td>7</td>\n",
       "      <td>8</td>\n",
       "      <td>gas burner</td>\n",
       "      <td>gas burner</td>\n",
       "      <td>W</td>\n",
       "    </tr>\n",
       "    <tr>\n",
       "      <td>8</td>\n",
       "      <td>9</td>\n",
       "      <td>electric resistance heater</td>\n",
       "      <td>in-tank or instantaneous</td>\n",
       "      <td>W</td>\n",
       "    </tr>\n",
       "    <tr>\n",
       "      <td>9</td>\n",
       "      <td>10</td>\n",
       "      <td>heat pump</td>\n",
       "      <td>in-tank</td>\n",
       "      <td>W</td>\n",
       "    </tr>\n",
       "    <tr>\n",
       "      <td>10</td>\n",
       "      <td>11</td>\n",
       "      <td>battery storage</td>\n",
       "      <td>stores PV generated power</td>\n",
       "      <td>kWh</td>\n",
       "    </tr>\n",
       "    <tr>\n",
       "      <td>11</td>\n",
       "      <td>12</td>\n",
       "      <td>distribution pump</td>\n",
       "      <td>fixed-speed circulator pump</td>\n",
       "      <td>W</td>\n",
       "    </tr>\n",
       "    <tr>\n",
       "      <td>12</td>\n",
       "      <td>13</td>\n",
       "      <td>solar pump</td>\n",
       "      <td>fixed-speed circulator pump</td>\n",
       "      <td>W</td>\n",
       "    </tr>\n",
       "    <tr>\n",
       "      <td>13</td>\n",
       "      <td>14</td>\n",
       "      <td>piping</td>\n",
       "      <td>dhw pipes</td>\n",
       "      <td>m</td>\n",
       "    </tr>\n",
       "    <tr>\n",
       "      <td>14</td>\n",
       "      <td>15</td>\n",
       "      <td>inverter</td>\n",
       "      <td>dc-ac</td>\n",
       "      <td>W</td>\n",
       "    </tr>\n",
       "  </tbody>\n",
       "</table>\n",
       "</div>"
      ],
      "text/plain": [
       "    Component ID                    Component  \\\n",
       "0              1              solar collector   \n",
       "1              2              solar collector   \n",
       "2              3                           pv   \n",
       "3              4                           pv   \n",
       "4              5                  gas tank WH   \n",
       "5              6  electric resistance tank WH   \n",
       "6              7         thermal storage tank   \n",
       "7              8                   gas burner   \n",
       "8              9   electric resistance heater   \n",
       "9             10                    heat pump   \n",
       "10            11              battery storage   \n",
       "11            12            distribution pump   \n",
       "12            13                   solar pump   \n",
       "13            14                       piping   \n",
       "14            15                     inverter   \n",
       "\n",
       "                                 Component Technology Component Size Unit  \n",
       "0                                          flat plate                  m2  \n",
       "1                                             tubular                  m2  \n",
       "2                                    monochrystalline                   W  \n",
       "3                                    polychrystalline                   W  \n",
       "4                  conventional gas tank water heater                  m3  \n",
       "5   conventional electric resistance tank water he...                  m3  \n",
       "6           thermal storage tank with an in-tank coil                  m3  \n",
       "7                                          gas burner                   W  \n",
       "8                            in-tank or instantaneous                   W  \n",
       "9                                             in-tank                   W  \n",
       "10                          stores PV generated power                 kWh  \n",
       "11                        fixed-speed circulator pump                   W  \n",
       "12                        fixed-speed circulator pump                   W  \n",
       "13                                          dhw pipes                   m  \n",
       "14                                              dc-ac                   W  "
      ]
     },
     "execution_count": 14,
     "metadata": {},
     "output_type": "execute_result"
    }
   ],
   "source": [
    "inputs['sys_3_components']"
   ]
  },
  {
   "cell_type": "code",
   "execution_count": 15,
   "metadata": {},
   "outputs": [],
   "source": [
    "to_doc = inputs['component_performance'].merge(inputs['sys_3_components'], on = \"Component ID\", how = \"left\")"
   ]
  },
  {
   "cell_type": "markdown",
   "metadata": {},
   "source": [
    "## Component sizing\n",
    "\n",
    "Note that backup is sized to full load."
   ]
  },
  {
   "cell_type": "markdown",
   "metadata": {},
   "source": [
    "* Gas tank WH: DOE sizing rule based on peak hourly demand +-2 gal"
   ]
  },
  {
   "cell_type": "code",
   "execution_count": 16,
   "metadata": {},
   "outputs": [
    {
     "data": {
      "text/plain": [
       "0.167504481"
      ]
     },
     "execution_count": 16,
     "metadata": {},
     "output_type": "execute_result"
    }
   ],
   "source": [
    "# Basecase gas tank WH\n",
    "\n",
    "# in m3\n",
    "gas_tank_size_indiv = UnitConv(peakload_indiv.loc[0, c['max_load']]).m3_gal(unit_in = 'gal')\n",
    "gas_tank_size_indiv\n",
    "\n",
    "# Individual household, backup\n",
    "# same as the basecase sizing"
   ]
  },
  {
   "cell_type": "code",
   "execution_count": 17,
   "metadata": {},
   "outputs": [
    {
     "data": {
      "text/html": [
       "<div>\n",
       "<style scoped>\n",
       "    .dataframe tbody tr th:only-of-type {\n",
       "        vertical-align: middle;\n",
       "    }\n",
       "\n",
       "    .dataframe tbody tr th {\n",
       "        vertical-align: top;\n",
       "    }\n",
       "\n",
       "    .dataframe thead th {\n",
       "        text-align: right;\n",
       "    }\n",
       "</style>\n",
       "<table border=\"1\" class=\"dataframe\">\n",
       "  <thead>\n",
       "    <tr style=\"text-align: right;\">\n",
       "      <th></th>\n",
       "      <th>Consumer ID</th>\n",
       "      <th>Load ID</th>\n",
       "      <th>Peak End-Use Load [gal]</th>\n",
       "      <th>gas_tank_size_com</th>\n",
       "    </tr>\n",
       "    <tr>\n",
       "      <th>Consumer ID</th>\n",
       "      <th></th>\n",
       "      <th></th>\n",
       "      <th></th>\n",
       "      <th></th>\n",
       "    </tr>\n",
       "  </thead>\n",
       "  <tbody>\n",
       "    <tr>\n",
       "      <td>1</td>\n",
       "      <td>1</td>\n",
       "      <td>9</td>\n",
       "      <td>43.70</td>\n",
       "      <td>0.165423</td>\n",
       "    </tr>\n",
       "    <tr>\n",
       "      <td>2</td>\n",
       "      <td>2</td>\n",
       "      <td>58</td>\n",
       "      <td>44.90</td>\n",
       "      <td>0.169965</td>\n",
       "    </tr>\n",
       "    <tr>\n",
       "      <td>3</td>\n",
       "      <td>3</td>\n",
       "      <td>7</td>\n",
       "      <td>41.65</td>\n",
       "      <td>0.157662</td>\n",
       "    </tr>\n",
       "    <tr>\n",
       "      <td>4</td>\n",
       "      <td>4</td>\n",
       "      <td>29</td>\n",
       "      <td>40.70</td>\n",
       "      <td>0.154066</td>\n",
       "    </tr>\n",
       "  </tbody>\n",
       "</table>\n",
       "</div>"
      ],
      "text/plain": [
       "             Consumer ID Load ID  Peak End-Use Load [gal]  gas_tank_size_com\n",
       "Consumer ID                                                                 \n",
       "1                      1       9                    43.70           0.165423\n",
       "2                      2      58                    44.90           0.169965\n",
       "3                      3       7                    41.65           0.157662\n",
       "4                      4      29                    40.70           0.154066"
      ]
     },
     "execution_count": 17,
     "metadata": {},
     "output_type": "execute_result"
    }
   ],
   "source": [
    "# Community scale, backup\n",
    "\n",
    "# get peak loads for each household\n",
    "peakload_com['gas_tank_size_com'] = peakload_com[\\\n",
    "    c['max_load']].apply(lambda x: UnitConv(x).m3_gal(unit_in = 'gal'))\n",
    "peakload_com.index = peakload_com[c['id']]\n",
    "\n",
    "peakload_com"
   ]
  },
  {
   "cell_type": "markdown",
   "metadata": {},
   "source": [
    "* Active solar thermal system: CSI Handbook sizing rules"
   ]
  },
  {
   "cell_type": "code",
   "execution_count": 18,
   "metadata": {},
   "outputs": [],
   "source": [
    "# CSI demand estimate\n",
    "def demand_estimate(occ):\n",
    "    if occ == 1:\n",
    "        return 20.\n",
    "    if occ == 2:\n",
    "        return 35.\n",
    "    else:\n",
    "        return 35.+10.*(occ-2.)\n",
    "    \n",
    "col_area_scaler = 1.2 #(CSI sizing rule: upper limit 1.25)\n",
    "tank_vol_scaler = 1.3 #(CSI sizing rule: lower limit 1.25)\n",
    "\n",
    "# Individual household (without a distribution pump)\n",
    "\n",
    "# get demand estimate\n",
    "demand_estimate_ind = demand_estimate(occ_ind[0])\n",
    "\n",
    "# CSI sizing rules\n",
    "col_area_ind_sqft = demand_estimate_ind * col_area_scaler\n",
    "tank_vol_ind_gal = col_area_ind_sqft * tank_vol_scaler\n",
    "\n",
    "col_area_ind = UnitConv(col_area_ind_sqft).sqft_m2()\n",
    "tank_vol_ind = UnitConv(tank_vol_ind_gal).m3_gal(unit_in = 'gal')\n",
    "\n",
    "# Community scale (with a distribution pump)\n",
    "\n",
    "# get demand estimate\n",
    "demand_estimate_com = 0.\n",
    "for inx, row in loads_com.iterrows():\n",
    "    demand_estimate_com += demand_estimate(row[c['occ']])\n",
    "\n",
    "col_area_com_sqft = demand_estimate_com * col_area_scaler\n",
    "tank_vol_com_gal = col_area_com_sqft * tank_vol_scaler\n",
    "\n",
    "col_area_com = UnitConv(col_area_com_sqft).sqft_m2()\n",
    "tank_vol_com = UnitConv(tank_vol_com_gal).m3_gal(unit_in = 'gal')"
   ]
  },
  {
   "cell_type": "markdown",
   "metadata": {},
   "source": [
    "* Gas tankless WH: Based on the WH efficiency standards analysis and input powers collected online"
   ]
  },
  {
   "cell_type": "code",
   "execution_count": 19,
   "metadata": {},
   "outputs": [],
   "source": [
    "def gas_tankles_size_W(occupancy):\n",
    "    size = 24875.*occupancy**0.5175\n",
    "    return size"
   ]
  },
  {
   "cell_type": "markdown",
   "metadata": {},
   "source": [
    "* Solar pump"
   ]
  },
  {
   "cell_type": "code",
   "execution_count": 20,
   "metadata": {},
   "outputs": [],
   "source": [
    "# solar pump\n",
    "solar_pump_w_indiv = 7.5101 * sum(occ_ind) ** 0.5322\n",
    "solar_pump_w_com = 7.5101 * sum(occ_com) ** 0.5322"
   ]
  },
  {
   "cell_type": "markdown",
   "metadata": {},
   "source": [
    "### Distribution system"
   ]
  },
  {
   "cell_type": "markdown",
   "metadata": {},
   "source": [
    "* Piping"
   ]
  },
  {
   "cell_type": "code",
   "execution_count": 21,
   "metadata": {},
   "outputs": [
    {
     "data": {
      "text/plain": [
       "0.02323577539362201"
      ]
     },
     "execution_count": 21,
     "metadata": {},
     "output_type": "execute_result"
    }
   ],
   "source": [
    "# If the length of community piping installation is unknown, use this estimate\n",
    "\n",
    "# individual \n",
    "pipe_m_indiv = 0 # this can be set to a real value if it is known. It is set to 0 here since the part of piping inside of a \n",
    "# household is assumed to have negligible thermal losses\n",
    "\n",
    "# community scale\n",
    "\n",
    "pipe_m_per_hhld = 3.048\n",
    "# household type distribution pipe length scalers for communities with attached and detached single family houses\n",
    "multifamily = 1.\n",
    "attached_k = 3.\n",
    "detached_k = 6.\n",
    "\n",
    "diameter_scaler=0.00791128\n",
    "diameter_exponent=0.430827\n",
    "\n",
    "# The average diameter of the distribution piping is a function of distribution pipe length and it gets autosized \n",
    "# within the distribution model, where the first larger value than that theoretically obtained gets selected\n",
    "# from this list: [0.0127, 0.01905, 0.0254, 0.03175, 0.0381, 0.0508, 0.0635, 0.0762, 0.1016], in m\n",
    "\n",
    "# The formula is:\n",
    "\n",
    "# d_m = diameter_scaler * (pipe_m_per_hhld * number_of_households)**diameter_exponent\n",
    "# To change these parameters, edit values in sol_the_sys_params_{com/indiv} dataframes\n",
    "\n",
    "d_m = diameter_scaler * (pipe_m_per_hhld * len(occ_com))**diameter_exponent\n",
    "\n",
    "d_m"
   ]
  },
  {
   "cell_type": "markdown",
   "metadata": {},
   "source": [
    "* Distribution pump"
   ]
  },
  {
   "cell_type": "code",
   "execution_count": 22,
   "metadata": {},
   "outputs": [],
   "source": [
    "dist_pump_w = 10.4376 * len(occ_com) ** 0.9277"
   ]
  },
  {
   "cell_type": "markdown",
   "metadata": {},
   "source": [
    "## Compile component sizes for system simulation"
   ]
  },
  {
   "cell_type": "markdown",
   "metadata": {},
   "source": [
    "* Basecase gas tank WH"
   ]
  },
  {
   "cell_type": "code",
   "execution_count": 23,
   "metadata": {},
   "outputs": [
    {
     "data": {
      "text/html": [
       "<div>\n",
       "<style scoped>\n",
       "    .dataframe tbody tr th:only-of-type {\n",
       "        vertical-align: middle;\n",
       "    }\n",
       "\n",
       "    .dataframe tbody tr th {\n",
       "        vertical-align: top;\n",
       "    }\n",
       "\n",
       "    .dataframe thead th {\n",
       "        text-align: right;\n",
       "    }\n",
       "</style>\n",
       "<table border=\"1\" class=\"dataframe\">\n",
       "  <thead>\n",
       "    <tr style=\"text-align: right;\">\n",
       "      <th></th>\n",
       "      <th>Component</th>\n",
       "      <th>Component Size</th>\n",
       "      <th>Component Size Unit</th>\n",
       "    </tr>\n",
       "  </thead>\n",
       "  <tbody>\n",
       "    <tr>\n",
       "      <td>0</td>\n",
       "      <td>gas tank WH</td>\n",
       "      <td>0.167504</td>\n",
       "      <td>m3</td>\n",
       "    </tr>\n",
       "  </tbody>\n",
       "</table>\n",
       "</div>"
      ],
      "text/plain": [
       "     Component  Component Size Component Size Unit\n",
       "0  gas tank WH        0.167504                  m3"
      ]
     },
     "execution_count": 23,
     "metadata": {},
     "output_type": "execute_result"
    }
   ],
   "source": [
    "# Individual household\n",
    "\n",
    "gas_tank_wh_size = pd.DataFrame(\n",
    "    data = [[s['gas_tank'], gas_tank_size_indiv, 'm3']], columns = [s['comp'], s['cap'], s['cap_unit']])\n",
    "\n",
    "gas_tank_wh_size"
   ]
  },
  {
   "cell_type": "markdown",
   "metadata": {},
   "source": [
    "* Solar thermal system, individual household"
   ]
  },
  {
   "cell_type": "code",
   "execution_count": 24,
   "metadata": {},
   "outputs": [
    {
     "data": {
      "text/html": [
       "<div>\n",
       "<style scoped>\n",
       "    .dataframe tbody tr th:only-of-type {\n",
       "        vertical-align: middle;\n",
       "    }\n",
       "\n",
       "    .dataframe tbody tr th {\n",
       "        vertical-align: top;\n",
       "    }\n",
       "\n",
       "    .dataframe thead th {\n",
       "        text-align: right;\n",
       "    }\n",
       "</style>\n",
       "<table border=\"1\" class=\"dataframe\">\n",
       "  <thead>\n",
       "    <tr style=\"text-align: right;\">\n",
       "      <th></th>\n",
       "      <th>Component</th>\n",
       "      <th>Component Size</th>\n",
       "      <th>Component Size Unit</th>\n",
       "    </tr>\n",
       "  </thead>\n",
       "  <tbody>\n",
       "    <tr>\n",
       "      <td>0</td>\n",
       "      <td>solar collector</td>\n",
       "      <td>5.016764</td>\n",
       "      <td>m2</td>\n",
       "    </tr>\n",
       "    <tr>\n",
       "      <td>1</td>\n",
       "      <td>thermal storage tank</td>\n",
       "      <td>0.265736</td>\n",
       "      <td>m3</td>\n",
       "    </tr>\n",
       "    <tr>\n",
       "      <td>2</td>\n",
       "      <td>solar pump</td>\n",
       "      <td>13.476268</td>\n",
       "      <td>W</td>\n",
       "    </tr>\n",
       "    <tr>\n",
       "      <td>3</td>\n",
       "      <td>piping</td>\n",
       "      <td>0.000000</td>\n",
       "      <td>m</td>\n",
       "    </tr>\n",
       "  </tbody>\n",
       "</table>\n",
       "</div>"
      ],
      "text/plain": [
       "              Component  Component Size Component Size Unit\n",
       "0       solar collector        5.016764                  m2\n",
       "1  thermal storage tank        0.265736                  m3\n",
       "2            solar pump       13.476268                   W\n",
       "3                piping        0.000000                   m"
      ]
     },
     "execution_count": 24,
     "metadata": {},
     "output_type": "execute_result"
    }
   ],
   "source": [
    "# Main system\n",
    "\n",
    "sys_sizes_indiv = pd.DataFrame(data = \\\n",
    "    [[s['sol_col'], col_area_ind, 'm2'], \\\n",
    "     [s['the_sto'], tank_vol_ind, 'm3'], \\\n",
    "     [s['sol_pump'], solar_pump_w_indiv, 'W'], \\\n",
    "     [s['piping'], pipe_m_indiv, 'm']], \\\n",
    "            columns = \\\n",
    "             [s['comp'], s['cap'], s['cap_unit']])\n",
    "\n",
    "sys_sizes_indiv"
   ]
  },
  {
   "cell_type": "code",
   "execution_count": 25,
   "metadata": {},
   "outputs": [
    {
     "data": {
      "text/plain": [
       "220.0"
      ]
     },
     "execution_count": 25,
     "metadata": {},
     "output_type": "execute_result"
    }
   ],
   "source": [
    "# Retrofit: Backup gas tank WH\n",
    "\n",
    "retrofit_bckp_size_indiv = pd.DataFrame(data = \\\n",
    "            [[1, s['gas_tank'], gas_tank_size_indiv, 'm3']], columns = [c['id'], s['comp'], s['cap'], s['cap_unit']])\n",
    "demand_estimate_com"
   ]
  },
  {
   "cell_type": "code",
   "execution_count": 26,
   "metadata": {},
   "outputs": [
    {
     "data": {
      "text/html": [
       "<div>\n",
       "<style scoped>\n",
       "    .dataframe tbody tr th:only-of-type {\n",
       "        vertical-align: middle;\n",
       "    }\n",
       "\n",
       "    .dataframe tbody tr th {\n",
       "        vertical-align: top;\n",
       "    }\n",
       "\n",
       "    .dataframe thead th {\n",
       "        text-align: right;\n",
       "    }\n",
       "</style>\n",
       "<table border=\"1\" class=\"dataframe\">\n",
       "  <thead>\n",
       "    <tr style=\"text-align: right;\">\n",
       "      <th></th>\n",
       "      <th>Consumer ID</th>\n",
       "      <th>Component</th>\n",
       "      <th>Component Size</th>\n",
       "      <th>Component Size Unit</th>\n",
       "    </tr>\n",
       "  </thead>\n",
       "  <tbody>\n",
       "    <tr>\n",
       "      <td>0</td>\n",
       "      <td>1</td>\n",
       "      <td>gas burner</td>\n",
       "      <td>43921.113177</td>\n",
       "      <td>W</td>\n",
       "    </tr>\n",
       "  </tbody>\n",
       "</table>\n",
       "</div>"
      ],
      "text/plain": [
       "   Consumer ID   Component  Component Size Component Size Unit\n",
       "0            1  gas burner    43921.113177                   W"
      ]
     },
     "execution_count": 26,
     "metadata": {},
     "output_type": "execute_result"
    }
   ],
   "source": [
    "# New: Backup gas tankless WH\n",
    "\n",
    "new_bckp_size_ind = pd.DataFrame(data = [[1, s['gas_burn'], gas_tankles_size_W(occ_ind[0]), 'W']], \\\n",
    "            columns = [c['id'], s['comp'], s['cap'], s['cap_unit']])\n",
    "\n",
    "new_bckp_size_ind"
   ]
  },
  {
   "cell_type": "markdown",
   "metadata": {},
   "source": [
    "* Solar thermal system, community"
   ]
  },
  {
   "cell_type": "code",
   "execution_count": 27,
   "metadata": {},
   "outputs": [],
   "source": [
    "# Main system components\n",
    "\n",
    "sys_sizes_com = pd.DataFrame(data = \\\n",
    "            [[s['sol_col'], col_area_com, 'm2'], \\\n",
    "             [s['the_sto'], tank_vol_com, 'm3'], \\\n",
    "             [s['sol_pump'], solar_pump_w_com, 'W'], \\\n",
    "             [s['dist_pump'], dist_pump_w, 'W'], \\\n",
    "             [s['piping'], multifamily * pipe_m_per_hhld * len(occ_com),'m']], \\\n",
    "            columns = \\\n",
    "             [s['comp'], s['cap'], s['cap_unit']])"
   ]
  },
  {
   "cell_type": "code",
   "execution_count": 28,
   "metadata": {},
   "outputs": [
    {
     "data": {
      "text/html": [
       "<div>\n",
       "<style scoped>\n",
       "    .dataframe tbody tr th:only-of-type {\n",
       "        vertical-align: middle;\n",
       "    }\n",
       "\n",
       "    .dataframe tbody tr th {\n",
       "        vertical-align: top;\n",
       "    }\n",
       "\n",
       "    .dataframe thead th {\n",
       "        text-align: right;\n",
       "    }\n",
       "</style>\n",
       "<table border=\"1\" class=\"dataframe\">\n",
       "  <thead>\n",
       "    <tr style=\"text-align: right;\">\n",
       "      <th></th>\n",
       "      <th>Consumer ID</th>\n",
       "      <th>Component</th>\n",
       "      <th>Component Size</th>\n",
       "      <th>Component Size Unit</th>\n",
       "    </tr>\n",
       "  </thead>\n",
       "  <tbody>\n",
       "    <tr>\n",
       "      <td>0</td>\n",
       "      <td>1</td>\n",
       "      <td>gas tank WH</td>\n",
       "      <td>0.165</td>\n",
       "      <td>m3</td>\n",
       "    </tr>\n",
       "    <tr>\n",
       "      <td>1</td>\n",
       "      <td>2</td>\n",
       "      <td>gas tank WH</td>\n",
       "      <td>0.17</td>\n",
       "      <td>m3</td>\n",
       "    </tr>\n",
       "    <tr>\n",
       "      <td>2</td>\n",
       "      <td>3</td>\n",
       "      <td>gas tank WH</td>\n",
       "      <td>0.158</td>\n",
       "      <td>m3</td>\n",
       "    </tr>\n",
       "    <tr>\n",
       "      <td>3</td>\n",
       "      <td>4</td>\n",
       "      <td>gas tank WH</td>\n",
       "      <td>0.154</td>\n",
       "      <td>m3</td>\n",
       "    </tr>\n",
       "  </tbody>\n",
       "</table>\n",
       "</div>"
      ],
      "text/plain": [
       "  Consumer ID    Component Component Size Component Size Unit\n",
       "0           1  gas tank WH          0.165                  m3\n",
       "1           2  gas tank WH           0.17                  m3\n",
       "2           3  gas tank WH          0.158                  m3\n",
       "3           4  gas tank WH          0.154                  m3"
      ]
     },
     "execution_count": 28,
     "metadata": {},
     "output_type": "execute_result"
    }
   ],
   "source": [
    "# Retrofit: Backup gas tank WHs\n",
    "\n",
    "retrofit_bckp_size_com = pd.DataFrame(columns = [c['id'], s['comp'], s['cap']],\n",
    "                                      index = peakload_com.index)\n",
    "\n",
    "for i in peakload_com.index:\n",
    "    retrofit_bckp_size_com.loc[i, c['id']] = i\n",
    "    retrofit_bckp_size_com.loc[i, s['comp']] = s['gas_tank']\n",
    "    retrofit_bckp_size_com.loc[i, s['cap']] = peakload_com.loc[i, 'gas_tank_size_com'].round(3)\n",
    "\n",
    "retrofit_bckp_size_com.index = range(retrofit_bckp_size_com.shape[0])\n",
    "retrofit_bckp_size_com[s['cap_unit']] = 'm3'\n",
    "retrofit_bckp_size_com"
   ]
  },
  {
   "cell_type": "code",
   "execution_count": 29,
   "metadata": {},
   "outputs": [],
   "source": [
    "# New: Backup gas tankless WHs\n",
    "\n",
    "new_bckp_size_com = pd.DataFrame(columns = [c['id'], s['comp'], s['cap']], index = peakload_com.index)\n",
    "\n",
    "for i in peakload_com.index:\n",
    "    new_bckp_size_com.loc[i, c['id']] = i\n",
    "    new_bckp_size_com.loc[i, s['comp']] = s['gas_burn']\n",
    "    new_bckp_size_com.loc[i, s['cap']] = gas_tankles_size_W(occ_com[i - 1])\n",
    "\n",
    "new_bckp_size_com.index = range(new_bckp_size_com.shape[0])"
   ]
  },
  {
   "cell_type": "markdown",
   "metadata": {},
   "source": [
    "* Validation sizing\n",
    "\n",
    "Sizes based on several observed rated systems from OG-300 with an 80 gal tank and gas tankless backup\n",
    "(https://secure.solar-rating.org/Certification/Ratings/RatingsReport.aspx?device=6926&units=METRICS)\n"
   ]
  },
  {
   "cell_type": "code",
   "execution_count": 30,
   "metadata": {},
   "outputs": [
    {
     "data": {
      "text/html": [
       "<div>\n",
       "<style scoped>\n",
       "    .dataframe tbody tr th:only-of-type {\n",
       "        vertical-align: middle;\n",
       "    }\n",
       "\n",
       "    .dataframe tbody tr th {\n",
       "        vertical-align: top;\n",
       "    }\n",
       "\n",
       "    .dataframe thead th {\n",
       "        text-align: right;\n",
       "    }\n",
       "</style>\n",
       "<table border=\"1\" class=\"dataframe\">\n",
       "  <thead>\n",
       "    <tr style=\"text-align: right;\">\n",
       "      <th></th>\n",
       "      <th>Component</th>\n",
       "      <th>Component Size</th>\n",
       "    </tr>\n",
       "  </thead>\n",
       "  <tbody>\n",
       "    <tr>\n",
       "      <td>0</td>\n",
       "      <td>solar collector</td>\n",
       "      <td>3.900000</td>\n",
       "    </tr>\n",
       "    <tr>\n",
       "      <td>1</td>\n",
       "      <td>thermal storage tank</td>\n",
       "      <td>0.302833</td>\n",
       "    </tr>\n",
       "    <tr>\n",
       "      <td>2</td>\n",
       "      <td>solar pump</td>\n",
       "      <td>13.476268</td>\n",
       "    </tr>\n",
       "    <tr>\n",
       "      <td>3</td>\n",
       "      <td>piping</td>\n",
       "      <td>0.000000</td>\n",
       "    </tr>\n",
       "  </tbody>\n",
       "</table>\n",
       "</div>"
      ],
      "text/plain": [
       "              Component  Component Size\n",
       "0       solar collector        3.900000\n",
       "1  thermal storage tank        0.302833\n",
       "2            solar pump       13.476268\n",
       "3                piping        0.000000"
      ]
     },
     "execution_count": 30,
     "metadata": {},
     "output_type": "execute_result"
    }
   ],
   "source": [
    "# Solar thermal with tankless backup\n",
    "sys_sizes_val = pd.DataFrame(data = \\\n",
    "            [[s['sol_col'], 3.9], \\\n",
    "             [s['the_sto'], UnitConv(80.).m3_gal(unit_in ='gal')], \\\n",
    "             [s['sol_pump'], solar_pump_w_indiv], \\\n",
    "             [s['piping'], 0.]], \\\n",
    "            columns = \\\n",
    "             [s['comp'], s['cap']])\n",
    "\n",
    "sys_sizes_val"
   ]
  },
  {
   "cell_type": "code",
   "execution_count": 31,
   "metadata": {},
   "outputs": [
    {
     "data": {
      "text/plain": [
       "4873"
      ]
     },
     "execution_count": 31,
     "metadata": {},
     "output_type": "execute_result"
    }
   ],
   "source": [
    "# visualisation setup\n",
    "pd.options.display.float_format = '{:,.3f}'.format\n",
    "w = 650\n",
    "h = 450\n",
    "f = 16\n",
    "m_l = 60.\n",
    "m_b = 60.\n",
    "\n",
    "# hours of the year plotted time, a week in July starting on Monday\n",
    "first_hour = 29*7*24 + 1\n",
    "last_hour = first_hour + 7*24\n",
    "first_hour"
   ]
  },
  {
   "cell_type": "markdown",
   "metadata": {},
   "source": [
    "# System Simulation\n",
    "## Basecase gas tank WH"
   ]
  },
  {
   "cell_type": "code",
   "execution_count": 32,
   "metadata": {},
   "outputs": [
    {
     "name": "stderr",
     "output_type": "stream",
     "text": [
      "INFO:mswh.system.models:Assigned weather data timeseries.\n",
      "INFO:mswh.system.components:Gas tank WH (WHAM) is set up.\n"
     ]
    }
   ],
   "source": [
    "# cold climate\n",
    "\n",
    "conv_gas_tank_wh_cold = System(sys_params = gas_tank_wh_params, \\\n",
    "            sys_sizes = gas_tank_wh_size, \\\n",
    "            weather = weather_bl, \\\n",
    "            loads = loads_indiv)\n",
    "\n",
    "cons_total_cold, proj_total_cold, ts_proj_cold = conv_gas_tank_wh_cold.conventional_gas_tank()"
   ]
  },
  {
   "cell_type": "code",
   "execution_count": 33,
   "metadata": {},
   "outputs": [
    {
     "data": {
      "text/plain": [
       "Consumer ID                                    0.001\n",
       "Occupancy                                      0.004\n",
       "Energy Use - Gas                           4,607.702\n",
       "Energy Use - Gas, Summer                   1,884.095\n",
       "Energy Use - Gas, Winter                   2,723.607\n",
       "Energy Use - Electricity                       0.000\n",
       "Energy Use - Electricity, Summer               0.000\n",
       "Energy Use - Electricity, Winter               0.000\n",
       "Solar Fraction                                 0.000\n",
       "Backup Heat Delivered                            NaN\n",
       "Unmet Heat                                     0.000\n",
       "Energy Use - Gas, w/o Dist Loss            4,607.702\n",
       "Energy Use - Gas, Summer, w/o Dist Loss    1,884.095\n",
       "Energy Use - Gas, Winter, w/o Dist Loss    2,723.607\n",
       "Total Heat Delivered                       2,562.274\n",
       "Net Heat Demand                            2,562.274\n",
       "Dumped Heat                                    0.000\n",
       "Distribution Heat Loss                         0.000\n",
       "Distribution Heat Loss at Backup               0.000\n",
       "Distribution Heat Loss at Backup, Summer       0.000\n",
       "Distribution Heat Loss at Backup, Winter       0.000\n",
       "Peak End-Use Load [gal]                        0.044\n",
       "Name: 0, dtype: object"
      ]
     },
     "execution_count": 33,
     "metadata": {},
     "output_type": "execute_result"
    }
   ],
   "source": [
    "proj_total_cold/1000"
   ]
  },
  {
   "cell_type": "code",
   "execution_count": 34,
   "metadata": {},
   "outputs": [
    {
     "data": {
      "application/vnd.plotly.v1+json": {
       "config": {
        "linkText": "Export to plot.ly",
        "plotlyServerURL": "https://plot.ly",
        "showLink": false
       },
       "data": [
        {
         "mode": "lines",
         "name": "Gas Use, BL Climate Zone",
         "type": "scatter",
         "x": [
          4873,
          4874,
          4875,
          4876,
          4877,
          4878,
          4879,
          4880,
          4881,
          4882,
          4883,
          4884,
          4885,
          4886,
          4887,
          4888,
          4889,
          4890,
          4891,
          4892,
          4893,
          4894,
          4895,
          4896,
          4897,
          4898,
          4899,
          4900,
          4901,
          4902,
          4903,
          4904,
          4905,
          4906,
          4907,
          4908,
          4909,
          4910,
          4911,
          4912,
          4913,
          4914,
          4915,
          4916,
          4917,
          4918,
          4919,
          4920,
          4921,
          4922,
          4923,
          4924,
          4925,
          4926,
          4927,
          4928,
          4929,
          4930,
          4931,
          4932,
          4933,
          4934,
          4935,
          4936,
          4937,
          4938,
          4939,
          4940,
          4941,
          4942,
          4943,
          4944,
          4945,
          4946,
          4947,
          4948,
          4949,
          4950,
          4951,
          4952,
          4953,
          4954,
          4955,
          4956,
          4957,
          4958,
          4959,
          4960,
          4961,
          4962,
          4963,
          4964,
          4965,
          4966,
          4967,
          4968,
          4969,
          4970,
          4971,
          4972,
          4973,
          4974,
          4975,
          4976,
          4977,
          4978,
          4979,
          4980,
          4981,
          4982,
          4983,
          4984,
          4985,
          4986,
          4987,
          4988,
          4989,
          4990,
          4991,
          4992,
          4993,
          4994,
          4995,
          4996,
          4997,
          4998,
          4999,
          5000,
          5001,
          5002,
          5003,
          5004,
          5005,
          5006,
          5007,
          5008,
          5009,
          5010,
          5011,
          5012,
          5013,
          5014,
          5015,
          5016,
          5017,
          5018,
          5019,
          5020,
          5021,
          5022,
          5023,
          5024,
          5025,
          5026,
          5027,
          5028,
          5029,
          5030,
          5031,
          5032,
          5033,
          5034,
          5035,
          5036,
          5037,
          5038,
          5039,
          5040
         ],
         "y": [
          155.69639610430428,
          155.69639610430428,
          155.69639610430428,
          155.69639610430428,
          155.69639610430428,
          155.69639610430428,
          720.5317506349091,
          376.3352064678219,
          3341.720817753498,
          349.8585492241998,
          341.03299680965904,
          155.69639610430428,
          155.69639610430428,
          226.30081542062987,
          305.7307871514962,
          685.2295409767465,
          155.69639610430428,
          2450.340023884887,
          235.12636783517058,
          552.846254758636,
          1479.5292582854097,
          155.69639610430428,
          155.69639610430428,
          182.17305334792638,
          217.4752630060892,
          552.846254758636,
          305.7307871514962,
          155.69639610430428,
          155.69639610430428,
          155.69639610430428,
          155.69639610430428,
          720.5317506349091,
          279.25412990787413,
          349.8585492241998,
          164.521948518845,
          164.521948518845,
          243.95192024971135,
          561.6718071731766,
          1144.1582665328629,
          155.69639610430428,
          3279.941950851712,
          305.7307871514962,
          226.30081542062987,
          2494.4677859575904,
          155.69639610430428,
          155.69639610430428,
          155.69639610430428,
          270.4285774933334,
          155.69639610430428,
          155.69639610430428,
          155.69639610430428,
          685.2295409767465,
          182.17305334792638,
          217.4752630060892,
          173.34750093338567,
          332.2074443951184,
          270.4285774933334,
          155.69639610430428,
          305.7307871514962,
          1620.7380969180608,
          155.69639610430428,
          155.69639610430428,
          473.4162830277695,
          411.6374161259847,
          411.6374161259847,
          738.1828554639906,
          270.4285774933334,
          155.69639610430428,
          367.5096540532811,
          685.2295409767465,
          155.69639610430428,
          155.69639610430428,
          155.69639610430428,
          155.69639610430428,
          155.69639610430428,
          155.69639610430428,
          1250.0648955073514,
          155.69639610430428,
          155.69639610430428,
          235.12636783517058,
          155.69639610430428,
          208.64971059154848,
          252.77747266425203,
          155.69639610430428,
          314.5563395660369,
          155.69639610430428,
          164.521948518845,
          376.3352064678219,
          1523.6570203581132,
          544.0207023440953,
          826.4383796093975,
          164.521948518845,
          747.0084078785313,
          155.69639610430428,
          155.69639610430428,
          155.69639610430428,
          155.69639610430428,
          155.69639610430428,
          464.59073061322886,
          3553.5340757024746,
          1426.5759437981653,
          2009.0624031578516,
          305.7307871514962,
          164.521948518845,
          314.5563395660369,
          2009.0624031578516,
          155.69639610430428,
          358.68410163874046,
          288.07968232241484,
          164.521948518845,
          226.30081542062987,
          1091.2049520456185,
          164.521948518845,
          164.521948518845,
          941.1705609984267,
          676.4039885622057,
          729.35730304945,
          2600.3744149320787,
          641.1017789040429,
          155.69639610430428,
          155.69639610430428,
          155.69639610430428,
          155.69639610430428,
          155.69639610430428,
          155.69639610430428,
          243.95192024971135,
          164.521948518845,
          155.69639610430428,
          199.8241581770078,
          1258.890447921892,
          544.0207023440953,
          393.9863112969032,
          552.846254758636,
          155.69639610430428,
          155.69639610430428,
          261.6030250787927,
          305.7307871514962,
          164.521948518845,
          1453.0526010417877,
          155.69639610430428,
          1656.0403065762237,
          2167.922346619584,
          155.69639610430428,
          155.69639610430428,
          544.0207023440953,
          155.69639610430428,
          155.69639610430428,
          155.69639610430428,
          349.8585492241998,
          155.69639610430428,
          155.69639610430428,
          411.6374161259847,
          5627.538893119539,
          5848.1777034830575,
          393.9863112969032,
          1073.5538472165374,
          729.35730304945,
          164.521948518845,
          667.5784361476651,
          649.9273313185836,
          164.521948518845,
          729.35730304945,
          1585.4358872598982,
          155.69639610430428,
          164.521948518845,
          155.69639610430428,
          155.69639610430428,
          155.69639610430428
         ]
        }
       ],
       "layout": {
        "font": {
         "family": "arial",
         "size": 16
        },
        "height": 450,
        "legend": {
         "font": {
          "family": "arial",
          "size": 12.8
         },
         "x": 0.01,
         "y": 1
        },
        "margin": {
         "b": 60,
         "l": 60
        },
        "showlegend": true,
        "template": {
         "data": {
          "bar": [
           {
            "error_x": {
             "color": "#2a3f5f"
            },
            "error_y": {
             "color": "#2a3f5f"
            },
            "marker": {
             "line": {
              "color": "#E5ECF6",
              "width": 0.5
             }
            },
            "type": "bar"
           }
          ],
          "barpolar": [
           {
            "marker": {
             "line": {
              "color": "#E5ECF6",
              "width": 0.5
             }
            },
            "type": "barpolar"
           }
          ],
          "carpet": [
           {
            "aaxis": {
             "endlinecolor": "#2a3f5f",
             "gridcolor": "white",
             "linecolor": "white",
             "minorgridcolor": "white",
             "startlinecolor": "#2a3f5f"
            },
            "baxis": {
             "endlinecolor": "#2a3f5f",
             "gridcolor": "white",
             "linecolor": "white",
             "minorgridcolor": "white",
             "startlinecolor": "#2a3f5f"
            },
            "type": "carpet"
           }
          ],
          "choropleth": [
           {
            "colorbar": {
             "outlinewidth": 0,
             "ticks": ""
            },
            "type": "choropleth"
           }
          ],
          "contour": [
           {
            "colorbar": {
             "outlinewidth": 0,
             "ticks": ""
            },
            "colorscale": [
             [
              0,
              "#0d0887"
             ],
             [
              0.1111111111111111,
              "#46039f"
             ],
             [
              0.2222222222222222,
              "#7201a8"
             ],
             [
              0.3333333333333333,
              "#9c179e"
             ],
             [
              0.4444444444444444,
              "#bd3786"
             ],
             [
              0.5555555555555556,
              "#d8576b"
             ],
             [
              0.6666666666666666,
              "#ed7953"
             ],
             [
              0.7777777777777778,
              "#fb9f3a"
             ],
             [
              0.8888888888888888,
              "#fdca26"
             ],
             [
              1,
              "#f0f921"
             ]
            ],
            "type": "contour"
           }
          ],
          "contourcarpet": [
           {
            "colorbar": {
             "outlinewidth": 0,
             "ticks": ""
            },
            "type": "contourcarpet"
           }
          ],
          "heatmap": [
           {
            "colorbar": {
             "outlinewidth": 0,
             "ticks": ""
            },
            "colorscale": [
             [
              0,
              "#0d0887"
             ],
             [
              0.1111111111111111,
              "#46039f"
             ],
             [
              0.2222222222222222,
              "#7201a8"
             ],
             [
              0.3333333333333333,
              "#9c179e"
             ],
             [
              0.4444444444444444,
              "#bd3786"
             ],
             [
              0.5555555555555556,
              "#d8576b"
             ],
             [
              0.6666666666666666,
              "#ed7953"
             ],
             [
              0.7777777777777778,
              "#fb9f3a"
             ],
             [
              0.8888888888888888,
              "#fdca26"
             ],
             [
              1,
              "#f0f921"
             ]
            ],
            "type": "heatmap"
           }
          ],
          "heatmapgl": [
           {
            "colorbar": {
             "outlinewidth": 0,
             "ticks": ""
            },
            "colorscale": [
             [
              0,
              "#0d0887"
             ],
             [
              0.1111111111111111,
              "#46039f"
             ],
             [
              0.2222222222222222,
              "#7201a8"
             ],
             [
              0.3333333333333333,
              "#9c179e"
             ],
             [
              0.4444444444444444,
              "#bd3786"
             ],
             [
              0.5555555555555556,
              "#d8576b"
             ],
             [
              0.6666666666666666,
              "#ed7953"
             ],
             [
              0.7777777777777778,
              "#fb9f3a"
             ],
             [
              0.8888888888888888,
              "#fdca26"
             ],
             [
              1,
              "#f0f921"
             ]
            ],
            "type": "heatmapgl"
           }
          ],
          "histogram": [
           {
            "marker": {
             "colorbar": {
              "outlinewidth": 0,
              "ticks": ""
             }
            },
            "type": "histogram"
           }
          ],
          "histogram2d": [
           {
            "colorbar": {
             "outlinewidth": 0,
             "ticks": ""
            },
            "colorscale": [
             [
              0,
              "#0d0887"
             ],
             [
              0.1111111111111111,
              "#46039f"
             ],
             [
              0.2222222222222222,
              "#7201a8"
             ],
             [
              0.3333333333333333,
              "#9c179e"
             ],
             [
              0.4444444444444444,
              "#bd3786"
             ],
             [
              0.5555555555555556,
              "#d8576b"
             ],
             [
              0.6666666666666666,
              "#ed7953"
             ],
             [
              0.7777777777777778,
              "#fb9f3a"
             ],
             [
              0.8888888888888888,
              "#fdca26"
             ],
             [
              1,
              "#f0f921"
             ]
            ],
            "type": "histogram2d"
           }
          ],
          "histogram2dcontour": [
           {
            "colorbar": {
             "outlinewidth": 0,
             "ticks": ""
            },
            "colorscale": [
             [
              0,
              "#0d0887"
             ],
             [
              0.1111111111111111,
              "#46039f"
             ],
             [
              0.2222222222222222,
              "#7201a8"
             ],
             [
              0.3333333333333333,
              "#9c179e"
             ],
             [
              0.4444444444444444,
              "#bd3786"
             ],
             [
              0.5555555555555556,
              "#d8576b"
             ],
             [
              0.6666666666666666,
              "#ed7953"
             ],
             [
              0.7777777777777778,
              "#fb9f3a"
             ],
             [
              0.8888888888888888,
              "#fdca26"
             ],
             [
              1,
              "#f0f921"
             ]
            ],
            "type": "histogram2dcontour"
           }
          ],
          "mesh3d": [
           {
            "colorbar": {
             "outlinewidth": 0,
             "ticks": ""
            },
            "type": "mesh3d"
           }
          ],
          "parcoords": [
           {
            "line": {
             "colorbar": {
              "outlinewidth": 0,
              "ticks": ""
             }
            },
            "type": "parcoords"
           }
          ],
          "pie": [
           {
            "automargin": true,
            "type": "pie"
           }
          ],
          "scatter": [
           {
            "marker": {
             "colorbar": {
              "outlinewidth": 0,
              "ticks": ""
             }
            },
            "type": "scatter"
           }
          ],
          "scatter3d": [
           {
            "line": {
             "colorbar": {
              "outlinewidth": 0,
              "ticks": ""
             }
            },
            "marker": {
             "colorbar": {
              "outlinewidth": 0,
              "ticks": ""
             }
            },
            "type": "scatter3d"
           }
          ],
          "scattercarpet": [
           {
            "marker": {
             "colorbar": {
              "outlinewidth": 0,
              "ticks": ""
             }
            },
            "type": "scattercarpet"
           }
          ],
          "scattergeo": [
           {
            "marker": {
             "colorbar": {
              "outlinewidth": 0,
              "ticks": ""
             }
            },
            "type": "scattergeo"
           }
          ],
          "scattergl": [
           {
            "marker": {
             "colorbar": {
              "outlinewidth": 0,
              "ticks": ""
             }
            },
            "type": "scattergl"
           }
          ],
          "scattermapbox": [
           {
            "marker": {
             "colorbar": {
              "outlinewidth": 0,
              "ticks": ""
             }
            },
            "type": "scattermapbox"
           }
          ],
          "scatterpolar": [
           {
            "marker": {
             "colorbar": {
              "outlinewidth": 0,
              "ticks": ""
             }
            },
            "type": "scatterpolar"
           }
          ],
          "scatterpolargl": [
           {
            "marker": {
             "colorbar": {
              "outlinewidth": 0,
              "ticks": ""
             }
            },
            "type": "scatterpolargl"
           }
          ],
          "scatterternary": [
           {
            "marker": {
             "colorbar": {
              "outlinewidth": 0,
              "ticks": ""
             }
            },
            "type": "scatterternary"
           }
          ],
          "surface": [
           {
            "colorbar": {
             "outlinewidth": 0,
             "ticks": ""
            },
            "colorscale": [
             [
              0,
              "#0d0887"
             ],
             [
              0.1111111111111111,
              "#46039f"
             ],
             [
              0.2222222222222222,
              "#7201a8"
             ],
             [
              0.3333333333333333,
              "#9c179e"
             ],
             [
              0.4444444444444444,
              "#bd3786"
             ],
             [
              0.5555555555555556,
              "#d8576b"
             ],
             [
              0.6666666666666666,
              "#ed7953"
             ],
             [
              0.7777777777777778,
              "#fb9f3a"
             ],
             [
              0.8888888888888888,
              "#fdca26"
             ],
             [
              1,
              "#f0f921"
             ]
            ],
            "type": "surface"
           }
          ],
          "table": [
           {
            "cells": {
             "fill": {
              "color": "#EBF0F8"
             },
             "line": {
              "color": "white"
             }
            },
            "header": {
             "fill": {
              "color": "#C8D4E3"
             },
             "line": {
              "color": "white"
             }
            },
            "type": "table"
           }
          ]
         },
         "layout": {
          "annotationdefaults": {
           "arrowcolor": "#2a3f5f",
           "arrowhead": 0,
           "arrowwidth": 1
          },
          "coloraxis": {
           "colorbar": {
            "outlinewidth": 0,
            "ticks": ""
           }
          },
          "colorscale": {
           "diverging": [
            [
             0,
             "#8e0152"
            ],
            [
             0.1,
             "#c51b7d"
            ],
            [
             0.2,
             "#de77ae"
            ],
            [
             0.3,
             "#f1b6da"
            ],
            [
             0.4,
             "#fde0ef"
            ],
            [
             0.5,
             "#f7f7f7"
            ],
            [
             0.6,
             "#e6f5d0"
            ],
            [
             0.7,
             "#b8e186"
            ],
            [
             0.8,
             "#7fbc41"
            ],
            [
             0.9,
             "#4d9221"
            ],
            [
             1,
             "#276419"
            ]
           ],
           "sequential": [
            [
             0,
             "#0d0887"
            ],
            [
             0.1111111111111111,
             "#46039f"
            ],
            [
             0.2222222222222222,
             "#7201a8"
            ],
            [
             0.3333333333333333,
             "#9c179e"
            ],
            [
             0.4444444444444444,
             "#bd3786"
            ],
            [
             0.5555555555555556,
             "#d8576b"
            ],
            [
             0.6666666666666666,
             "#ed7953"
            ],
            [
             0.7777777777777778,
             "#fb9f3a"
            ],
            [
             0.8888888888888888,
             "#fdca26"
            ],
            [
             1,
             "#f0f921"
            ]
           ],
           "sequentialminus": [
            [
             0,
             "#0d0887"
            ],
            [
             0.1111111111111111,
             "#46039f"
            ],
            [
             0.2222222222222222,
             "#7201a8"
            ],
            [
             0.3333333333333333,
             "#9c179e"
            ],
            [
             0.4444444444444444,
             "#bd3786"
            ],
            [
             0.5555555555555556,
             "#d8576b"
            ],
            [
             0.6666666666666666,
             "#ed7953"
            ],
            [
             0.7777777777777778,
             "#fb9f3a"
            ],
            [
             0.8888888888888888,
             "#fdca26"
            ],
            [
             1,
             "#f0f921"
            ]
           ]
          },
          "colorway": [
           "#636efa",
           "#EF553B",
           "#00cc96",
           "#ab63fa",
           "#FFA15A",
           "#19d3f3",
           "#FF6692",
           "#B6E880",
           "#FF97FF",
           "#FECB52"
          ],
          "font": {
           "color": "#2a3f5f"
          },
          "geo": {
           "bgcolor": "white",
           "lakecolor": "white",
           "landcolor": "#E5ECF6",
           "showlakes": true,
           "showland": true,
           "subunitcolor": "white"
          },
          "hoverlabel": {
           "align": "left"
          },
          "hovermode": "closest",
          "mapbox": {
           "style": "light"
          },
          "paper_bgcolor": "white",
          "plot_bgcolor": "#E5ECF6",
          "polar": {
           "angularaxis": {
            "gridcolor": "white",
            "linecolor": "white",
            "ticks": ""
           },
           "bgcolor": "#E5ECF6",
           "radialaxis": {
            "gridcolor": "white",
            "linecolor": "white",
            "ticks": ""
           }
          },
          "scene": {
           "xaxis": {
            "backgroundcolor": "#E5ECF6",
            "gridcolor": "white",
            "gridwidth": 2,
            "linecolor": "white",
            "showbackground": true,
            "ticks": "",
            "zerolinecolor": "white"
           },
           "yaxis": {
            "backgroundcolor": "#E5ECF6",
            "gridcolor": "white",
            "gridwidth": 2,
            "linecolor": "white",
            "showbackground": true,
            "ticks": "",
            "zerolinecolor": "white"
           },
           "zaxis": {
            "backgroundcolor": "#E5ECF6",
            "gridcolor": "white",
            "gridwidth": 2,
            "linecolor": "white",
            "showbackground": true,
            "ticks": "",
            "zerolinecolor": "white"
           }
          },
          "shapedefaults": {
           "line": {
            "color": "#2a3f5f"
           }
          },
          "ternary": {
           "aaxis": {
            "gridcolor": "white",
            "linecolor": "white",
            "ticks": ""
           },
           "baxis": {
            "gridcolor": "white",
            "linecolor": "white",
            "ticks": ""
           },
           "bgcolor": "#E5ECF6",
           "caxis": {
            "gridcolor": "white",
            "linecolor": "white",
            "ticks": ""
           }
          },
          "title": {
           "x": 0.05
          },
          "xaxis": {
           "automargin": true,
           "gridcolor": "white",
           "linecolor": "white",
           "ticks": "",
           "title": {
            "standoff": 15
           },
           "zerolinecolor": "white",
           "zerolinewidth": 2
          },
          "yaxis": {
           "automargin": true,
           "gridcolor": "white",
           "linecolor": "white",
           "ticks": "",
           "title": {
            "standoff": 15
           },
           "zerolinecolor": "white",
           "zerolinewidth": 2
          }
         }
        },
        "title": {
         "font": {
          "family": "arial",
          "size": 16
         },
         "text": ""
        },
        "width": 650,
        "xaxis": {
         "tickfont": {
          "size": 12.8
         },
         "title": {
          "font": {
           "color": "#7f7f7f",
           "size": 16
          },
          "text": "Hour [h]"
         }
        },
        "yaxis": {
         "tickfont": {
          "size": 9.6
         },
         "title": {
          "font": {
           "color": "#7f7f7f",
           "size": 16
          },
          "text": "Heat rate [W]"
         }
        }
       }
      },
      "text/html": [
       "<div>\n",
       "        \n",
       "        \n",
       "            <div id=\"dc1c95d2-7285-4fbe-be44-9b5fc4811db8\" class=\"plotly-graph-div\" style=\"height:450px; width:650px;\"></div>\n",
       "            <script type=\"text/javascript\">\n",
       "                require([\"plotly\"], function(Plotly) {\n",
       "                    window.PLOTLYENV=window.PLOTLYENV || {};\n",
       "                    \n",
       "                if (document.getElementById(\"dc1c95d2-7285-4fbe-be44-9b5fc4811db8\")) {\n",
       "                    Plotly.newPlot(\n",
       "                        'dc1c95d2-7285-4fbe-be44-9b5fc4811db8',\n",
       "                        [{\"mode\": \"lines\", \"name\": \"Gas Use, BL Climate Zone\", \"type\": \"scatter\", \"x\": [4873, 4874, 4875, 4876, 4877, 4878, 4879, 4880, 4881, 4882, 4883, 4884, 4885, 4886, 4887, 4888, 4889, 4890, 4891, 4892, 4893, 4894, 4895, 4896, 4897, 4898, 4899, 4900, 4901, 4902, 4903, 4904, 4905, 4906, 4907, 4908, 4909, 4910, 4911, 4912, 4913, 4914, 4915, 4916, 4917, 4918, 4919, 4920, 4921, 4922, 4923, 4924, 4925, 4926, 4927, 4928, 4929, 4930, 4931, 4932, 4933, 4934, 4935, 4936, 4937, 4938, 4939, 4940, 4941, 4942, 4943, 4944, 4945, 4946, 4947, 4948, 4949, 4950, 4951, 4952, 4953, 4954, 4955, 4956, 4957, 4958, 4959, 4960, 4961, 4962, 4963, 4964, 4965, 4966, 4967, 4968, 4969, 4970, 4971, 4972, 4973, 4974, 4975, 4976, 4977, 4978, 4979, 4980, 4981, 4982, 4983, 4984, 4985, 4986, 4987, 4988, 4989, 4990, 4991, 4992, 4993, 4994, 4995, 4996, 4997, 4998, 4999, 5000, 5001, 5002, 5003, 5004, 5005, 5006, 5007, 5008, 5009, 5010, 5011, 5012, 5013, 5014, 5015, 5016, 5017, 5018, 5019, 5020, 5021, 5022, 5023, 5024, 5025, 5026, 5027, 5028, 5029, 5030, 5031, 5032, 5033, 5034, 5035, 5036, 5037, 5038, 5039, 5040], \"y\": [155.69639610430428, 155.69639610430428, 155.69639610430428, 155.69639610430428, 155.69639610430428, 155.69639610430428, 720.5317506349091, 376.3352064678219, 3341.720817753498, 349.8585492241998, 341.03299680965904, 155.69639610430428, 155.69639610430428, 226.30081542062987, 305.7307871514962, 685.2295409767465, 155.69639610430428, 2450.340023884887, 235.12636783517058, 552.846254758636, 1479.5292582854097, 155.69639610430428, 155.69639610430428, 182.17305334792638, 217.4752630060892, 552.846254758636, 305.7307871514962, 155.69639610430428, 155.69639610430428, 155.69639610430428, 155.69639610430428, 720.5317506349091, 279.25412990787413, 349.8585492241998, 164.521948518845, 164.521948518845, 243.95192024971135, 561.6718071731766, 1144.1582665328629, 155.69639610430428, 3279.941950851712, 305.7307871514962, 226.30081542062987, 2494.4677859575904, 155.69639610430428, 155.69639610430428, 155.69639610430428, 270.4285774933334, 155.69639610430428, 155.69639610430428, 155.69639610430428, 685.2295409767465, 182.17305334792638, 217.4752630060892, 173.34750093338567, 332.2074443951184, 270.4285774933334, 155.69639610430428, 305.7307871514962, 1620.7380969180608, 155.69639610430428, 155.69639610430428, 473.4162830277695, 411.6374161259847, 411.6374161259847, 738.1828554639906, 270.4285774933334, 155.69639610430428, 367.5096540532811, 685.2295409767465, 155.69639610430428, 155.69639610430428, 155.69639610430428, 155.69639610430428, 155.69639610430428, 155.69639610430428, 1250.0648955073514, 155.69639610430428, 155.69639610430428, 235.12636783517058, 155.69639610430428, 208.64971059154848, 252.77747266425203, 155.69639610430428, 314.5563395660369, 155.69639610430428, 164.521948518845, 376.3352064678219, 1523.6570203581132, 544.0207023440953, 826.4383796093975, 164.521948518845, 747.0084078785313, 155.69639610430428, 155.69639610430428, 155.69639610430428, 155.69639610430428, 155.69639610430428, 464.59073061322886, 3553.5340757024746, 1426.5759437981653, 2009.0624031578516, 305.7307871514962, 164.521948518845, 314.5563395660369, 2009.0624031578516, 155.69639610430428, 358.68410163874046, 288.07968232241484, 164.521948518845, 226.30081542062987, 1091.2049520456185, 164.521948518845, 164.521948518845, 941.1705609984267, 676.4039885622057, 729.35730304945, 2600.3744149320787, 641.1017789040429, 155.69639610430428, 155.69639610430428, 155.69639610430428, 155.69639610430428, 155.69639610430428, 155.69639610430428, 243.95192024971135, 164.521948518845, 155.69639610430428, 199.8241581770078, 1258.890447921892, 544.0207023440953, 393.9863112969032, 552.846254758636, 155.69639610430428, 155.69639610430428, 261.6030250787927, 305.7307871514962, 164.521948518845, 1453.0526010417877, 155.69639610430428, 1656.0403065762237, 2167.922346619584, 155.69639610430428, 155.69639610430428, 544.0207023440953, 155.69639610430428, 155.69639610430428, 155.69639610430428, 349.8585492241998, 155.69639610430428, 155.69639610430428, 411.6374161259847, 5627.538893119539, 5848.1777034830575, 393.9863112969032, 1073.5538472165374, 729.35730304945, 164.521948518845, 667.5784361476651, 649.9273313185836, 164.521948518845, 729.35730304945, 1585.4358872598982, 155.69639610430428, 164.521948518845, 155.69639610430428, 155.69639610430428, 155.69639610430428]}],\n",
       "                        {\"font\": {\"family\": \"arial\", \"size\": 16}, \"height\": 450, \"legend\": {\"font\": {\"family\": \"arial\", \"size\": 12.8}, \"x\": 0.01, \"y\": 1.0}, \"margin\": {\"b\": 60.0, \"l\": 60.0}, \"showlegend\": true, \"template\": {\"data\": {\"bar\": [{\"error_x\": {\"color\": \"#2a3f5f\"}, \"error_y\": {\"color\": \"#2a3f5f\"}, \"marker\": {\"line\": {\"color\": \"#E5ECF6\", \"width\": 0.5}}, \"type\": \"bar\"}], \"barpolar\": [{\"marker\": {\"line\": {\"color\": \"#E5ECF6\", \"width\": 0.5}}, \"type\": \"barpolar\"}], \"carpet\": [{\"aaxis\": {\"endlinecolor\": \"#2a3f5f\", \"gridcolor\": \"white\", \"linecolor\": \"white\", \"minorgridcolor\": \"white\", \"startlinecolor\": \"#2a3f5f\"}, \"baxis\": {\"endlinecolor\": \"#2a3f5f\", \"gridcolor\": \"white\", \"linecolor\": \"white\", \"minorgridcolor\": \"white\", \"startlinecolor\": \"#2a3f5f\"}, \"type\": \"carpet\"}], \"choropleth\": [{\"colorbar\": {\"outlinewidth\": 0, \"ticks\": \"\"}, \"type\": \"choropleth\"}], \"contour\": [{\"colorbar\": {\"outlinewidth\": 0, \"ticks\": \"\"}, \"colorscale\": [[0.0, \"#0d0887\"], [0.1111111111111111, \"#46039f\"], [0.2222222222222222, \"#7201a8\"], [0.3333333333333333, \"#9c179e\"], [0.4444444444444444, \"#bd3786\"], [0.5555555555555556, \"#d8576b\"], [0.6666666666666666, \"#ed7953\"], [0.7777777777777778, \"#fb9f3a\"], [0.8888888888888888, \"#fdca26\"], [1.0, \"#f0f921\"]], \"type\": \"contour\"}], \"contourcarpet\": [{\"colorbar\": {\"outlinewidth\": 0, \"ticks\": \"\"}, \"type\": \"contourcarpet\"}], \"heatmap\": [{\"colorbar\": {\"outlinewidth\": 0, \"ticks\": \"\"}, \"colorscale\": [[0.0, \"#0d0887\"], [0.1111111111111111, \"#46039f\"], [0.2222222222222222, \"#7201a8\"], [0.3333333333333333, \"#9c179e\"], [0.4444444444444444, \"#bd3786\"], [0.5555555555555556, \"#d8576b\"], [0.6666666666666666, \"#ed7953\"], [0.7777777777777778, \"#fb9f3a\"], [0.8888888888888888, \"#fdca26\"], [1.0, \"#f0f921\"]], \"type\": \"heatmap\"}], \"heatmapgl\": [{\"colorbar\": {\"outlinewidth\": 0, \"ticks\": \"\"}, \"colorscale\": [[0.0, \"#0d0887\"], [0.1111111111111111, \"#46039f\"], [0.2222222222222222, \"#7201a8\"], [0.3333333333333333, \"#9c179e\"], [0.4444444444444444, \"#bd3786\"], [0.5555555555555556, \"#d8576b\"], [0.6666666666666666, \"#ed7953\"], [0.7777777777777778, \"#fb9f3a\"], [0.8888888888888888, \"#fdca26\"], [1.0, \"#f0f921\"]], \"type\": \"heatmapgl\"}], \"histogram\": [{\"marker\": {\"colorbar\": {\"outlinewidth\": 0, \"ticks\": \"\"}}, \"type\": \"histogram\"}], \"histogram2d\": [{\"colorbar\": {\"outlinewidth\": 0, \"ticks\": \"\"}, \"colorscale\": [[0.0, \"#0d0887\"], [0.1111111111111111, \"#46039f\"], [0.2222222222222222, \"#7201a8\"], [0.3333333333333333, \"#9c179e\"], [0.4444444444444444, \"#bd3786\"], [0.5555555555555556, \"#d8576b\"], [0.6666666666666666, \"#ed7953\"], [0.7777777777777778, \"#fb9f3a\"], [0.8888888888888888, \"#fdca26\"], [1.0, \"#f0f921\"]], \"type\": \"histogram2d\"}], \"histogram2dcontour\": [{\"colorbar\": {\"outlinewidth\": 0, \"ticks\": \"\"}, \"colorscale\": [[0.0, \"#0d0887\"], [0.1111111111111111, \"#46039f\"], [0.2222222222222222, \"#7201a8\"], [0.3333333333333333, \"#9c179e\"], [0.4444444444444444, \"#bd3786\"], [0.5555555555555556, \"#d8576b\"], [0.6666666666666666, \"#ed7953\"], [0.7777777777777778, \"#fb9f3a\"], [0.8888888888888888, \"#fdca26\"], [1.0, \"#f0f921\"]], \"type\": \"histogram2dcontour\"}], \"mesh3d\": [{\"colorbar\": {\"outlinewidth\": 0, \"ticks\": \"\"}, \"type\": \"mesh3d\"}], \"parcoords\": [{\"line\": {\"colorbar\": {\"outlinewidth\": 0, \"ticks\": \"\"}}, \"type\": \"parcoords\"}], \"pie\": [{\"automargin\": true, \"type\": \"pie\"}], \"scatter\": [{\"marker\": {\"colorbar\": {\"outlinewidth\": 0, \"ticks\": \"\"}}, \"type\": \"scatter\"}], \"scatter3d\": [{\"line\": {\"colorbar\": {\"outlinewidth\": 0, \"ticks\": \"\"}}, \"marker\": {\"colorbar\": {\"outlinewidth\": 0, \"ticks\": \"\"}}, \"type\": \"scatter3d\"}], \"scattercarpet\": [{\"marker\": {\"colorbar\": {\"outlinewidth\": 0, \"ticks\": \"\"}}, \"type\": \"scattercarpet\"}], \"scattergeo\": [{\"marker\": {\"colorbar\": {\"outlinewidth\": 0, \"ticks\": \"\"}}, \"type\": \"scattergeo\"}], \"scattergl\": [{\"marker\": {\"colorbar\": {\"outlinewidth\": 0, \"ticks\": \"\"}}, \"type\": \"scattergl\"}], \"scattermapbox\": [{\"marker\": {\"colorbar\": {\"outlinewidth\": 0, \"ticks\": \"\"}}, \"type\": \"scattermapbox\"}], \"scatterpolar\": [{\"marker\": {\"colorbar\": {\"outlinewidth\": 0, \"ticks\": \"\"}}, \"type\": \"scatterpolar\"}], \"scatterpolargl\": [{\"marker\": {\"colorbar\": {\"outlinewidth\": 0, \"ticks\": \"\"}}, \"type\": \"scatterpolargl\"}], \"scatterternary\": [{\"marker\": {\"colorbar\": {\"outlinewidth\": 0, \"ticks\": \"\"}}, \"type\": \"scatterternary\"}], \"surface\": [{\"colorbar\": {\"outlinewidth\": 0, \"ticks\": \"\"}, \"colorscale\": [[0.0, \"#0d0887\"], [0.1111111111111111, \"#46039f\"], [0.2222222222222222, \"#7201a8\"], [0.3333333333333333, \"#9c179e\"], [0.4444444444444444, \"#bd3786\"], [0.5555555555555556, \"#d8576b\"], [0.6666666666666666, \"#ed7953\"], [0.7777777777777778, \"#fb9f3a\"], [0.8888888888888888, \"#fdca26\"], [1.0, \"#f0f921\"]], \"type\": \"surface\"}], \"table\": [{\"cells\": {\"fill\": {\"color\": \"#EBF0F8\"}, \"line\": {\"color\": \"white\"}}, \"header\": {\"fill\": {\"color\": \"#C8D4E3\"}, \"line\": {\"color\": \"white\"}}, \"type\": \"table\"}]}, \"layout\": {\"annotationdefaults\": {\"arrowcolor\": \"#2a3f5f\", \"arrowhead\": 0, \"arrowwidth\": 1}, \"coloraxis\": {\"colorbar\": {\"outlinewidth\": 0, \"ticks\": \"\"}}, \"colorscale\": {\"diverging\": [[0, \"#8e0152\"], [0.1, \"#c51b7d\"], [0.2, \"#de77ae\"], [0.3, \"#f1b6da\"], [0.4, \"#fde0ef\"], [0.5, \"#f7f7f7\"], [0.6, \"#e6f5d0\"], [0.7, \"#b8e186\"], [0.8, \"#7fbc41\"], [0.9, \"#4d9221\"], [1, \"#276419\"]], \"sequential\": [[0.0, \"#0d0887\"], [0.1111111111111111, \"#46039f\"], [0.2222222222222222, \"#7201a8\"], [0.3333333333333333, \"#9c179e\"], [0.4444444444444444, \"#bd3786\"], [0.5555555555555556, \"#d8576b\"], [0.6666666666666666, \"#ed7953\"], [0.7777777777777778, \"#fb9f3a\"], [0.8888888888888888, \"#fdca26\"], [1.0, \"#f0f921\"]], \"sequentialminus\": [[0.0, \"#0d0887\"], [0.1111111111111111, \"#46039f\"], [0.2222222222222222, \"#7201a8\"], [0.3333333333333333, \"#9c179e\"], [0.4444444444444444, \"#bd3786\"], [0.5555555555555556, \"#d8576b\"], [0.6666666666666666, \"#ed7953\"], [0.7777777777777778, \"#fb9f3a\"], [0.8888888888888888, \"#fdca26\"], [1.0, \"#f0f921\"]]}, \"colorway\": [\"#636efa\", \"#EF553B\", \"#00cc96\", \"#ab63fa\", \"#FFA15A\", \"#19d3f3\", \"#FF6692\", \"#B6E880\", \"#FF97FF\", \"#FECB52\"], \"font\": {\"color\": \"#2a3f5f\"}, \"geo\": {\"bgcolor\": \"white\", \"lakecolor\": \"white\", \"landcolor\": \"#E5ECF6\", \"showlakes\": true, \"showland\": true, \"subunitcolor\": \"white\"}, \"hoverlabel\": {\"align\": \"left\"}, \"hovermode\": \"closest\", \"mapbox\": {\"style\": \"light\"}, \"paper_bgcolor\": \"white\", \"plot_bgcolor\": \"#E5ECF6\", \"polar\": {\"angularaxis\": {\"gridcolor\": \"white\", \"linecolor\": \"white\", \"ticks\": \"\"}, \"bgcolor\": \"#E5ECF6\", \"radialaxis\": {\"gridcolor\": \"white\", \"linecolor\": \"white\", \"ticks\": \"\"}}, \"scene\": {\"xaxis\": {\"backgroundcolor\": \"#E5ECF6\", \"gridcolor\": \"white\", \"gridwidth\": 2, \"linecolor\": \"white\", \"showbackground\": true, \"ticks\": \"\", \"zerolinecolor\": \"white\"}, \"yaxis\": {\"backgroundcolor\": \"#E5ECF6\", \"gridcolor\": \"white\", \"gridwidth\": 2, \"linecolor\": \"white\", \"showbackground\": true, \"ticks\": \"\", \"zerolinecolor\": \"white\"}, \"zaxis\": {\"backgroundcolor\": \"#E5ECF6\", \"gridcolor\": \"white\", \"gridwidth\": 2, \"linecolor\": \"white\", \"showbackground\": true, \"ticks\": \"\", \"zerolinecolor\": \"white\"}}, \"shapedefaults\": {\"line\": {\"color\": \"#2a3f5f\"}}, \"ternary\": {\"aaxis\": {\"gridcolor\": \"white\", \"linecolor\": \"white\", \"ticks\": \"\"}, \"baxis\": {\"gridcolor\": \"white\", \"linecolor\": \"white\", \"ticks\": \"\"}, \"bgcolor\": \"#E5ECF6\", \"caxis\": {\"gridcolor\": \"white\", \"linecolor\": \"white\", \"ticks\": \"\"}}, \"title\": {\"x\": 0.05}, \"xaxis\": {\"automargin\": true, \"gridcolor\": \"white\", \"linecolor\": \"white\", \"ticks\": \"\", \"title\": {\"standoff\": 15}, \"zerolinecolor\": \"white\", \"zerolinewidth\": 2}, \"yaxis\": {\"automargin\": true, \"gridcolor\": \"white\", \"linecolor\": \"white\", \"ticks\": \"\", \"title\": {\"standoff\": 15}, \"zerolinecolor\": \"white\", \"zerolinewidth\": 2}}}, \"title\": {\"font\": {\"family\": \"arial\", \"size\": 16.0}, \"text\": \"\"}, \"width\": 650, \"xaxis\": {\"tickfont\": {\"size\": 12.8}, \"title\": {\"font\": {\"color\": \"#7f7f7f\", \"size\": 16}, \"text\": \"Hour [h]\"}}, \"yaxis\": {\"tickfont\": {\"size\": 9.6}, \"title\": {\"font\": {\"color\": \"#7f7f7f\", \"size\": 16}, \"text\": \"Heat rate [W]\"}}},\n",
       "                        {\"responsive\": true}\n",
       "                    ).then(function(){\n",
       "                            \n",
       "var gd = document.getElementById('dc1c95d2-7285-4fbe-be44-9b5fc4811db8');\n",
       "var x = new MutationObserver(function (mutations, observer) {{\n",
       "        var display = window.getComputedStyle(gd).display;\n",
       "        if (!display || display === 'none') {{\n",
       "            console.log([gd, 'removed!']);\n",
       "            Plotly.purge(gd);\n",
       "            observer.disconnect();\n",
       "        }}\n",
       "}});\n",
       "\n",
       "// Listen for the removal of the full notebook cells\n",
       "var notebookContainer = gd.closest('#notebook-container');\n",
       "if (notebookContainer) {{\n",
       "    x.observe(notebookContainer, {childList: true});\n",
       "}}\n",
       "\n",
       "// Listen for the clearing of the current output cell\n",
       "var outputEl = gd.closest('.output');\n",
       "if (outputEl) {{\n",
       "    x.observe(outputEl, {childList: true});\n",
       "}}\n",
       "\n",
       "                        })\n",
       "                };\n",
       "                });\n",
       "            </script>\n",
       "        </div>"
      ]
     },
     "metadata": {},
     "output_type": "display_data"
    }
   ],
   "source": [
    "data_bc = pd.DataFrame(data = \\\n",
    "        [ts_proj_cold[r['gas_use']]]).transpose()\n",
    "\n",
    "fig = Plot(data_headers = ['Gas Use, BL Climate Zone'], \\\n",
    "                 outpath = '', save_image = False, title = '', label_h = 'Hour [h]', label_v = 'Heat rate [W]',\\\n",
    "                 legend = True, duration_curve = False, margin_l = m_l, margin_b = m_b,\\\n",
    "                 notebook_mode = True, width = w, height = h, fontsize = f, legend_x = 0.01, legend_y = 1.).\\\n",
    "            series(data_bc[first_hour: last_hour], outfile = '', index_in_a_column = None, modes = 'lines')"
   ]
  },
  {
   "cell_type": "markdown",
   "metadata": {},
   "source": [
    "## Individual new solar thermal system"
   ]
  },
  {
   "cell_type": "code",
   "execution_count": 35,
   "metadata": {},
   "outputs": [
    {
     "name": "stderr",
     "output_type": "stream",
     "text": [
      "INFO:mswh.system.models:Assigned weather data timeseries.\n",
      "INFO:mswh.system.components:Assigned weather data timeseries.\n",
      "INFO:mswh.system.components:Solar storage tank is set.\n",
      "INFO:mswh.system.components:Assigned weather data timeseries.\n"
     ]
    }
   ],
   "source": [
    "# in a cold climate\n",
    "sol_wh_indiv_new_cold = System(sys_params = sol_the_sys_params_indiv,\n",
    "                          backup_params = gas_tankless_wh_params,\n",
    "                          sys_sizes = sys_sizes_indiv,\n",
    "                          backup_sizes = new_bckp_size_ind,\n",
    "                          weather = weather_bl,\n",
    "                          loads = loads_indiv)\n",
    "\n",
    "cons_total_indiv_new_cold, proj_total_indiv_new_cold,\\\n",
    "[proj_total_dict_indiv_new_cold, sol_fra_indiv_new_cold, pump_el_use_indiv_new_cold,\\\n",
    " pump_op_hour_indiv_new_cold, ts_res_indiv_new_cold, backup_ts_cons_indiv_new_cold, rel_err_indiv_new_cold] = \\\n",
    "    sol_wh_indiv_new_cold.solar_thermal(backup = 'gas')"
   ]
  },
  {
   "cell_type": "code",
   "execution_count": 36,
   "metadata": {},
   "outputs": [
    {
     "name": "stdout",
     "output_type": "stream",
     "text": [
      "month, day, hour:\n",
      "Data starts at [7 23 0] and ends at [7 30 0]\n"
     ]
    },
    {
     "data": {
      "application/vnd.plotly.v1+json": {
       "config": {
        "linkText": "Export to plot.ly",
        "plotlyServerURL": "https://plot.ly",
        "showLink": false
       },
       "data": [
        {
         "mode": "lines",
         "name": "Net Heat Demand",
         "type": "scatter",
         "x": [
          4873,
          4874,
          4875,
          4876,
          4877,
          4878,
          4879,
          4880,
          4881,
          4882,
          4883,
          4884,
          4885,
          4886,
          4887,
          4888,
          4889,
          4890,
          4891,
          4892,
          4893,
          4894,
          4895,
          4896,
          4897,
          4898,
          4899,
          4900,
          4901,
          4902,
          4903,
          4904,
          4905,
          4906,
          4907,
          4908,
          4909,
          4910,
          4911,
          4912,
          4913,
          4914,
          4915,
          4916,
          4917,
          4918,
          4919,
          4920,
          4921,
          4922,
          4923,
          4924,
          4925,
          4926,
          4927,
          4928,
          4929,
          4930,
          4931,
          4932,
          4933,
          4934,
          4935,
          4936,
          4937,
          4938,
          4939,
          4940,
          4941,
          4942,
          4943,
          4944,
          4945,
          4946,
          4947,
          4948,
          4949,
          4950,
          4951,
          4952,
          4953,
          4954,
          4955,
          4956,
          4957,
          4958,
          4959,
          4960,
          4961,
          4962,
          4963,
          4964,
          4965,
          4966,
          4967,
          4968,
          4969,
          4970,
          4971,
          4972,
          4973,
          4974,
          4975,
          4976,
          4977,
          4978,
          4979,
          4980,
          4981,
          4982,
          4983,
          4984,
          4985,
          4986,
          4987,
          4988,
          4989,
          4990,
          4991,
          4992,
          4993,
          4994,
          4995,
          4996,
          4997,
          4998,
          4999,
          5000,
          5001,
          5002,
          5003,
          5004,
          5005,
          5006,
          5007,
          5008,
          5009,
          5010,
          5011,
          5012,
          5013,
          5014,
          5015,
          5016,
          5017,
          5018,
          5019,
          5020,
          5021,
          5022,
          5023,
          5024,
          5025,
          5026,
          5027,
          5028,
          5029,
          5030,
          5031,
          5032,
          5033,
          5034,
          5035,
          5036,
          5037,
          5038,
          5039,
          5040,
          5041
         ],
         "y": [
          0,
          0,
          0,
          0,
          0,
          0,
          0,
          446.16,
          174.28,
          2516.64,
          153.37,
          146.4,
          0,
          0,
          55.77,
          118.51,
          418.28,
          0,
          1812.54,
          62.74,
          313.71,
          1045.69,
          0,
          0,
          20.91,
          48.8,
          313.71,
          118.51,
          0,
          0,
          0,
          0,
          446.16,
          97.6,
          153.37,
          6.97,
          6.97,
          69.71,
          320.68,
          780.78,
          0,
          2467.84,
          118.51,
          55.77,
          1847.39,
          0,
          0,
          0,
          90.63,
          0,
          0,
          0,
          418.28,
          20.91,
          48.8,
          13.94,
          139.43,
          90.63,
          0,
          118.51,
          1157.23,
          0,
          0,
          250.97,
          202.17,
          202.17,
          460.11,
          90.63,
          0,
          167.31,
          418.28,
          0,
          0,
          0,
          0,
          0,
          0,
          864.44,
          0,
          0,
          62.74,
          0,
          41.83,
          76.68,
          0,
          125.48,
          0,
          6.97,
          174.28,
          1080.55,
          306.74,
          529.82,
          6.97,
          467.08,
          0,
          0,
          0,
          0,
          0,
          244,
          2683.95,
          1003.87,
          1463.97,
          118.51,
          6.97,
          125.48,
          1463.97,
          0,
          160.34,
          104.57,
          6.97,
          55.77,
          738.96,
          6.97,
          6.97,
          620.44,
          411.31,
          453.13,
          1931.05,
          383.42,
          0,
          0,
          0,
          0,
          0,
          0,
          69.71,
          6.97,
          0,
          34.86,
          871.41,
          306.74,
          188.22,
          313.71,
          0,
          0,
          83.66,
          118.51,
          6.97,
          1024.78,
          0,
          1185.12,
          1589.45,
          0,
          0,
          306.74,
          0,
          0,
          0,
          153.37,
          0,
          0,
          202.17,
          4322.2,
          4496.48,
          188.22,
          725.01,
          453.13,
          6.97,
          404.33,
          390.39,
          6.97,
          453.13,
          1129.35,
          0,
          6.97,
          0,
          0,
          0
         ]
        },
        {
         "mode": "lines",
         "name": "Tank Heat Delivered",
         "type": "scatter",
         "x": [
          4873,
          4874,
          4875,
          4876,
          4877,
          4878,
          4879,
          4880,
          4881,
          4882,
          4883,
          4884,
          4885,
          4886,
          4887,
          4888,
          4889,
          4890,
          4891,
          4892,
          4893,
          4894,
          4895,
          4896,
          4897,
          4898,
          4899,
          4900,
          4901,
          4902,
          4903,
          4904,
          4905,
          4906,
          4907,
          4908,
          4909,
          4910,
          4911,
          4912,
          4913,
          4914,
          4915,
          4916,
          4917,
          4918,
          4919,
          4920,
          4921,
          4922,
          4923,
          4924,
          4925,
          4926,
          4927,
          4928,
          4929,
          4930,
          4931,
          4932,
          4933,
          4934,
          4935,
          4936,
          4937,
          4938,
          4939,
          4940,
          4941,
          4942,
          4943,
          4944,
          4945,
          4946,
          4947,
          4948,
          4949,
          4950,
          4951,
          4952,
          4953,
          4954,
          4955,
          4956,
          4957,
          4958,
          4959,
          4960,
          4961,
          4962,
          4963,
          4964,
          4965,
          4966,
          4967,
          4968,
          4969,
          4970,
          4971,
          4972,
          4973,
          4974,
          4975,
          4976,
          4977,
          4978,
          4979,
          4980,
          4981,
          4982,
          4983,
          4984,
          4985,
          4986,
          4987,
          4988,
          4989,
          4990,
          4991,
          4992,
          4993,
          4994,
          4995,
          4996,
          4997,
          4998,
          4999,
          5000,
          5001,
          5002,
          5003,
          5004,
          5005,
          5006,
          5007,
          5008,
          5009,
          5010,
          5011,
          5012,
          5013,
          5014,
          5015,
          5016,
          5017,
          5018,
          5019,
          5020,
          5021,
          5022,
          5023,
          5024,
          5025,
          5026,
          5027,
          5028,
          5029,
          5030,
          5031,
          5032,
          5033,
          5034,
          5035,
          5036,
          5037,
          5038,
          5039,
          5040,
          5041
         ],
         "y": [
          0,
          0,
          0,
          0,
          0,
          0,
          0,
          446.16,
          174.28,
          2516.64,
          153.37,
          146.4,
          0,
          0,
          55.77,
          118.51,
          418.28,
          0,
          1812.54,
          62.74,
          313.71,
          1045.69,
          0,
          0,
          20.91,
          48.8,
          313.71,
          118.51,
          0,
          0,
          0,
          0,
          446.16,
          97.6,
          153.37,
          6.97,
          6.97,
          69.71,
          320.68,
          780.78,
          0,
          2467.84,
          118.51,
          55.77,
          1847.39,
          0,
          0,
          0,
          90.63,
          0,
          0,
          0,
          418.28,
          20.91,
          48.8,
          13.94,
          139.43,
          90.63,
          0,
          118.51,
          1157.23,
          0,
          0,
          250.97,
          202.17,
          202.17,
          460.11,
          90.63,
          0,
          167.31,
          418.28,
          0,
          0,
          0,
          0,
          0,
          0,
          864.44,
          0,
          0,
          62.74,
          0,
          41.83,
          76.68,
          0,
          125.48,
          0,
          6.97,
          174.28,
          1080.55,
          306.74,
          529.82,
          6.97,
          467.08,
          0,
          0,
          0,
          0,
          0,
          244,
          2683.95,
          1003.87,
          1463.97,
          102.12,
          6.01,
          116.24,
          1463.97,
          0,
          160.34,
          104.57,
          6.97,
          55.77,
          738.96,
          6.97,
          6.97,
          620.44,
          411.31,
          453.13,
          1931.05,
          383.42,
          0,
          0,
          0,
          0,
          0,
          0,
          69.71,
          6.97,
          0,
          34.86,
          871.41,
          306.74,
          188.22,
          313.71,
          0,
          0,
          83.66,
          118.51,
          6.97,
          1024.78,
          0,
          1185.12,
          1589.45,
          0,
          0,
          306.74,
          0,
          0,
          0,
          153.37,
          0,
          0,
          202.17,
          4322.2,
          4294.53,
          174.51,
          725.01,
          453.13,
          6.97,
          404.33,
          390.39,
          6.97,
          453.13,
          1129.35,
          0,
          6.97,
          0,
          0,
          0
         ]
        },
        {
         "mode": "lines",
         "name": "Tank Unmet Heat",
         "type": "scatter",
         "x": [
          4873,
          4874,
          4875,
          4876,
          4877,
          4878,
          4879,
          4880,
          4881,
          4882,
          4883,
          4884,
          4885,
          4886,
          4887,
          4888,
          4889,
          4890,
          4891,
          4892,
          4893,
          4894,
          4895,
          4896,
          4897,
          4898,
          4899,
          4900,
          4901,
          4902,
          4903,
          4904,
          4905,
          4906,
          4907,
          4908,
          4909,
          4910,
          4911,
          4912,
          4913,
          4914,
          4915,
          4916,
          4917,
          4918,
          4919,
          4920,
          4921,
          4922,
          4923,
          4924,
          4925,
          4926,
          4927,
          4928,
          4929,
          4930,
          4931,
          4932,
          4933,
          4934,
          4935,
          4936,
          4937,
          4938,
          4939,
          4940,
          4941,
          4942,
          4943,
          4944,
          4945,
          4946,
          4947,
          4948,
          4949,
          4950,
          4951,
          4952,
          4953,
          4954,
          4955,
          4956,
          4957,
          4958,
          4959,
          4960,
          4961,
          4962,
          4963,
          4964,
          4965,
          4966,
          4967,
          4968,
          4969,
          4970,
          4971,
          4972,
          4973,
          4974,
          4975,
          4976,
          4977,
          4978,
          4979,
          4980,
          4981,
          4982,
          4983,
          4984,
          4985,
          4986,
          4987,
          4988,
          4989,
          4990,
          4991,
          4992,
          4993,
          4994,
          4995,
          4996,
          4997,
          4998,
          4999,
          5000,
          5001,
          5002,
          5003,
          5004,
          5005,
          5006,
          5007,
          5008,
          5009,
          5010,
          5011,
          5012,
          5013,
          5014,
          5015,
          5016,
          5017,
          5018,
          5019,
          5020,
          5021,
          5022,
          5023,
          5024,
          5025,
          5026,
          5027,
          5028,
          5029,
          5030,
          5031,
          5032,
          5033,
          5034,
          5035,
          5036,
          5037,
          5038,
          5039,
          5040,
          5041
         ],
         "y": [
          0,
          0,
          0,
          0,
          0,
          0,
          0,
          0,
          0,
          0,
          0,
          0,
          0,
          0,
          0,
          0,
          0,
          0,
          0,
          0,
          0,
          0,
          0,
          0,
          0,
          0,
          0,
          0,
          0,
          0,
          0,
          0,
          0,
          0,
          0,
          0,
          0,
          0,
          0,
          0,
          0,
          0,
          0,
          0,
          0,
          0,
          0,
          0,
          0,
          0,
          0,
          0,
          0,
          0,
          0,
          0,
          0,
          0,
          0,
          0,
          0,
          0,
          0,
          0,
          0,
          0,
          0,
          0,
          0,
          0,
          0,
          0,
          0,
          0,
          0,
          0,
          0,
          0,
          0,
          0,
          0,
          0,
          0,
          0,
          0,
          0,
          0,
          0,
          0,
          0,
          0,
          0,
          0,
          0,
          0,
          0,
          0,
          0,
          0,
          0,
          0,
          0,
          0,
          16.39,
          0.96,
          9.24,
          0,
          0,
          0,
          0,
          0,
          0,
          0,
          0,
          0,
          0,
          0,
          0,
          0,
          0,
          0,
          0,
          0,
          0,
          0,
          0,
          0,
          0,
          0,
          0,
          0,
          0,
          0,
          0,
          0,
          0,
          0,
          0,
          0,
          0,
          0,
          0,
          0,
          0,
          0,
          0,
          0,
          0,
          0,
          0,
          0,
          0,
          0,
          0,
          201.95,
          13.71,
          0,
          0,
          0,
          0,
          0,
          0,
          0,
          0,
          0,
          0,
          0,
          0,
          0
         ]
        },
        {
         "mode": "lines",
         "name": "Solar Heat Delivered To Tank",
         "type": "scatter",
         "x": [
          4873,
          4874,
          4875,
          4876,
          4877,
          4878,
          4879,
          4880,
          4881,
          4882,
          4883,
          4884,
          4885,
          4886,
          4887,
          4888,
          4889,
          4890,
          4891,
          4892,
          4893,
          4894,
          4895,
          4896,
          4897,
          4898,
          4899,
          4900,
          4901,
          4902,
          4903,
          4904,
          4905,
          4906,
          4907,
          4908,
          4909,
          4910,
          4911,
          4912,
          4913,
          4914,
          4915,
          4916,
          4917,
          4918,
          4919,
          4920,
          4921,
          4922,
          4923,
          4924,
          4925,
          4926,
          4927,
          4928,
          4929,
          4930,
          4931,
          4932,
          4933,
          4934,
          4935,
          4936,
          4937,
          4938,
          4939,
          4940,
          4941,
          4942,
          4943,
          4944,
          4945,
          4946,
          4947,
          4948,
          4949,
          4950,
          4951,
          4952,
          4953,
          4954,
          4955,
          4956,
          4957,
          4958,
          4959,
          4960,
          4961,
          4962,
          4963,
          4964,
          4965,
          4966,
          4967,
          4968,
          4969,
          4970,
          4971,
          4972,
          4973,
          4974,
          4975,
          4976,
          4977,
          4978,
          4979,
          4980,
          4981,
          4982,
          4983,
          4984,
          4985,
          4986,
          4987,
          4988,
          4989,
          4990,
          4991,
          4992,
          4993,
          4994,
          4995,
          4996,
          4997,
          4998,
          4999,
          5000,
          5001,
          5002,
          5003,
          5004,
          5005,
          5006,
          5007,
          5008,
          5009,
          5010,
          5011,
          5012,
          5013,
          5014,
          5015,
          5016,
          5017,
          5018,
          5019,
          5020,
          5021,
          5022,
          5023,
          5024,
          5025,
          5026,
          5027,
          5028,
          5029,
          5030,
          5031,
          5032,
          5033,
          5034,
          5035,
          5036,
          5037,
          5038,
          5039,
          5040,
          5041
         ],
         "y": [
          0,
          0,
          0,
          0,
          0,
          0,
          0,
          468.40324223852286,
          871.1067494722879,
          540.0403951729006,
          0,
          3296.7465901201017,
          2796.6523381743127,
          2462.5325596783114,
          2050.177209364725,
          1438.5109503702442,
          771.3533774337301,
          74.59563032157168,
          0,
          0,
          0,
          0,
          0,
          0,
          0,
          0,
          0,
          0,
          0,
          0,
          45.8812460468832,
          307.3705380589197,
          1053.3631808180228,
          1104.877704202,
          0,
          3654.209628916287,
          2881.545463397006,
          2502.31645423548,
          2023.4337659071355,
          1430.5124932538456,
          759.7245161045438,
          77.00439897961706,
          0,
          0,
          0,
          0,
          0,
          0,
          0,
          0,
          0,
          0,
          0,
          0,
          0,
          444.46986494474004,
          1125.925741576152,
          1190.3150479916771,
          0,
          3780.6462452292353,
          2898.694771418669,
          2485.2985147106215,
          2015.4104847595,
          1346.6890585499218,
          459.2951354717355,
          0,
          0,
          0,
          0,
          0,
          0,
          0,
          0,
          0,
          0,
          0,
          0,
          0,
          0,
          356.9968210504637,
          856.8974214677833,
          769.529795520419,
          0,
          1929.5564065459414,
          2259.0718303915824,
          2020.768315677475,
          1742.349011030756,
          946.4643287104033,
          575.1532211329751,
          0,
          0,
          0,
          0,
          0,
          0,
          0,
          0,
          0,
          0,
          0,
          0,
          0,
          45.940031198736655,
          257.23447902372584,
          784.72998496216,
          1222.497339982274,
          0,
          3711.568760029036,
          2938.974236614727,
          2421.9136342070087,
          1907.655958222569,
          1363.3503278662997,
          665.6674379580393,
          0,
          0,
          0,
          0,
          0,
          0,
          0,
          0,
          0,
          0,
          0,
          0,
          0,
          29.371529353474717,
          190.29080776375164,
          1054.6987616437377,
          974.6525920508317,
          0,
          3285.7088361830456,
          2769.407959955122,
          2401.542786014477,
          1836.0022127725254,
          1349.4689903405142,
          671.212689254495,
          0,
          0,
          0,
          0,
          0,
          0,
          0,
          0,
          0,
          0,
          0,
          0,
          0,
          50.65250501267151,
          585.2820308303865,
          975.2996668419527,
          785.7893534827747,
          4047.364223589537,
          2982.2497158338624,
          2595.626260185226,
          1985.9012384719472,
          1322.701384458149,
          1138.034035409711,
          549.7931776539896,
          0,
          0,
          0,
          0,
          0,
          0,
          0,
          0
         ]
        },
        {
         "mode": "lines",
         "name": "Distribution Heat Loss",
         "type": "scatter",
         "x": [
          4873,
          4874,
          4875,
          4876,
          4877,
          4878,
          4879,
          4880,
          4881,
          4882,
          4883,
          4884,
          4885,
          4886,
          4887,
          4888,
          4889,
          4890,
          4891,
          4892,
          4893,
          4894,
          4895,
          4896,
          4897,
          4898,
          4899,
          4900,
          4901,
          4902,
          4903,
          4904,
          4905,
          4906,
          4907,
          4908,
          4909,
          4910,
          4911,
          4912,
          4913,
          4914,
          4915,
          4916,
          4917,
          4918,
          4919,
          4920,
          4921,
          4922,
          4923,
          4924,
          4925,
          4926,
          4927,
          4928,
          4929,
          4930,
          4931,
          4932,
          4933,
          4934,
          4935,
          4936,
          4937,
          4938,
          4939,
          4940,
          4941,
          4942,
          4943,
          4944,
          4945,
          4946,
          4947,
          4948,
          4949,
          4950,
          4951,
          4952,
          4953,
          4954,
          4955,
          4956,
          4957,
          4958,
          4959,
          4960,
          4961,
          4962,
          4963,
          4964,
          4965,
          4966,
          4967,
          4968,
          4969,
          4970,
          4971,
          4972,
          4973,
          4974,
          4975,
          4976,
          4977,
          4978,
          4979,
          4980,
          4981,
          4982,
          4983,
          4984,
          4985,
          4986,
          4987,
          4988,
          4989,
          4990,
          4991,
          4992,
          4993,
          4994,
          4995,
          4996,
          4997,
          4998,
          4999,
          5000,
          5001,
          5002,
          5003,
          5004,
          5005,
          5006,
          5007,
          5008,
          5009,
          5010,
          5011,
          5012,
          5013,
          5014,
          5015,
          5016,
          5017,
          5018,
          5019,
          5020,
          5021,
          5022,
          5023,
          5024,
          5025,
          5026,
          5027,
          5028,
          5029,
          5030,
          5031,
          5032,
          5033,
          5034,
          5035,
          5036,
          5037,
          5038,
          5039,
          5040,
          5041
         ],
         "y": [
          0,
          0,
          0,
          0,
          0,
          0,
          0,
          0,
          0,
          0,
          0,
          0,
          0,
          0,
          0,
          0,
          0,
          0,
          0,
          0,
          0,
          0,
          0,
          0,
          0,
          0,
          0,
          0,
          0,
          0,
          0,
          0,
          0,
          0,
          0,
          0,
          0,
          0,
          0,
          0,
          0,
          0,
          0,
          0,
          0,
          0,
          0,
          0,
          0,
          0,
          0,
          0,
          0,
          0,
          0,
          0,
          0,
          0,
          0,
          0,
          0,
          0,
          0,
          0,
          0,
          0,
          0,
          0,
          0,
          0,
          0,
          0,
          0,
          0,
          0,
          0,
          0,
          0,
          0,
          0,
          0,
          0,
          0,
          0,
          0,
          0,
          0,
          0,
          0,
          0,
          0,
          0,
          0,
          0,
          0,
          0,
          0,
          0,
          0,
          0,
          0,
          0,
          0,
          0,
          0,
          0,
          0,
          0,
          0,
          0,
          0,
          0,
          0,
          0,
          0,
          0,
          0,
          0,
          0,
          0,
          0,
          0,
          0,
          0,
          0,
          0,
          0,
          0,
          0,
          0,
          0,
          0,
          0,
          0,
          0,
          0,
          0,
          0,
          0,
          0,
          0,
          0,
          0,
          0,
          0,
          0,
          0,
          0,
          0,
          0,
          0,
          0,
          0,
          0,
          0,
          0,
          0,
          0,
          0,
          0,
          0,
          0,
          0,
          0,
          0,
          0,
          0,
          0,
          0
         ]
        }
       ],
       "layout": {
        "font": {
         "family": "arial",
         "size": 16
        },
        "height": 450,
        "legend": {
         "font": {
          "family": "arial",
          "size": 12.8
         },
         "x": 0.05,
         "y": 1.4
        },
        "margin": {
         "b": 60,
         "l": 60
        },
        "showlegend": true,
        "template": {
         "data": {
          "bar": [
           {
            "error_x": {
             "color": "#2a3f5f"
            },
            "error_y": {
             "color": "#2a3f5f"
            },
            "marker": {
             "line": {
              "color": "#E5ECF6",
              "width": 0.5
             }
            },
            "type": "bar"
           }
          ],
          "barpolar": [
           {
            "marker": {
             "line": {
              "color": "#E5ECF6",
              "width": 0.5
             }
            },
            "type": "barpolar"
           }
          ],
          "carpet": [
           {
            "aaxis": {
             "endlinecolor": "#2a3f5f",
             "gridcolor": "white",
             "linecolor": "white",
             "minorgridcolor": "white",
             "startlinecolor": "#2a3f5f"
            },
            "baxis": {
             "endlinecolor": "#2a3f5f",
             "gridcolor": "white",
             "linecolor": "white",
             "minorgridcolor": "white",
             "startlinecolor": "#2a3f5f"
            },
            "type": "carpet"
           }
          ],
          "choropleth": [
           {
            "colorbar": {
             "outlinewidth": 0,
             "ticks": ""
            },
            "type": "choropleth"
           }
          ],
          "contour": [
           {
            "colorbar": {
             "outlinewidth": 0,
             "ticks": ""
            },
            "colorscale": [
             [
              0,
              "#0d0887"
             ],
             [
              0.1111111111111111,
              "#46039f"
             ],
             [
              0.2222222222222222,
              "#7201a8"
             ],
             [
              0.3333333333333333,
              "#9c179e"
             ],
             [
              0.4444444444444444,
              "#bd3786"
             ],
             [
              0.5555555555555556,
              "#d8576b"
             ],
             [
              0.6666666666666666,
              "#ed7953"
             ],
             [
              0.7777777777777778,
              "#fb9f3a"
             ],
             [
              0.8888888888888888,
              "#fdca26"
             ],
             [
              1,
              "#f0f921"
             ]
            ],
            "type": "contour"
           }
          ],
          "contourcarpet": [
           {
            "colorbar": {
             "outlinewidth": 0,
             "ticks": ""
            },
            "type": "contourcarpet"
           }
          ],
          "heatmap": [
           {
            "colorbar": {
             "outlinewidth": 0,
             "ticks": ""
            },
            "colorscale": [
             [
              0,
              "#0d0887"
             ],
             [
              0.1111111111111111,
              "#46039f"
             ],
             [
              0.2222222222222222,
              "#7201a8"
             ],
             [
              0.3333333333333333,
              "#9c179e"
             ],
             [
              0.4444444444444444,
              "#bd3786"
             ],
             [
              0.5555555555555556,
              "#d8576b"
             ],
             [
              0.6666666666666666,
              "#ed7953"
             ],
             [
              0.7777777777777778,
              "#fb9f3a"
             ],
             [
              0.8888888888888888,
              "#fdca26"
             ],
             [
              1,
              "#f0f921"
             ]
            ],
            "type": "heatmap"
           }
          ],
          "heatmapgl": [
           {
            "colorbar": {
             "outlinewidth": 0,
             "ticks": ""
            },
            "colorscale": [
             [
              0,
              "#0d0887"
             ],
             [
              0.1111111111111111,
              "#46039f"
             ],
             [
              0.2222222222222222,
              "#7201a8"
             ],
             [
              0.3333333333333333,
              "#9c179e"
             ],
             [
              0.4444444444444444,
              "#bd3786"
             ],
             [
              0.5555555555555556,
              "#d8576b"
             ],
             [
              0.6666666666666666,
              "#ed7953"
             ],
             [
              0.7777777777777778,
              "#fb9f3a"
             ],
             [
              0.8888888888888888,
              "#fdca26"
             ],
             [
              1,
              "#f0f921"
             ]
            ],
            "type": "heatmapgl"
           }
          ],
          "histogram": [
           {
            "marker": {
             "colorbar": {
              "outlinewidth": 0,
              "ticks": ""
             }
            },
            "type": "histogram"
           }
          ],
          "histogram2d": [
           {
            "colorbar": {
             "outlinewidth": 0,
             "ticks": ""
            },
            "colorscale": [
             [
              0,
              "#0d0887"
             ],
             [
              0.1111111111111111,
              "#46039f"
             ],
             [
              0.2222222222222222,
              "#7201a8"
             ],
             [
              0.3333333333333333,
              "#9c179e"
             ],
             [
              0.4444444444444444,
              "#bd3786"
             ],
             [
              0.5555555555555556,
              "#d8576b"
             ],
             [
              0.6666666666666666,
              "#ed7953"
             ],
             [
              0.7777777777777778,
              "#fb9f3a"
             ],
             [
              0.8888888888888888,
              "#fdca26"
             ],
             [
              1,
              "#f0f921"
             ]
            ],
            "type": "histogram2d"
           }
          ],
          "histogram2dcontour": [
           {
            "colorbar": {
             "outlinewidth": 0,
             "ticks": ""
            },
            "colorscale": [
             [
              0,
              "#0d0887"
             ],
             [
              0.1111111111111111,
              "#46039f"
             ],
             [
              0.2222222222222222,
              "#7201a8"
             ],
             [
              0.3333333333333333,
              "#9c179e"
             ],
             [
              0.4444444444444444,
              "#bd3786"
             ],
             [
              0.5555555555555556,
              "#d8576b"
             ],
             [
              0.6666666666666666,
              "#ed7953"
             ],
             [
              0.7777777777777778,
              "#fb9f3a"
             ],
             [
              0.8888888888888888,
              "#fdca26"
             ],
             [
              1,
              "#f0f921"
             ]
            ],
            "type": "histogram2dcontour"
           }
          ],
          "mesh3d": [
           {
            "colorbar": {
             "outlinewidth": 0,
             "ticks": ""
            },
            "type": "mesh3d"
           }
          ],
          "parcoords": [
           {
            "line": {
             "colorbar": {
              "outlinewidth": 0,
              "ticks": ""
             }
            },
            "type": "parcoords"
           }
          ],
          "pie": [
           {
            "automargin": true,
            "type": "pie"
           }
          ],
          "scatter": [
           {
            "marker": {
             "colorbar": {
              "outlinewidth": 0,
              "ticks": ""
             }
            },
            "type": "scatter"
           }
          ],
          "scatter3d": [
           {
            "line": {
             "colorbar": {
              "outlinewidth": 0,
              "ticks": ""
             }
            },
            "marker": {
             "colorbar": {
              "outlinewidth": 0,
              "ticks": ""
             }
            },
            "type": "scatter3d"
           }
          ],
          "scattercarpet": [
           {
            "marker": {
             "colorbar": {
              "outlinewidth": 0,
              "ticks": ""
             }
            },
            "type": "scattercarpet"
           }
          ],
          "scattergeo": [
           {
            "marker": {
             "colorbar": {
              "outlinewidth": 0,
              "ticks": ""
             }
            },
            "type": "scattergeo"
           }
          ],
          "scattergl": [
           {
            "marker": {
             "colorbar": {
              "outlinewidth": 0,
              "ticks": ""
             }
            },
            "type": "scattergl"
           }
          ],
          "scattermapbox": [
           {
            "marker": {
             "colorbar": {
              "outlinewidth": 0,
              "ticks": ""
             }
            },
            "type": "scattermapbox"
           }
          ],
          "scatterpolar": [
           {
            "marker": {
             "colorbar": {
              "outlinewidth": 0,
              "ticks": ""
             }
            },
            "type": "scatterpolar"
           }
          ],
          "scatterpolargl": [
           {
            "marker": {
             "colorbar": {
              "outlinewidth": 0,
              "ticks": ""
             }
            },
            "type": "scatterpolargl"
           }
          ],
          "scatterternary": [
           {
            "marker": {
             "colorbar": {
              "outlinewidth": 0,
              "ticks": ""
             }
            },
            "type": "scatterternary"
           }
          ],
          "surface": [
           {
            "colorbar": {
             "outlinewidth": 0,
             "ticks": ""
            },
            "colorscale": [
             [
              0,
              "#0d0887"
             ],
             [
              0.1111111111111111,
              "#46039f"
             ],
             [
              0.2222222222222222,
              "#7201a8"
             ],
             [
              0.3333333333333333,
              "#9c179e"
             ],
             [
              0.4444444444444444,
              "#bd3786"
             ],
             [
              0.5555555555555556,
              "#d8576b"
             ],
             [
              0.6666666666666666,
              "#ed7953"
             ],
             [
              0.7777777777777778,
              "#fb9f3a"
             ],
             [
              0.8888888888888888,
              "#fdca26"
             ],
             [
              1,
              "#f0f921"
             ]
            ],
            "type": "surface"
           }
          ],
          "table": [
           {
            "cells": {
             "fill": {
              "color": "#EBF0F8"
             },
             "line": {
              "color": "white"
             }
            },
            "header": {
             "fill": {
              "color": "#C8D4E3"
             },
             "line": {
              "color": "white"
             }
            },
            "type": "table"
           }
          ]
         },
         "layout": {
          "annotationdefaults": {
           "arrowcolor": "#2a3f5f",
           "arrowhead": 0,
           "arrowwidth": 1
          },
          "coloraxis": {
           "colorbar": {
            "outlinewidth": 0,
            "ticks": ""
           }
          },
          "colorscale": {
           "diverging": [
            [
             0,
             "#8e0152"
            ],
            [
             0.1,
             "#c51b7d"
            ],
            [
             0.2,
             "#de77ae"
            ],
            [
             0.3,
             "#f1b6da"
            ],
            [
             0.4,
             "#fde0ef"
            ],
            [
             0.5,
             "#f7f7f7"
            ],
            [
             0.6,
             "#e6f5d0"
            ],
            [
             0.7,
             "#b8e186"
            ],
            [
             0.8,
             "#7fbc41"
            ],
            [
             0.9,
             "#4d9221"
            ],
            [
             1,
             "#276419"
            ]
           ],
           "sequential": [
            [
             0,
             "#0d0887"
            ],
            [
             0.1111111111111111,
             "#46039f"
            ],
            [
             0.2222222222222222,
             "#7201a8"
            ],
            [
             0.3333333333333333,
             "#9c179e"
            ],
            [
             0.4444444444444444,
             "#bd3786"
            ],
            [
             0.5555555555555556,
             "#d8576b"
            ],
            [
             0.6666666666666666,
             "#ed7953"
            ],
            [
             0.7777777777777778,
             "#fb9f3a"
            ],
            [
             0.8888888888888888,
             "#fdca26"
            ],
            [
             1,
             "#f0f921"
            ]
           ],
           "sequentialminus": [
            [
             0,
             "#0d0887"
            ],
            [
             0.1111111111111111,
             "#46039f"
            ],
            [
             0.2222222222222222,
             "#7201a8"
            ],
            [
             0.3333333333333333,
             "#9c179e"
            ],
            [
             0.4444444444444444,
             "#bd3786"
            ],
            [
             0.5555555555555556,
             "#d8576b"
            ],
            [
             0.6666666666666666,
             "#ed7953"
            ],
            [
             0.7777777777777778,
             "#fb9f3a"
            ],
            [
             0.8888888888888888,
             "#fdca26"
            ],
            [
             1,
             "#f0f921"
            ]
           ]
          },
          "colorway": [
           "#636efa",
           "#EF553B",
           "#00cc96",
           "#ab63fa",
           "#FFA15A",
           "#19d3f3",
           "#FF6692",
           "#B6E880",
           "#FF97FF",
           "#FECB52"
          ],
          "font": {
           "color": "#2a3f5f"
          },
          "geo": {
           "bgcolor": "white",
           "lakecolor": "white",
           "landcolor": "#E5ECF6",
           "showlakes": true,
           "showland": true,
           "subunitcolor": "white"
          },
          "hoverlabel": {
           "align": "left"
          },
          "hovermode": "closest",
          "mapbox": {
           "style": "light"
          },
          "paper_bgcolor": "white",
          "plot_bgcolor": "#E5ECF6",
          "polar": {
           "angularaxis": {
            "gridcolor": "white",
            "linecolor": "white",
            "ticks": ""
           },
           "bgcolor": "#E5ECF6",
           "radialaxis": {
            "gridcolor": "white",
            "linecolor": "white",
            "ticks": ""
           }
          },
          "scene": {
           "xaxis": {
            "backgroundcolor": "#E5ECF6",
            "gridcolor": "white",
            "gridwidth": 2,
            "linecolor": "white",
            "showbackground": true,
            "ticks": "",
            "zerolinecolor": "white"
           },
           "yaxis": {
            "backgroundcolor": "#E5ECF6",
            "gridcolor": "white",
            "gridwidth": 2,
            "linecolor": "white",
            "showbackground": true,
            "ticks": "",
            "zerolinecolor": "white"
           },
           "zaxis": {
            "backgroundcolor": "#E5ECF6",
            "gridcolor": "white",
            "gridwidth": 2,
            "linecolor": "white",
            "showbackground": true,
            "ticks": "",
            "zerolinecolor": "white"
           }
          },
          "shapedefaults": {
           "line": {
            "color": "#2a3f5f"
           }
          },
          "ternary": {
           "aaxis": {
            "gridcolor": "white",
            "linecolor": "white",
            "ticks": ""
           },
           "baxis": {
            "gridcolor": "white",
            "linecolor": "white",
            "ticks": ""
           },
           "bgcolor": "#E5ECF6",
           "caxis": {
            "gridcolor": "white",
            "linecolor": "white",
            "ticks": ""
           }
          },
          "title": {
           "x": 0.05
          },
          "xaxis": {
           "automargin": true,
           "gridcolor": "white",
           "linecolor": "white",
           "ticks": "",
           "title": {
            "standoff": 15
           },
           "zerolinecolor": "white",
           "zerolinewidth": 2
          },
          "yaxis": {
           "automargin": true,
           "gridcolor": "white",
           "linecolor": "white",
           "ticks": "",
           "title": {
            "standoff": 15
           },
           "zerolinecolor": "white",
           "zerolinewidth": 2
          }
         }
        },
        "title": {
         "font": {
          "family": "arial",
          "size": 16
         },
         "text": ""
        },
        "width": 650,
        "xaxis": {
         "tickfont": {
          "size": 12.8
         },
         "title": {
          "font": {
           "color": "#7f7f7f",
           "size": 16
          },
          "text": "Hour [h]"
         }
        },
        "yaxis": {
         "tickfont": {
          "size": 9.6
         },
         "title": {
          "font": {
           "color": "#7f7f7f",
           "size": 16
          },
          "text": "Heat rate [W]"
         }
        }
       }
      },
      "text/html": [
       "<div>\n",
       "        \n",
       "        \n",
       "            <div id=\"863881cf-3848-4182-902f-b0c34ed43314\" class=\"plotly-graph-div\" style=\"height:450px; width:650px;\"></div>\n",
       "            <script type=\"text/javascript\">\n",
       "                require([\"plotly\"], function(Plotly) {\n",
       "                    window.PLOTLYENV=window.PLOTLYENV || {};\n",
       "                    \n",
       "                if (document.getElementById(\"863881cf-3848-4182-902f-b0c34ed43314\")) {\n",
       "                    Plotly.newPlot(\n",
       "                        '863881cf-3848-4182-902f-b0c34ed43314',\n",
       "                        [{\"mode\": \"lines\", \"name\": \"Net Heat Demand\", \"type\": \"scatter\", \"x\": [4873, 4874, 4875, 4876, 4877, 4878, 4879, 4880, 4881, 4882, 4883, 4884, 4885, 4886, 4887, 4888, 4889, 4890, 4891, 4892, 4893, 4894, 4895, 4896, 4897, 4898, 4899, 4900, 4901, 4902, 4903, 4904, 4905, 4906, 4907, 4908, 4909, 4910, 4911, 4912, 4913, 4914, 4915, 4916, 4917, 4918, 4919, 4920, 4921, 4922, 4923, 4924, 4925, 4926, 4927, 4928, 4929, 4930, 4931, 4932, 4933, 4934, 4935, 4936, 4937, 4938, 4939, 4940, 4941, 4942, 4943, 4944, 4945, 4946, 4947, 4948, 4949, 4950, 4951, 4952, 4953, 4954, 4955, 4956, 4957, 4958, 4959, 4960, 4961, 4962, 4963, 4964, 4965, 4966, 4967, 4968, 4969, 4970, 4971, 4972, 4973, 4974, 4975, 4976, 4977, 4978, 4979, 4980, 4981, 4982, 4983, 4984, 4985, 4986, 4987, 4988, 4989, 4990, 4991, 4992, 4993, 4994, 4995, 4996, 4997, 4998, 4999, 5000, 5001, 5002, 5003, 5004, 5005, 5006, 5007, 5008, 5009, 5010, 5011, 5012, 5013, 5014, 5015, 5016, 5017, 5018, 5019, 5020, 5021, 5022, 5023, 5024, 5025, 5026, 5027, 5028, 5029, 5030, 5031, 5032, 5033, 5034, 5035, 5036, 5037, 5038, 5039, 5040, 5041], \"y\": [0.0, 0.0, 0.0, 0.0, 0.0, 0.0, 0.0, 446.16, 174.28, 2516.64, 153.37, 146.4, 0.0, 0.0, 55.77, 118.51, 418.28, 0.0, 1812.54, 62.74, 313.71, 1045.69, 0.0, 0.0, 20.91, 48.8, 313.71, 118.51, 0.0, 0.0, 0.0, 0.0, 446.16, 97.6, 153.37, 6.97, 6.97, 69.71, 320.68, 780.78, 0.0, 2467.84, 118.51, 55.77, 1847.39, 0.0, 0.0, 0.0, 90.63, 0.0, 0.0, 0.0, 418.28, 20.91, 48.8, 13.94, 139.43, 90.63, 0.0, 118.51, 1157.23, 0.0, 0.0, 250.97, 202.17, 202.17, 460.11, 90.63, 0.0, 167.31, 418.28, 0.0, 0.0, 0.0, 0.0, 0.0, 0.0, 864.44, 0.0, 0.0, 62.74, 0.0, 41.83, 76.68, 0.0, 125.48, 0.0, 6.97, 174.28, 1080.55, 306.74, 529.82, 6.97, 467.08, 0.0, 0.0, 0.0, 0.0, 0.0, 244.0, 2683.95, 1003.87, 1463.97, 118.51, 6.97, 125.48, 1463.97, 0.0, 160.34, 104.57, 6.97, 55.77, 738.96, 6.97, 6.97, 620.44, 411.31, 453.13, 1931.05, 383.42, 0.0, 0.0, 0.0, 0.0, 0.0, 0.0, 69.71, 6.97, 0.0, 34.86, 871.41, 306.74, 188.22, 313.71, 0.0, 0.0, 83.66, 118.51, 6.97, 1024.78, 0.0, 1185.12, 1589.45, 0.0, 0.0, 306.74, 0.0, 0.0, 0.0, 153.37, 0.0, 0.0, 202.17, 4322.2, 4496.48, 188.22, 725.01, 453.13, 6.97, 404.33, 390.39, 6.97, 453.13, 1129.35, 0.0, 6.97, 0.0, 0.0, 0.0]}, {\"mode\": \"lines\", \"name\": \"Tank Heat Delivered\", \"type\": \"scatter\", \"x\": [4873, 4874, 4875, 4876, 4877, 4878, 4879, 4880, 4881, 4882, 4883, 4884, 4885, 4886, 4887, 4888, 4889, 4890, 4891, 4892, 4893, 4894, 4895, 4896, 4897, 4898, 4899, 4900, 4901, 4902, 4903, 4904, 4905, 4906, 4907, 4908, 4909, 4910, 4911, 4912, 4913, 4914, 4915, 4916, 4917, 4918, 4919, 4920, 4921, 4922, 4923, 4924, 4925, 4926, 4927, 4928, 4929, 4930, 4931, 4932, 4933, 4934, 4935, 4936, 4937, 4938, 4939, 4940, 4941, 4942, 4943, 4944, 4945, 4946, 4947, 4948, 4949, 4950, 4951, 4952, 4953, 4954, 4955, 4956, 4957, 4958, 4959, 4960, 4961, 4962, 4963, 4964, 4965, 4966, 4967, 4968, 4969, 4970, 4971, 4972, 4973, 4974, 4975, 4976, 4977, 4978, 4979, 4980, 4981, 4982, 4983, 4984, 4985, 4986, 4987, 4988, 4989, 4990, 4991, 4992, 4993, 4994, 4995, 4996, 4997, 4998, 4999, 5000, 5001, 5002, 5003, 5004, 5005, 5006, 5007, 5008, 5009, 5010, 5011, 5012, 5013, 5014, 5015, 5016, 5017, 5018, 5019, 5020, 5021, 5022, 5023, 5024, 5025, 5026, 5027, 5028, 5029, 5030, 5031, 5032, 5033, 5034, 5035, 5036, 5037, 5038, 5039, 5040, 5041], \"y\": [0.0, 0.0, 0.0, 0.0, 0.0, 0.0, 0.0, 446.16, 174.28, 2516.64, 153.37, 146.4, 0.0, 0.0, 55.77, 118.51, 418.28, 0.0, 1812.54, 62.74, 313.71, 1045.69, 0.0, 0.0, 20.91, 48.8, 313.71, 118.51, 0.0, 0.0, 0.0, 0.0, 446.16, 97.6, 153.37, 6.97, 6.97, 69.71, 320.68, 780.78, 0.0, 2467.84, 118.51, 55.77, 1847.39, 0.0, 0.0, 0.0, 90.63, 0.0, 0.0, 0.0, 418.28, 20.91, 48.8, 13.94, 139.43, 90.63, 0.0, 118.51, 1157.23, 0.0, 0.0, 250.97, 202.17, 202.17, 460.11, 90.63, 0.0, 167.31, 418.28, 0.0, 0.0, 0.0, 0.0, 0.0, 0.0, 864.44, 0.0, 0.0, 62.74, 0.0, 41.83, 76.68, 0.0, 125.48, 0.0, 6.97, 174.28, 1080.55, 306.74, 529.82, 6.97, 467.08, 0.0, 0.0, 0.0, 0.0, 0.0, 244.0, 2683.95, 1003.87, 1463.97, 102.12, 6.01, 116.24, 1463.97, 0.0, 160.34, 104.57, 6.97, 55.77, 738.96, 6.97, 6.97, 620.44, 411.31, 453.13, 1931.05, 383.42, 0.0, 0.0, 0.0, 0.0, 0.0, 0.0, 69.71, 6.97, 0.0, 34.86, 871.41, 306.74, 188.22, 313.71, 0.0, 0.0, 83.66, 118.51, 6.97, 1024.78, 0.0, 1185.12, 1589.45, 0.0, 0.0, 306.74, 0.0, 0.0, 0.0, 153.37, 0.0, 0.0, 202.17, 4322.2, 4294.53, 174.51, 725.01, 453.13, 6.97, 404.33, 390.39, 6.97, 453.13, 1129.35, 0.0, 6.97, 0.0, 0.0, 0.0]}, {\"mode\": \"lines\", \"name\": \"Tank Unmet Heat\", \"type\": \"scatter\", \"x\": [4873, 4874, 4875, 4876, 4877, 4878, 4879, 4880, 4881, 4882, 4883, 4884, 4885, 4886, 4887, 4888, 4889, 4890, 4891, 4892, 4893, 4894, 4895, 4896, 4897, 4898, 4899, 4900, 4901, 4902, 4903, 4904, 4905, 4906, 4907, 4908, 4909, 4910, 4911, 4912, 4913, 4914, 4915, 4916, 4917, 4918, 4919, 4920, 4921, 4922, 4923, 4924, 4925, 4926, 4927, 4928, 4929, 4930, 4931, 4932, 4933, 4934, 4935, 4936, 4937, 4938, 4939, 4940, 4941, 4942, 4943, 4944, 4945, 4946, 4947, 4948, 4949, 4950, 4951, 4952, 4953, 4954, 4955, 4956, 4957, 4958, 4959, 4960, 4961, 4962, 4963, 4964, 4965, 4966, 4967, 4968, 4969, 4970, 4971, 4972, 4973, 4974, 4975, 4976, 4977, 4978, 4979, 4980, 4981, 4982, 4983, 4984, 4985, 4986, 4987, 4988, 4989, 4990, 4991, 4992, 4993, 4994, 4995, 4996, 4997, 4998, 4999, 5000, 5001, 5002, 5003, 5004, 5005, 5006, 5007, 5008, 5009, 5010, 5011, 5012, 5013, 5014, 5015, 5016, 5017, 5018, 5019, 5020, 5021, 5022, 5023, 5024, 5025, 5026, 5027, 5028, 5029, 5030, 5031, 5032, 5033, 5034, 5035, 5036, 5037, 5038, 5039, 5040, 5041], \"y\": [0.0, 0.0, 0.0, 0.0, 0.0, 0.0, 0.0, 0.0, 0.0, 0.0, 0.0, 0.0, 0.0, 0.0, 0.0, 0.0, 0.0, 0.0, 0.0, 0.0, 0.0, 0.0, 0.0, 0.0, 0.0, 0.0, 0.0, 0.0, 0.0, 0.0, 0.0, 0.0, 0.0, 0.0, 0.0, 0.0, 0.0, 0.0, 0.0, 0.0, 0.0, 0.0, 0.0, 0.0, 0.0, 0.0, 0.0, 0.0, 0.0, 0.0, 0.0, 0.0, 0.0, 0.0, 0.0, 0.0, 0.0, 0.0, 0.0, 0.0, 0.0, 0.0, 0.0, 0.0, 0.0, 0.0, 0.0, 0.0, 0.0, 0.0, 0.0, 0.0, 0.0, 0.0, 0.0, 0.0, 0.0, 0.0, 0.0, 0.0, 0.0, 0.0, 0.0, 0.0, 0.0, 0.0, 0.0, 0.0, 0.0, 0.0, 0.0, 0.0, 0.0, 0.0, 0.0, 0.0, 0.0, 0.0, 0.0, 0.0, 0.0, 0.0, 0.0, 16.39, 0.96, 9.24, 0.0, 0.0, 0.0, 0.0, 0.0, 0.0, 0.0, 0.0, 0.0, 0.0, 0.0, 0.0, 0.0, 0.0, 0.0, 0.0, 0.0, 0.0, 0.0, 0.0, 0.0, 0.0, 0.0, 0.0, 0.0, 0.0, 0.0, 0.0, 0.0, 0.0, 0.0, 0.0, 0.0, 0.0, 0.0, 0.0, 0.0, 0.0, 0.0, 0.0, 0.0, 0.0, 0.0, 0.0, 0.0, 0.0, 0.0, 0.0, 201.95, 13.71, 0.0, 0.0, 0.0, 0.0, 0.0, 0.0, 0.0, 0.0, 0.0, 0.0, 0.0, 0.0, 0.0]}, {\"mode\": \"lines\", \"name\": \"Solar Heat Delivered To Tank\", \"type\": \"scatter\", \"x\": [4873, 4874, 4875, 4876, 4877, 4878, 4879, 4880, 4881, 4882, 4883, 4884, 4885, 4886, 4887, 4888, 4889, 4890, 4891, 4892, 4893, 4894, 4895, 4896, 4897, 4898, 4899, 4900, 4901, 4902, 4903, 4904, 4905, 4906, 4907, 4908, 4909, 4910, 4911, 4912, 4913, 4914, 4915, 4916, 4917, 4918, 4919, 4920, 4921, 4922, 4923, 4924, 4925, 4926, 4927, 4928, 4929, 4930, 4931, 4932, 4933, 4934, 4935, 4936, 4937, 4938, 4939, 4940, 4941, 4942, 4943, 4944, 4945, 4946, 4947, 4948, 4949, 4950, 4951, 4952, 4953, 4954, 4955, 4956, 4957, 4958, 4959, 4960, 4961, 4962, 4963, 4964, 4965, 4966, 4967, 4968, 4969, 4970, 4971, 4972, 4973, 4974, 4975, 4976, 4977, 4978, 4979, 4980, 4981, 4982, 4983, 4984, 4985, 4986, 4987, 4988, 4989, 4990, 4991, 4992, 4993, 4994, 4995, 4996, 4997, 4998, 4999, 5000, 5001, 5002, 5003, 5004, 5005, 5006, 5007, 5008, 5009, 5010, 5011, 5012, 5013, 5014, 5015, 5016, 5017, 5018, 5019, 5020, 5021, 5022, 5023, 5024, 5025, 5026, 5027, 5028, 5029, 5030, 5031, 5032, 5033, 5034, 5035, 5036, 5037, 5038, 5039, 5040, 5041], \"y\": [0.0, 0.0, 0.0, 0.0, 0.0, -0.0, -0.0, 468.40324223852286, 871.1067494722879, 540.0403951729006, 0.0, 3296.7465901201017, 2796.6523381743127, 2462.5325596783114, 2050.177209364725, 1438.5109503702442, 771.3533774337301, 74.59563032157168, -0.0, 0.0, 0.0, 0.0, 0.0, 0.0, 0.0, 0.0, 0.0, 0.0, 0.0, -0.0, 45.8812460468832, 307.3705380589197, 1053.3631808180228, 1104.877704202, 0.0, 3654.209628916287, 2881.545463397006, 2502.31645423548, 2023.4337659071355, 1430.5124932538456, 759.7245161045438, 77.00439897961706, -0.0, 0.0, 0.0, 0.0, 0.0, 0.0, 0.0, 0.0, 0.0, 0.0, 0.0, -0.0, -0.0, 444.46986494474004, 1125.925741576152, 1190.3150479916771, 0.0, 3780.6462452292353, 2898.694771418669, 2485.2985147106215, 2015.4104847595, 1346.6890585499218, 459.2951354717355, -0.0, -0.0, 0.0, 0.0, 0.0, 0.0, 0.0, 0.0, 0.0, 0.0, 0.0, 0.0, -0.0, -0.0, 356.9968210504637, 856.8974214677833, 769.529795520419, 0.0, 1929.5564065459414, 2259.0718303915824, 2020.768315677475, 1742.349011030756, 946.4643287104033, 575.1532211329751, -0.0, -0.0, 0.0, 0.0, 0.0, 0.0, 0.0, 0.0, 0.0, 0.0, 0.0, 0.0, -0.0, 45.940031198736655, 257.23447902372584, 784.72998496216, 1222.497339982274, 0.0, 3711.568760029036, 2938.974236614727, 2421.9136342070087, 1907.655958222569, 1363.3503278662997, 665.6674379580393, -0.0, -0.0, 0.0, 0.0, 0.0, 0.0, 0.0, 0.0, 0.0, 0.0, 0.0, 0.0, -0.0, 29.371529353474717, 190.29080776375164, 1054.6987616437377, 974.6525920508317, 0.0, 3285.7088361830456, 2769.407959955122, 2401.542786014477, 1836.0022127725254, 1349.4689903405142, 671.212689254495, -0.0, -0.0, 0.0, 0.0, 0.0, 0.0, 0.0, 0.0, 0.0, 0.0, 0.0, 0.0, -0.0, 50.65250501267151, 585.2820308303865, 975.2996668419527, 785.7893534827747, 4047.364223589537, 2982.2497158338624, 2595.626260185226, 1985.9012384719472, 1322.701384458149, 1138.034035409711, 549.7931776539896, -0.0, -0.0, 0.0, 0.0, 0.0, 0.0, 0.0, 0.0]}, {\"mode\": \"lines\", \"name\": \"Distribution Heat Loss\", \"type\": \"scatter\", \"x\": [4873, 4874, 4875, 4876, 4877, 4878, 4879, 4880, 4881, 4882, 4883, 4884, 4885, 4886, 4887, 4888, 4889, 4890, 4891, 4892, 4893, 4894, 4895, 4896, 4897, 4898, 4899, 4900, 4901, 4902, 4903, 4904, 4905, 4906, 4907, 4908, 4909, 4910, 4911, 4912, 4913, 4914, 4915, 4916, 4917, 4918, 4919, 4920, 4921, 4922, 4923, 4924, 4925, 4926, 4927, 4928, 4929, 4930, 4931, 4932, 4933, 4934, 4935, 4936, 4937, 4938, 4939, 4940, 4941, 4942, 4943, 4944, 4945, 4946, 4947, 4948, 4949, 4950, 4951, 4952, 4953, 4954, 4955, 4956, 4957, 4958, 4959, 4960, 4961, 4962, 4963, 4964, 4965, 4966, 4967, 4968, 4969, 4970, 4971, 4972, 4973, 4974, 4975, 4976, 4977, 4978, 4979, 4980, 4981, 4982, 4983, 4984, 4985, 4986, 4987, 4988, 4989, 4990, 4991, 4992, 4993, 4994, 4995, 4996, 4997, 4998, 4999, 5000, 5001, 5002, 5003, 5004, 5005, 5006, 5007, 5008, 5009, 5010, 5011, 5012, 5013, 5014, 5015, 5016, 5017, 5018, 5019, 5020, 5021, 5022, 5023, 5024, 5025, 5026, 5027, 5028, 5029, 5030, 5031, 5032, 5033, 5034, 5035, 5036, 5037, 5038, 5039, 5040, 5041], \"y\": [0.0, 0.0, 0.0, 0.0, 0.0, 0.0, 0.0, 0.0, 0.0, 0.0, 0.0, 0.0, 0.0, 0.0, 0.0, 0.0, 0.0, 0.0, 0.0, 0.0, 0.0, 0.0, 0.0, 0.0, 0.0, 0.0, 0.0, 0.0, 0.0, 0.0, 0.0, 0.0, 0.0, 0.0, 0.0, 0.0, 0.0, 0.0, 0.0, 0.0, 0.0, 0.0, 0.0, 0.0, 0.0, 0.0, 0.0, 0.0, 0.0, 0.0, 0.0, 0.0, 0.0, 0.0, 0.0, 0.0, 0.0, 0.0, 0.0, 0.0, 0.0, 0.0, 0.0, 0.0, 0.0, 0.0, 0.0, 0.0, 0.0, 0.0, 0.0, 0.0, 0.0, 0.0, 0.0, 0.0, 0.0, 0.0, 0.0, 0.0, 0.0, 0.0, 0.0, 0.0, 0.0, 0.0, 0.0, 0.0, 0.0, 0.0, 0.0, 0.0, 0.0, 0.0, 0.0, 0.0, 0.0, 0.0, 0.0, 0.0, 0.0, 0.0, 0.0, 0.0, 0.0, 0.0, 0.0, 0.0, 0.0, 0.0, 0.0, 0.0, 0.0, 0.0, 0.0, 0.0, 0.0, 0.0, 0.0, 0.0, 0.0, 0.0, 0.0, 0.0, 0.0, 0.0, 0.0, 0.0, 0.0, 0.0, 0.0, 0.0, 0.0, 0.0, 0.0, 0.0, 0.0, 0.0, 0.0, 0.0, 0.0, 0.0, 0.0, 0.0, 0.0, 0.0, 0.0, 0.0, 0.0, 0.0, 0.0, 0.0, 0.0, 0.0, 0.0, 0.0, 0.0, 0.0, 0.0, 0.0, 0.0, 0.0, 0.0, 0.0, 0.0, 0.0, 0.0, 0.0, 0.0]}],\n",
       "                        {\"font\": {\"family\": \"arial\", \"size\": 16}, \"height\": 450, \"legend\": {\"font\": {\"family\": \"arial\", \"size\": 12.8}, \"x\": 0.05, \"y\": 1.4}, \"margin\": {\"b\": 60.0, \"l\": 60.0}, \"showlegend\": true, \"template\": {\"data\": {\"bar\": [{\"error_x\": {\"color\": \"#2a3f5f\"}, \"error_y\": {\"color\": \"#2a3f5f\"}, \"marker\": {\"line\": {\"color\": \"#E5ECF6\", \"width\": 0.5}}, \"type\": \"bar\"}], \"barpolar\": [{\"marker\": {\"line\": {\"color\": \"#E5ECF6\", \"width\": 0.5}}, \"type\": \"barpolar\"}], \"carpet\": [{\"aaxis\": {\"endlinecolor\": \"#2a3f5f\", \"gridcolor\": \"white\", \"linecolor\": \"white\", \"minorgridcolor\": \"white\", \"startlinecolor\": \"#2a3f5f\"}, \"baxis\": {\"endlinecolor\": \"#2a3f5f\", \"gridcolor\": \"white\", \"linecolor\": \"white\", \"minorgridcolor\": \"white\", \"startlinecolor\": \"#2a3f5f\"}, \"type\": \"carpet\"}], \"choropleth\": [{\"colorbar\": {\"outlinewidth\": 0, \"ticks\": \"\"}, \"type\": \"choropleth\"}], \"contour\": [{\"colorbar\": {\"outlinewidth\": 0, \"ticks\": \"\"}, \"colorscale\": [[0.0, \"#0d0887\"], [0.1111111111111111, \"#46039f\"], [0.2222222222222222, \"#7201a8\"], [0.3333333333333333, \"#9c179e\"], [0.4444444444444444, \"#bd3786\"], [0.5555555555555556, \"#d8576b\"], [0.6666666666666666, \"#ed7953\"], [0.7777777777777778, \"#fb9f3a\"], [0.8888888888888888, \"#fdca26\"], [1.0, \"#f0f921\"]], \"type\": \"contour\"}], \"contourcarpet\": [{\"colorbar\": {\"outlinewidth\": 0, \"ticks\": \"\"}, \"type\": \"contourcarpet\"}], \"heatmap\": [{\"colorbar\": {\"outlinewidth\": 0, \"ticks\": \"\"}, \"colorscale\": [[0.0, \"#0d0887\"], [0.1111111111111111, \"#46039f\"], [0.2222222222222222, \"#7201a8\"], [0.3333333333333333, \"#9c179e\"], [0.4444444444444444, \"#bd3786\"], [0.5555555555555556, \"#d8576b\"], [0.6666666666666666, \"#ed7953\"], [0.7777777777777778, \"#fb9f3a\"], [0.8888888888888888, \"#fdca26\"], [1.0, \"#f0f921\"]], \"type\": \"heatmap\"}], \"heatmapgl\": [{\"colorbar\": {\"outlinewidth\": 0, \"ticks\": \"\"}, \"colorscale\": [[0.0, \"#0d0887\"], [0.1111111111111111, \"#46039f\"], [0.2222222222222222, \"#7201a8\"], [0.3333333333333333, \"#9c179e\"], [0.4444444444444444, \"#bd3786\"], [0.5555555555555556, \"#d8576b\"], [0.6666666666666666, \"#ed7953\"], [0.7777777777777778, \"#fb9f3a\"], [0.8888888888888888, \"#fdca26\"], [1.0, \"#f0f921\"]], \"type\": \"heatmapgl\"}], \"histogram\": [{\"marker\": {\"colorbar\": {\"outlinewidth\": 0, \"ticks\": \"\"}}, \"type\": \"histogram\"}], \"histogram2d\": [{\"colorbar\": {\"outlinewidth\": 0, \"ticks\": \"\"}, \"colorscale\": [[0.0, \"#0d0887\"], [0.1111111111111111, \"#46039f\"], [0.2222222222222222, \"#7201a8\"], [0.3333333333333333, \"#9c179e\"], [0.4444444444444444, \"#bd3786\"], [0.5555555555555556, \"#d8576b\"], [0.6666666666666666, \"#ed7953\"], [0.7777777777777778, \"#fb9f3a\"], [0.8888888888888888, \"#fdca26\"], [1.0, \"#f0f921\"]], \"type\": \"histogram2d\"}], \"histogram2dcontour\": [{\"colorbar\": {\"outlinewidth\": 0, \"ticks\": \"\"}, \"colorscale\": [[0.0, \"#0d0887\"], [0.1111111111111111, \"#46039f\"], [0.2222222222222222, \"#7201a8\"], [0.3333333333333333, \"#9c179e\"], [0.4444444444444444, \"#bd3786\"], [0.5555555555555556, \"#d8576b\"], [0.6666666666666666, \"#ed7953\"], [0.7777777777777778, \"#fb9f3a\"], [0.8888888888888888, \"#fdca26\"], [1.0, \"#f0f921\"]], \"type\": \"histogram2dcontour\"}], \"mesh3d\": [{\"colorbar\": {\"outlinewidth\": 0, \"ticks\": \"\"}, \"type\": \"mesh3d\"}], \"parcoords\": [{\"line\": {\"colorbar\": {\"outlinewidth\": 0, \"ticks\": \"\"}}, \"type\": \"parcoords\"}], \"pie\": [{\"automargin\": true, \"type\": \"pie\"}], \"scatter\": [{\"marker\": {\"colorbar\": {\"outlinewidth\": 0, \"ticks\": \"\"}}, \"type\": \"scatter\"}], \"scatter3d\": [{\"line\": {\"colorbar\": {\"outlinewidth\": 0, \"ticks\": \"\"}}, \"marker\": {\"colorbar\": {\"outlinewidth\": 0, \"ticks\": \"\"}}, \"type\": \"scatter3d\"}], \"scattercarpet\": [{\"marker\": {\"colorbar\": {\"outlinewidth\": 0, \"ticks\": \"\"}}, \"type\": \"scattercarpet\"}], \"scattergeo\": [{\"marker\": {\"colorbar\": {\"outlinewidth\": 0, \"ticks\": \"\"}}, \"type\": \"scattergeo\"}], \"scattergl\": [{\"marker\": {\"colorbar\": {\"outlinewidth\": 0, \"ticks\": \"\"}}, \"type\": \"scattergl\"}], \"scattermapbox\": [{\"marker\": {\"colorbar\": {\"outlinewidth\": 0, \"ticks\": \"\"}}, \"type\": \"scattermapbox\"}], \"scatterpolar\": [{\"marker\": {\"colorbar\": {\"outlinewidth\": 0, \"ticks\": \"\"}}, \"type\": \"scatterpolar\"}], \"scatterpolargl\": [{\"marker\": {\"colorbar\": {\"outlinewidth\": 0, \"ticks\": \"\"}}, \"type\": \"scatterpolargl\"}], \"scatterternary\": [{\"marker\": {\"colorbar\": {\"outlinewidth\": 0, \"ticks\": \"\"}}, \"type\": \"scatterternary\"}], \"surface\": [{\"colorbar\": {\"outlinewidth\": 0, \"ticks\": \"\"}, \"colorscale\": [[0.0, \"#0d0887\"], [0.1111111111111111, \"#46039f\"], [0.2222222222222222, \"#7201a8\"], [0.3333333333333333, \"#9c179e\"], [0.4444444444444444, \"#bd3786\"], [0.5555555555555556, \"#d8576b\"], [0.6666666666666666, \"#ed7953\"], [0.7777777777777778, \"#fb9f3a\"], [0.8888888888888888, \"#fdca26\"], [1.0, \"#f0f921\"]], \"type\": \"surface\"}], \"table\": [{\"cells\": {\"fill\": {\"color\": \"#EBF0F8\"}, \"line\": {\"color\": \"white\"}}, \"header\": {\"fill\": {\"color\": \"#C8D4E3\"}, \"line\": {\"color\": \"white\"}}, \"type\": \"table\"}]}, \"layout\": {\"annotationdefaults\": {\"arrowcolor\": \"#2a3f5f\", \"arrowhead\": 0, \"arrowwidth\": 1}, \"coloraxis\": {\"colorbar\": {\"outlinewidth\": 0, \"ticks\": \"\"}}, \"colorscale\": {\"diverging\": [[0, \"#8e0152\"], [0.1, \"#c51b7d\"], [0.2, \"#de77ae\"], [0.3, \"#f1b6da\"], [0.4, \"#fde0ef\"], [0.5, \"#f7f7f7\"], [0.6, \"#e6f5d0\"], [0.7, \"#b8e186\"], [0.8, \"#7fbc41\"], [0.9, \"#4d9221\"], [1, \"#276419\"]], \"sequential\": [[0.0, \"#0d0887\"], [0.1111111111111111, \"#46039f\"], [0.2222222222222222, \"#7201a8\"], [0.3333333333333333, \"#9c179e\"], [0.4444444444444444, \"#bd3786\"], [0.5555555555555556, \"#d8576b\"], [0.6666666666666666, \"#ed7953\"], [0.7777777777777778, \"#fb9f3a\"], [0.8888888888888888, \"#fdca26\"], [1.0, \"#f0f921\"]], \"sequentialminus\": [[0.0, \"#0d0887\"], [0.1111111111111111, \"#46039f\"], [0.2222222222222222, \"#7201a8\"], [0.3333333333333333, \"#9c179e\"], [0.4444444444444444, \"#bd3786\"], [0.5555555555555556, \"#d8576b\"], [0.6666666666666666, \"#ed7953\"], [0.7777777777777778, \"#fb9f3a\"], [0.8888888888888888, \"#fdca26\"], [1.0, \"#f0f921\"]]}, \"colorway\": [\"#636efa\", \"#EF553B\", \"#00cc96\", \"#ab63fa\", \"#FFA15A\", \"#19d3f3\", \"#FF6692\", \"#B6E880\", \"#FF97FF\", \"#FECB52\"], \"font\": {\"color\": \"#2a3f5f\"}, \"geo\": {\"bgcolor\": \"white\", \"lakecolor\": \"white\", \"landcolor\": \"#E5ECF6\", \"showlakes\": true, \"showland\": true, \"subunitcolor\": \"white\"}, \"hoverlabel\": {\"align\": \"left\"}, \"hovermode\": \"closest\", \"mapbox\": {\"style\": \"light\"}, \"paper_bgcolor\": \"white\", \"plot_bgcolor\": \"#E5ECF6\", \"polar\": {\"angularaxis\": {\"gridcolor\": \"white\", \"linecolor\": \"white\", \"ticks\": \"\"}, \"bgcolor\": \"#E5ECF6\", \"radialaxis\": {\"gridcolor\": \"white\", \"linecolor\": \"white\", \"ticks\": \"\"}}, \"scene\": {\"xaxis\": {\"backgroundcolor\": \"#E5ECF6\", \"gridcolor\": \"white\", \"gridwidth\": 2, \"linecolor\": \"white\", \"showbackground\": true, \"ticks\": \"\", \"zerolinecolor\": \"white\"}, \"yaxis\": {\"backgroundcolor\": \"#E5ECF6\", \"gridcolor\": \"white\", \"gridwidth\": 2, \"linecolor\": \"white\", \"showbackground\": true, \"ticks\": \"\", \"zerolinecolor\": \"white\"}, \"zaxis\": {\"backgroundcolor\": \"#E5ECF6\", \"gridcolor\": \"white\", \"gridwidth\": 2, \"linecolor\": \"white\", \"showbackground\": true, \"ticks\": \"\", \"zerolinecolor\": \"white\"}}, \"shapedefaults\": {\"line\": {\"color\": \"#2a3f5f\"}}, \"ternary\": {\"aaxis\": {\"gridcolor\": \"white\", \"linecolor\": \"white\", \"ticks\": \"\"}, \"baxis\": {\"gridcolor\": \"white\", \"linecolor\": \"white\", \"ticks\": \"\"}, \"bgcolor\": \"#E5ECF6\", \"caxis\": {\"gridcolor\": \"white\", \"linecolor\": \"white\", \"ticks\": \"\"}}, \"title\": {\"x\": 0.05}, \"xaxis\": {\"automargin\": true, \"gridcolor\": \"white\", \"linecolor\": \"white\", \"ticks\": \"\", \"title\": {\"standoff\": 15}, \"zerolinecolor\": \"white\", \"zerolinewidth\": 2}, \"yaxis\": {\"automargin\": true, \"gridcolor\": \"white\", \"linecolor\": \"white\", \"ticks\": \"\", \"title\": {\"standoff\": 15}, \"zerolinecolor\": \"white\", \"zerolinewidth\": 2}}}, \"title\": {\"font\": {\"family\": \"arial\", \"size\": 16.0}, \"text\": \"\"}, \"width\": 650, \"xaxis\": {\"tickfont\": {\"size\": 12.8}, \"title\": {\"font\": {\"color\": \"#7f7f7f\", \"size\": 16}, \"text\": \"Hour [h]\"}}, \"yaxis\": {\"tickfont\": {\"size\": 9.6}, \"title\": {\"font\": {\"color\": \"#7f7f7f\", \"size\": 16}, \"text\": \"Heat rate [W]\"}}},\n",
       "                        {\"responsive\": true}\n",
       "                    ).then(function(){\n",
       "                            \n",
       "var gd = document.getElementById('863881cf-3848-4182-902f-b0c34ed43314');\n",
       "var x = new MutationObserver(function (mutations, observer) {{\n",
       "        var display = window.getComputedStyle(gd).display;\n",
       "        if (!display || display === 'none') {{\n",
       "            console.log([gd, 'removed!']);\n",
       "            Plotly.purge(gd);\n",
       "            observer.disconnect();\n",
       "        }}\n",
       "}});\n",
       "\n",
       "// Listen for the removal of the full notebook cells\n",
       "var notebookContainer = gd.closest('#notebook-container');\n",
       "if (notebookContainer) {{\n",
       "    x.observe(notebookContainer, {childList: true});\n",
       "}}\n",
       "\n",
       "// Listen for the clearing of the current output cell\n",
       "var outputEl = gd.closest('.output');\n",
       "if (outputEl) {{\n",
       "    x.observe(outputEl, {childList: true});\n",
       "}}\n",
       "\n",
       "                        })\n",
       "                };\n",
       "                });\n",
       "            </script>\n",
       "        </div>"
      ]
     },
     "metadata": {},
     "output_type": "display_data"
    }
   ],
   "source": [
    "print('month, day, hour:\\nData starts at', ts_res_indiv_new_cold.loc[first_hour, ['month','day', 'hour']].transpose().values, 'and ends at',\n",
    "ts_res_indiv_new_cold.loc[last_hour, ['month','day', 'hour']].transpose().values)\n",
    "\n",
    "# title = 'Individual SWH New' + ', Climate Zone ' + str(int(cold_cz))\n",
    "\n",
    "fig = Plot(data_headers = [r['q_dem'], r['q_del_tank'],r['q_unmet_tank'],r['q_del_sol'],r['q_dist_loss']], \\\n",
    "                 outpath = '', save_image = False, title = '', \n",
    "                 label_h = 'Hour [h]', label_v = 'Heat rate [W]',\\\n",
    "                 legend = True, duration_curve = False, margin_l = m_l, margin_b = m_b,\\\n",
    "                 notebook_mode = True, width = w, height = h, fontsize = f, legend_x = 0.05, legend_y = 1.4).\\\n",
    "            series(ts_res_indiv_new_cold.loc[first_hour : last_hour,\\\n",
    "                [r['q_dem'], r['q_del_tank'],r['q_unmet_tank'],r['q_del_sol'],r['q_dist_loss']]], \\\n",
    "                 outfile = '', modes = 'lines')"
   ]
  },
  {
   "cell_type": "code",
   "execution_count": 37,
   "metadata": {},
   "outputs": [
    {
     "data": {
      "text/plain": [
       "Index(['Net Heat Demand', 'Heat Demand With Dist. Loss',\n",
       "       'Demand Balancing Error (Heat Rate)', 'Solar Heat Delivered To Tank',\n",
       "       'Heat Loss - Lower Tank Volume', 'Heat Loss - Upper Tank Volume',\n",
       "       'Tank Heat Delivered', 'Tank Unmet Heat', 'Dumped Heat',\n",
       "       'Tank Overcool (Heat Rate)', 'Temperature - Upper Tank Volume',\n",
       "       'Temperature - Lower Tank Volume', 'Temperature - Tank Coil Out',\n",
       "       'Temperature - Hot Water Set', 'Temperature Drop in Distribution Pipes',\n",
       "       'Distribution Heat Loss', 'Distribution Heat Loss at Backup',\n",
       "       'Distribution Heat Loss at Backup, Summer',\n",
       "       'Distribution Heat Loss at Backup, Winter', 'Backup Heat Delivered',\n",
       "       'Energy Use - Gas', 'Energy Use - Gas, Summer',\n",
       "       'Energy Use - Gas, Winter', 'Energy Use - Gas, w/o Dist Loss',\n",
       "       'Energy Use - Gas, Summer, w/o Dist Loss',\n",
       "       'Energy Use - Gas, Winter, w/o Dist Loss', 'Unmet Heat',\n",
       "       'Total Heat Delivered', 'Temperature - Ambient',\n",
       "       'Temperature - Water Main', 'Project End-Use Load', 'month', 'season',\n",
       "       'day', 'hour'],\n",
       "      dtype='object')"
      ]
     },
     "execution_count": 37,
     "metadata": {},
     "output_type": "execute_result"
    }
   ],
   "source": [
    "ts_res_indiv_new_cold.keys()"
   ]
  },
  {
   "cell_type": "code",
   "execution_count": 38,
   "metadata": {
    "scrolled": true
   },
   "outputs": [
    {
     "data": {
      "application/vnd.plotly.v1+json": {
       "config": {
        "linkText": "Export to plot.ly",
        "plotlyServerURL": "https://plot.ly",
        "showLink": false
       },
       "data": [
        {
         "mode": "lines",
         "name": "Temperature - Upper Tank Volume",
         "type": "scatter",
         "x": [
          4874,
          4875,
          4876,
          4877,
          4878,
          4879,
          4880,
          4881,
          4882,
          4883,
          4884,
          4885,
          4886,
          4887,
          4888,
          4889,
          4890,
          4891,
          4892,
          4893,
          4894,
          4895,
          4896,
          4897,
          4898,
          4899,
          4900,
          4901,
          4902,
          4903,
          4904,
          4905,
          4906,
          4907,
          4908,
          4909,
          4910,
          4911,
          4912,
          4913,
          4914,
          4915,
          4916,
          4917,
          4918,
          4919,
          4920,
          4921,
          4922,
          4923,
          4924,
          4925,
          4926,
          4927,
          4928,
          4929,
          4930,
          4931,
          4932,
          4933,
          4934,
          4935,
          4936,
          4937,
          4938,
          4939,
          4940,
          4941,
          4942,
          4943,
          4944,
          4945,
          4946,
          4947,
          4948,
          4949,
          4950,
          4951,
          4952,
          4953,
          4954,
          4955,
          4956,
          4957,
          4958,
          4959,
          4960,
          4961,
          4962,
          4963,
          4964,
          4965,
          4966,
          4967,
          4968,
          4969,
          4970,
          4971,
          4972,
          4973,
          4974,
          4975,
          4976,
          4977,
          4978,
          4979,
          4980,
          4981,
          4982,
          4983,
          4984,
          4985,
          4986,
          4987,
          4988,
          4989,
          4990,
          4991,
          4992,
          4993,
          4994,
          4995,
          4996,
          4997,
          4998,
          4999,
          5000,
          5001,
          5002,
          5003,
          5004,
          5005,
          5006,
          5007,
          5008,
          5009,
          5010,
          5011,
          5012,
          5013,
          5014,
          5015,
          5016,
          5017,
          5018,
          5019,
          5020,
          5021,
          5022,
          5023,
          5024,
          5025,
          5026,
          5027,
          5028,
          5029,
          5030,
          5031,
          5032,
          5033,
          5034,
          5035,
          5036,
          5037,
          5038,
          5039,
          5040,
          5041,
          5042
         ],
         "y": [
          340.0088436159829,
          340.0088436159829,
          340.0088436159829,
          340.0088436159829,
          340.0088436159829,
          340.0088436159829,
          339.9121689014814,
          340.42351278267734,
          333.84790556234225,
          333.22955193155553,
          343.3449067820287,
          344.15,
          344.15,
          344.15,
          344.15,
          344.15,
          344.15,
          338.1128437068907,
          337.7759453114818,
          336.61610126296677,
          333.0763540990733,
          333.0763540990733,
          333.0763540990733,
          332.8674763677276,
          332.5661187452989,
          331.4030823269481,
          330.87603349918805,
          330.87603349918805,
          330.87603349918805,
          330.87603349918805,
          331.18254858673674,
          333.0268373744819,
          336.1769820586148,
          335.5557691925894,
          344.15,
          344.15,
          344.15,
          344.15,
          344.15,
          344.15,
          336.24502553470325,
          335.7410439057688,
          335.43607739398806,
          329.30778562151494,
          329.30778562151494,
          329.30778562151494,
          329.30778562151494,
          328.8876526045037,
          328.8876526045037,
          328.8876526045037,
          328.8876526045037,
          327.3966669271584,
          327.1981883124629,
          326.91307160704287,
          327.4462565359034,
          330.5370853604355,
          333.9950634309284,
          333.9950634309284,
          344.15,
          344.15,
          344.15,
          344.15,
          344.15,
          344.15,
          343.32770130215664,
          341.6527102514098,
          341.1862766178688,
          341.1862766178688,
          340.4674944886642,
          338.9323625865713,
          338.9323625865713,
          338.9323625865713,
          338.9323625865713,
          338.9323625865713,
          338.9323625865713,
          338.9323625865713,
          335.9431369880815,
          335.9431369880815,
          335.9431369880815,
          337.9512420674915,
          340.28269757831583,
          339.97380687803474,
          344.15,
          344.15,
          344.15,
          344.15,
          344.15,
          344.15,
          340.46909147880285,
          339.3099430111364,
          337.42907864414383,
          337.2469162673842,
          335.5696124701179,
          335.5696124701179,
          335.5696124701179,
          335.5696124701179,
          335.5696124701179,
          335.5696124701179,
          334.61534893610525,
          325.7423539476823,
          322.35868374038984,
          317.6443642813388,
          317.6443642813388,
          319.6982375164531,
          323.2016294984233,
          318.35405671402964,
          330.3334659845539,
          339.23917669192195,
          344.15,
          344.15,
          344.15,
          343.7512415516302,
          343.5678157415513,
          343.3796188658681,
          341.1936656540266,
          339.6901946433779,
          338.05213169473404,
          331.6184210834826,
          330.23129019939404,
          330.23129019939404,
          330.23129019939404,
          330.23129019939404,
          330.23129019939404,
          330.23129019939404,
          330.23129019939404,
          329.9582817734151,
          329.9582817734151,
          332.85158687243063,
          335.76761985304734,
          332.8013701080046,
          342.35216692147645,
          344.15,
          344.15,
          344.15,
          344.15,
          344.15,
          343.6063894717322,
          343.42313955903586,
          339.93243156138465,
          339.93243156138465,
          335.9252331949485,
          330.61743313882846,
          330.61743313882846,
          330.61743313882846,
          329.48796446561454,
          329.48796446561454,
          329.48796446561454,
          329.48796446561454,
          328.8573357230519,
          328.8573357230519,
          329.8496111808583,
          332.23001758420475,
          320.61270312177794,
          319.7244605726219,
          328.7678458272201,
          334.73701476258105,
          339.5842831752188,
          343.6992245395908,
          344.15,
          344.15,
          343.9461861052292,
          342.2933932027345,
          338.4456340099539,
          338.4456340099539,
          338.2542605956594,
          338.2542605956594,
          338.2542605956594,
          338.2542605956594,
          338.2542605956594
         ]
        },
        {
         "mode": "lines",
         "name": "Temperature - Lower Tank Volume",
         "type": "scatter",
         "x": [
          4874,
          4875,
          4876,
          4877,
          4878,
          4879,
          4880,
          4881,
          4882,
          4883,
          4884,
          4885,
          4886,
          4887,
          4888,
          4889,
          4890,
          4891,
          4892,
          4893,
          4894,
          4895,
          4896,
          4897,
          4898,
          4899,
          4900,
          4901,
          4902,
          4903,
          4904,
          4905,
          4906,
          4907,
          4908,
          4909,
          4910,
          4911,
          4912,
          4913,
          4914,
          4915,
          4916,
          4917,
          4918,
          4919,
          4920,
          4921,
          4922,
          4923,
          4924,
          4925,
          4926,
          4927,
          4928,
          4929,
          4930,
          4931,
          4932,
          4933,
          4934,
          4935,
          4936,
          4937,
          4938,
          4939,
          4940,
          4941,
          4942,
          4943,
          4944,
          4945,
          4946,
          4947,
          4948,
          4949,
          4950,
          4951,
          4952,
          4953,
          4954,
          4955,
          4956,
          4957,
          4958,
          4959,
          4960,
          4961,
          4962,
          4963,
          4964,
          4965,
          4966,
          4967,
          4968,
          4969,
          4970,
          4971,
          4972,
          4973,
          4974,
          4975,
          4976,
          4977,
          4978,
          4979,
          4980,
          4981,
          4982,
          4983,
          4984,
          4985,
          4986,
          4987,
          4988,
          4989,
          4990,
          4991,
          4992,
          4993,
          4994,
          4995,
          4996,
          4997,
          4998,
          4999,
          5000,
          5001,
          5002,
          5003,
          5004,
          5005,
          5006,
          5007,
          5008,
          5009,
          5010,
          5011,
          5012,
          5013,
          5014,
          5015,
          5016,
          5017,
          5018,
          5019,
          5020,
          5021,
          5022,
          5023,
          5024,
          5025,
          5026,
          5027,
          5028,
          5029,
          5030,
          5031,
          5032,
          5033,
          5034,
          5035,
          5036,
          5037,
          5038,
          5039,
          5040,
          5041,
          5042
         ],
         "y": [
          336.63067567071835,
          336.27089879179783,
          335.9093954802367,
          335.54617250662363,
          335.1804522706213,
          334.8240097314014,
          334.7273350168999,
          338.42351278267734,
          331.84790556234225,
          331.22955193155553,
          341.3449067820287,
          342.15,
          342.15,
          342.15,
          342.15,
          342.15,
          342.15,
          336.1128437068907,
          335.7759453114818,
          334.61610126296677,
          331.0763540990733,
          330.80241120581337,
          330.52405222977364,
          330.31517449842795,
          330.0138168759993,
          328.85078045764845,
          328.3237316298884,
          328.0378390268303,
          327.7460085156835,
          327.7595336517739,
          329.18254858673674,
          331.0268373744819,
          334.1769820586148,
          333.5557691925894,
          342.15,
          342.15,
          342.15,
          342.15,
          342.15,
          342.15,
          334.24502553470325,
          333.7410439057688,
          333.43607739398806,
          327.30778562151494,
          327.07673513742213,
          326.8332569147151,
          326.58524313526357,
          326.16511011825236,
          325.9111677926874,
          325.65351529205253,
          325.3913828222489,
          323.90039714490354,
          323.70191853020805,
          323.416801824788,
          325.4462565359034,
          328.5370853604355,
          331.9950634309284,
          331.7570536332597,
          342.15,
          342.15,
          342.15,
          342.15,
          342.15,
          342.15,
          341.32770130215664,
          339.6527102514098,
          339.1862766178688,
          338.8440179373927,
          338.1252358081881,
          336.5901039060952,
          336.2433355856534,
          335.89322112787573,
          335.539773655382,
          335.183006239329,
          334.82371624398553,
          334.46112921783237,
          331.4719036193426,
          331.13653741457375,
          333.12618660081876,
          335.9512420674915,
          338.28269757831583,
          337.97380687803474,
          342.15,
          342.15,
          342.15,
          342.15,
          342.15,
          342.15,
          338.46909147880285,
          337.3099430111364,
          335.42907864414383,
          335.2469162673842,
          333.5696124701179,
          333.2557208913946,
          332.9383542418985,
          332.61674180551694,
          332.29168457741883,
          331.9671177889869,
          331.0128542549743,
          322.13985926655135,
          318.7561890592589,
          314.04186960020786,
          314.87113540411474,
          317.6982375164531,
          321.2016294984233,
          316.35405671402964,
          328.3334659845539,
          337.23917669192195,
          342.15,
          342.15,
          342.15,
          341.7512415516302,
          341.5678157415513,
          341.3796188658681,
          339.1936656540266,
          337.6901946433779,
          336.05213169473404,
          329.6184210834826,
          328.23129019939404,
          327.9514260073074,
          327.665600265381,
          327.3777580750229,
          327.0886916885565,
          326.7976215625649,
          326.50455555515737,
          326.2315471291784,
          327.15415322171015,
          330.85158687243063,
          333.76761985304734,
          330.8013701080046,
          340.35216692147645,
          342.15,
          342.15,
          342.15,
          342.15,
          342.15,
          341.6063894717322,
          341.42313955903586,
          337.93243156138465,
          337.62040029777415,
          333.613201931338,
          328.30540187521797,
          328.04726302374826,
          327.78464611044245,
          326.65517743722853,
          326.3946059146683,
          326.1319189036521,
          325.8679090449107,
          325.23728030234804,
          325.2987592500773,
          327.8496111808583,
          330.23001758420475,
          318.61270312177794,
          317.7244605726219,
          326.7678458272201,
          332.73701476258105,
          337.5842831752188,
          341.6992245395908,
          342.15,
          342.15,
          341.9461861052292,
          340.2933932027345,
          336.4456340099539,
          336.1099688624746,
          335.9185954481801,
          335.5755512358013,
          335.2322836586647,
          334.8887935927448,
          334.5450819105806
         ]
        }
       ],
       "layout": {
        "font": {
         "family": "arial",
         "size": 16
        },
        "height": 450,
        "legend": {
         "font": {
          "family": "arial",
          "size": 12.8
         },
         "x": 0.01,
         "y": 1.15
        },
        "margin": {
         "b": 60,
         "l": 60
        },
        "showlegend": true,
        "template": {
         "data": {
          "bar": [
           {
            "error_x": {
             "color": "#2a3f5f"
            },
            "error_y": {
             "color": "#2a3f5f"
            },
            "marker": {
             "line": {
              "color": "#E5ECF6",
              "width": 0.5
             }
            },
            "type": "bar"
           }
          ],
          "barpolar": [
           {
            "marker": {
             "line": {
              "color": "#E5ECF6",
              "width": 0.5
             }
            },
            "type": "barpolar"
           }
          ],
          "carpet": [
           {
            "aaxis": {
             "endlinecolor": "#2a3f5f",
             "gridcolor": "white",
             "linecolor": "white",
             "minorgridcolor": "white",
             "startlinecolor": "#2a3f5f"
            },
            "baxis": {
             "endlinecolor": "#2a3f5f",
             "gridcolor": "white",
             "linecolor": "white",
             "minorgridcolor": "white",
             "startlinecolor": "#2a3f5f"
            },
            "type": "carpet"
           }
          ],
          "choropleth": [
           {
            "colorbar": {
             "outlinewidth": 0,
             "ticks": ""
            },
            "type": "choropleth"
           }
          ],
          "contour": [
           {
            "colorbar": {
             "outlinewidth": 0,
             "ticks": ""
            },
            "colorscale": [
             [
              0,
              "#0d0887"
             ],
             [
              0.1111111111111111,
              "#46039f"
             ],
             [
              0.2222222222222222,
              "#7201a8"
             ],
             [
              0.3333333333333333,
              "#9c179e"
             ],
             [
              0.4444444444444444,
              "#bd3786"
             ],
             [
              0.5555555555555556,
              "#d8576b"
             ],
             [
              0.6666666666666666,
              "#ed7953"
             ],
             [
              0.7777777777777778,
              "#fb9f3a"
             ],
             [
              0.8888888888888888,
              "#fdca26"
             ],
             [
              1,
              "#f0f921"
             ]
            ],
            "type": "contour"
           }
          ],
          "contourcarpet": [
           {
            "colorbar": {
             "outlinewidth": 0,
             "ticks": ""
            },
            "type": "contourcarpet"
           }
          ],
          "heatmap": [
           {
            "colorbar": {
             "outlinewidth": 0,
             "ticks": ""
            },
            "colorscale": [
             [
              0,
              "#0d0887"
             ],
             [
              0.1111111111111111,
              "#46039f"
             ],
             [
              0.2222222222222222,
              "#7201a8"
             ],
             [
              0.3333333333333333,
              "#9c179e"
             ],
             [
              0.4444444444444444,
              "#bd3786"
             ],
             [
              0.5555555555555556,
              "#d8576b"
             ],
             [
              0.6666666666666666,
              "#ed7953"
             ],
             [
              0.7777777777777778,
              "#fb9f3a"
             ],
             [
              0.8888888888888888,
              "#fdca26"
             ],
             [
              1,
              "#f0f921"
             ]
            ],
            "type": "heatmap"
           }
          ],
          "heatmapgl": [
           {
            "colorbar": {
             "outlinewidth": 0,
             "ticks": ""
            },
            "colorscale": [
             [
              0,
              "#0d0887"
             ],
             [
              0.1111111111111111,
              "#46039f"
             ],
             [
              0.2222222222222222,
              "#7201a8"
             ],
             [
              0.3333333333333333,
              "#9c179e"
             ],
             [
              0.4444444444444444,
              "#bd3786"
             ],
             [
              0.5555555555555556,
              "#d8576b"
             ],
             [
              0.6666666666666666,
              "#ed7953"
             ],
             [
              0.7777777777777778,
              "#fb9f3a"
             ],
             [
              0.8888888888888888,
              "#fdca26"
             ],
             [
              1,
              "#f0f921"
             ]
            ],
            "type": "heatmapgl"
           }
          ],
          "histogram": [
           {
            "marker": {
             "colorbar": {
              "outlinewidth": 0,
              "ticks": ""
             }
            },
            "type": "histogram"
           }
          ],
          "histogram2d": [
           {
            "colorbar": {
             "outlinewidth": 0,
             "ticks": ""
            },
            "colorscale": [
             [
              0,
              "#0d0887"
             ],
             [
              0.1111111111111111,
              "#46039f"
             ],
             [
              0.2222222222222222,
              "#7201a8"
             ],
             [
              0.3333333333333333,
              "#9c179e"
             ],
             [
              0.4444444444444444,
              "#bd3786"
             ],
             [
              0.5555555555555556,
              "#d8576b"
             ],
             [
              0.6666666666666666,
              "#ed7953"
             ],
             [
              0.7777777777777778,
              "#fb9f3a"
             ],
             [
              0.8888888888888888,
              "#fdca26"
             ],
             [
              1,
              "#f0f921"
             ]
            ],
            "type": "histogram2d"
           }
          ],
          "histogram2dcontour": [
           {
            "colorbar": {
             "outlinewidth": 0,
             "ticks": ""
            },
            "colorscale": [
             [
              0,
              "#0d0887"
             ],
             [
              0.1111111111111111,
              "#46039f"
             ],
             [
              0.2222222222222222,
              "#7201a8"
             ],
             [
              0.3333333333333333,
              "#9c179e"
             ],
             [
              0.4444444444444444,
              "#bd3786"
             ],
             [
              0.5555555555555556,
              "#d8576b"
             ],
             [
              0.6666666666666666,
              "#ed7953"
             ],
             [
              0.7777777777777778,
              "#fb9f3a"
             ],
             [
              0.8888888888888888,
              "#fdca26"
             ],
             [
              1,
              "#f0f921"
             ]
            ],
            "type": "histogram2dcontour"
           }
          ],
          "mesh3d": [
           {
            "colorbar": {
             "outlinewidth": 0,
             "ticks": ""
            },
            "type": "mesh3d"
           }
          ],
          "parcoords": [
           {
            "line": {
             "colorbar": {
              "outlinewidth": 0,
              "ticks": ""
             }
            },
            "type": "parcoords"
           }
          ],
          "pie": [
           {
            "automargin": true,
            "type": "pie"
           }
          ],
          "scatter": [
           {
            "marker": {
             "colorbar": {
              "outlinewidth": 0,
              "ticks": ""
             }
            },
            "type": "scatter"
           }
          ],
          "scatter3d": [
           {
            "line": {
             "colorbar": {
              "outlinewidth": 0,
              "ticks": ""
             }
            },
            "marker": {
             "colorbar": {
              "outlinewidth": 0,
              "ticks": ""
             }
            },
            "type": "scatter3d"
           }
          ],
          "scattercarpet": [
           {
            "marker": {
             "colorbar": {
              "outlinewidth": 0,
              "ticks": ""
             }
            },
            "type": "scattercarpet"
           }
          ],
          "scattergeo": [
           {
            "marker": {
             "colorbar": {
              "outlinewidth": 0,
              "ticks": ""
             }
            },
            "type": "scattergeo"
           }
          ],
          "scattergl": [
           {
            "marker": {
             "colorbar": {
              "outlinewidth": 0,
              "ticks": ""
             }
            },
            "type": "scattergl"
           }
          ],
          "scattermapbox": [
           {
            "marker": {
             "colorbar": {
              "outlinewidth": 0,
              "ticks": ""
             }
            },
            "type": "scattermapbox"
           }
          ],
          "scatterpolar": [
           {
            "marker": {
             "colorbar": {
              "outlinewidth": 0,
              "ticks": ""
             }
            },
            "type": "scatterpolar"
           }
          ],
          "scatterpolargl": [
           {
            "marker": {
             "colorbar": {
              "outlinewidth": 0,
              "ticks": ""
             }
            },
            "type": "scatterpolargl"
           }
          ],
          "scatterternary": [
           {
            "marker": {
             "colorbar": {
              "outlinewidth": 0,
              "ticks": ""
             }
            },
            "type": "scatterternary"
           }
          ],
          "surface": [
           {
            "colorbar": {
             "outlinewidth": 0,
             "ticks": ""
            },
            "colorscale": [
             [
              0,
              "#0d0887"
             ],
             [
              0.1111111111111111,
              "#46039f"
             ],
             [
              0.2222222222222222,
              "#7201a8"
             ],
             [
              0.3333333333333333,
              "#9c179e"
             ],
             [
              0.4444444444444444,
              "#bd3786"
             ],
             [
              0.5555555555555556,
              "#d8576b"
             ],
             [
              0.6666666666666666,
              "#ed7953"
             ],
             [
              0.7777777777777778,
              "#fb9f3a"
             ],
             [
              0.8888888888888888,
              "#fdca26"
             ],
             [
              1,
              "#f0f921"
             ]
            ],
            "type": "surface"
           }
          ],
          "table": [
           {
            "cells": {
             "fill": {
              "color": "#EBF0F8"
             },
             "line": {
              "color": "white"
             }
            },
            "header": {
             "fill": {
              "color": "#C8D4E3"
             },
             "line": {
              "color": "white"
             }
            },
            "type": "table"
           }
          ]
         },
         "layout": {
          "annotationdefaults": {
           "arrowcolor": "#2a3f5f",
           "arrowhead": 0,
           "arrowwidth": 1
          },
          "coloraxis": {
           "colorbar": {
            "outlinewidth": 0,
            "ticks": ""
           }
          },
          "colorscale": {
           "diverging": [
            [
             0,
             "#8e0152"
            ],
            [
             0.1,
             "#c51b7d"
            ],
            [
             0.2,
             "#de77ae"
            ],
            [
             0.3,
             "#f1b6da"
            ],
            [
             0.4,
             "#fde0ef"
            ],
            [
             0.5,
             "#f7f7f7"
            ],
            [
             0.6,
             "#e6f5d0"
            ],
            [
             0.7,
             "#b8e186"
            ],
            [
             0.8,
             "#7fbc41"
            ],
            [
             0.9,
             "#4d9221"
            ],
            [
             1,
             "#276419"
            ]
           ],
           "sequential": [
            [
             0,
             "#0d0887"
            ],
            [
             0.1111111111111111,
             "#46039f"
            ],
            [
             0.2222222222222222,
             "#7201a8"
            ],
            [
             0.3333333333333333,
             "#9c179e"
            ],
            [
             0.4444444444444444,
             "#bd3786"
            ],
            [
             0.5555555555555556,
             "#d8576b"
            ],
            [
             0.6666666666666666,
             "#ed7953"
            ],
            [
             0.7777777777777778,
             "#fb9f3a"
            ],
            [
             0.8888888888888888,
             "#fdca26"
            ],
            [
             1,
             "#f0f921"
            ]
           ],
           "sequentialminus": [
            [
             0,
             "#0d0887"
            ],
            [
             0.1111111111111111,
             "#46039f"
            ],
            [
             0.2222222222222222,
             "#7201a8"
            ],
            [
             0.3333333333333333,
             "#9c179e"
            ],
            [
             0.4444444444444444,
             "#bd3786"
            ],
            [
             0.5555555555555556,
             "#d8576b"
            ],
            [
             0.6666666666666666,
             "#ed7953"
            ],
            [
             0.7777777777777778,
             "#fb9f3a"
            ],
            [
             0.8888888888888888,
             "#fdca26"
            ],
            [
             1,
             "#f0f921"
            ]
           ]
          },
          "colorway": [
           "#636efa",
           "#EF553B",
           "#00cc96",
           "#ab63fa",
           "#FFA15A",
           "#19d3f3",
           "#FF6692",
           "#B6E880",
           "#FF97FF",
           "#FECB52"
          ],
          "font": {
           "color": "#2a3f5f"
          },
          "geo": {
           "bgcolor": "white",
           "lakecolor": "white",
           "landcolor": "#E5ECF6",
           "showlakes": true,
           "showland": true,
           "subunitcolor": "white"
          },
          "hoverlabel": {
           "align": "left"
          },
          "hovermode": "closest",
          "mapbox": {
           "style": "light"
          },
          "paper_bgcolor": "white",
          "plot_bgcolor": "#E5ECF6",
          "polar": {
           "angularaxis": {
            "gridcolor": "white",
            "linecolor": "white",
            "ticks": ""
           },
           "bgcolor": "#E5ECF6",
           "radialaxis": {
            "gridcolor": "white",
            "linecolor": "white",
            "ticks": ""
           }
          },
          "scene": {
           "xaxis": {
            "backgroundcolor": "#E5ECF6",
            "gridcolor": "white",
            "gridwidth": 2,
            "linecolor": "white",
            "showbackground": true,
            "ticks": "",
            "zerolinecolor": "white"
           },
           "yaxis": {
            "backgroundcolor": "#E5ECF6",
            "gridcolor": "white",
            "gridwidth": 2,
            "linecolor": "white",
            "showbackground": true,
            "ticks": "",
            "zerolinecolor": "white"
           },
           "zaxis": {
            "backgroundcolor": "#E5ECF6",
            "gridcolor": "white",
            "gridwidth": 2,
            "linecolor": "white",
            "showbackground": true,
            "ticks": "",
            "zerolinecolor": "white"
           }
          },
          "shapedefaults": {
           "line": {
            "color": "#2a3f5f"
           }
          },
          "ternary": {
           "aaxis": {
            "gridcolor": "white",
            "linecolor": "white",
            "ticks": ""
           },
           "baxis": {
            "gridcolor": "white",
            "linecolor": "white",
            "ticks": ""
           },
           "bgcolor": "#E5ECF6",
           "caxis": {
            "gridcolor": "white",
            "linecolor": "white",
            "ticks": ""
           }
          },
          "title": {
           "x": 0.05
          },
          "xaxis": {
           "automargin": true,
           "gridcolor": "white",
           "linecolor": "white",
           "ticks": "",
           "title": {
            "standoff": 15
           },
           "zerolinecolor": "white",
           "zerolinewidth": 2
          },
          "yaxis": {
           "automargin": true,
           "gridcolor": "white",
           "linecolor": "white",
           "ticks": "",
           "title": {
            "standoff": 15
           },
           "zerolinecolor": "white",
           "zerolinewidth": 2
          }
         }
        },
        "title": {
         "font": {
          "family": "arial",
          "size": 16
         },
         "text": "Individual SWH New, Climate Zone 0"
        },
        "width": 650,
        "xaxis": {
         "tickfont": {
          "size": 12.8
         },
         "title": {
          "font": {
           "color": "#7f7f7f",
           "size": 16
          },
          "text": "Hour [h]"
         }
        },
        "yaxis": {
         "tickfont": {
          "size": 9.6
         },
         "title": {
          "font": {
           "color": "#7f7f7f",
           "size": 16
          },
          "text": "Temperature [K]"
         }
        }
       }
      },
      "text/html": [
       "<div>\n",
       "        \n",
       "        \n",
       "            <div id=\"197df6aa-b729-4c63-868b-6f1cf614b15b\" class=\"plotly-graph-div\" style=\"height:450px; width:650px;\"></div>\n",
       "            <script type=\"text/javascript\">\n",
       "                require([\"plotly\"], function(Plotly) {\n",
       "                    window.PLOTLYENV=window.PLOTLYENV || {};\n",
       "                    \n",
       "                if (document.getElementById(\"197df6aa-b729-4c63-868b-6f1cf614b15b\")) {\n",
       "                    Plotly.newPlot(\n",
       "                        '197df6aa-b729-4c63-868b-6f1cf614b15b',\n",
       "                        [{\"mode\": \"lines\", \"name\": \"Temperature - Upper Tank Volume\", \"type\": \"scatter\", \"x\": [4874, 4875, 4876, 4877, 4878, 4879, 4880, 4881, 4882, 4883, 4884, 4885, 4886, 4887, 4888, 4889, 4890, 4891, 4892, 4893, 4894, 4895, 4896, 4897, 4898, 4899, 4900, 4901, 4902, 4903, 4904, 4905, 4906, 4907, 4908, 4909, 4910, 4911, 4912, 4913, 4914, 4915, 4916, 4917, 4918, 4919, 4920, 4921, 4922, 4923, 4924, 4925, 4926, 4927, 4928, 4929, 4930, 4931, 4932, 4933, 4934, 4935, 4936, 4937, 4938, 4939, 4940, 4941, 4942, 4943, 4944, 4945, 4946, 4947, 4948, 4949, 4950, 4951, 4952, 4953, 4954, 4955, 4956, 4957, 4958, 4959, 4960, 4961, 4962, 4963, 4964, 4965, 4966, 4967, 4968, 4969, 4970, 4971, 4972, 4973, 4974, 4975, 4976, 4977, 4978, 4979, 4980, 4981, 4982, 4983, 4984, 4985, 4986, 4987, 4988, 4989, 4990, 4991, 4992, 4993, 4994, 4995, 4996, 4997, 4998, 4999, 5000, 5001, 5002, 5003, 5004, 5005, 5006, 5007, 5008, 5009, 5010, 5011, 5012, 5013, 5014, 5015, 5016, 5017, 5018, 5019, 5020, 5021, 5022, 5023, 5024, 5025, 5026, 5027, 5028, 5029, 5030, 5031, 5032, 5033, 5034, 5035, 5036, 5037, 5038, 5039, 5040, 5041, 5042], \"y\": [340.0088436159829, 340.0088436159829, 340.0088436159829, 340.0088436159829, 340.0088436159829, 340.0088436159829, 339.9121689014814, 340.42351278267734, 333.84790556234225, 333.22955193155553, 343.3449067820287, 344.15, 344.15, 344.15, 344.15, 344.15, 344.15, 338.1128437068907, 337.7759453114818, 336.61610126296677, 333.0763540990733, 333.0763540990733, 333.0763540990733, 332.8674763677276, 332.5661187452989, 331.4030823269481, 330.87603349918805, 330.87603349918805, 330.87603349918805, 330.87603349918805, 331.18254858673674, 333.0268373744819, 336.1769820586148, 335.5557691925894, 344.15, 344.15, 344.15, 344.15, 344.15, 344.15, 336.24502553470325, 335.7410439057688, 335.43607739398806, 329.30778562151494, 329.30778562151494, 329.30778562151494, 329.30778562151494, 328.8876526045037, 328.8876526045037, 328.8876526045037, 328.8876526045037, 327.3966669271584, 327.1981883124629, 326.91307160704287, 327.4462565359034, 330.5370853604355, 333.9950634309284, 333.9950634309284, 344.15, 344.15, 344.15, 344.15, 344.15, 344.15, 343.32770130215664, 341.6527102514098, 341.1862766178688, 341.1862766178688, 340.4674944886642, 338.9323625865713, 338.9323625865713, 338.9323625865713, 338.9323625865713, 338.9323625865713, 338.9323625865713, 338.9323625865713, 335.9431369880815, 335.9431369880815, 335.9431369880815, 337.9512420674915, 340.28269757831583, 339.97380687803474, 344.15, 344.15, 344.15, 344.15, 344.15, 344.15, 340.46909147880285, 339.3099430111364, 337.42907864414383, 337.2469162673842, 335.5696124701179, 335.5696124701179, 335.5696124701179, 335.5696124701179, 335.5696124701179, 335.5696124701179, 334.61534893610525, 325.7423539476823, 322.35868374038984, 317.6443642813388, 317.6443642813388, 319.6982375164531, 323.2016294984233, 318.35405671402964, 330.3334659845539, 339.23917669192195, 344.15, 344.15, 344.15, 343.7512415516302, 343.5678157415513, 343.3796188658681, 341.1936656540266, 339.6901946433779, 338.05213169473404, 331.6184210834826, 330.23129019939404, 330.23129019939404, 330.23129019939404, 330.23129019939404, 330.23129019939404, 330.23129019939404, 330.23129019939404, 329.9582817734151, 329.9582817734151, 332.85158687243063, 335.76761985304734, 332.8013701080046, 342.35216692147645, 344.15, 344.15, 344.15, 344.15, 344.15, 343.6063894717322, 343.42313955903586, 339.93243156138465, 339.93243156138465, 335.9252331949485, 330.61743313882846, 330.61743313882846, 330.61743313882846, 329.48796446561454, 329.48796446561454, 329.48796446561454, 329.48796446561454, 328.8573357230519, 328.8573357230519, 329.8496111808583, 332.23001758420475, 320.61270312177794, 319.7244605726219, 328.7678458272201, 334.73701476258105, 339.5842831752188, 343.6992245395908, 344.15, 344.15, 343.9461861052292, 342.2933932027345, 338.4456340099539, 338.4456340099539, 338.2542605956594, 338.2542605956594, 338.2542605956594, 338.2542605956594, 338.2542605956594]}, {\"mode\": \"lines\", \"name\": \"Temperature - Lower Tank Volume\", \"type\": \"scatter\", \"x\": [4874, 4875, 4876, 4877, 4878, 4879, 4880, 4881, 4882, 4883, 4884, 4885, 4886, 4887, 4888, 4889, 4890, 4891, 4892, 4893, 4894, 4895, 4896, 4897, 4898, 4899, 4900, 4901, 4902, 4903, 4904, 4905, 4906, 4907, 4908, 4909, 4910, 4911, 4912, 4913, 4914, 4915, 4916, 4917, 4918, 4919, 4920, 4921, 4922, 4923, 4924, 4925, 4926, 4927, 4928, 4929, 4930, 4931, 4932, 4933, 4934, 4935, 4936, 4937, 4938, 4939, 4940, 4941, 4942, 4943, 4944, 4945, 4946, 4947, 4948, 4949, 4950, 4951, 4952, 4953, 4954, 4955, 4956, 4957, 4958, 4959, 4960, 4961, 4962, 4963, 4964, 4965, 4966, 4967, 4968, 4969, 4970, 4971, 4972, 4973, 4974, 4975, 4976, 4977, 4978, 4979, 4980, 4981, 4982, 4983, 4984, 4985, 4986, 4987, 4988, 4989, 4990, 4991, 4992, 4993, 4994, 4995, 4996, 4997, 4998, 4999, 5000, 5001, 5002, 5003, 5004, 5005, 5006, 5007, 5008, 5009, 5010, 5011, 5012, 5013, 5014, 5015, 5016, 5017, 5018, 5019, 5020, 5021, 5022, 5023, 5024, 5025, 5026, 5027, 5028, 5029, 5030, 5031, 5032, 5033, 5034, 5035, 5036, 5037, 5038, 5039, 5040, 5041, 5042], \"y\": [336.63067567071835, 336.27089879179783, 335.9093954802367, 335.54617250662363, 335.1804522706213, 334.8240097314014, 334.7273350168999, 338.42351278267734, 331.84790556234225, 331.22955193155553, 341.3449067820287, 342.15, 342.15, 342.15, 342.15, 342.15, 342.15, 336.1128437068907, 335.7759453114818, 334.61610126296677, 331.0763540990733, 330.80241120581337, 330.52405222977364, 330.31517449842795, 330.0138168759993, 328.85078045764845, 328.3237316298884, 328.0378390268303, 327.7460085156835, 327.7595336517739, 329.18254858673674, 331.0268373744819, 334.1769820586148, 333.5557691925894, 342.15, 342.15, 342.15, 342.15, 342.15, 342.15, 334.24502553470325, 333.7410439057688, 333.43607739398806, 327.30778562151494, 327.07673513742213, 326.8332569147151, 326.58524313526357, 326.16511011825236, 325.9111677926874, 325.65351529205253, 325.3913828222489, 323.90039714490354, 323.70191853020805, 323.416801824788, 325.4462565359034, 328.5370853604355, 331.9950634309284, 331.7570536332597, 342.15, 342.15, 342.15, 342.15, 342.15, 342.15, 341.32770130215664, 339.6527102514098, 339.1862766178688, 338.8440179373927, 338.1252358081881, 336.5901039060952, 336.2433355856534, 335.89322112787573, 335.539773655382, 335.183006239329, 334.82371624398553, 334.46112921783237, 331.4719036193426, 331.13653741457375, 333.12618660081876, 335.9512420674915, 338.28269757831583, 337.97380687803474, 342.15, 342.15, 342.15, 342.15, 342.15, 342.15, 338.46909147880285, 337.3099430111364, 335.42907864414383, 335.2469162673842, 333.5696124701179, 333.2557208913946, 332.9383542418985, 332.61674180551694, 332.29168457741883, 331.9671177889869, 331.0128542549743, 322.13985926655135, 318.7561890592589, 314.04186960020786, 314.87113540411474, 317.6982375164531, 321.2016294984233, 316.35405671402964, 328.3334659845539, 337.23917669192195, 342.15, 342.15, 342.15, 341.7512415516302, 341.5678157415513, 341.3796188658681, 339.1936656540266, 337.6901946433779, 336.05213169473404, 329.6184210834826, 328.23129019939404, 327.9514260073074, 327.665600265381, 327.3777580750229, 327.0886916885565, 326.7976215625649, 326.50455555515737, 326.2315471291784, 327.15415322171015, 330.85158687243063, 333.76761985304734, 330.8013701080046, 340.35216692147645, 342.15, 342.15, 342.15, 342.15, 342.15, 341.6063894717322, 341.42313955903586, 337.93243156138465, 337.62040029777415, 333.613201931338, 328.30540187521797, 328.04726302374826, 327.78464611044245, 326.65517743722853, 326.3946059146683, 326.1319189036521, 325.8679090449107, 325.23728030234804, 325.2987592500773, 327.8496111808583, 330.23001758420475, 318.61270312177794, 317.7244605726219, 326.7678458272201, 332.73701476258105, 337.5842831752188, 341.6992245395908, 342.15, 342.15, 341.9461861052292, 340.2933932027345, 336.4456340099539, 336.1099688624746, 335.9185954481801, 335.5755512358013, 335.2322836586647, 334.8887935927448, 334.5450819105806]}],\n",
       "                        {\"font\": {\"family\": \"arial\", \"size\": 16}, \"height\": 450, \"legend\": {\"font\": {\"family\": \"arial\", \"size\": 12.8}, \"x\": 0.01, \"y\": 1.15}, \"margin\": {\"b\": 60.0, \"l\": 60.0}, \"showlegend\": true, \"template\": {\"data\": {\"bar\": [{\"error_x\": {\"color\": \"#2a3f5f\"}, \"error_y\": {\"color\": \"#2a3f5f\"}, \"marker\": {\"line\": {\"color\": \"#E5ECF6\", \"width\": 0.5}}, \"type\": \"bar\"}], \"barpolar\": [{\"marker\": {\"line\": {\"color\": \"#E5ECF6\", \"width\": 0.5}}, \"type\": \"barpolar\"}], \"carpet\": [{\"aaxis\": {\"endlinecolor\": \"#2a3f5f\", \"gridcolor\": \"white\", \"linecolor\": \"white\", \"minorgridcolor\": \"white\", \"startlinecolor\": \"#2a3f5f\"}, \"baxis\": {\"endlinecolor\": \"#2a3f5f\", \"gridcolor\": \"white\", \"linecolor\": \"white\", \"minorgridcolor\": \"white\", \"startlinecolor\": \"#2a3f5f\"}, \"type\": \"carpet\"}], \"choropleth\": [{\"colorbar\": {\"outlinewidth\": 0, \"ticks\": \"\"}, \"type\": \"choropleth\"}], \"contour\": [{\"colorbar\": {\"outlinewidth\": 0, \"ticks\": \"\"}, \"colorscale\": [[0.0, \"#0d0887\"], [0.1111111111111111, \"#46039f\"], [0.2222222222222222, \"#7201a8\"], [0.3333333333333333, \"#9c179e\"], [0.4444444444444444, \"#bd3786\"], [0.5555555555555556, \"#d8576b\"], [0.6666666666666666, \"#ed7953\"], [0.7777777777777778, \"#fb9f3a\"], [0.8888888888888888, \"#fdca26\"], [1.0, \"#f0f921\"]], \"type\": \"contour\"}], \"contourcarpet\": [{\"colorbar\": {\"outlinewidth\": 0, \"ticks\": \"\"}, \"type\": \"contourcarpet\"}], \"heatmap\": [{\"colorbar\": {\"outlinewidth\": 0, \"ticks\": \"\"}, \"colorscale\": [[0.0, \"#0d0887\"], [0.1111111111111111, \"#46039f\"], [0.2222222222222222, \"#7201a8\"], [0.3333333333333333, \"#9c179e\"], [0.4444444444444444, \"#bd3786\"], [0.5555555555555556, \"#d8576b\"], [0.6666666666666666, \"#ed7953\"], [0.7777777777777778, \"#fb9f3a\"], [0.8888888888888888, \"#fdca26\"], [1.0, \"#f0f921\"]], \"type\": \"heatmap\"}], \"heatmapgl\": [{\"colorbar\": {\"outlinewidth\": 0, \"ticks\": \"\"}, \"colorscale\": [[0.0, \"#0d0887\"], [0.1111111111111111, \"#46039f\"], [0.2222222222222222, \"#7201a8\"], [0.3333333333333333, \"#9c179e\"], [0.4444444444444444, \"#bd3786\"], [0.5555555555555556, \"#d8576b\"], [0.6666666666666666, \"#ed7953\"], [0.7777777777777778, \"#fb9f3a\"], [0.8888888888888888, \"#fdca26\"], [1.0, \"#f0f921\"]], \"type\": \"heatmapgl\"}], \"histogram\": [{\"marker\": {\"colorbar\": {\"outlinewidth\": 0, \"ticks\": \"\"}}, \"type\": \"histogram\"}], \"histogram2d\": [{\"colorbar\": {\"outlinewidth\": 0, \"ticks\": \"\"}, \"colorscale\": [[0.0, \"#0d0887\"], [0.1111111111111111, \"#46039f\"], [0.2222222222222222, \"#7201a8\"], [0.3333333333333333, \"#9c179e\"], [0.4444444444444444, \"#bd3786\"], [0.5555555555555556, \"#d8576b\"], [0.6666666666666666, \"#ed7953\"], [0.7777777777777778, \"#fb9f3a\"], [0.8888888888888888, \"#fdca26\"], [1.0, \"#f0f921\"]], \"type\": \"histogram2d\"}], \"histogram2dcontour\": [{\"colorbar\": {\"outlinewidth\": 0, \"ticks\": \"\"}, \"colorscale\": [[0.0, \"#0d0887\"], [0.1111111111111111, \"#46039f\"], [0.2222222222222222, \"#7201a8\"], [0.3333333333333333, \"#9c179e\"], [0.4444444444444444, \"#bd3786\"], [0.5555555555555556, \"#d8576b\"], [0.6666666666666666, \"#ed7953\"], [0.7777777777777778, \"#fb9f3a\"], [0.8888888888888888, \"#fdca26\"], [1.0, \"#f0f921\"]], \"type\": \"histogram2dcontour\"}], \"mesh3d\": [{\"colorbar\": {\"outlinewidth\": 0, \"ticks\": \"\"}, \"type\": \"mesh3d\"}], \"parcoords\": [{\"line\": {\"colorbar\": {\"outlinewidth\": 0, \"ticks\": \"\"}}, \"type\": \"parcoords\"}], \"pie\": [{\"automargin\": true, \"type\": \"pie\"}], \"scatter\": [{\"marker\": {\"colorbar\": {\"outlinewidth\": 0, \"ticks\": \"\"}}, \"type\": \"scatter\"}], \"scatter3d\": [{\"line\": {\"colorbar\": {\"outlinewidth\": 0, \"ticks\": \"\"}}, \"marker\": {\"colorbar\": {\"outlinewidth\": 0, \"ticks\": \"\"}}, \"type\": \"scatter3d\"}], \"scattercarpet\": [{\"marker\": {\"colorbar\": {\"outlinewidth\": 0, \"ticks\": \"\"}}, \"type\": \"scattercarpet\"}], \"scattergeo\": [{\"marker\": {\"colorbar\": {\"outlinewidth\": 0, \"ticks\": \"\"}}, \"type\": \"scattergeo\"}], \"scattergl\": [{\"marker\": {\"colorbar\": {\"outlinewidth\": 0, \"ticks\": \"\"}}, \"type\": \"scattergl\"}], \"scattermapbox\": [{\"marker\": {\"colorbar\": {\"outlinewidth\": 0, \"ticks\": \"\"}}, \"type\": \"scattermapbox\"}], \"scatterpolar\": [{\"marker\": {\"colorbar\": {\"outlinewidth\": 0, \"ticks\": \"\"}}, \"type\": \"scatterpolar\"}], \"scatterpolargl\": [{\"marker\": {\"colorbar\": {\"outlinewidth\": 0, \"ticks\": \"\"}}, \"type\": \"scatterpolargl\"}], \"scatterternary\": [{\"marker\": {\"colorbar\": {\"outlinewidth\": 0, \"ticks\": \"\"}}, \"type\": \"scatterternary\"}], \"surface\": [{\"colorbar\": {\"outlinewidth\": 0, \"ticks\": \"\"}, \"colorscale\": [[0.0, \"#0d0887\"], [0.1111111111111111, \"#46039f\"], [0.2222222222222222, \"#7201a8\"], [0.3333333333333333, \"#9c179e\"], [0.4444444444444444, \"#bd3786\"], [0.5555555555555556, \"#d8576b\"], [0.6666666666666666, \"#ed7953\"], [0.7777777777777778, \"#fb9f3a\"], [0.8888888888888888, \"#fdca26\"], [1.0, \"#f0f921\"]], \"type\": \"surface\"}], \"table\": [{\"cells\": {\"fill\": {\"color\": \"#EBF0F8\"}, \"line\": {\"color\": \"white\"}}, \"header\": {\"fill\": {\"color\": \"#C8D4E3\"}, \"line\": {\"color\": \"white\"}}, \"type\": \"table\"}]}, \"layout\": {\"annotationdefaults\": {\"arrowcolor\": \"#2a3f5f\", \"arrowhead\": 0, \"arrowwidth\": 1}, \"coloraxis\": {\"colorbar\": {\"outlinewidth\": 0, \"ticks\": \"\"}}, \"colorscale\": {\"diverging\": [[0, \"#8e0152\"], [0.1, \"#c51b7d\"], [0.2, \"#de77ae\"], [0.3, \"#f1b6da\"], [0.4, \"#fde0ef\"], [0.5, \"#f7f7f7\"], [0.6, \"#e6f5d0\"], [0.7, \"#b8e186\"], [0.8, \"#7fbc41\"], [0.9, \"#4d9221\"], [1, \"#276419\"]], \"sequential\": [[0.0, \"#0d0887\"], [0.1111111111111111, \"#46039f\"], [0.2222222222222222, \"#7201a8\"], [0.3333333333333333, \"#9c179e\"], [0.4444444444444444, \"#bd3786\"], [0.5555555555555556, \"#d8576b\"], [0.6666666666666666, \"#ed7953\"], [0.7777777777777778, \"#fb9f3a\"], [0.8888888888888888, \"#fdca26\"], [1.0, \"#f0f921\"]], \"sequentialminus\": [[0.0, \"#0d0887\"], [0.1111111111111111, \"#46039f\"], [0.2222222222222222, \"#7201a8\"], [0.3333333333333333, \"#9c179e\"], [0.4444444444444444, \"#bd3786\"], [0.5555555555555556, \"#d8576b\"], [0.6666666666666666, \"#ed7953\"], [0.7777777777777778, \"#fb9f3a\"], [0.8888888888888888, \"#fdca26\"], [1.0, \"#f0f921\"]]}, \"colorway\": [\"#636efa\", \"#EF553B\", \"#00cc96\", \"#ab63fa\", \"#FFA15A\", \"#19d3f3\", \"#FF6692\", \"#B6E880\", \"#FF97FF\", \"#FECB52\"], \"font\": {\"color\": \"#2a3f5f\"}, \"geo\": {\"bgcolor\": \"white\", \"lakecolor\": \"white\", \"landcolor\": \"#E5ECF6\", \"showlakes\": true, \"showland\": true, \"subunitcolor\": \"white\"}, \"hoverlabel\": {\"align\": \"left\"}, \"hovermode\": \"closest\", \"mapbox\": {\"style\": \"light\"}, \"paper_bgcolor\": \"white\", \"plot_bgcolor\": \"#E5ECF6\", \"polar\": {\"angularaxis\": {\"gridcolor\": \"white\", \"linecolor\": \"white\", \"ticks\": \"\"}, \"bgcolor\": \"#E5ECF6\", \"radialaxis\": {\"gridcolor\": \"white\", \"linecolor\": \"white\", \"ticks\": \"\"}}, \"scene\": {\"xaxis\": {\"backgroundcolor\": \"#E5ECF6\", \"gridcolor\": \"white\", \"gridwidth\": 2, \"linecolor\": \"white\", \"showbackground\": true, \"ticks\": \"\", \"zerolinecolor\": \"white\"}, \"yaxis\": {\"backgroundcolor\": \"#E5ECF6\", \"gridcolor\": \"white\", \"gridwidth\": 2, \"linecolor\": \"white\", \"showbackground\": true, \"ticks\": \"\", \"zerolinecolor\": \"white\"}, \"zaxis\": {\"backgroundcolor\": \"#E5ECF6\", \"gridcolor\": \"white\", \"gridwidth\": 2, \"linecolor\": \"white\", \"showbackground\": true, \"ticks\": \"\", \"zerolinecolor\": \"white\"}}, \"shapedefaults\": {\"line\": {\"color\": \"#2a3f5f\"}}, \"ternary\": {\"aaxis\": {\"gridcolor\": \"white\", \"linecolor\": \"white\", \"ticks\": \"\"}, \"baxis\": {\"gridcolor\": \"white\", \"linecolor\": \"white\", \"ticks\": \"\"}, \"bgcolor\": \"#E5ECF6\", \"caxis\": {\"gridcolor\": \"white\", \"linecolor\": \"white\", \"ticks\": \"\"}}, \"title\": {\"x\": 0.05}, \"xaxis\": {\"automargin\": true, \"gridcolor\": \"white\", \"linecolor\": \"white\", \"ticks\": \"\", \"title\": {\"standoff\": 15}, \"zerolinecolor\": \"white\", \"zerolinewidth\": 2}, \"yaxis\": {\"automargin\": true, \"gridcolor\": \"white\", \"linecolor\": \"white\", \"ticks\": \"\", \"title\": {\"standoff\": 15}, \"zerolinecolor\": \"white\", \"zerolinewidth\": 2}}}, \"title\": {\"font\": {\"family\": \"arial\", \"size\": 16.0}, \"text\": \"Individual SWH New, Climate Zone 0\"}, \"width\": 650, \"xaxis\": {\"tickfont\": {\"size\": 12.8}, \"title\": {\"font\": {\"color\": \"#7f7f7f\", \"size\": 16}, \"text\": \"Hour [h]\"}}, \"yaxis\": {\"tickfont\": {\"size\": 9.6}, \"title\": {\"font\": {\"color\": \"#7f7f7f\", \"size\": 16}, \"text\": \"Temperature [K]\"}}},\n",
       "                        {\"responsive\": true}\n",
       "                    ).then(function(){\n",
       "                            \n",
       "var gd = document.getElementById('197df6aa-b729-4c63-868b-6f1cf614b15b');\n",
       "var x = new MutationObserver(function (mutations, observer) {{\n",
       "        var display = window.getComputedStyle(gd).display;\n",
       "        if (!display || display === 'none') {{\n",
       "            console.log([gd, 'removed!']);\n",
       "            Plotly.purge(gd);\n",
       "            observer.disconnect();\n",
       "        }}\n",
       "}});\n",
       "\n",
       "// Listen for the removal of the full notebook cells\n",
       "var notebookContainer = gd.closest('#notebook-container');\n",
       "if (notebookContainer) {{\n",
       "    x.observe(notebookContainer, {childList: true});\n",
       "}}\n",
       "\n",
       "// Listen for the clearing of the current output cell\n",
       "var outputEl = gd.closest('.output');\n",
       "if (outputEl) {{\n",
       "    x.observe(outputEl, {childList: true});\n",
       "}}\n",
       "\n",
       "                        })\n",
       "                };\n",
       "                });\n",
       "            </script>\n",
       "        </div>"
      ]
     },
     "metadata": {},
     "output_type": "display_data"
    }
   ],
   "source": [
    "fig = Plot(data_headers = [r['t_tank_up'], r['t_tank_low']], \\\n",
    "                 outpath = '', save_image = False, title = 'Individual SWH New, Climate Zone ' + str(int(bl_climate)), \n",
    "                 label_h = 'Hour [h]', label_v = 'Temperature [K]',\\\n",
    "                 legend = True, duration_curve = False, margin_l = m_l, margin_b = m_b,\\\n",
    "                 notebook_mode = True, width = w, height = h, fontsize = f, legend_x = 0.01, legend_y = 1.15).\\\n",
    "            series(ts_res_indiv_new_cold.loc[first_hour + 1 : last_hour + 1,\\\n",
    "                [r['t_tank_up'], r['t_tank_low']]], \\\n",
    "                 outfile = '', modes = 'lines')"
   ]
  },
  {
   "cell_type": "markdown",
   "metadata": {},
   "source": [
    "## Community new solar thermal system"
   ]
  },
  {
   "cell_type": "code",
   "execution_count": 39,
   "metadata": {},
   "outputs": [
    {
     "name": "stderr",
     "output_type": "stream",
     "text": [
      "INFO:mswh.system.models:Assigned weather data timeseries.\n",
      "INFO:mswh.system.components:Assigned weather data timeseries.\n",
      "INFO:mswh.system.components:Solar storage tank is set.\n",
      "INFO:mswh.system.components:Assigned weather data timeseries.\n",
      "INFO:mswh.system.components:Assigned weather data timeseries.\n",
      "INFO:mswh.system.components:Assigned weather data timeseries.\n",
      "INFO:mswh.system.components:Assigned weather data timeseries.\n"
     ]
    }
   ],
   "source": [
    "# in a cold climate\n",
    "sol_wh_com_new_cold = System(sys_params = sol_the_sys_params_com,\n",
    "                          backup_params = gas_tankless_wh_params,\n",
    "                          sys_sizes = sys_sizes_com,\n",
    "                          backup_sizes = new_bckp_size_com,\n",
    "                          weather = weather_bl,\n",
    "                          loads = loads_com)\n",
    "\n",
    "cons_total_com_new_cold, proj_total_com_new_cold,\\\n",
    "[proj_total_dict_com_new_cold, sol_fra_com_new_cold, pump_el_use_com_new_cold,\\\n",
    " pump_op_hour_com_new_cold, ts_res_com_new_cold, backup_ts_cons_com_new_cold, rel_err_com_new_cold] = \\\n",
    "    sol_wh_com_new_cold.solar_thermal(backup = 'gas')"
   ]
  },
  {
   "cell_type": "code",
   "execution_count": 40,
   "metadata": {},
   "outputs": [
    {
     "name": "stdout",
     "output_type": "stream",
     "text": [
      "month, day, hour:\n",
      "Data starts at [7 23 0] and ends at [7 30 0]\n"
     ]
    },
    {
     "data": {
      "application/vnd.plotly.v1+json": {
       "config": {
        "linkText": "Export to plot.ly",
        "plotlyServerURL": "https://plot.ly",
        "showLink": false
       },
       "data": [
        {
         "mode": "lines",
         "name": "Net Heat Demand",
         "type": "scatter",
         "x": [
          4874,
          4875,
          4876,
          4877,
          4878,
          4879,
          4880,
          4881,
          4882,
          4883,
          4884,
          4885,
          4886,
          4887,
          4888,
          4889,
          4890,
          4891,
          4892,
          4893,
          4894,
          4895,
          4896,
          4897,
          4898,
          4899,
          4900,
          4901,
          4902,
          4903,
          4904,
          4905,
          4906,
          4907,
          4908,
          4909,
          4910,
          4911,
          4912,
          4913,
          4914,
          4915,
          4916,
          4917,
          4918,
          4919,
          4920,
          4921,
          4922,
          4923,
          4924,
          4925,
          4926,
          4927,
          4928,
          4929,
          4930,
          4931,
          4932,
          4933,
          4934,
          4935,
          4936,
          4937,
          4938,
          4939,
          4940,
          4941,
          4942,
          4943,
          4944,
          4945,
          4946,
          4947,
          4948,
          4949,
          4950,
          4951,
          4952,
          4953,
          4954,
          4955,
          4956,
          4957,
          4958,
          4959,
          4960,
          4961,
          4962,
          4963,
          4964,
          4965,
          4966,
          4967,
          4968,
          4969,
          4970,
          4971,
          4972,
          4973,
          4974,
          4975,
          4976,
          4977,
          4978,
          4979,
          4980,
          4981,
          4982,
          4983,
          4984,
          4985,
          4986,
          4987,
          4988,
          4989,
          4990,
          4991,
          4992,
          4993,
          4994,
          4995,
          4996,
          4997,
          4998,
          4999,
          5000,
          5001,
          5002,
          5003,
          5004,
          5005,
          5006,
          5007,
          5008,
          5009,
          5010,
          5011,
          5012,
          5013,
          5014,
          5015,
          5016,
          5017,
          5018,
          5019,
          5020,
          5021,
          5022,
          5023,
          5024,
          5025,
          5026,
          5027,
          5028,
          5029,
          5030,
          5031,
          5032,
          5033,
          5034,
          5035,
          5036,
          5037,
          5038,
          5039,
          5040,
          5041,
          5042
         ],
         "y": [
          418.28,
          0,
          6.97,
          250.97,
          4322.2,
          3813.3,
          5430.64,
          1331.52,
          955.07,
          132.45,
          920.21,
          244,
          578.62,
          982.95,
          1129.35,
          1847.39,
          1171.18,
          627.42,
          188.22,
          5535.21,
          4858.99,
          0,
          0,
          599.53,
          0,
          522.85,
          0,
          1185.12,
          3206.79,
          1819.51,
          620.44,
          4371,
          529.82,
          237.02,
          397.36,
          487.99,
          5054.19,
          599.53,
          1310.6,
          1073.58,
          2077.44,
          1965.9,
          5862.86,
          3457.76,
          899.3,
          20.91,
          383.42,
          237.02,
          118.51,
          6.97,
          20.91,
          0,
          439.19,
          1854.36,
          885.35,
          5353.95,
          697.13,
          752.9,
          501.93,
          1289.69,
          613.47,
          62.74,
          474.05,
          237.02,
          446.16,
          1554.6,
          3004.63,
          1429.11,
          2119.27,
          418.28,
          0,
          34.86,
          0,
          0,
          0,
          0,
          139.43,
          529.82,
          662.27,
          1122.38,
          906.27,
          794.73,
          460.11,
          390.39,
          313.71,
          578.62,
          446.16,
          704.1,
          2453.89,
          1484.88,
          1791.62,
          508.9,
          1443.06,
          160.34,
          0,
          0,
          0,
          0,
          0,
          2161.1,
          1345.46,
          1554.6,
          6406.62,
          1401.23,
          613.47,
          111.54,
          6.97,
          425.25,
          341.59,
          467.08,
          83.66,
          1261.8,
          906.27,
          1268.77,
          1659.17,
          2886.11,
          1366.37,
          989.92,
          0,
          1631.28,
          0,
          0,
          146.4,
          0,
          257.94,
          160.34,
          153.37,
          5340.01,
          4357.06,
          1059.64,
          955.07,
          2154.13,
          369.48,
          1296.66,
          738.96,
          404.33,
          3367.13,
          606.5,
          1024.78,
          3792.38,
          3917.87,
          620.44,
          0,
          0,
          0,
          83.66,
          34.86,
          0,
          0,
          690.16,
          1554.6,
          975.98,
          4147.92,
          996.89,
          4587.11,
          3053.43,
          1568.54,
          697.13,
          885.35,
          550.73,
          139.43,
          801.7,
          83.66,
          2739.72,
          1192.09,
          1247.86,
          0,
          271.88,
          0
         ]
        },
        {
         "mode": "lines",
         "name": "Tank Heat Delivered",
         "type": "scatter",
         "x": [
          4874,
          4875,
          4876,
          4877,
          4878,
          4879,
          4880,
          4881,
          4882,
          4883,
          4884,
          4885,
          4886,
          4887,
          4888,
          4889,
          4890,
          4891,
          4892,
          4893,
          4894,
          4895,
          4896,
          4897,
          4898,
          4899,
          4900,
          4901,
          4902,
          4903,
          4904,
          4905,
          4906,
          4907,
          4908,
          4909,
          4910,
          4911,
          4912,
          4913,
          4914,
          4915,
          4916,
          4917,
          4918,
          4919,
          4920,
          4921,
          4922,
          4923,
          4924,
          4925,
          4926,
          4927,
          4928,
          4929,
          4930,
          4931,
          4932,
          4933,
          4934,
          4935,
          4936,
          4937,
          4938,
          4939,
          4940,
          4941,
          4942,
          4943,
          4944,
          4945,
          4946,
          4947,
          4948,
          4949,
          4950,
          4951,
          4952,
          4953,
          4954,
          4955,
          4956,
          4957,
          4958,
          4959,
          4960,
          4961,
          4962,
          4963,
          4964,
          4965,
          4966,
          4967,
          4968,
          4969,
          4970,
          4971,
          4972,
          4973,
          4974,
          4975,
          4976,
          4977,
          4978,
          4979,
          4980,
          4981,
          4982,
          4983,
          4984,
          4985,
          4986,
          4987,
          4988,
          4989,
          4990,
          4991,
          4992,
          4993,
          4994,
          4995,
          4996,
          4997,
          4998,
          4999,
          5000,
          5001,
          5002,
          5003,
          5004,
          5005,
          5006,
          5007,
          5008,
          5009,
          5010,
          5011,
          5012,
          5013,
          5014,
          5015,
          5016,
          5017,
          5018,
          5019,
          5020,
          5021,
          5022,
          5023,
          5024,
          5025,
          5026,
          5027,
          5028,
          5029,
          5030,
          5031,
          5032,
          5033,
          5034,
          5035,
          5036,
          5037,
          5038,
          5039,
          5040,
          5041,
          5042
         ],
         "y": [
          423.04,
          0,
          7.05,
          253.86,
          4372.35,
          3853.84,
          5482,
          1342.67,
          962.97,
          133.5,
          927.17,
          246.31,
          584.04,
          991.98,
          1139.77,
          1864.53,
          1182.07,
          633.35,
          190.04,
          5591.44,
          4906.23,
          0,
          0,
          605.3,
          0,
          527.99,
          0,
          1197.02,
          3239,
          1836.44,
          625.69,
          4405.6,
          533.61,
          238.77,
          400.14,
          492.53,
          5099.98,
          604.93,
          1322.29,
          1083.26,
          2096.17,
          1983.99,
          5917.22,
          3488.05,
          907.18,
          21.1,
          386.93,
          239.21,
          119.62,
          7.04,
          21.11,
          0,
          443.55,
          1872.21,
          893.1,
          5398.13,
          702.33,
          758.79,
          505.61,
          1301.81,
          619.23,
          63.34,
          478.63,
          239.42,
          450.83,
          1572.48,
          3037.92,
          1444.28,
          2141.89,
          422.7,
          0,
          35.23,
          0,
          0,
          0,
          0,
          141.02,
          535.74,
          669.49,
          1134.17,
          915.95,
          803.4,
          465.17,
          395.14,
          317.41,
          585.1,
          451.18,
          711.72,
          2480.58,
          1500.87,
          1810.65,
          514.35,
          1458.51,
          162.04,
          0,
          0,
          0,
          0,
          0,
          2185.09,
          1359.92,
          1570.86,
          6470.77,
          1413.54,
          618.57,
          112.49,
          7.03,
          429.81,
          345.18,
          471.9,
          84.5,
          1274.61,
          915.55,
          1281.99,
          1676.75,
          2916.75,
          1380.6,
          1000.21,
          0,
          1648.6,
          0,
          0,
          147.97,
          0,
          260.74,
          162.03,
          154.91,
          5391.56,
          4396.74,
          1068.65,
          962.78,
          2176.12,
          373.18,
          1309.51,
          746.37,
          408.37,
          3400.9,
          612.39,
          1034.82,
          3830.3,
          3955.48,
          626.13,
          0,
          0,
          0,
          84.46,
          35.19,
          0,
          0,
          697.07,
          1569.48,
          984.97,
          4187.33,
          1006,
          4635.88,
          3085.15,
          1584.99,
          704.81,
          895.6,
          557.01,
          141.02,
          810.86,
          84.63,
          2771.82,
          1205.61,
          1262.01,
          0,
          274.93,
          0
         ]
        },
        {
         "mode": "lines",
         "name": "Tank Unmet Heat",
         "type": "scatter",
         "x": [
          4874,
          4875,
          4876,
          4877,
          4878,
          4879,
          4880,
          4881,
          4882,
          4883,
          4884,
          4885,
          4886,
          4887,
          4888,
          4889,
          4890,
          4891,
          4892,
          4893,
          4894,
          4895,
          4896,
          4897,
          4898,
          4899,
          4900,
          4901,
          4902,
          4903,
          4904,
          4905,
          4906,
          4907,
          4908,
          4909,
          4910,
          4911,
          4912,
          4913,
          4914,
          4915,
          4916,
          4917,
          4918,
          4919,
          4920,
          4921,
          4922,
          4923,
          4924,
          4925,
          4926,
          4927,
          4928,
          4929,
          4930,
          4931,
          4932,
          4933,
          4934,
          4935,
          4936,
          4937,
          4938,
          4939,
          4940,
          4941,
          4942,
          4943,
          4944,
          4945,
          4946,
          4947,
          4948,
          4949,
          4950,
          4951,
          4952,
          4953,
          4954,
          4955,
          4956,
          4957,
          4958,
          4959,
          4960,
          4961,
          4962,
          4963,
          4964,
          4965,
          4966,
          4967,
          4968,
          4969,
          4970,
          4971,
          4972,
          4973,
          4974,
          4975,
          4976,
          4977,
          4978,
          4979,
          4980,
          4981,
          4982,
          4983,
          4984,
          4985,
          4986,
          4987,
          4988,
          4989,
          4990,
          4991,
          4992,
          4993,
          4994,
          4995,
          4996,
          4997,
          4998,
          4999,
          5000,
          5001,
          5002,
          5003,
          5004,
          5005,
          5006,
          5007,
          5008,
          5009,
          5010,
          5011,
          5012,
          5013,
          5014,
          5015,
          5016,
          5017,
          5018,
          5019,
          5020,
          5021,
          5022,
          5023,
          5024,
          5025,
          5026,
          5027,
          5028,
          5029,
          5030,
          5031,
          5032,
          5033,
          5034,
          5035,
          5036,
          5037,
          5038,
          5039,
          5040,
          5041,
          5042
         ],
         "y": [
          0,
          0,
          0,
          0,
          0,
          0,
          0,
          0,
          0,
          0,
          0,
          0,
          0,
          0,
          0,
          0,
          0,
          0,
          0,
          0,
          0,
          0,
          0,
          0,
          0,
          0,
          0,
          0,
          0,
          0,
          0,
          0,
          0,
          0,
          0,
          0,
          0,
          0,
          0,
          0,
          0,
          0,
          0,
          0,
          0,
          0,
          0,
          0,
          0,
          0,
          0,
          0,
          0,
          0,
          0,
          0,
          0,
          0,
          0,
          0,
          0,
          0,
          0,
          0,
          0,
          0,
          0,
          0,
          0,
          0,
          0,
          0,
          0,
          0,
          0,
          0,
          0,
          0,
          0,
          0,
          0,
          0,
          0,
          0,
          0,
          0,
          0,
          0,
          0,
          0,
          0,
          0,
          0,
          0,
          0,
          0,
          0,
          0,
          0,
          0,
          0,
          0,
          0,
          0,
          0,
          0,
          0,
          0,
          0,
          0,
          0,
          0,
          0,
          0,
          0,
          0,
          0,
          0,
          0,
          0,
          0,
          0,
          0,
          0,
          0,
          0,
          0,
          0,
          0,
          0,
          0,
          0,
          0,
          0,
          0,
          0,
          0,
          0,
          0,
          0,
          0,
          0,
          0,
          0,
          0,
          0,
          0,
          0,
          0,
          0,
          0,
          0,
          0,
          0,
          0,
          0,
          0,
          0,
          0,
          0,
          0,
          0,
          0,
          0,
          0,
          0,
          0,
          0,
          0
         ]
        },
        {
         "mode": "lines",
         "name": "Solar Heat Delivered To Tank",
         "type": "scatter",
         "x": [
          4874,
          4875,
          4876,
          4877,
          4878,
          4879,
          4880,
          4881,
          4882,
          4883,
          4884,
          4885,
          4886,
          4887,
          4888,
          4889,
          4890,
          4891,
          4892,
          4893,
          4894,
          4895,
          4896,
          4897,
          4898,
          4899,
          4900,
          4901,
          4902,
          4903,
          4904,
          4905,
          4906,
          4907,
          4908,
          4909,
          4910,
          4911,
          4912,
          4913,
          4914,
          4915,
          4916,
          4917,
          4918,
          4919,
          4920,
          4921,
          4922,
          4923,
          4924,
          4925,
          4926,
          4927,
          4928,
          4929,
          4930,
          4931,
          4932,
          4933,
          4934,
          4935,
          4936,
          4937,
          4938,
          4939,
          4940,
          4941,
          4942,
          4943,
          4944,
          4945,
          4946,
          4947,
          4948,
          4949,
          4950,
          4951,
          4952,
          4953,
          4954,
          4955,
          4956,
          4957,
          4958,
          4959,
          4960,
          4961,
          4962,
          4963,
          4964,
          4965,
          4966,
          4967,
          4968,
          4969,
          4970,
          4971,
          4972,
          4973,
          4974,
          4975,
          4976,
          4977,
          4978,
          4979,
          4980,
          4981,
          4982,
          4983,
          4984,
          4985,
          4986,
          4987,
          4988,
          4989,
          4990,
          4991,
          4992,
          4993,
          4994,
          4995,
          4996,
          4997,
          4998,
          4999,
          5000,
          5001,
          5002,
          5003,
          5004,
          5005,
          5006,
          5007,
          5008,
          5009,
          5010,
          5011,
          5012,
          5013,
          5014,
          5015,
          5016,
          5017,
          5018,
          5019,
          5020,
          5021,
          5022,
          5023,
          5024,
          5025,
          5026,
          5027,
          5028,
          5029,
          5030,
          5031,
          5032,
          5033,
          5034,
          5035,
          5036,
          5037,
          5038,
          5039,
          5040,
          5041,
          5042
         ],
         "y": [
          0,
          0,
          0,
          0,
          0,
          0,
          2617.7759275718845,
          4743.518395379957,
          3224.709697310059,
          0,
          16000.614882912792,
          13605.761179720632,
          12039.04806953841,
          10023.088579116435,
          7032.7202018100825,
          3771.06095634268,
          364.68974823879483,
          0,
          0,
          0,
          0,
          0,
          0,
          0,
          0,
          0,
          0,
          0,
          0,
          131.77652231732824,
          1512.2903428727298,
          5205.479692545516,
          5572.298937944202,
          0,
          17992.204975374374,
          14087.55559882981,
          12233.54710959568,
          9892.342855545994,
          6993.616633685468,
          3714.208745399992,
          376.4659505670168,
          0,
          0,
          0,
          0,
          0,
          0,
          0,
          0,
          0,
          0,
          0,
          0,
          0,
          1670.5634263311927,
          5126.831018907071,
          5719.2192792225305,
          0,
          18427.3088499035,
          14171.396660269047,
          12150.348294140818,
          9853.117925490888,
          6583.813175132951,
          2245.4428845284847,
          0,
          0,
          0,
          0,
          0,
          0,
          0,
          0,
          0,
          0,
          0,
          0,
          0,
          0,
          1531.635726646977,
          4062.322994135524,
          3713.01258386197,
          0,
          9458.914678310925,
          11044.351170803291,
          9879.311765534323,
          8518.150720594807,
          4627.158940361973,
          2811.8601922056564,
          0,
          0,
          0,
          0,
          0,
          0,
          0,
          0,
          0,
          0,
          0,
          0,
          0,
          0,
          0,
          2815.7815355099374,
          5077.601761304827,
          0,
          16908.52529308267,
          13222.599441907138,
          11433.242688074057,
          9326.318017977004,
          6665.268269568577,
          3254.3741411281917,
          0,
          0,
          0,
          0,
          0,
          0,
          0,
          0,
          0,
          0,
          0,
          0,
          0,
          0,
          384.4879610787502,
          4677.129754572593,
          4639.14238267662,
          0,
          15986.061812522981,
          13411.315835742313,
          11740.875842737441,
          8976.010817999013,
          6597.403952775847,
          3281.4842585775314,
          0,
          0,
          0,
          0,
          0,
          0,
          0,
          0,
          0,
          0,
          0,
          0,
          0,
          0,
          2391.163632598991,
          4434.829586295256,
          3522.850282342631,
          18548.91321429228,
          12554.429757954806,
          11414.182213694537,
          8928.290304072916,
          6087.933663376503,
          5526.341951618675,
          2687.8777574195046,
          0,
          0,
          0,
          0,
          0,
          0,
          0,
          0,
          0
         ]
        },
        {
         "mode": "lines",
         "name": "Distribution Heat Loss",
         "type": "scatter",
         "x": [
          4874,
          4875,
          4876,
          4877,
          4878,
          4879,
          4880,
          4881,
          4882,
          4883,
          4884,
          4885,
          4886,
          4887,
          4888,
          4889,
          4890,
          4891,
          4892,
          4893,
          4894,
          4895,
          4896,
          4897,
          4898,
          4899,
          4900,
          4901,
          4902,
          4903,
          4904,
          4905,
          4906,
          4907,
          4908,
          4909,
          4910,
          4911,
          4912,
          4913,
          4914,
          4915,
          4916,
          4917,
          4918,
          4919,
          4920,
          4921,
          4922,
          4923,
          4924,
          4925,
          4926,
          4927,
          4928,
          4929,
          4930,
          4931,
          4932,
          4933,
          4934,
          4935,
          4936,
          4937,
          4938,
          4939,
          4940,
          4941,
          4942,
          4943,
          4944,
          4945,
          4946,
          4947,
          4948,
          4949,
          4950,
          4951,
          4952,
          4953,
          4954,
          4955,
          4956,
          4957,
          4958,
          4959,
          4960,
          4961,
          4962,
          4963,
          4964,
          4965,
          4966,
          4967,
          4968,
          4969,
          4970,
          4971,
          4972,
          4973,
          4974,
          4975,
          4976,
          4977,
          4978,
          4979,
          4980,
          4981,
          4982,
          4983,
          4984,
          4985,
          4986,
          4987,
          4988,
          4989,
          4990,
          4991,
          4992,
          4993,
          4994,
          4995,
          4996,
          4997,
          4998,
          4999,
          5000,
          5001,
          5002,
          5003,
          5004,
          5005,
          5006,
          5007,
          5008,
          5009,
          5010,
          5011,
          5012,
          5013,
          5014,
          5015,
          5016,
          5017,
          5018,
          5019,
          5020,
          5021,
          5022,
          5023,
          5024,
          5025,
          5026,
          5027,
          5028,
          5029,
          5030,
          5031,
          5032,
          5033,
          5034,
          5035,
          5036,
          5037,
          5038,
          5039,
          5040,
          5041,
          5042
         ],
         "y": [
          4.759384458179354,
          0,
          0.08001883830304198,
          2.898179145005618,
          50.14704355253633,
          40.54608359297001,
          51.36792240476696,
          11.150179981029973,
          7.898457752330132,
          1.0450062561287374,
          6.957235722664575,
          2.3170872445602964,
          5.4248984095834,
          9.025774959181426,
          10.424618469092636,
          17.141897346888797,
          10.895616356100307,
          5.938592342546511,
          1.8130142998031593,
          56.23719821766207,
          47.2438041821399,
          0,
          0,
          5.764173824438803,
          0,
          5.1417119369087105,
          0,
          11.900321106784784,
          32.21027880975238,
          16.937486459631483,
          5.248186348606998,
          34.60220669616273,
          3.791929880952484,
          1.74680138992971,
          2.7722638885174757,
          4.539840148375128,
          45.798480161019974,
          5.403673182915675,
          11.686003368203323,
          9.676345001965279,
          18.72435591289385,
          18.086716259277583,
          54.35982722044562,
          30.291936943557136,
          7.878790924498349,
          0.1883624539992522,
          3.5091027967902124,
          2.1840303188681207,
          1.1050546358254651,
          0.06573380573478003,
          0.20027133481993728,
          0,
          4.353926577932089,
          17.85143221625682,
          7.74583846075156,
          44.182082544616364,
          5.204257612292957,
          5.886717675768615,
          3.672639865403792,
          12.122805056690765,
          5.7516995185944495,
          0.5973385219346272,
          4.581953693350784,
          2.3940708047757835,
          4.668202233460913,
          17.882145579759612,
          33.289435803166086,
          15.170276748849739,
          22.62014638863644,
          4.421826477865388,
          0,
          0.37539633854090687,
          0,
          0,
          0,
          0,
          1.5917473221418246,
          5.920700323550388,
          7.215372668420326,
          11.794219923262174,
          9.67800873352433,
          8.670800147183504,
          5.060453479498161,
          4.745017339496504,
          3.706834228756762,
          6.487507376409012,
          5.013196393901444,
          7.622214732232951,
          26.683142096572183,
          15.985200248797092,
          19.02867924949216,
          5.441710237400071,
          15.450990622803765,
          1.7024914378635811,
          0,
          0,
          0,
          0,
          0,
          23.987468449818557,
          14.4614727198844,
          16.257667662938207,
          64.15096979465078,
          12.307524720574065,
          5.097984193281344,
          0.9507374838751178,
          0.05747729286160775,
          4.5624130084820775,
          3.5906008446239666,
          4.819305632833547,
          0.844966166391453,
          12.805886756195825,
          9.285194396231434,
          13.212748531933903,
          17.579433718153485,
          30.6403215266882,
          14.229928354948497,
          10.282129197945963,
          0,
          17.3138195813324,
          0,
          0,
          1.5681727510915253,
          0,
          2.800510585561521,
          1.6915066266268504,
          1.5436478885398797,
          51.553402515742334,
          39.680494164517654,
          9.010170297180794,
          7.708342842907967,
          21.989978959745876,
          3.705149686957737,
          12.846315759372454,
          7.410299373915474,
          4.035151425386935,
          33.765798090577114,
          5.883866758207633,
          10.04146019683527,
          37.912923813829075,
          37.61755582109509,
          5.684902113543227,
          0,
          0,
          0,
          0.8048882866350354,
          0.33751637732237133,
          0,
          0,
          6.914125506920211,
          14.877253747687336,
          8.989824721595198,
          39.414889597066676,
          9.104297120737224,
          48.770854165401396,
          31.726660242856102,
          16.449550667489103,
          7.681510603558666,
          10.247573126015002,
          6.281319460208234,
          1.5902074582805654,
          9.162986069172618,
          0.9734110895175234,
          32.10088376298515,
          13.520911013574437,
          14.151411279344476,
          0,
          3.0475118968404478,
          0
         ]
        }
       ],
       "layout": {
        "font": {
         "family": "arial",
         "size": 16
        },
        "height": 450,
        "legend": {
         "font": {
          "family": "arial",
          "size": 12.8
         },
         "x": 0.65,
         "y": 1.3
        },
        "margin": {
         "b": 60,
         "l": 60
        },
        "showlegend": true,
        "template": {
         "data": {
          "bar": [
           {
            "error_x": {
             "color": "#2a3f5f"
            },
            "error_y": {
             "color": "#2a3f5f"
            },
            "marker": {
             "line": {
              "color": "#E5ECF6",
              "width": 0.5
             }
            },
            "type": "bar"
           }
          ],
          "barpolar": [
           {
            "marker": {
             "line": {
              "color": "#E5ECF6",
              "width": 0.5
             }
            },
            "type": "barpolar"
           }
          ],
          "carpet": [
           {
            "aaxis": {
             "endlinecolor": "#2a3f5f",
             "gridcolor": "white",
             "linecolor": "white",
             "minorgridcolor": "white",
             "startlinecolor": "#2a3f5f"
            },
            "baxis": {
             "endlinecolor": "#2a3f5f",
             "gridcolor": "white",
             "linecolor": "white",
             "minorgridcolor": "white",
             "startlinecolor": "#2a3f5f"
            },
            "type": "carpet"
           }
          ],
          "choropleth": [
           {
            "colorbar": {
             "outlinewidth": 0,
             "ticks": ""
            },
            "type": "choropleth"
           }
          ],
          "contour": [
           {
            "colorbar": {
             "outlinewidth": 0,
             "ticks": ""
            },
            "colorscale": [
             [
              0,
              "#0d0887"
             ],
             [
              0.1111111111111111,
              "#46039f"
             ],
             [
              0.2222222222222222,
              "#7201a8"
             ],
             [
              0.3333333333333333,
              "#9c179e"
             ],
             [
              0.4444444444444444,
              "#bd3786"
             ],
             [
              0.5555555555555556,
              "#d8576b"
             ],
             [
              0.6666666666666666,
              "#ed7953"
             ],
             [
              0.7777777777777778,
              "#fb9f3a"
             ],
             [
              0.8888888888888888,
              "#fdca26"
             ],
             [
              1,
              "#f0f921"
             ]
            ],
            "type": "contour"
           }
          ],
          "contourcarpet": [
           {
            "colorbar": {
             "outlinewidth": 0,
             "ticks": ""
            },
            "type": "contourcarpet"
           }
          ],
          "heatmap": [
           {
            "colorbar": {
             "outlinewidth": 0,
             "ticks": ""
            },
            "colorscale": [
             [
              0,
              "#0d0887"
             ],
             [
              0.1111111111111111,
              "#46039f"
             ],
             [
              0.2222222222222222,
              "#7201a8"
             ],
             [
              0.3333333333333333,
              "#9c179e"
             ],
             [
              0.4444444444444444,
              "#bd3786"
             ],
             [
              0.5555555555555556,
              "#d8576b"
             ],
             [
              0.6666666666666666,
              "#ed7953"
             ],
             [
              0.7777777777777778,
              "#fb9f3a"
             ],
             [
              0.8888888888888888,
              "#fdca26"
             ],
             [
              1,
              "#f0f921"
             ]
            ],
            "type": "heatmap"
           }
          ],
          "heatmapgl": [
           {
            "colorbar": {
             "outlinewidth": 0,
             "ticks": ""
            },
            "colorscale": [
             [
              0,
              "#0d0887"
             ],
             [
              0.1111111111111111,
              "#46039f"
             ],
             [
              0.2222222222222222,
              "#7201a8"
             ],
             [
              0.3333333333333333,
              "#9c179e"
             ],
             [
              0.4444444444444444,
              "#bd3786"
             ],
             [
              0.5555555555555556,
              "#d8576b"
             ],
             [
              0.6666666666666666,
              "#ed7953"
             ],
             [
              0.7777777777777778,
              "#fb9f3a"
             ],
             [
              0.8888888888888888,
              "#fdca26"
             ],
             [
              1,
              "#f0f921"
             ]
            ],
            "type": "heatmapgl"
           }
          ],
          "histogram": [
           {
            "marker": {
             "colorbar": {
              "outlinewidth": 0,
              "ticks": ""
             }
            },
            "type": "histogram"
           }
          ],
          "histogram2d": [
           {
            "colorbar": {
             "outlinewidth": 0,
             "ticks": ""
            },
            "colorscale": [
             [
              0,
              "#0d0887"
             ],
             [
              0.1111111111111111,
              "#46039f"
             ],
             [
              0.2222222222222222,
              "#7201a8"
             ],
             [
              0.3333333333333333,
              "#9c179e"
             ],
             [
              0.4444444444444444,
              "#bd3786"
             ],
             [
              0.5555555555555556,
              "#d8576b"
             ],
             [
              0.6666666666666666,
              "#ed7953"
             ],
             [
              0.7777777777777778,
              "#fb9f3a"
             ],
             [
              0.8888888888888888,
              "#fdca26"
             ],
             [
              1,
              "#f0f921"
             ]
            ],
            "type": "histogram2d"
           }
          ],
          "histogram2dcontour": [
           {
            "colorbar": {
             "outlinewidth": 0,
             "ticks": ""
            },
            "colorscale": [
             [
              0,
              "#0d0887"
             ],
             [
              0.1111111111111111,
              "#46039f"
             ],
             [
              0.2222222222222222,
              "#7201a8"
             ],
             [
              0.3333333333333333,
              "#9c179e"
             ],
             [
              0.4444444444444444,
              "#bd3786"
             ],
             [
              0.5555555555555556,
              "#d8576b"
             ],
             [
              0.6666666666666666,
              "#ed7953"
             ],
             [
              0.7777777777777778,
              "#fb9f3a"
             ],
             [
              0.8888888888888888,
              "#fdca26"
             ],
             [
              1,
              "#f0f921"
             ]
            ],
            "type": "histogram2dcontour"
           }
          ],
          "mesh3d": [
           {
            "colorbar": {
             "outlinewidth": 0,
             "ticks": ""
            },
            "type": "mesh3d"
           }
          ],
          "parcoords": [
           {
            "line": {
             "colorbar": {
              "outlinewidth": 0,
              "ticks": ""
             }
            },
            "type": "parcoords"
           }
          ],
          "pie": [
           {
            "automargin": true,
            "type": "pie"
           }
          ],
          "scatter": [
           {
            "marker": {
             "colorbar": {
              "outlinewidth": 0,
              "ticks": ""
             }
            },
            "type": "scatter"
           }
          ],
          "scatter3d": [
           {
            "line": {
             "colorbar": {
              "outlinewidth": 0,
              "ticks": ""
             }
            },
            "marker": {
             "colorbar": {
              "outlinewidth": 0,
              "ticks": ""
             }
            },
            "type": "scatter3d"
           }
          ],
          "scattercarpet": [
           {
            "marker": {
             "colorbar": {
              "outlinewidth": 0,
              "ticks": ""
             }
            },
            "type": "scattercarpet"
           }
          ],
          "scattergeo": [
           {
            "marker": {
             "colorbar": {
              "outlinewidth": 0,
              "ticks": ""
             }
            },
            "type": "scattergeo"
           }
          ],
          "scattergl": [
           {
            "marker": {
             "colorbar": {
              "outlinewidth": 0,
              "ticks": ""
             }
            },
            "type": "scattergl"
           }
          ],
          "scattermapbox": [
           {
            "marker": {
             "colorbar": {
              "outlinewidth": 0,
              "ticks": ""
             }
            },
            "type": "scattermapbox"
           }
          ],
          "scatterpolar": [
           {
            "marker": {
             "colorbar": {
              "outlinewidth": 0,
              "ticks": ""
             }
            },
            "type": "scatterpolar"
           }
          ],
          "scatterpolargl": [
           {
            "marker": {
             "colorbar": {
              "outlinewidth": 0,
              "ticks": ""
             }
            },
            "type": "scatterpolargl"
           }
          ],
          "scatterternary": [
           {
            "marker": {
             "colorbar": {
              "outlinewidth": 0,
              "ticks": ""
             }
            },
            "type": "scatterternary"
           }
          ],
          "surface": [
           {
            "colorbar": {
             "outlinewidth": 0,
             "ticks": ""
            },
            "colorscale": [
             [
              0,
              "#0d0887"
             ],
             [
              0.1111111111111111,
              "#46039f"
             ],
             [
              0.2222222222222222,
              "#7201a8"
             ],
             [
              0.3333333333333333,
              "#9c179e"
             ],
             [
              0.4444444444444444,
              "#bd3786"
             ],
             [
              0.5555555555555556,
              "#d8576b"
             ],
             [
              0.6666666666666666,
              "#ed7953"
             ],
             [
              0.7777777777777778,
              "#fb9f3a"
             ],
             [
              0.8888888888888888,
              "#fdca26"
             ],
             [
              1,
              "#f0f921"
             ]
            ],
            "type": "surface"
           }
          ],
          "table": [
           {
            "cells": {
             "fill": {
              "color": "#EBF0F8"
             },
             "line": {
              "color": "white"
             }
            },
            "header": {
             "fill": {
              "color": "#C8D4E3"
             },
             "line": {
              "color": "white"
             }
            },
            "type": "table"
           }
          ]
         },
         "layout": {
          "annotationdefaults": {
           "arrowcolor": "#2a3f5f",
           "arrowhead": 0,
           "arrowwidth": 1
          },
          "coloraxis": {
           "colorbar": {
            "outlinewidth": 0,
            "ticks": ""
           }
          },
          "colorscale": {
           "diverging": [
            [
             0,
             "#8e0152"
            ],
            [
             0.1,
             "#c51b7d"
            ],
            [
             0.2,
             "#de77ae"
            ],
            [
             0.3,
             "#f1b6da"
            ],
            [
             0.4,
             "#fde0ef"
            ],
            [
             0.5,
             "#f7f7f7"
            ],
            [
             0.6,
             "#e6f5d0"
            ],
            [
             0.7,
             "#b8e186"
            ],
            [
             0.8,
             "#7fbc41"
            ],
            [
             0.9,
             "#4d9221"
            ],
            [
             1,
             "#276419"
            ]
           ],
           "sequential": [
            [
             0,
             "#0d0887"
            ],
            [
             0.1111111111111111,
             "#46039f"
            ],
            [
             0.2222222222222222,
             "#7201a8"
            ],
            [
             0.3333333333333333,
             "#9c179e"
            ],
            [
             0.4444444444444444,
             "#bd3786"
            ],
            [
             0.5555555555555556,
             "#d8576b"
            ],
            [
             0.6666666666666666,
             "#ed7953"
            ],
            [
             0.7777777777777778,
             "#fb9f3a"
            ],
            [
             0.8888888888888888,
             "#fdca26"
            ],
            [
             1,
             "#f0f921"
            ]
           ],
           "sequentialminus": [
            [
             0,
             "#0d0887"
            ],
            [
             0.1111111111111111,
             "#46039f"
            ],
            [
             0.2222222222222222,
             "#7201a8"
            ],
            [
             0.3333333333333333,
             "#9c179e"
            ],
            [
             0.4444444444444444,
             "#bd3786"
            ],
            [
             0.5555555555555556,
             "#d8576b"
            ],
            [
             0.6666666666666666,
             "#ed7953"
            ],
            [
             0.7777777777777778,
             "#fb9f3a"
            ],
            [
             0.8888888888888888,
             "#fdca26"
            ],
            [
             1,
             "#f0f921"
            ]
           ]
          },
          "colorway": [
           "#636efa",
           "#EF553B",
           "#00cc96",
           "#ab63fa",
           "#FFA15A",
           "#19d3f3",
           "#FF6692",
           "#B6E880",
           "#FF97FF",
           "#FECB52"
          ],
          "font": {
           "color": "#2a3f5f"
          },
          "geo": {
           "bgcolor": "white",
           "lakecolor": "white",
           "landcolor": "#E5ECF6",
           "showlakes": true,
           "showland": true,
           "subunitcolor": "white"
          },
          "hoverlabel": {
           "align": "left"
          },
          "hovermode": "closest",
          "mapbox": {
           "style": "light"
          },
          "paper_bgcolor": "white",
          "plot_bgcolor": "#E5ECF6",
          "polar": {
           "angularaxis": {
            "gridcolor": "white",
            "linecolor": "white",
            "ticks": ""
           },
           "bgcolor": "#E5ECF6",
           "radialaxis": {
            "gridcolor": "white",
            "linecolor": "white",
            "ticks": ""
           }
          },
          "scene": {
           "xaxis": {
            "backgroundcolor": "#E5ECF6",
            "gridcolor": "white",
            "gridwidth": 2,
            "linecolor": "white",
            "showbackground": true,
            "ticks": "",
            "zerolinecolor": "white"
           },
           "yaxis": {
            "backgroundcolor": "#E5ECF6",
            "gridcolor": "white",
            "gridwidth": 2,
            "linecolor": "white",
            "showbackground": true,
            "ticks": "",
            "zerolinecolor": "white"
           },
           "zaxis": {
            "backgroundcolor": "#E5ECF6",
            "gridcolor": "white",
            "gridwidth": 2,
            "linecolor": "white",
            "showbackground": true,
            "ticks": "",
            "zerolinecolor": "white"
           }
          },
          "shapedefaults": {
           "line": {
            "color": "#2a3f5f"
           }
          },
          "ternary": {
           "aaxis": {
            "gridcolor": "white",
            "linecolor": "white",
            "ticks": ""
           },
           "baxis": {
            "gridcolor": "white",
            "linecolor": "white",
            "ticks": ""
           },
           "bgcolor": "#E5ECF6",
           "caxis": {
            "gridcolor": "white",
            "linecolor": "white",
            "ticks": ""
           }
          },
          "title": {
           "x": 0.05
          },
          "xaxis": {
           "automargin": true,
           "gridcolor": "white",
           "linecolor": "white",
           "ticks": "",
           "title": {
            "standoff": 15
           },
           "zerolinecolor": "white",
           "zerolinewidth": 2
          },
          "yaxis": {
           "automargin": true,
           "gridcolor": "white",
           "linecolor": "white",
           "ticks": "",
           "title": {
            "standoff": 15
           },
           "zerolinecolor": "white",
           "zerolinewidth": 2
          }
         }
        },
        "title": {
         "font": {
          "family": "arial",
          "size": 16
         },
         "text": ""
        },
        "width": 650,
        "xaxis": {
         "tickfont": {
          "size": 12.8
         },
         "title": {
          "font": {
           "color": "#7f7f7f",
           "size": 16
          },
          "text": "Hour [h]"
         }
        },
        "yaxis": {
         "tickfont": {
          "size": 9.6
         },
         "title": {
          "font": {
           "color": "#7f7f7f",
           "size": 16
          },
          "text": "Heat rate [W]"
         }
        }
       }
      },
      "text/html": [
       "<div>\n",
       "        \n",
       "        \n",
       "            <div id=\"60656cc1-8104-4cc7-90a5-35c33066471a\" class=\"plotly-graph-div\" style=\"height:450px; width:650px;\"></div>\n",
       "            <script type=\"text/javascript\">\n",
       "                require([\"plotly\"], function(Plotly) {\n",
       "                    window.PLOTLYENV=window.PLOTLYENV || {};\n",
       "                    \n",
       "                if (document.getElementById(\"60656cc1-8104-4cc7-90a5-35c33066471a\")) {\n",
       "                    Plotly.newPlot(\n",
       "                        '60656cc1-8104-4cc7-90a5-35c33066471a',\n",
       "                        [{\"mode\": \"lines\", \"name\": \"Net Heat Demand\", \"type\": \"scatter\", \"x\": [4874, 4875, 4876, 4877, 4878, 4879, 4880, 4881, 4882, 4883, 4884, 4885, 4886, 4887, 4888, 4889, 4890, 4891, 4892, 4893, 4894, 4895, 4896, 4897, 4898, 4899, 4900, 4901, 4902, 4903, 4904, 4905, 4906, 4907, 4908, 4909, 4910, 4911, 4912, 4913, 4914, 4915, 4916, 4917, 4918, 4919, 4920, 4921, 4922, 4923, 4924, 4925, 4926, 4927, 4928, 4929, 4930, 4931, 4932, 4933, 4934, 4935, 4936, 4937, 4938, 4939, 4940, 4941, 4942, 4943, 4944, 4945, 4946, 4947, 4948, 4949, 4950, 4951, 4952, 4953, 4954, 4955, 4956, 4957, 4958, 4959, 4960, 4961, 4962, 4963, 4964, 4965, 4966, 4967, 4968, 4969, 4970, 4971, 4972, 4973, 4974, 4975, 4976, 4977, 4978, 4979, 4980, 4981, 4982, 4983, 4984, 4985, 4986, 4987, 4988, 4989, 4990, 4991, 4992, 4993, 4994, 4995, 4996, 4997, 4998, 4999, 5000, 5001, 5002, 5003, 5004, 5005, 5006, 5007, 5008, 5009, 5010, 5011, 5012, 5013, 5014, 5015, 5016, 5017, 5018, 5019, 5020, 5021, 5022, 5023, 5024, 5025, 5026, 5027, 5028, 5029, 5030, 5031, 5032, 5033, 5034, 5035, 5036, 5037, 5038, 5039, 5040, 5041, 5042], \"y\": [418.28, 0.0, 6.97, 250.97, 4322.2, 3813.3, 5430.64, 1331.52, 955.07, 132.45, 920.21, 244.0, 578.62, 982.95, 1129.35, 1847.39, 1171.18, 627.42, 188.22, 5535.21, 4858.99, 0.0, 0.0, 599.53, 0.0, 522.85, 0.0, 1185.12, 3206.79, 1819.51, 620.44, 4371.0, 529.82, 237.02, 397.36, 487.99, 5054.19, 599.53, 1310.6, 1073.58, 2077.44, 1965.9, 5862.86, 3457.76, 899.3, 20.91, 383.42, 237.02, 118.51, 6.97, 20.91, 0.0, 439.19, 1854.36, 885.35, 5353.95, 697.13, 752.9, 501.93, 1289.69, 613.47, 62.74, 474.05, 237.02, 446.16, 1554.6, 3004.63, 1429.11, 2119.27, 418.28, 0.0, 34.86, 0.0, 0.0, 0.0, 0.0, 139.43, 529.82, 662.27, 1122.38, 906.27, 794.73, 460.11, 390.39, 313.71, 578.62, 446.16, 704.1, 2453.89, 1484.88, 1791.62, 508.9, 1443.06, 160.34, 0.0, 0.0, 0.0, 0.0, 0.0, 2161.1, 1345.46, 1554.6, 6406.62, 1401.23, 613.47, 111.54, 6.97, 425.25, 341.59, 467.08, 83.66, 1261.8, 906.27, 1268.77, 1659.17, 2886.11, 1366.37, 989.92, 0.0, 1631.28, 0.0, 0.0, 146.4, 0.0, 257.94, 160.34, 153.37, 5340.01, 4357.06, 1059.64, 955.07, 2154.13, 369.48, 1296.66, 738.96, 404.33, 3367.13, 606.5, 1024.78, 3792.38, 3917.87, 620.44, 0.0, 0.0, 0.0, 83.66, 34.86, 0.0, 0.0, 690.16, 1554.6, 975.98, 4147.92, 996.89, 4587.11, 3053.43, 1568.54, 697.13, 885.35, 550.73, 139.43, 801.7, 83.66, 2739.72, 1192.09, 1247.86, 0.0, 271.88, 0.0]}, {\"mode\": \"lines\", \"name\": \"Tank Heat Delivered\", \"type\": \"scatter\", \"x\": [4874, 4875, 4876, 4877, 4878, 4879, 4880, 4881, 4882, 4883, 4884, 4885, 4886, 4887, 4888, 4889, 4890, 4891, 4892, 4893, 4894, 4895, 4896, 4897, 4898, 4899, 4900, 4901, 4902, 4903, 4904, 4905, 4906, 4907, 4908, 4909, 4910, 4911, 4912, 4913, 4914, 4915, 4916, 4917, 4918, 4919, 4920, 4921, 4922, 4923, 4924, 4925, 4926, 4927, 4928, 4929, 4930, 4931, 4932, 4933, 4934, 4935, 4936, 4937, 4938, 4939, 4940, 4941, 4942, 4943, 4944, 4945, 4946, 4947, 4948, 4949, 4950, 4951, 4952, 4953, 4954, 4955, 4956, 4957, 4958, 4959, 4960, 4961, 4962, 4963, 4964, 4965, 4966, 4967, 4968, 4969, 4970, 4971, 4972, 4973, 4974, 4975, 4976, 4977, 4978, 4979, 4980, 4981, 4982, 4983, 4984, 4985, 4986, 4987, 4988, 4989, 4990, 4991, 4992, 4993, 4994, 4995, 4996, 4997, 4998, 4999, 5000, 5001, 5002, 5003, 5004, 5005, 5006, 5007, 5008, 5009, 5010, 5011, 5012, 5013, 5014, 5015, 5016, 5017, 5018, 5019, 5020, 5021, 5022, 5023, 5024, 5025, 5026, 5027, 5028, 5029, 5030, 5031, 5032, 5033, 5034, 5035, 5036, 5037, 5038, 5039, 5040, 5041, 5042], \"y\": [423.04, 0.0, 7.05, 253.86, 4372.35, 3853.84, 5482.0, 1342.67, 962.97, 133.5, 927.17, 246.31, 584.04, 991.98, 1139.77, 1864.53, 1182.07, 633.35, 190.04, 5591.44, 4906.23, 0.0, 0.0, 605.3, 0.0, 527.99, 0.0, 1197.02, 3239.0, 1836.44, 625.69, 4405.6, 533.61, 238.77, 400.14, 492.53, 5099.98, 604.93, 1322.29, 1083.26, 2096.17, 1983.99, 5917.22, 3488.05, 907.18, 21.1, 386.93, 239.21, 119.62, 7.04, 21.11, 0.0, 443.55, 1872.21, 893.1, 5398.13, 702.33, 758.79, 505.61, 1301.81, 619.23, 63.34, 478.63, 239.42, 450.83, 1572.48, 3037.92, 1444.28, 2141.89, 422.7, 0.0, 35.23, 0.0, 0.0, 0.0, 0.0, 141.02, 535.74, 669.49, 1134.17, 915.95, 803.4, 465.17, 395.14, 317.41, 585.1, 451.18, 711.72, 2480.58, 1500.87, 1810.65, 514.35, 1458.51, 162.04, 0.0, 0.0, 0.0, 0.0, 0.0, 2185.09, 1359.92, 1570.86, 6470.77, 1413.54, 618.57, 112.49, 7.03, 429.81, 345.18, 471.9, 84.5, 1274.61, 915.55, 1281.99, 1676.75, 2916.75, 1380.6, 1000.21, 0.0, 1648.6, 0.0, 0.0, 147.97, 0.0, 260.74, 162.03, 154.91, 5391.56, 4396.74, 1068.65, 962.78, 2176.12, 373.18, 1309.51, 746.37, 408.37, 3400.9, 612.39, 1034.82, 3830.3, 3955.48, 626.13, 0.0, 0.0, 0.0, 84.46, 35.19, 0.0, 0.0, 697.07, 1569.48, 984.97, 4187.33, 1006.0, 4635.88, 3085.15, 1584.99, 704.81, 895.6, 557.01, 141.02, 810.86, 84.63, 2771.82, 1205.61, 1262.01, 0.0, 274.93, 0.0]}, {\"mode\": \"lines\", \"name\": \"Tank Unmet Heat\", \"type\": \"scatter\", \"x\": [4874, 4875, 4876, 4877, 4878, 4879, 4880, 4881, 4882, 4883, 4884, 4885, 4886, 4887, 4888, 4889, 4890, 4891, 4892, 4893, 4894, 4895, 4896, 4897, 4898, 4899, 4900, 4901, 4902, 4903, 4904, 4905, 4906, 4907, 4908, 4909, 4910, 4911, 4912, 4913, 4914, 4915, 4916, 4917, 4918, 4919, 4920, 4921, 4922, 4923, 4924, 4925, 4926, 4927, 4928, 4929, 4930, 4931, 4932, 4933, 4934, 4935, 4936, 4937, 4938, 4939, 4940, 4941, 4942, 4943, 4944, 4945, 4946, 4947, 4948, 4949, 4950, 4951, 4952, 4953, 4954, 4955, 4956, 4957, 4958, 4959, 4960, 4961, 4962, 4963, 4964, 4965, 4966, 4967, 4968, 4969, 4970, 4971, 4972, 4973, 4974, 4975, 4976, 4977, 4978, 4979, 4980, 4981, 4982, 4983, 4984, 4985, 4986, 4987, 4988, 4989, 4990, 4991, 4992, 4993, 4994, 4995, 4996, 4997, 4998, 4999, 5000, 5001, 5002, 5003, 5004, 5005, 5006, 5007, 5008, 5009, 5010, 5011, 5012, 5013, 5014, 5015, 5016, 5017, 5018, 5019, 5020, 5021, 5022, 5023, 5024, 5025, 5026, 5027, 5028, 5029, 5030, 5031, 5032, 5033, 5034, 5035, 5036, 5037, 5038, 5039, 5040, 5041, 5042], \"y\": [0.0, 0.0, 0.0, 0.0, 0.0, 0.0, 0.0, 0.0, 0.0, 0.0, 0.0, 0.0, 0.0, 0.0, 0.0, 0.0, 0.0, 0.0, 0.0, 0.0, 0.0, 0.0, 0.0, 0.0, 0.0, 0.0, 0.0, 0.0, 0.0, 0.0, 0.0, 0.0, 0.0, 0.0, 0.0, 0.0, 0.0, 0.0, 0.0, 0.0, 0.0, 0.0, 0.0, 0.0, 0.0, 0.0, 0.0, 0.0, 0.0, 0.0, 0.0, 0.0, 0.0, 0.0, 0.0, 0.0, 0.0, 0.0, 0.0, 0.0, 0.0, 0.0, 0.0, 0.0, 0.0, 0.0, 0.0, 0.0, 0.0, 0.0, 0.0, 0.0, 0.0, 0.0, 0.0, 0.0, 0.0, 0.0, 0.0, 0.0, 0.0, 0.0, 0.0, 0.0, 0.0, 0.0, 0.0, 0.0, 0.0, 0.0, 0.0, 0.0, 0.0, 0.0, 0.0, 0.0, 0.0, 0.0, 0.0, 0.0, 0.0, 0.0, 0.0, 0.0, 0.0, 0.0, 0.0, 0.0, 0.0, 0.0, 0.0, 0.0, 0.0, 0.0, 0.0, 0.0, 0.0, 0.0, 0.0, 0.0, 0.0, 0.0, 0.0, 0.0, 0.0, 0.0, 0.0, 0.0, 0.0, 0.0, 0.0, 0.0, 0.0, 0.0, 0.0, 0.0, 0.0, 0.0, 0.0, 0.0, 0.0, 0.0, 0.0, 0.0, 0.0, 0.0, 0.0, 0.0, 0.0, 0.0, 0.0, 0.0, 0.0, 0.0, 0.0, 0.0, 0.0, 0.0, 0.0, 0.0, 0.0, 0.0, 0.0, 0.0, 0.0, 0.0, 0.0, 0.0, 0.0]}, {\"mode\": \"lines\", \"name\": \"Solar Heat Delivered To Tank\", \"type\": \"scatter\", \"x\": [4874, 4875, 4876, 4877, 4878, 4879, 4880, 4881, 4882, 4883, 4884, 4885, 4886, 4887, 4888, 4889, 4890, 4891, 4892, 4893, 4894, 4895, 4896, 4897, 4898, 4899, 4900, 4901, 4902, 4903, 4904, 4905, 4906, 4907, 4908, 4909, 4910, 4911, 4912, 4913, 4914, 4915, 4916, 4917, 4918, 4919, 4920, 4921, 4922, 4923, 4924, 4925, 4926, 4927, 4928, 4929, 4930, 4931, 4932, 4933, 4934, 4935, 4936, 4937, 4938, 4939, 4940, 4941, 4942, 4943, 4944, 4945, 4946, 4947, 4948, 4949, 4950, 4951, 4952, 4953, 4954, 4955, 4956, 4957, 4958, 4959, 4960, 4961, 4962, 4963, 4964, 4965, 4966, 4967, 4968, 4969, 4970, 4971, 4972, 4973, 4974, 4975, 4976, 4977, 4978, 4979, 4980, 4981, 4982, 4983, 4984, 4985, 4986, 4987, 4988, 4989, 4990, 4991, 4992, 4993, 4994, 4995, 4996, 4997, 4998, 4999, 5000, 5001, 5002, 5003, 5004, 5005, 5006, 5007, 5008, 5009, 5010, 5011, 5012, 5013, 5014, 5015, 5016, 5017, 5018, 5019, 5020, 5021, 5022, 5023, 5024, 5025, 5026, 5027, 5028, 5029, 5030, 5031, 5032, 5033, 5034, 5035, 5036, 5037, 5038, 5039, 5040, 5041, 5042], \"y\": [0.0, 0.0, 0.0, 0.0, -0.0, -0.0, 2617.7759275718845, 4743.518395379957, 3224.709697310059, 0.0, 16000.614882912792, 13605.761179720632, 12039.04806953841, 10023.088579116435, 7032.7202018100825, 3771.06095634268, 364.68974823879483, -0.0, 0.0, 0.0, 0.0, 0.0, 0.0, 0.0, 0.0, 0.0, 0.0, 0.0, -0.0, 131.77652231732824, 1512.2903428727298, 5205.479692545516, 5572.298937944202, 0.0, 17992.204975374374, 14087.55559882981, 12233.54710959568, 9892.342855545994, 6993.616633685468, 3714.208745399992, 376.4659505670168, -0.0, 0.0, 0.0, 0.0, 0.0, 0.0, 0.0, 0.0, 0.0, 0.0, 0.0, -0.0, -0.0, 1670.5634263311927, 5126.831018907071, 5719.2192792225305, 0.0, 18427.3088499035, 14171.396660269047, 12150.348294140818, 9853.117925490888, 6583.813175132951, 2245.4428845284847, -0.0, -0.0, 0.0, 0.0, 0.0, 0.0, 0.0, 0.0, 0.0, 0.0, 0.0, 0.0, -0.0, -0.0, 1531.635726646977, 4062.322994135524, 3713.01258386197, 0.0, 9458.914678310925, 11044.351170803291, 9879.311765534323, 8518.150720594807, 4627.158940361973, 2811.8601922056564, -0.0, -0.0, 0.0, 0.0, 0.0, 0.0, 0.0, 0.0, 0.0, 0.0, 0.0, 0.0, -0.0, -0.0, -0.0, 2815.7815355099374, 5077.601761304827, 0.0, 16908.52529308267, 13222.599441907138, 11433.242688074057, 9326.318017977004, 6665.268269568577, 3254.3741411281917, -0.0, -0.0, 0.0, 0.0, 0.0, 0.0, 0.0, 0.0, 0.0, 0.0, 0.0, 0.0, -0.0, -0.0, 384.4879610787502, 4677.129754572593, 4639.14238267662, 0.0, 15986.061812522981, 13411.315835742313, 11740.875842737441, 8976.010817999013, 6597.403952775847, 3281.4842585775314, -0.0, -0.0, 0.0, 0.0, 0.0, 0.0, 0.0, 0.0, 0.0, 0.0, 0.0, 0.0, -0.0, -0.0, 2391.163632598991, 4434.829586295256, 3522.850282342631, 18548.91321429228, 12554.429757954806, 11414.182213694537, 8928.290304072916, 6087.933663376503, 5526.341951618675, 2687.8777574195046, -0.0, -0.0, 0.0, 0.0, 0.0, 0.0, 0.0, 0.0, 0.0]}, {\"mode\": \"lines\", \"name\": \"Distribution Heat Loss\", \"type\": \"scatter\", \"x\": [4874, 4875, 4876, 4877, 4878, 4879, 4880, 4881, 4882, 4883, 4884, 4885, 4886, 4887, 4888, 4889, 4890, 4891, 4892, 4893, 4894, 4895, 4896, 4897, 4898, 4899, 4900, 4901, 4902, 4903, 4904, 4905, 4906, 4907, 4908, 4909, 4910, 4911, 4912, 4913, 4914, 4915, 4916, 4917, 4918, 4919, 4920, 4921, 4922, 4923, 4924, 4925, 4926, 4927, 4928, 4929, 4930, 4931, 4932, 4933, 4934, 4935, 4936, 4937, 4938, 4939, 4940, 4941, 4942, 4943, 4944, 4945, 4946, 4947, 4948, 4949, 4950, 4951, 4952, 4953, 4954, 4955, 4956, 4957, 4958, 4959, 4960, 4961, 4962, 4963, 4964, 4965, 4966, 4967, 4968, 4969, 4970, 4971, 4972, 4973, 4974, 4975, 4976, 4977, 4978, 4979, 4980, 4981, 4982, 4983, 4984, 4985, 4986, 4987, 4988, 4989, 4990, 4991, 4992, 4993, 4994, 4995, 4996, 4997, 4998, 4999, 5000, 5001, 5002, 5003, 5004, 5005, 5006, 5007, 5008, 5009, 5010, 5011, 5012, 5013, 5014, 5015, 5016, 5017, 5018, 5019, 5020, 5021, 5022, 5023, 5024, 5025, 5026, 5027, 5028, 5029, 5030, 5031, 5032, 5033, 5034, 5035, 5036, 5037, 5038, 5039, 5040, 5041, 5042], \"y\": [4.759384458179354, 0.0, 0.08001883830304198, 2.898179145005618, 50.14704355253633, 40.54608359297001, 51.36792240476696, 11.150179981029973, 7.898457752330132, 1.0450062561287374, 6.957235722664575, 2.3170872445602964, 5.4248984095834, 9.025774959181426, 10.424618469092636, 17.141897346888797, 10.895616356100307, 5.938592342546511, 1.8130142998031593, 56.23719821766207, 47.2438041821399, 0.0, 0.0, 5.764173824438803, 0.0, 5.1417119369087105, 0.0, 11.900321106784784, 32.21027880975238, 16.937486459631483, 5.248186348606998, 34.60220669616273, 3.791929880952484, 1.74680138992971, 2.7722638885174757, 4.539840148375128, 45.798480161019974, 5.403673182915675, 11.686003368203323, 9.676345001965279, 18.72435591289385, 18.086716259277583, 54.35982722044562, 30.291936943557136, 7.878790924498349, 0.1883624539992522, 3.5091027967902124, 2.1840303188681207, 1.1050546358254651, 0.06573380573478003, 0.20027133481993728, 0.0, 4.353926577932089, 17.85143221625682, 7.74583846075156, 44.182082544616364, 5.204257612292957, 5.886717675768615, 3.672639865403792, 12.122805056690765, 5.7516995185944495, 0.5973385219346272, 4.581953693350784, 2.3940708047757835, 4.668202233460913, 17.882145579759612, 33.289435803166086, 15.170276748849739, 22.62014638863644, 4.421826477865388, 0.0, 0.37539633854090687, 0.0, 0.0, 0.0, 0.0, 1.5917473221418246, 5.920700323550388, 7.215372668420326, 11.794219923262174, 9.67800873352433, 8.670800147183504, 5.060453479498161, 4.745017339496504, 3.706834228756762, 6.487507376409012, 5.013196393901444, 7.622214732232951, 26.683142096572183, 15.985200248797092, 19.02867924949216, 5.441710237400071, 15.450990622803765, 1.7024914378635811, 0.0, 0.0, 0.0, 0.0, 0.0, 23.987468449818557, 14.4614727198844, 16.257667662938207, 64.15096979465078, 12.307524720574065, 5.097984193281344, 0.9507374838751178, 0.05747729286160775, 4.5624130084820775, 3.5906008446239666, 4.819305632833547, 0.844966166391453, 12.805886756195825, 9.285194396231434, 13.212748531933903, 17.579433718153485, 30.6403215266882, 14.229928354948497, 10.282129197945963, 0.0, 17.3138195813324, 0.0, 0.0, 1.5681727510915253, 0.0, 2.800510585561521, 1.6915066266268504, 1.5436478885398797, 51.553402515742334, 39.680494164517654, 9.010170297180794, 7.708342842907967, 21.989978959745876, 3.705149686957737, 12.846315759372454, 7.410299373915474, 4.035151425386935, 33.765798090577114, 5.883866758207633, 10.04146019683527, 37.912923813829075, 37.61755582109509, 5.684902113543227, 0.0, 0.0, 0.0, 0.8048882866350354, 0.33751637732237133, 0.0, 0.0, 6.914125506920211, 14.877253747687336, 8.989824721595198, 39.414889597066676, 9.104297120737224, 48.770854165401396, 31.726660242856102, 16.449550667489103, 7.681510603558666, 10.247573126015002, 6.281319460208234, 1.5902074582805654, 9.162986069172618, 0.9734110895175234, 32.10088376298515, 13.520911013574437, 14.151411279344476, 0.0, 3.0475118968404478, 0.0]}],\n",
       "                        {\"font\": {\"family\": \"arial\", \"size\": 16}, \"height\": 450, \"legend\": {\"font\": {\"family\": \"arial\", \"size\": 12.8}, \"x\": 0.65, \"y\": 1.3}, \"margin\": {\"b\": 60.0, \"l\": 60.0}, \"showlegend\": true, \"template\": {\"data\": {\"bar\": [{\"error_x\": {\"color\": \"#2a3f5f\"}, \"error_y\": {\"color\": \"#2a3f5f\"}, \"marker\": {\"line\": {\"color\": \"#E5ECF6\", \"width\": 0.5}}, \"type\": \"bar\"}], \"barpolar\": [{\"marker\": {\"line\": {\"color\": \"#E5ECF6\", \"width\": 0.5}}, \"type\": \"barpolar\"}], \"carpet\": [{\"aaxis\": {\"endlinecolor\": \"#2a3f5f\", \"gridcolor\": \"white\", \"linecolor\": \"white\", \"minorgridcolor\": \"white\", \"startlinecolor\": \"#2a3f5f\"}, \"baxis\": {\"endlinecolor\": \"#2a3f5f\", \"gridcolor\": \"white\", \"linecolor\": \"white\", \"minorgridcolor\": \"white\", \"startlinecolor\": \"#2a3f5f\"}, \"type\": \"carpet\"}], \"choropleth\": [{\"colorbar\": {\"outlinewidth\": 0, \"ticks\": \"\"}, \"type\": \"choropleth\"}], \"contour\": [{\"colorbar\": {\"outlinewidth\": 0, \"ticks\": \"\"}, \"colorscale\": [[0.0, \"#0d0887\"], [0.1111111111111111, \"#46039f\"], [0.2222222222222222, \"#7201a8\"], [0.3333333333333333, \"#9c179e\"], [0.4444444444444444, \"#bd3786\"], [0.5555555555555556, \"#d8576b\"], [0.6666666666666666, \"#ed7953\"], [0.7777777777777778, \"#fb9f3a\"], [0.8888888888888888, \"#fdca26\"], [1.0, \"#f0f921\"]], \"type\": \"contour\"}], \"contourcarpet\": [{\"colorbar\": {\"outlinewidth\": 0, \"ticks\": \"\"}, \"type\": \"contourcarpet\"}], \"heatmap\": [{\"colorbar\": {\"outlinewidth\": 0, \"ticks\": \"\"}, \"colorscale\": [[0.0, \"#0d0887\"], [0.1111111111111111, \"#46039f\"], [0.2222222222222222, \"#7201a8\"], [0.3333333333333333, \"#9c179e\"], [0.4444444444444444, \"#bd3786\"], [0.5555555555555556, \"#d8576b\"], [0.6666666666666666, \"#ed7953\"], [0.7777777777777778, \"#fb9f3a\"], [0.8888888888888888, \"#fdca26\"], [1.0, \"#f0f921\"]], \"type\": \"heatmap\"}], \"heatmapgl\": [{\"colorbar\": {\"outlinewidth\": 0, \"ticks\": \"\"}, \"colorscale\": [[0.0, \"#0d0887\"], [0.1111111111111111, \"#46039f\"], [0.2222222222222222, \"#7201a8\"], [0.3333333333333333, \"#9c179e\"], [0.4444444444444444, \"#bd3786\"], [0.5555555555555556, \"#d8576b\"], [0.6666666666666666, \"#ed7953\"], [0.7777777777777778, \"#fb9f3a\"], [0.8888888888888888, \"#fdca26\"], [1.0, \"#f0f921\"]], \"type\": \"heatmapgl\"}], \"histogram\": [{\"marker\": {\"colorbar\": {\"outlinewidth\": 0, \"ticks\": \"\"}}, \"type\": \"histogram\"}], \"histogram2d\": [{\"colorbar\": {\"outlinewidth\": 0, \"ticks\": \"\"}, \"colorscale\": [[0.0, \"#0d0887\"], [0.1111111111111111, \"#46039f\"], [0.2222222222222222, \"#7201a8\"], [0.3333333333333333, \"#9c179e\"], [0.4444444444444444, \"#bd3786\"], [0.5555555555555556, \"#d8576b\"], [0.6666666666666666, \"#ed7953\"], [0.7777777777777778, \"#fb9f3a\"], [0.8888888888888888, \"#fdca26\"], [1.0, \"#f0f921\"]], \"type\": \"histogram2d\"}], \"histogram2dcontour\": [{\"colorbar\": {\"outlinewidth\": 0, \"ticks\": \"\"}, \"colorscale\": [[0.0, \"#0d0887\"], [0.1111111111111111, \"#46039f\"], [0.2222222222222222, \"#7201a8\"], [0.3333333333333333, \"#9c179e\"], [0.4444444444444444, \"#bd3786\"], [0.5555555555555556, \"#d8576b\"], [0.6666666666666666, \"#ed7953\"], [0.7777777777777778, \"#fb9f3a\"], [0.8888888888888888, \"#fdca26\"], [1.0, \"#f0f921\"]], \"type\": \"histogram2dcontour\"}], \"mesh3d\": [{\"colorbar\": {\"outlinewidth\": 0, \"ticks\": \"\"}, \"type\": \"mesh3d\"}], \"parcoords\": [{\"line\": {\"colorbar\": {\"outlinewidth\": 0, \"ticks\": \"\"}}, \"type\": \"parcoords\"}], \"pie\": [{\"automargin\": true, \"type\": \"pie\"}], \"scatter\": [{\"marker\": {\"colorbar\": {\"outlinewidth\": 0, \"ticks\": \"\"}}, \"type\": \"scatter\"}], \"scatter3d\": [{\"line\": {\"colorbar\": {\"outlinewidth\": 0, \"ticks\": \"\"}}, \"marker\": {\"colorbar\": {\"outlinewidth\": 0, \"ticks\": \"\"}}, \"type\": \"scatter3d\"}], \"scattercarpet\": [{\"marker\": {\"colorbar\": {\"outlinewidth\": 0, \"ticks\": \"\"}}, \"type\": \"scattercarpet\"}], \"scattergeo\": [{\"marker\": {\"colorbar\": {\"outlinewidth\": 0, \"ticks\": \"\"}}, \"type\": \"scattergeo\"}], \"scattergl\": [{\"marker\": {\"colorbar\": {\"outlinewidth\": 0, \"ticks\": \"\"}}, \"type\": \"scattergl\"}], \"scattermapbox\": [{\"marker\": {\"colorbar\": {\"outlinewidth\": 0, \"ticks\": \"\"}}, \"type\": \"scattermapbox\"}], \"scatterpolar\": [{\"marker\": {\"colorbar\": {\"outlinewidth\": 0, \"ticks\": \"\"}}, \"type\": \"scatterpolar\"}], \"scatterpolargl\": [{\"marker\": {\"colorbar\": {\"outlinewidth\": 0, \"ticks\": \"\"}}, \"type\": \"scatterpolargl\"}], \"scatterternary\": [{\"marker\": {\"colorbar\": {\"outlinewidth\": 0, \"ticks\": \"\"}}, \"type\": \"scatterternary\"}], \"surface\": [{\"colorbar\": {\"outlinewidth\": 0, \"ticks\": \"\"}, \"colorscale\": [[0.0, \"#0d0887\"], [0.1111111111111111, \"#46039f\"], [0.2222222222222222, \"#7201a8\"], [0.3333333333333333, \"#9c179e\"], [0.4444444444444444, \"#bd3786\"], [0.5555555555555556, \"#d8576b\"], [0.6666666666666666, \"#ed7953\"], [0.7777777777777778, \"#fb9f3a\"], [0.8888888888888888, \"#fdca26\"], [1.0, \"#f0f921\"]], \"type\": \"surface\"}], \"table\": [{\"cells\": {\"fill\": {\"color\": \"#EBF0F8\"}, \"line\": {\"color\": \"white\"}}, \"header\": {\"fill\": {\"color\": \"#C8D4E3\"}, \"line\": {\"color\": \"white\"}}, \"type\": \"table\"}]}, \"layout\": {\"annotationdefaults\": {\"arrowcolor\": \"#2a3f5f\", \"arrowhead\": 0, \"arrowwidth\": 1}, \"coloraxis\": {\"colorbar\": {\"outlinewidth\": 0, \"ticks\": \"\"}}, \"colorscale\": {\"diverging\": [[0, \"#8e0152\"], [0.1, \"#c51b7d\"], [0.2, \"#de77ae\"], [0.3, \"#f1b6da\"], [0.4, \"#fde0ef\"], [0.5, \"#f7f7f7\"], [0.6, \"#e6f5d0\"], [0.7, \"#b8e186\"], [0.8, \"#7fbc41\"], [0.9, \"#4d9221\"], [1, \"#276419\"]], \"sequential\": [[0.0, \"#0d0887\"], [0.1111111111111111, \"#46039f\"], [0.2222222222222222, \"#7201a8\"], [0.3333333333333333, \"#9c179e\"], [0.4444444444444444, \"#bd3786\"], [0.5555555555555556, \"#d8576b\"], [0.6666666666666666, \"#ed7953\"], [0.7777777777777778, \"#fb9f3a\"], [0.8888888888888888, \"#fdca26\"], [1.0, \"#f0f921\"]], \"sequentialminus\": [[0.0, \"#0d0887\"], [0.1111111111111111, \"#46039f\"], [0.2222222222222222, \"#7201a8\"], [0.3333333333333333, \"#9c179e\"], [0.4444444444444444, \"#bd3786\"], [0.5555555555555556, \"#d8576b\"], [0.6666666666666666, \"#ed7953\"], [0.7777777777777778, \"#fb9f3a\"], [0.8888888888888888, \"#fdca26\"], [1.0, \"#f0f921\"]]}, \"colorway\": [\"#636efa\", \"#EF553B\", \"#00cc96\", \"#ab63fa\", \"#FFA15A\", \"#19d3f3\", \"#FF6692\", \"#B6E880\", \"#FF97FF\", \"#FECB52\"], \"font\": {\"color\": \"#2a3f5f\"}, \"geo\": {\"bgcolor\": \"white\", \"lakecolor\": \"white\", \"landcolor\": \"#E5ECF6\", \"showlakes\": true, \"showland\": true, \"subunitcolor\": \"white\"}, \"hoverlabel\": {\"align\": \"left\"}, \"hovermode\": \"closest\", \"mapbox\": {\"style\": \"light\"}, \"paper_bgcolor\": \"white\", \"plot_bgcolor\": \"#E5ECF6\", \"polar\": {\"angularaxis\": {\"gridcolor\": \"white\", \"linecolor\": \"white\", \"ticks\": \"\"}, \"bgcolor\": \"#E5ECF6\", \"radialaxis\": {\"gridcolor\": \"white\", \"linecolor\": \"white\", \"ticks\": \"\"}}, \"scene\": {\"xaxis\": {\"backgroundcolor\": \"#E5ECF6\", \"gridcolor\": \"white\", \"gridwidth\": 2, \"linecolor\": \"white\", \"showbackground\": true, \"ticks\": \"\", \"zerolinecolor\": \"white\"}, \"yaxis\": {\"backgroundcolor\": \"#E5ECF6\", \"gridcolor\": \"white\", \"gridwidth\": 2, \"linecolor\": \"white\", \"showbackground\": true, \"ticks\": \"\", \"zerolinecolor\": \"white\"}, \"zaxis\": {\"backgroundcolor\": \"#E5ECF6\", \"gridcolor\": \"white\", \"gridwidth\": 2, \"linecolor\": \"white\", \"showbackground\": true, \"ticks\": \"\", \"zerolinecolor\": \"white\"}}, \"shapedefaults\": {\"line\": {\"color\": \"#2a3f5f\"}}, \"ternary\": {\"aaxis\": {\"gridcolor\": \"white\", \"linecolor\": \"white\", \"ticks\": \"\"}, \"baxis\": {\"gridcolor\": \"white\", \"linecolor\": \"white\", \"ticks\": \"\"}, \"bgcolor\": \"#E5ECF6\", \"caxis\": {\"gridcolor\": \"white\", \"linecolor\": \"white\", \"ticks\": \"\"}}, \"title\": {\"x\": 0.05}, \"xaxis\": {\"automargin\": true, \"gridcolor\": \"white\", \"linecolor\": \"white\", \"ticks\": \"\", \"title\": {\"standoff\": 15}, \"zerolinecolor\": \"white\", \"zerolinewidth\": 2}, \"yaxis\": {\"automargin\": true, \"gridcolor\": \"white\", \"linecolor\": \"white\", \"ticks\": \"\", \"title\": {\"standoff\": 15}, \"zerolinecolor\": \"white\", \"zerolinewidth\": 2}}}, \"title\": {\"font\": {\"family\": \"arial\", \"size\": 16.0}, \"text\": \"\"}, \"width\": 650, \"xaxis\": {\"tickfont\": {\"size\": 12.8}, \"title\": {\"font\": {\"color\": \"#7f7f7f\", \"size\": 16}, \"text\": \"Hour [h]\"}}, \"yaxis\": {\"tickfont\": {\"size\": 9.6}, \"title\": {\"font\": {\"color\": \"#7f7f7f\", \"size\": 16}, \"text\": \"Heat rate [W]\"}}},\n",
       "                        {\"responsive\": true}\n",
       "                    ).then(function(){\n",
       "                            \n",
       "var gd = document.getElementById('60656cc1-8104-4cc7-90a5-35c33066471a');\n",
       "var x = new MutationObserver(function (mutations, observer) {{\n",
       "        var display = window.getComputedStyle(gd).display;\n",
       "        if (!display || display === 'none') {{\n",
       "            console.log([gd, 'removed!']);\n",
       "            Plotly.purge(gd);\n",
       "            observer.disconnect();\n",
       "        }}\n",
       "}});\n",
       "\n",
       "// Listen for the removal of the full notebook cells\n",
       "var notebookContainer = gd.closest('#notebook-container');\n",
       "if (notebookContainer) {{\n",
       "    x.observe(notebookContainer, {childList: true});\n",
       "}}\n",
       "\n",
       "// Listen for the clearing of the current output cell\n",
       "var outputEl = gd.closest('.output');\n",
       "if (outputEl) {{\n",
       "    x.observe(outputEl, {childList: true});\n",
       "}}\n",
       "\n",
       "                        })\n",
       "                };\n",
       "                });\n",
       "            </script>\n",
       "        </div>"
      ]
     },
     "metadata": {},
     "output_type": "display_data"
    }
   ],
   "source": [
    "# first_hour = 4897\n",
    "# last_hour = 4897 + 5*24\n",
    "\n",
    "print('month, day, hour:\\nData starts at', ts_res_com_new_cold.loc[first_hour, ['month','day', 'hour']].transpose().values, 'and ends at',\n",
    "ts_res_com_new_cold.loc[last_hour, ['month','day', 'hour']].transpose().values)\n",
    "\n",
    "# title = 'Community SWH New, Climate Zone ' + str(int(cold_cz))\n",
    "\n",
    "fig = Plot(data_headers = [r['q_dem'], r['q_del_tank'],r['q_unmet_tank'],r['q_del_sol'],r['q_dist_loss']], \\\n",
    "                 outpath = '', save_image = False, title = '', \n",
    "                 label_h = 'Hour [h]', label_v = 'Heat rate [W]',\\\n",
    "                 legend = True, duration_curve = False, margin_l = m_l, margin_b = m_b,\\\n",
    "                 notebook_mode = True, width = w, height = h, fontsize = f, legend_x = 0.65, legend_y = 1.3).\\\n",
    "            series(ts_res_com_new_cold.loc[first_hour + 1 : last_hour + 1,\\\n",
    "                [r['q_dem'], r['q_del_tank'],r['q_unmet_tank'],r['q_del_sol'],r['q_dist_loss']]], \\\n",
    "                 outfile = '', modes = 'lines')"
   ]
  },
  {
   "cell_type": "markdown",
   "metadata": {},
   "source": [
    "### Compare new installation systems across climates and scales"
   ]
  },
  {
   "cell_type": "code",
   "execution_count": 41,
   "metadata": {},
   "outputs": [
    {
     "data": {
      "text/html": [
       "<div>\n",
       "<style scoped>\n",
       "    .dataframe tbody tr th:only-of-type {\n",
       "        vertical-align: middle;\n",
       "    }\n",
       "\n",
       "    .dataframe tbody tr th {\n",
       "        vertical-align: top;\n",
       "    }\n",
       "\n",
       "    .dataframe thead th {\n",
       "        text-align: right;\n",
       "    }\n",
       "</style>\n",
       "<table border=\"1\" class=\"dataframe\">\n",
       "  <thead>\n",
       "    <tr style=\"text-align: right;\">\n",
       "      <th></th>\n",
       "      <th>Per Household, Community, New, BL Climate Zone</th>\n",
       "      <th>Individual, New, BL Climate Zone</th>\n",
       "    </tr>\n",
       "  </thead>\n",
       "  <tbody>\n",
       "    <tr>\n",
       "      <td>Consumer ID</td>\n",
       "      <td>2.500</td>\n",
       "      <td>1.000</td>\n",
       "    </tr>\n",
       "    <tr>\n",
       "      <td>Occupancy</td>\n",
       "      <td>4.000</td>\n",
       "      <td>4.000</td>\n",
       "    </tr>\n",
       "    <tr>\n",
       "      <td>Energy Use - Gas</td>\n",
       "      <td>760,340.312</td>\n",
       "      <td>822,081.741</td>\n",
       "    </tr>\n",
       "    <tr>\n",
       "      <td>Energy Use - Gas, Summer</td>\n",
       "      <td>6,080.206</td>\n",
       "      <td>16,409.765</td>\n",
       "    </tr>\n",
       "    <tr>\n",
       "      <td>Energy Use - Gas, Winter</td>\n",
       "      <td>754,260.106</td>\n",
       "      <td>805,671.976</td>\n",
       "    </tr>\n",
       "    <tr>\n",
       "      <td>Energy Use - Electricity</td>\n",
       "      <td>30,814.320</td>\n",
       "      <td>45,993.710</td>\n",
       "    </tr>\n",
       "    <tr>\n",
       "      <td>Energy Use - Electricity, Summer</td>\n",
       "      <td>14,723.080</td>\n",
       "      <td>22,545.000</td>\n",
       "    </tr>\n",
       "    <tr>\n",
       "      <td>Energy Use - Electricity, Winter</td>\n",
       "      <td>16,091.240</td>\n",
       "      <td>23,448.710</td>\n",
       "    </tr>\n",
       "    <tr>\n",
       "      <td>Solar Fraction</td>\n",
       "      <td>0.758</td>\n",
       "      <td>0.730</td>\n",
       "    </tr>\n",
       "    <tr>\n",
       "      <td>Backup Heat Delivered</td>\n",
       "      <td>646,289.265</td>\n",
       "      <td>698,769.480</td>\n",
       "    </tr>\n",
       "    <tr>\n",
       "      <td>Unmet Heat</td>\n",
       "      <td>0.000</td>\n",
       "      <td>0.000</td>\n",
       "    </tr>\n",
       "    <tr>\n",
       "      <td>Energy Use - Gas, w/o Dist Loss</td>\n",
       "      <td>752,894.200</td>\n",
       "      <td>822,081.740</td>\n",
       "    </tr>\n",
       "    <tr>\n",
       "      <td>Energy Use - Gas, Summer, w/o Dist Loss</td>\n",
       "      <td>5,875.005</td>\n",
       "      <td>16,409.760</td>\n",
       "    </tr>\n",
       "    <tr>\n",
       "      <td>Energy Use - Gas, Winter, w/o Dist Loss</td>\n",
       "      <td>747,019.195</td>\n",
       "      <td>805,671.980</td>\n",
       "    </tr>\n",
       "    <tr>\n",
       "      <td>Net Heat Demand</td>\n",
       "      <td>2,662,588.688</td>\n",
       "      <td>2,562,273.860</td>\n",
       "    </tr>\n",
       "    <tr>\n",
       "      <td>Total Heat Delivered</td>\n",
       "      <td>2,683,532.697</td>\n",
       "      <td>2,562,273.860</td>\n",
       "    </tr>\n",
       "    <tr>\n",
       "      <td>Tank Unmet Heat</td>\n",
       "      <td>646,289.265</td>\n",
       "      <td>698,769.480</td>\n",
       "    </tr>\n",
       "    <tr>\n",
       "      <td>Tank Heat Delivered</td>\n",
       "      <td>2,037,243.432</td>\n",
       "      <td>1,863,504.380</td>\n",
       "    </tr>\n",
       "    <tr>\n",
       "      <td>Distribution Heat Loss</td>\n",
       "      <td>20,944.092</td>\n",
       "      <td>0.000</td>\n",
       "    </tr>\n",
       "    <tr>\n",
       "      <td>Distribution Heat Loss at Backup</td>\n",
       "      <td>6,329.198</td>\n",
       "      <td>0.000</td>\n",
       "    </tr>\n",
       "    <tr>\n",
       "      <td>Distribution Heat Loss at Backup, Winter</td>\n",
       "      <td>6,154.775</td>\n",
       "      <td>0.000</td>\n",
       "    </tr>\n",
       "    <tr>\n",
       "      <td>Distribution Heat Loss at Backup, Summer</td>\n",
       "      <td>174.420</td>\n",
       "      <td>0.000</td>\n",
       "    </tr>\n",
       "  </tbody>\n",
       "</table>\n",
       "</div>"
      ],
      "text/plain": [
       "                                          Per Household, Community, New, BL Climate Zone   \\\n",
       "Consumer ID                                                                         2.500   \n",
       "Occupancy                                                                           4.000   \n",
       "Energy Use - Gas                                                              760,340.312   \n",
       "Energy Use - Gas, Summer                                                        6,080.206   \n",
       "Energy Use - Gas, Winter                                                      754,260.106   \n",
       "Energy Use - Electricity                                                       30,814.320   \n",
       "Energy Use - Electricity, Summer                                               14,723.080   \n",
       "Energy Use - Electricity, Winter                                               16,091.240   \n",
       "Solar Fraction                                                                      0.758   \n",
       "Backup Heat Delivered                                                         646,289.265   \n",
       "Unmet Heat                                                                          0.000   \n",
       "Energy Use - Gas, w/o Dist Loss                                               752,894.200   \n",
       "Energy Use - Gas, Summer, w/o Dist Loss                                         5,875.005   \n",
       "Energy Use - Gas, Winter, w/o Dist Loss                                       747,019.195   \n",
       "Net Heat Demand                                                             2,662,588.688   \n",
       "Total Heat Delivered                                                        2,683,532.697   \n",
       "Tank Unmet Heat                                                               646,289.265   \n",
       "Tank Heat Delivered                                                         2,037,243.432   \n",
       "Distribution Heat Loss                                                         20,944.092   \n",
       "Distribution Heat Loss at Backup                                                6,329.198   \n",
       "Distribution Heat Loss at Backup, Winter                                        6,154.775   \n",
       "Distribution Heat Loss at Backup, Summer                                          174.420   \n",
       "\n",
       "                                          Individual, New, BL Climate Zone   \n",
       "Consumer ID                                                           1.000  \n",
       "Occupancy                                                             4.000  \n",
       "Energy Use - Gas                                                822,081.741  \n",
       "Energy Use - Gas, Summer                                         16,409.765  \n",
       "Energy Use - Gas, Winter                                        805,671.976  \n",
       "Energy Use - Electricity                                         45,993.710  \n",
       "Energy Use - Electricity, Summer                                 22,545.000  \n",
       "Energy Use - Electricity, Winter                                 23,448.710  \n",
       "Solar Fraction                                                        0.730  \n",
       "Backup Heat Delivered                                           698,769.480  \n",
       "Unmet Heat                                                            0.000  \n",
       "Energy Use - Gas, w/o Dist Loss                                 822,081.740  \n",
       "Energy Use - Gas, Summer, w/o Dist Loss                          16,409.760  \n",
       "Energy Use - Gas, Winter, w/o Dist Loss                         805,671.980  \n",
       "Net Heat Demand                                               2,562,273.860  \n",
       "Total Heat Delivered                                          2,562,273.860  \n",
       "Tank Unmet Heat                                                 698,769.480  \n",
       "Tank Heat Delivered                                           1,863,504.380  \n",
       "Distribution Heat Loss                                                0.000  \n",
       "Distribution Heat Loss at Backup                                      0.000  \n",
       "Distribution Heat Loss at Backup, Winter                              0.000  \n",
       "Distribution Heat Loss at Backup, Summer                              0.000  "
      ]
     },
     "execution_count": 41,
     "metadata": {},
     "output_type": "execute_result"
    }
   ],
   "source": [
    "# for cold climate\n",
    "\n",
    "# Energy use per household\n",
    "com = cons_total_com_new_cold.sum()/4\n",
    "ind = cons_total_indiv_new_cold.sum()\n",
    "\n",
    "# temperatures are averaged, heat contents summed over a year period\n",
    "df = pd.DataFrame(com)\n",
    "df = df.transpose()\n",
    "df.index = ['Per Household, Community, New, BL Climate Zone ']\n",
    "df1 = pd.DataFrame(ind)\n",
    "df1 = df1.transpose()\n",
    "df1.index = ['Individual, New, BL Climate Zone ']\n",
    "compare_cold = df.append(df1).transpose()\n",
    "\n",
    "compare_cold # this is bl climate"
   ]
  },
  {
   "cell_type": "code",
   "execution_count": 42,
   "metadata": {},
   "outputs": [
    {
     "data": {
      "text/html": [
       "<div>\n",
       "<style scoped>\n",
       "    .dataframe tbody tr th:only-of-type {\n",
       "        vertical-align: middle;\n",
       "    }\n",
       "\n",
       "    .dataframe tbody tr th {\n",
       "        vertical-align: top;\n",
       "    }\n",
       "\n",
       "    .dataframe thead th {\n",
       "        text-align: right;\n",
       "    }\n",
       "</style>\n",
       "<table border=\"1\" class=\"dataframe\">\n",
       "  <thead>\n",
       "    <tr style=\"text-align: right;\">\n",
       "      <th></th>\n",
       "      <th>Per Household, Community, New, BL Climate Zone</th>\n",
       "      <th>Individual, New, BL Climate Zone</th>\n",
       "    </tr>\n",
       "  </thead>\n",
       "  <tbody>\n",
       "    <tr>\n",
       "      <td>Energy Use - Gas</td>\n",
       "      <td>760</td>\n",
       "      <td>822</td>\n",
       "    </tr>\n",
       "    <tr>\n",
       "      <td>Energy Use - Gas, Summer</td>\n",
       "      <td>6</td>\n",
       "      <td>16</td>\n",
       "    </tr>\n",
       "    <tr>\n",
       "      <td>Energy Use - Gas, Winter</td>\n",
       "      <td>754</td>\n",
       "      <td>806</td>\n",
       "    </tr>\n",
       "    <tr>\n",
       "      <td>Energy Use - Gas, w/o Dist Loss</td>\n",
       "      <td>753</td>\n",
       "      <td>822</td>\n",
       "    </tr>\n",
       "    <tr>\n",
       "      <td>Energy Use - Electricity</td>\n",
       "      <td>31</td>\n",
       "      <td>46</td>\n",
       "    </tr>\n",
       "    <tr>\n",
       "      <td>Solar Fraction</td>\n",
       "      <td>0</td>\n",
       "      <td>0</td>\n",
       "    </tr>\n",
       "    <tr>\n",
       "      <td>Backup Heat Delivered</td>\n",
       "      <td>646</td>\n",
       "      <td>699</td>\n",
       "    </tr>\n",
       "    <tr>\n",
       "      <td>Unmet Heat</td>\n",
       "      <td>0</td>\n",
       "      <td>0</td>\n",
       "    </tr>\n",
       "    <tr>\n",
       "      <td>Net Heat Demand</td>\n",
       "      <td>2,663</td>\n",
       "      <td>2,562</td>\n",
       "    </tr>\n",
       "    <tr>\n",
       "      <td>Total Heat Delivered</td>\n",
       "      <td>2,684</td>\n",
       "      <td>2,562</td>\n",
       "    </tr>\n",
       "    <tr>\n",
       "      <td>Tank Unmet Heat</td>\n",
       "      <td>646</td>\n",
       "      <td>699</td>\n",
       "    </tr>\n",
       "    <tr>\n",
       "      <td>Tank Heat Delivered</td>\n",
       "      <td>2,037</td>\n",
       "      <td>1,864</td>\n",
       "    </tr>\n",
       "    <tr>\n",
       "      <td>Distribution Heat Loss</td>\n",
       "      <td>21</td>\n",
       "      <td>0</td>\n",
       "    </tr>\n",
       "  </tbody>\n",
       "</table>\n",
       "</div>"
      ],
      "text/plain": [
       "                                 Per Household, Community, New, BL Climate Zone   \\\n",
       "Energy Use - Gas                                                             760   \n",
       "Energy Use - Gas, Summer                                                       6   \n",
       "Energy Use - Gas, Winter                                                     754   \n",
       "Energy Use - Gas, w/o Dist Loss                                              753   \n",
       "Energy Use - Electricity                                                      31   \n",
       "Solar Fraction                                                                 0   \n",
       "Backup Heat Delivered                                                        646   \n",
       "Unmet Heat                                                                     0   \n",
       "Net Heat Demand                                                            2,663   \n",
       "Total Heat Delivered                                                       2,684   \n",
       "Tank Unmet Heat                                                              646   \n",
       "Tank Heat Delivered                                                        2,037   \n",
       "Distribution Heat Loss                                                        21   \n",
       "\n",
       "                                 Individual, New, BL Climate Zone   \n",
       "Energy Use - Gas                                               822  \n",
       "Energy Use - Gas, Summer                                        16  \n",
       "Energy Use - Gas, Winter                                       806  \n",
       "Energy Use - Gas, w/o Dist Loss                                822  \n",
       "Energy Use - Electricity                                        46  \n",
       "Solar Fraction                                                   0  \n",
       "Backup Heat Delivered                                          699  \n",
       "Unmet Heat                                                       0  \n",
       "Net Heat Demand                                              2,562  \n",
       "Total Heat Delivered                                         2,562  \n",
       "Tank Unmet Heat                                                699  \n",
       "Tank Heat Delivered                                          1,864  \n",
       "Distribution Heat Loss                                           0  "
      ]
     },
     "execution_count": 42,
     "metadata": {},
     "output_type": "execute_result"
    }
   ],
   "source": [
    "pd.options.display.float_format = '{:,.0f}'.format\n",
    "# subset of results for the report\n",
    "(compare_cold.loc[['Energy Use - Gas',\n",
    "'Energy Use - Gas, Summer',\n",
    "'Energy Use - Gas, Winter',\n",
    "'Energy Use - Gas, w/o Dist Loss',\n",
    "'Energy Use - Electricity',\n",
    "'Solar Fraction',\n",
    "'Backup Heat Delivered',\n",
    "'Unmet Heat',\n",
    "'Net Heat Demand',\n",
    "'Total Heat Delivered',\n",
    "'Tank Unmet Heat',\n",
    "'Tank Heat Delivered',\n",
    "'Distribution Heat Loss'\n",
    "],:]/1000).round(0)#.to_clipboard()"
   ]
  },
  {
   "cell_type": "markdown",
   "metadata": {},
   "source": [
    "## Individual retrofit solar thermal system"
   ]
  },
  {
   "cell_type": "code",
   "execution_count": 43,
   "metadata": {},
   "outputs": [
    {
     "name": "stderr",
     "output_type": "stream",
     "text": [
      "INFO:mswh.system.models:Assigned weather data timeseries.\n",
      "INFO:mswh.system.components:Assigned weather data timeseries.\n",
      "INFO:mswh.system.components:Solar storage tank is set.\n",
      "INFO:mswh.system.components:Gas tank WH (WHAM) is set up.\n"
     ]
    }
   ],
   "source": [
    "# in a cold climate\n",
    "sol_wh_indiv_retrofit_cold = System(sys_params = sol_the_sys_params_indiv,\n",
    "                          backup_params = gas_tank_wh_params,\n",
    "                          sys_sizes = sys_sizes_indiv,\n",
    "                          backup_sizes = retrofit_bckp_size_indiv,\n",
    "                          weather = weather_bl,\n",
    "                          loads = loads_indiv)\n",
    "\n",
    "cons_total_indiv_retrofit_cold, proj_total_indiv_retrofit_cold,\\\n",
    "[proj_total_dict_indiv_retrofit_cold, sol_fra_indiv_retrofit_cold, pump_el_use_indiv_retrofit_cold,\\\n",
    " pump_op_hour_indiv_retrofit_cold, ts_res_indiv_retrofit_cold, backup_ts_cons_indiv_retrofit_cold, rel_err_indiv_retrofit_cold] = \\\n",
    "    sol_wh_indiv_retrofit_cold.solar_thermal(backup = 'retrofit')"
   ]
  },
  {
   "cell_type": "code",
   "execution_count": 44,
   "metadata": {},
   "outputs": [
    {
     "name": "stdout",
     "output_type": "stream",
     "text": [
      "month, day, hour:\n",
      "Data starts at [7 23 0] and ends at [7 30 0]\n"
     ]
    },
    {
     "data": {
      "application/vnd.plotly.v1+json": {
       "config": {
        "linkText": "Export to plot.ly",
        "plotlyServerURL": "https://plot.ly",
        "showLink": false
       },
       "data": [
        {
         "mode": "lines",
         "name": "Net Heat Demand",
         "type": "scatter",
         "x": [
          4874,
          4875,
          4876,
          4877,
          4878,
          4879,
          4880,
          4881,
          4882,
          4883,
          4884,
          4885,
          4886,
          4887,
          4888,
          4889,
          4890,
          4891,
          4892,
          4893,
          4894,
          4895,
          4896,
          4897,
          4898,
          4899,
          4900,
          4901,
          4902,
          4903,
          4904,
          4905,
          4906,
          4907,
          4908,
          4909,
          4910,
          4911,
          4912,
          4913,
          4914,
          4915,
          4916,
          4917,
          4918,
          4919,
          4920,
          4921,
          4922,
          4923,
          4924,
          4925,
          4926,
          4927,
          4928,
          4929,
          4930,
          4931,
          4932,
          4933,
          4934,
          4935,
          4936,
          4937,
          4938,
          4939,
          4940,
          4941,
          4942,
          4943,
          4944,
          4945,
          4946,
          4947,
          4948,
          4949,
          4950,
          4951,
          4952,
          4953,
          4954,
          4955,
          4956,
          4957,
          4958,
          4959,
          4960,
          4961,
          4962,
          4963,
          4964,
          4965,
          4966,
          4967,
          4968,
          4969,
          4970,
          4971,
          4972,
          4973,
          4974,
          4975,
          4976,
          4977,
          4978,
          4979,
          4980,
          4981,
          4982,
          4983,
          4984,
          4985,
          4986,
          4987,
          4988,
          4989,
          4990,
          4991,
          4992,
          4993,
          4994,
          4995,
          4996,
          4997,
          4998,
          4999,
          5000,
          5001,
          5002,
          5003,
          5004,
          5005,
          5006,
          5007,
          5008,
          5009,
          5010,
          5011,
          5012,
          5013,
          5014,
          5015,
          5016,
          5017,
          5018,
          5019,
          5020,
          5021,
          5022,
          5023,
          5024,
          5025,
          5026,
          5027,
          5028,
          5029,
          5030,
          5031,
          5032,
          5033,
          5034,
          5035,
          5036,
          5037,
          5038,
          5039,
          5040,
          5041,
          5042
         ],
         "y": [
          0,
          0,
          0,
          0,
          0,
          0,
          446.16,
          174.28,
          2516.64,
          153.37,
          146.4,
          0,
          0,
          55.77,
          118.51,
          418.28,
          0,
          1812.54,
          62.74,
          313.71,
          1045.69,
          0,
          0,
          20.91,
          48.8,
          313.71,
          118.51,
          0,
          0,
          0,
          0,
          446.16,
          97.6,
          153.37,
          6.97,
          6.97,
          69.71,
          320.68,
          780.78,
          0,
          2467.84,
          118.51,
          55.77,
          1847.39,
          0,
          0,
          0,
          90.63,
          0,
          0,
          0,
          418.28,
          20.91,
          48.8,
          13.94,
          139.43,
          90.63,
          0,
          118.51,
          1157.23,
          0,
          0,
          250.97,
          202.17,
          202.17,
          460.11,
          90.63,
          0,
          167.31,
          418.28,
          0,
          0,
          0,
          0,
          0,
          0,
          864.44,
          0,
          0,
          62.74,
          0,
          41.83,
          76.68,
          0,
          125.48,
          0,
          6.97,
          174.28,
          1080.55,
          306.74,
          529.82,
          6.97,
          467.08,
          0,
          0,
          0,
          0,
          0,
          244,
          2683.95,
          1003.87,
          1463.97,
          118.51,
          6.97,
          125.48,
          1463.97,
          0,
          160.34,
          104.57,
          6.97,
          55.77,
          738.96,
          6.97,
          6.97,
          620.44,
          411.31,
          453.13,
          1931.05,
          383.42,
          0,
          0,
          0,
          0,
          0,
          0,
          69.71,
          6.97,
          0,
          34.86,
          871.41,
          306.74,
          188.22,
          313.71,
          0,
          0,
          83.66,
          118.51,
          6.97,
          1024.78,
          0,
          1185.12,
          1589.45,
          0,
          0,
          306.74,
          0,
          0,
          0,
          153.37,
          0,
          0,
          202.17,
          4322.2,
          4496.48,
          188.22,
          725.01,
          453.13,
          6.97,
          404.33,
          390.39,
          6.97,
          453.13,
          1129.35,
          0,
          6.97,
          0,
          0,
          0,
          0
         ]
        },
        {
         "mode": "lines",
         "name": "Tank Heat Delivered",
         "type": "scatter",
         "x": [
          4874,
          4875,
          4876,
          4877,
          4878,
          4879,
          4880,
          4881,
          4882,
          4883,
          4884,
          4885,
          4886,
          4887,
          4888,
          4889,
          4890,
          4891,
          4892,
          4893,
          4894,
          4895,
          4896,
          4897,
          4898,
          4899,
          4900,
          4901,
          4902,
          4903,
          4904,
          4905,
          4906,
          4907,
          4908,
          4909,
          4910,
          4911,
          4912,
          4913,
          4914,
          4915,
          4916,
          4917,
          4918,
          4919,
          4920,
          4921,
          4922,
          4923,
          4924,
          4925,
          4926,
          4927,
          4928,
          4929,
          4930,
          4931,
          4932,
          4933,
          4934,
          4935,
          4936,
          4937,
          4938,
          4939,
          4940,
          4941,
          4942,
          4943,
          4944,
          4945,
          4946,
          4947,
          4948,
          4949,
          4950,
          4951,
          4952,
          4953,
          4954,
          4955,
          4956,
          4957,
          4958,
          4959,
          4960,
          4961,
          4962,
          4963,
          4964,
          4965,
          4966,
          4967,
          4968,
          4969,
          4970,
          4971,
          4972,
          4973,
          4974,
          4975,
          4976,
          4977,
          4978,
          4979,
          4980,
          4981,
          4982,
          4983,
          4984,
          4985,
          4986,
          4987,
          4988,
          4989,
          4990,
          4991,
          4992,
          4993,
          4994,
          4995,
          4996,
          4997,
          4998,
          4999,
          5000,
          5001,
          5002,
          5003,
          5004,
          5005,
          5006,
          5007,
          5008,
          5009,
          5010,
          5011,
          5012,
          5013,
          5014,
          5015,
          5016,
          5017,
          5018,
          5019,
          5020,
          5021,
          5022,
          5023,
          5024,
          5025,
          5026,
          5027,
          5028,
          5029,
          5030,
          5031,
          5032,
          5033,
          5034,
          5035,
          5036,
          5037,
          5038,
          5039,
          5040,
          5041,
          5042
         ],
         "y": [
          0,
          0,
          0,
          0,
          0,
          0,
          446.16,
          174.28,
          2516.64,
          153.37,
          146.4,
          0,
          0,
          55.77,
          118.51,
          418.28,
          0,
          1812.54,
          62.74,
          313.71,
          1045.69,
          0,
          0,
          20.91,
          48.8,
          313.71,
          118.51,
          0,
          0,
          0,
          0,
          446.16,
          97.6,
          153.37,
          6.97,
          6.97,
          69.71,
          320.68,
          780.78,
          0,
          2467.84,
          118.51,
          55.77,
          1847.39,
          0,
          0,
          0,
          90.63,
          0,
          0,
          0,
          418.28,
          20.91,
          48.8,
          13.94,
          139.43,
          90.63,
          0,
          118.51,
          1157.23,
          0,
          0,
          250.97,
          202.17,
          202.17,
          460.11,
          90.63,
          0,
          167.31,
          418.28,
          0,
          0,
          0,
          0,
          0,
          0,
          864.44,
          0,
          0,
          62.74,
          0,
          41.83,
          76.68,
          0,
          125.48,
          0,
          6.97,
          174.28,
          1080.55,
          306.74,
          529.82,
          6.97,
          467.08,
          0,
          0,
          0,
          0,
          0,
          244,
          2683.95,
          1003.87,
          1463.97,
          102.12,
          6.01,
          116.24,
          1463.97,
          0,
          160.34,
          104.57,
          6.97,
          55.77,
          738.96,
          6.97,
          6.97,
          620.44,
          411.31,
          453.13,
          1931.05,
          383.42,
          0,
          0,
          0,
          0,
          0,
          0,
          69.71,
          6.97,
          0,
          34.86,
          871.41,
          306.74,
          188.22,
          313.71,
          0,
          0,
          83.66,
          118.51,
          6.97,
          1024.78,
          0,
          1185.12,
          1589.45,
          0,
          0,
          306.74,
          0,
          0,
          0,
          153.37,
          0,
          0,
          202.17,
          4322.2,
          4294.53,
          174.51,
          725.01,
          453.13,
          6.97,
          404.33,
          390.39,
          6.97,
          453.13,
          1129.35,
          0,
          6.97,
          0,
          0,
          0,
          0
         ]
        },
        {
         "mode": "lines",
         "name": "Tank Unmet Heat",
         "type": "scatter",
         "x": [
          4874,
          4875,
          4876,
          4877,
          4878,
          4879,
          4880,
          4881,
          4882,
          4883,
          4884,
          4885,
          4886,
          4887,
          4888,
          4889,
          4890,
          4891,
          4892,
          4893,
          4894,
          4895,
          4896,
          4897,
          4898,
          4899,
          4900,
          4901,
          4902,
          4903,
          4904,
          4905,
          4906,
          4907,
          4908,
          4909,
          4910,
          4911,
          4912,
          4913,
          4914,
          4915,
          4916,
          4917,
          4918,
          4919,
          4920,
          4921,
          4922,
          4923,
          4924,
          4925,
          4926,
          4927,
          4928,
          4929,
          4930,
          4931,
          4932,
          4933,
          4934,
          4935,
          4936,
          4937,
          4938,
          4939,
          4940,
          4941,
          4942,
          4943,
          4944,
          4945,
          4946,
          4947,
          4948,
          4949,
          4950,
          4951,
          4952,
          4953,
          4954,
          4955,
          4956,
          4957,
          4958,
          4959,
          4960,
          4961,
          4962,
          4963,
          4964,
          4965,
          4966,
          4967,
          4968,
          4969,
          4970,
          4971,
          4972,
          4973,
          4974,
          4975,
          4976,
          4977,
          4978,
          4979,
          4980,
          4981,
          4982,
          4983,
          4984,
          4985,
          4986,
          4987,
          4988,
          4989,
          4990,
          4991,
          4992,
          4993,
          4994,
          4995,
          4996,
          4997,
          4998,
          4999,
          5000,
          5001,
          5002,
          5003,
          5004,
          5005,
          5006,
          5007,
          5008,
          5009,
          5010,
          5011,
          5012,
          5013,
          5014,
          5015,
          5016,
          5017,
          5018,
          5019,
          5020,
          5021,
          5022,
          5023,
          5024,
          5025,
          5026,
          5027,
          5028,
          5029,
          5030,
          5031,
          5032,
          5033,
          5034,
          5035,
          5036,
          5037,
          5038,
          5039,
          5040,
          5041,
          5042
         ],
         "y": [
          0,
          0,
          0,
          0,
          0,
          0,
          0,
          0,
          0,
          0,
          0,
          0,
          0,
          0,
          0,
          0,
          0,
          0,
          0,
          0,
          0,
          0,
          0,
          0,
          0,
          0,
          0,
          0,
          0,
          0,
          0,
          0,
          0,
          0,
          0,
          0,
          0,
          0,
          0,
          0,
          0,
          0,
          0,
          0,
          0,
          0,
          0,
          0,
          0,
          0,
          0,
          0,
          0,
          0,
          0,
          0,
          0,
          0,
          0,
          0,
          0,
          0,
          0,
          0,
          0,
          0,
          0,
          0,
          0,
          0,
          0,
          0,
          0,
          0,
          0,
          0,
          0,
          0,
          0,
          0,
          0,
          0,
          0,
          0,
          0,
          0,
          0,
          0,
          0,
          0,
          0,
          0,
          0,
          0,
          0,
          0,
          0,
          0,
          0,
          0,
          0,
          0,
          16.39,
          0.96,
          9.24,
          0,
          0,
          0,
          0,
          0,
          0,
          0,
          0,
          0,
          0,
          0,
          0,
          0,
          0,
          0,
          0,
          0,
          0,
          0,
          0,
          0,
          0,
          0,
          0,
          0,
          0,
          0,
          0,
          0,
          0,
          0,
          0,
          0,
          0,
          0,
          0,
          0,
          0,
          0,
          0,
          0,
          0,
          0,
          0,
          0,
          0,
          0,
          0,
          201.95,
          13.71,
          0,
          0,
          0,
          0,
          0,
          0,
          0,
          0,
          0,
          0,
          0,
          0,
          0,
          0
         ]
        },
        {
         "mode": "lines",
         "name": "Solar Heat Delivered To Tank",
         "type": "scatter",
         "x": [
          4874,
          4875,
          4876,
          4877,
          4878,
          4879,
          4880,
          4881,
          4882,
          4883,
          4884,
          4885,
          4886,
          4887,
          4888,
          4889,
          4890,
          4891,
          4892,
          4893,
          4894,
          4895,
          4896,
          4897,
          4898,
          4899,
          4900,
          4901,
          4902,
          4903,
          4904,
          4905,
          4906,
          4907,
          4908,
          4909,
          4910,
          4911,
          4912,
          4913,
          4914,
          4915,
          4916,
          4917,
          4918,
          4919,
          4920,
          4921,
          4922,
          4923,
          4924,
          4925,
          4926,
          4927,
          4928,
          4929,
          4930,
          4931,
          4932,
          4933,
          4934,
          4935,
          4936,
          4937,
          4938,
          4939,
          4940,
          4941,
          4942,
          4943,
          4944,
          4945,
          4946,
          4947,
          4948,
          4949,
          4950,
          4951,
          4952,
          4953,
          4954,
          4955,
          4956,
          4957,
          4958,
          4959,
          4960,
          4961,
          4962,
          4963,
          4964,
          4965,
          4966,
          4967,
          4968,
          4969,
          4970,
          4971,
          4972,
          4973,
          4974,
          4975,
          4976,
          4977,
          4978,
          4979,
          4980,
          4981,
          4982,
          4983,
          4984,
          4985,
          4986,
          4987,
          4988,
          4989,
          4990,
          4991,
          4992,
          4993,
          4994,
          4995,
          4996,
          4997,
          4998,
          4999,
          5000,
          5001,
          5002,
          5003,
          5004,
          5005,
          5006,
          5007,
          5008,
          5009,
          5010,
          5011,
          5012,
          5013,
          5014,
          5015,
          5016,
          5017,
          5018,
          5019,
          5020,
          5021,
          5022,
          5023,
          5024,
          5025,
          5026,
          5027,
          5028,
          5029,
          5030,
          5031,
          5032,
          5033,
          5034,
          5035,
          5036,
          5037,
          5038,
          5039,
          5040,
          5041,
          5042
         ],
         "y": [
          0,
          0,
          0,
          0,
          0,
          0,
          468.40324223852286,
          871.1067494722879,
          540.0403951729006,
          0,
          3296.7465901201017,
          2796.6523381743127,
          2462.5325596783114,
          2050.177209364725,
          1438.5109503702442,
          771.3533774337301,
          74.59563032157168,
          0,
          0,
          0,
          0,
          0,
          0,
          0,
          0,
          0,
          0,
          0,
          0,
          45.8812460468832,
          307.3705380589197,
          1053.3631808180228,
          1104.877704202,
          0,
          3654.209628916287,
          2881.545463397006,
          2502.31645423548,
          2023.4337659071355,
          1430.5124932538456,
          759.7245161045438,
          77.00439897961706,
          0,
          0,
          0,
          0,
          0,
          0,
          0,
          0,
          0,
          0,
          0,
          0,
          0,
          444.46986494474004,
          1125.925741576152,
          1190.3150479916771,
          0,
          3780.6462452292353,
          2898.694771418669,
          2485.2985147106215,
          2015.4104847595,
          1346.6890585499218,
          459.2951354717355,
          0,
          0,
          0,
          0,
          0,
          0,
          0,
          0,
          0,
          0,
          0,
          0,
          0,
          0,
          356.9968210504637,
          856.8974214677833,
          769.529795520419,
          0,
          1929.5564065459414,
          2259.0718303915824,
          2020.768315677475,
          1742.349011030756,
          946.4643287104033,
          575.1532211329751,
          0,
          0,
          0,
          0,
          0,
          0,
          0,
          0,
          0,
          0,
          0,
          0,
          0,
          45.940031198736655,
          257.23447902372584,
          784.72998496216,
          1222.497339982274,
          0,
          3711.568760029036,
          2938.974236614727,
          2421.9136342070087,
          1907.655958222569,
          1363.3503278662997,
          665.6674379580393,
          0,
          0,
          0,
          0,
          0,
          0,
          0,
          0,
          0,
          0,
          0,
          0,
          0,
          29.371529353474717,
          190.29080776375164,
          1054.6987616437377,
          974.6525920508317,
          0,
          3285.7088361830456,
          2769.407959955122,
          2401.542786014477,
          1836.0022127725254,
          1349.4689903405142,
          671.212689254495,
          0,
          0,
          0,
          0,
          0,
          0,
          0,
          0,
          0,
          0,
          0,
          0,
          0,
          50.65250501267151,
          585.2820308303865,
          975.2996668419527,
          785.7893534827747,
          4047.364223589537,
          2982.2497158338624,
          2595.626260185226,
          1985.9012384719472,
          1322.701384458149,
          1138.034035409711,
          549.7931776539896,
          0,
          0,
          0,
          0,
          0,
          0,
          0,
          0,
          0
         ]
        },
        {
         "mode": "lines",
         "name": "Distribution Heat Loss",
         "type": "scatter",
         "x": [
          4874,
          4875,
          4876,
          4877,
          4878,
          4879,
          4880,
          4881,
          4882,
          4883,
          4884,
          4885,
          4886,
          4887,
          4888,
          4889,
          4890,
          4891,
          4892,
          4893,
          4894,
          4895,
          4896,
          4897,
          4898,
          4899,
          4900,
          4901,
          4902,
          4903,
          4904,
          4905,
          4906,
          4907,
          4908,
          4909,
          4910,
          4911,
          4912,
          4913,
          4914,
          4915,
          4916,
          4917,
          4918,
          4919,
          4920,
          4921,
          4922,
          4923,
          4924,
          4925,
          4926,
          4927,
          4928,
          4929,
          4930,
          4931,
          4932,
          4933,
          4934,
          4935,
          4936,
          4937,
          4938,
          4939,
          4940,
          4941,
          4942,
          4943,
          4944,
          4945,
          4946,
          4947,
          4948,
          4949,
          4950,
          4951,
          4952,
          4953,
          4954,
          4955,
          4956,
          4957,
          4958,
          4959,
          4960,
          4961,
          4962,
          4963,
          4964,
          4965,
          4966,
          4967,
          4968,
          4969,
          4970,
          4971,
          4972,
          4973,
          4974,
          4975,
          4976,
          4977,
          4978,
          4979,
          4980,
          4981,
          4982,
          4983,
          4984,
          4985,
          4986,
          4987,
          4988,
          4989,
          4990,
          4991,
          4992,
          4993,
          4994,
          4995,
          4996,
          4997,
          4998,
          4999,
          5000,
          5001,
          5002,
          5003,
          5004,
          5005,
          5006,
          5007,
          5008,
          5009,
          5010,
          5011,
          5012,
          5013,
          5014,
          5015,
          5016,
          5017,
          5018,
          5019,
          5020,
          5021,
          5022,
          5023,
          5024,
          5025,
          5026,
          5027,
          5028,
          5029,
          5030,
          5031,
          5032,
          5033,
          5034,
          5035,
          5036,
          5037,
          5038,
          5039,
          5040,
          5041,
          5042
         ],
         "y": [
          0,
          0,
          0,
          0,
          0,
          0,
          0,
          0,
          0,
          0,
          0,
          0,
          0,
          0,
          0,
          0,
          0,
          0,
          0,
          0,
          0,
          0,
          0,
          0,
          0,
          0,
          0,
          0,
          0,
          0,
          0,
          0,
          0,
          0,
          0,
          0,
          0,
          0,
          0,
          0,
          0,
          0,
          0,
          0,
          0,
          0,
          0,
          0,
          0,
          0,
          0,
          0,
          0,
          0,
          0,
          0,
          0,
          0,
          0,
          0,
          0,
          0,
          0,
          0,
          0,
          0,
          0,
          0,
          0,
          0,
          0,
          0,
          0,
          0,
          0,
          0,
          0,
          0,
          0,
          0,
          0,
          0,
          0,
          0,
          0,
          0,
          0,
          0,
          0,
          0,
          0,
          0,
          0,
          0,
          0,
          0,
          0,
          0,
          0,
          0,
          0,
          0,
          0,
          0,
          0,
          0,
          0,
          0,
          0,
          0,
          0,
          0,
          0,
          0,
          0,
          0,
          0,
          0,
          0,
          0,
          0,
          0,
          0,
          0,
          0,
          0,
          0,
          0,
          0,
          0,
          0,
          0,
          0,
          0,
          0,
          0,
          0,
          0,
          0,
          0,
          0,
          0,
          0,
          0,
          0,
          0,
          0,
          0,
          0,
          0,
          0,
          0,
          0,
          0,
          0,
          0,
          0,
          0,
          0,
          0,
          0,
          0,
          0,
          0,
          0,
          0,
          0,
          0,
          0
         ]
        }
       ],
       "layout": {
        "font": {
         "family": "arial",
         "size": 16
        },
        "height": 450,
        "legend": {
         "font": {
          "family": "arial",
          "size": 12.8
         },
         "x": 0.75,
         "y": 1.15
        },
        "margin": {
         "b": 60,
         "l": 60
        },
        "showlegend": true,
        "template": {
         "data": {
          "bar": [
           {
            "error_x": {
             "color": "#2a3f5f"
            },
            "error_y": {
             "color": "#2a3f5f"
            },
            "marker": {
             "line": {
              "color": "#E5ECF6",
              "width": 0.5
             }
            },
            "type": "bar"
           }
          ],
          "barpolar": [
           {
            "marker": {
             "line": {
              "color": "#E5ECF6",
              "width": 0.5
             }
            },
            "type": "barpolar"
           }
          ],
          "carpet": [
           {
            "aaxis": {
             "endlinecolor": "#2a3f5f",
             "gridcolor": "white",
             "linecolor": "white",
             "minorgridcolor": "white",
             "startlinecolor": "#2a3f5f"
            },
            "baxis": {
             "endlinecolor": "#2a3f5f",
             "gridcolor": "white",
             "linecolor": "white",
             "minorgridcolor": "white",
             "startlinecolor": "#2a3f5f"
            },
            "type": "carpet"
           }
          ],
          "choropleth": [
           {
            "colorbar": {
             "outlinewidth": 0,
             "ticks": ""
            },
            "type": "choropleth"
           }
          ],
          "contour": [
           {
            "colorbar": {
             "outlinewidth": 0,
             "ticks": ""
            },
            "colorscale": [
             [
              0,
              "#0d0887"
             ],
             [
              0.1111111111111111,
              "#46039f"
             ],
             [
              0.2222222222222222,
              "#7201a8"
             ],
             [
              0.3333333333333333,
              "#9c179e"
             ],
             [
              0.4444444444444444,
              "#bd3786"
             ],
             [
              0.5555555555555556,
              "#d8576b"
             ],
             [
              0.6666666666666666,
              "#ed7953"
             ],
             [
              0.7777777777777778,
              "#fb9f3a"
             ],
             [
              0.8888888888888888,
              "#fdca26"
             ],
             [
              1,
              "#f0f921"
             ]
            ],
            "type": "contour"
           }
          ],
          "contourcarpet": [
           {
            "colorbar": {
             "outlinewidth": 0,
             "ticks": ""
            },
            "type": "contourcarpet"
           }
          ],
          "heatmap": [
           {
            "colorbar": {
             "outlinewidth": 0,
             "ticks": ""
            },
            "colorscale": [
             [
              0,
              "#0d0887"
             ],
             [
              0.1111111111111111,
              "#46039f"
             ],
             [
              0.2222222222222222,
              "#7201a8"
             ],
             [
              0.3333333333333333,
              "#9c179e"
             ],
             [
              0.4444444444444444,
              "#bd3786"
             ],
             [
              0.5555555555555556,
              "#d8576b"
             ],
             [
              0.6666666666666666,
              "#ed7953"
             ],
             [
              0.7777777777777778,
              "#fb9f3a"
             ],
             [
              0.8888888888888888,
              "#fdca26"
             ],
             [
              1,
              "#f0f921"
             ]
            ],
            "type": "heatmap"
           }
          ],
          "heatmapgl": [
           {
            "colorbar": {
             "outlinewidth": 0,
             "ticks": ""
            },
            "colorscale": [
             [
              0,
              "#0d0887"
             ],
             [
              0.1111111111111111,
              "#46039f"
             ],
             [
              0.2222222222222222,
              "#7201a8"
             ],
             [
              0.3333333333333333,
              "#9c179e"
             ],
             [
              0.4444444444444444,
              "#bd3786"
             ],
             [
              0.5555555555555556,
              "#d8576b"
             ],
             [
              0.6666666666666666,
              "#ed7953"
             ],
             [
              0.7777777777777778,
              "#fb9f3a"
             ],
             [
              0.8888888888888888,
              "#fdca26"
             ],
             [
              1,
              "#f0f921"
             ]
            ],
            "type": "heatmapgl"
           }
          ],
          "histogram": [
           {
            "marker": {
             "colorbar": {
              "outlinewidth": 0,
              "ticks": ""
             }
            },
            "type": "histogram"
           }
          ],
          "histogram2d": [
           {
            "colorbar": {
             "outlinewidth": 0,
             "ticks": ""
            },
            "colorscale": [
             [
              0,
              "#0d0887"
             ],
             [
              0.1111111111111111,
              "#46039f"
             ],
             [
              0.2222222222222222,
              "#7201a8"
             ],
             [
              0.3333333333333333,
              "#9c179e"
             ],
             [
              0.4444444444444444,
              "#bd3786"
             ],
             [
              0.5555555555555556,
              "#d8576b"
             ],
             [
              0.6666666666666666,
              "#ed7953"
             ],
             [
              0.7777777777777778,
              "#fb9f3a"
             ],
             [
              0.8888888888888888,
              "#fdca26"
             ],
             [
              1,
              "#f0f921"
             ]
            ],
            "type": "histogram2d"
           }
          ],
          "histogram2dcontour": [
           {
            "colorbar": {
             "outlinewidth": 0,
             "ticks": ""
            },
            "colorscale": [
             [
              0,
              "#0d0887"
             ],
             [
              0.1111111111111111,
              "#46039f"
             ],
             [
              0.2222222222222222,
              "#7201a8"
             ],
             [
              0.3333333333333333,
              "#9c179e"
             ],
             [
              0.4444444444444444,
              "#bd3786"
             ],
             [
              0.5555555555555556,
              "#d8576b"
             ],
             [
              0.6666666666666666,
              "#ed7953"
             ],
             [
              0.7777777777777778,
              "#fb9f3a"
             ],
             [
              0.8888888888888888,
              "#fdca26"
             ],
             [
              1,
              "#f0f921"
             ]
            ],
            "type": "histogram2dcontour"
           }
          ],
          "mesh3d": [
           {
            "colorbar": {
             "outlinewidth": 0,
             "ticks": ""
            },
            "type": "mesh3d"
           }
          ],
          "parcoords": [
           {
            "line": {
             "colorbar": {
              "outlinewidth": 0,
              "ticks": ""
             }
            },
            "type": "parcoords"
           }
          ],
          "pie": [
           {
            "automargin": true,
            "type": "pie"
           }
          ],
          "scatter": [
           {
            "marker": {
             "colorbar": {
              "outlinewidth": 0,
              "ticks": ""
             }
            },
            "type": "scatter"
           }
          ],
          "scatter3d": [
           {
            "line": {
             "colorbar": {
              "outlinewidth": 0,
              "ticks": ""
             }
            },
            "marker": {
             "colorbar": {
              "outlinewidth": 0,
              "ticks": ""
             }
            },
            "type": "scatter3d"
           }
          ],
          "scattercarpet": [
           {
            "marker": {
             "colorbar": {
              "outlinewidth": 0,
              "ticks": ""
             }
            },
            "type": "scattercarpet"
           }
          ],
          "scattergeo": [
           {
            "marker": {
             "colorbar": {
              "outlinewidth": 0,
              "ticks": ""
             }
            },
            "type": "scattergeo"
           }
          ],
          "scattergl": [
           {
            "marker": {
             "colorbar": {
              "outlinewidth": 0,
              "ticks": ""
             }
            },
            "type": "scattergl"
           }
          ],
          "scattermapbox": [
           {
            "marker": {
             "colorbar": {
              "outlinewidth": 0,
              "ticks": ""
             }
            },
            "type": "scattermapbox"
           }
          ],
          "scatterpolar": [
           {
            "marker": {
             "colorbar": {
              "outlinewidth": 0,
              "ticks": ""
             }
            },
            "type": "scatterpolar"
           }
          ],
          "scatterpolargl": [
           {
            "marker": {
             "colorbar": {
              "outlinewidth": 0,
              "ticks": ""
             }
            },
            "type": "scatterpolargl"
           }
          ],
          "scatterternary": [
           {
            "marker": {
             "colorbar": {
              "outlinewidth": 0,
              "ticks": ""
             }
            },
            "type": "scatterternary"
           }
          ],
          "surface": [
           {
            "colorbar": {
             "outlinewidth": 0,
             "ticks": ""
            },
            "colorscale": [
             [
              0,
              "#0d0887"
             ],
             [
              0.1111111111111111,
              "#46039f"
             ],
             [
              0.2222222222222222,
              "#7201a8"
             ],
             [
              0.3333333333333333,
              "#9c179e"
             ],
             [
              0.4444444444444444,
              "#bd3786"
             ],
             [
              0.5555555555555556,
              "#d8576b"
             ],
             [
              0.6666666666666666,
              "#ed7953"
             ],
             [
              0.7777777777777778,
              "#fb9f3a"
             ],
             [
              0.8888888888888888,
              "#fdca26"
             ],
             [
              1,
              "#f0f921"
             ]
            ],
            "type": "surface"
           }
          ],
          "table": [
           {
            "cells": {
             "fill": {
              "color": "#EBF0F8"
             },
             "line": {
              "color": "white"
             }
            },
            "header": {
             "fill": {
              "color": "#C8D4E3"
             },
             "line": {
              "color": "white"
             }
            },
            "type": "table"
           }
          ]
         },
         "layout": {
          "annotationdefaults": {
           "arrowcolor": "#2a3f5f",
           "arrowhead": 0,
           "arrowwidth": 1
          },
          "coloraxis": {
           "colorbar": {
            "outlinewidth": 0,
            "ticks": ""
           }
          },
          "colorscale": {
           "diverging": [
            [
             0,
             "#8e0152"
            ],
            [
             0.1,
             "#c51b7d"
            ],
            [
             0.2,
             "#de77ae"
            ],
            [
             0.3,
             "#f1b6da"
            ],
            [
             0.4,
             "#fde0ef"
            ],
            [
             0.5,
             "#f7f7f7"
            ],
            [
             0.6,
             "#e6f5d0"
            ],
            [
             0.7,
             "#b8e186"
            ],
            [
             0.8,
             "#7fbc41"
            ],
            [
             0.9,
             "#4d9221"
            ],
            [
             1,
             "#276419"
            ]
           ],
           "sequential": [
            [
             0,
             "#0d0887"
            ],
            [
             0.1111111111111111,
             "#46039f"
            ],
            [
             0.2222222222222222,
             "#7201a8"
            ],
            [
             0.3333333333333333,
             "#9c179e"
            ],
            [
             0.4444444444444444,
             "#bd3786"
            ],
            [
             0.5555555555555556,
             "#d8576b"
            ],
            [
             0.6666666666666666,
             "#ed7953"
            ],
            [
             0.7777777777777778,
             "#fb9f3a"
            ],
            [
             0.8888888888888888,
             "#fdca26"
            ],
            [
             1,
             "#f0f921"
            ]
           ],
           "sequentialminus": [
            [
             0,
             "#0d0887"
            ],
            [
             0.1111111111111111,
             "#46039f"
            ],
            [
             0.2222222222222222,
             "#7201a8"
            ],
            [
             0.3333333333333333,
             "#9c179e"
            ],
            [
             0.4444444444444444,
             "#bd3786"
            ],
            [
             0.5555555555555556,
             "#d8576b"
            ],
            [
             0.6666666666666666,
             "#ed7953"
            ],
            [
             0.7777777777777778,
             "#fb9f3a"
            ],
            [
             0.8888888888888888,
             "#fdca26"
            ],
            [
             1,
             "#f0f921"
            ]
           ]
          },
          "colorway": [
           "#636efa",
           "#EF553B",
           "#00cc96",
           "#ab63fa",
           "#FFA15A",
           "#19d3f3",
           "#FF6692",
           "#B6E880",
           "#FF97FF",
           "#FECB52"
          ],
          "font": {
           "color": "#2a3f5f"
          },
          "geo": {
           "bgcolor": "white",
           "lakecolor": "white",
           "landcolor": "#E5ECF6",
           "showlakes": true,
           "showland": true,
           "subunitcolor": "white"
          },
          "hoverlabel": {
           "align": "left"
          },
          "hovermode": "closest",
          "mapbox": {
           "style": "light"
          },
          "paper_bgcolor": "white",
          "plot_bgcolor": "#E5ECF6",
          "polar": {
           "angularaxis": {
            "gridcolor": "white",
            "linecolor": "white",
            "ticks": ""
           },
           "bgcolor": "#E5ECF6",
           "radialaxis": {
            "gridcolor": "white",
            "linecolor": "white",
            "ticks": ""
           }
          },
          "scene": {
           "xaxis": {
            "backgroundcolor": "#E5ECF6",
            "gridcolor": "white",
            "gridwidth": 2,
            "linecolor": "white",
            "showbackground": true,
            "ticks": "",
            "zerolinecolor": "white"
           },
           "yaxis": {
            "backgroundcolor": "#E5ECF6",
            "gridcolor": "white",
            "gridwidth": 2,
            "linecolor": "white",
            "showbackground": true,
            "ticks": "",
            "zerolinecolor": "white"
           },
           "zaxis": {
            "backgroundcolor": "#E5ECF6",
            "gridcolor": "white",
            "gridwidth": 2,
            "linecolor": "white",
            "showbackground": true,
            "ticks": "",
            "zerolinecolor": "white"
           }
          },
          "shapedefaults": {
           "line": {
            "color": "#2a3f5f"
           }
          },
          "ternary": {
           "aaxis": {
            "gridcolor": "white",
            "linecolor": "white",
            "ticks": ""
           },
           "baxis": {
            "gridcolor": "white",
            "linecolor": "white",
            "ticks": ""
           },
           "bgcolor": "#E5ECF6",
           "caxis": {
            "gridcolor": "white",
            "linecolor": "white",
            "ticks": ""
           }
          },
          "title": {
           "x": 0.05
          },
          "xaxis": {
           "automargin": true,
           "gridcolor": "white",
           "linecolor": "white",
           "ticks": "",
           "title": {
            "standoff": 15
           },
           "zerolinecolor": "white",
           "zerolinewidth": 2
          },
          "yaxis": {
           "automargin": true,
           "gridcolor": "white",
           "linecolor": "white",
           "ticks": "",
           "title": {
            "standoff": 15
           },
           "zerolinecolor": "white",
           "zerolinewidth": 2
          }
         }
        },
        "title": {
         "font": {
          "family": "arial",
          "size": 16
         },
         "text": "Individual SWH Retrofit, in Banja Luka"
        },
        "width": 650,
        "xaxis": {
         "tickfont": {
          "size": 12.8
         },
         "title": {
          "font": {
           "color": "#7f7f7f",
           "size": 16
          },
          "text": "Time [h]"
         }
        },
        "yaxis": {
         "tickfont": {
          "size": 9.6
         },
         "title": {
          "font": {
           "color": "#7f7f7f",
           "size": 16
          },
          "text": "Heat rate [W]"
         }
        }
       }
      },
      "text/html": [
       "<div>\n",
       "        \n",
       "        \n",
       "            <div id=\"2b223645-bf6a-4e2c-bd15-4097082198ae\" class=\"plotly-graph-div\" style=\"height:450px; width:650px;\"></div>\n",
       "            <script type=\"text/javascript\">\n",
       "                require([\"plotly\"], function(Plotly) {\n",
       "                    window.PLOTLYENV=window.PLOTLYENV || {};\n",
       "                    \n",
       "                if (document.getElementById(\"2b223645-bf6a-4e2c-bd15-4097082198ae\")) {\n",
       "                    Plotly.newPlot(\n",
       "                        '2b223645-bf6a-4e2c-bd15-4097082198ae',\n",
       "                        [{\"mode\": \"lines\", \"name\": \"Net Heat Demand\", \"type\": \"scatter\", \"x\": [4874, 4875, 4876, 4877, 4878, 4879, 4880, 4881, 4882, 4883, 4884, 4885, 4886, 4887, 4888, 4889, 4890, 4891, 4892, 4893, 4894, 4895, 4896, 4897, 4898, 4899, 4900, 4901, 4902, 4903, 4904, 4905, 4906, 4907, 4908, 4909, 4910, 4911, 4912, 4913, 4914, 4915, 4916, 4917, 4918, 4919, 4920, 4921, 4922, 4923, 4924, 4925, 4926, 4927, 4928, 4929, 4930, 4931, 4932, 4933, 4934, 4935, 4936, 4937, 4938, 4939, 4940, 4941, 4942, 4943, 4944, 4945, 4946, 4947, 4948, 4949, 4950, 4951, 4952, 4953, 4954, 4955, 4956, 4957, 4958, 4959, 4960, 4961, 4962, 4963, 4964, 4965, 4966, 4967, 4968, 4969, 4970, 4971, 4972, 4973, 4974, 4975, 4976, 4977, 4978, 4979, 4980, 4981, 4982, 4983, 4984, 4985, 4986, 4987, 4988, 4989, 4990, 4991, 4992, 4993, 4994, 4995, 4996, 4997, 4998, 4999, 5000, 5001, 5002, 5003, 5004, 5005, 5006, 5007, 5008, 5009, 5010, 5011, 5012, 5013, 5014, 5015, 5016, 5017, 5018, 5019, 5020, 5021, 5022, 5023, 5024, 5025, 5026, 5027, 5028, 5029, 5030, 5031, 5032, 5033, 5034, 5035, 5036, 5037, 5038, 5039, 5040, 5041, 5042], \"y\": [0.0, 0.0, 0.0, 0.0, 0.0, 0.0, 446.16, 174.28, 2516.64, 153.37, 146.4, 0.0, 0.0, 55.77, 118.51, 418.28, 0.0, 1812.54, 62.74, 313.71, 1045.69, 0.0, 0.0, 20.91, 48.8, 313.71, 118.51, 0.0, 0.0, 0.0, 0.0, 446.16, 97.6, 153.37, 6.97, 6.97, 69.71, 320.68, 780.78, 0.0, 2467.84, 118.51, 55.77, 1847.39, 0.0, 0.0, 0.0, 90.63, 0.0, 0.0, 0.0, 418.28, 20.91, 48.8, 13.94, 139.43, 90.63, 0.0, 118.51, 1157.23, 0.0, 0.0, 250.97, 202.17, 202.17, 460.11, 90.63, 0.0, 167.31, 418.28, 0.0, 0.0, 0.0, 0.0, 0.0, 0.0, 864.44, 0.0, 0.0, 62.74, 0.0, 41.83, 76.68, 0.0, 125.48, 0.0, 6.97, 174.28, 1080.55, 306.74, 529.82, 6.97, 467.08, 0.0, 0.0, 0.0, 0.0, 0.0, 244.0, 2683.95, 1003.87, 1463.97, 118.51, 6.97, 125.48, 1463.97, 0.0, 160.34, 104.57, 6.97, 55.77, 738.96, 6.97, 6.97, 620.44, 411.31, 453.13, 1931.05, 383.42, 0.0, 0.0, 0.0, 0.0, 0.0, 0.0, 69.71, 6.97, 0.0, 34.86, 871.41, 306.74, 188.22, 313.71, 0.0, 0.0, 83.66, 118.51, 6.97, 1024.78, 0.0, 1185.12, 1589.45, 0.0, 0.0, 306.74, 0.0, 0.0, 0.0, 153.37, 0.0, 0.0, 202.17, 4322.2, 4496.48, 188.22, 725.01, 453.13, 6.97, 404.33, 390.39, 6.97, 453.13, 1129.35, 0.0, 6.97, 0.0, 0.0, 0.0, 0.0]}, {\"mode\": \"lines\", \"name\": \"Tank Heat Delivered\", \"type\": \"scatter\", \"x\": [4874, 4875, 4876, 4877, 4878, 4879, 4880, 4881, 4882, 4883, 4884, 4885, 4886, 4887, 4888, 4889, 4890, 4891, 4892, 4893, 4894, 4895, 4896, 4897, 4898, 4899, 4900, 4901, 4902, 4903, 4904, 4905, 4906, 4907, 4908, 4909, 4910, 4911, 4912, 4913, 4914, 4915, 4916, 4917, 4918, 4919, 4920, 4921, 4922, 4923, 4924, 4925, 4926, 4927, 4928, 4929, 4930, 4931, 4932, 4933, 4934, 4935, 4936, 4937, 4938, 4939, 4940, 4941, 4942, 4943, 4944, 4945, 4946, 4947, 4948, 4949, 4950, 4951, 4952, 4953, 4954, 4955, 4956, 4957, 4958, 4959, 4960, 4961, 4962, 4963, 4964, 4965, 4966, 4967, 4968, 4969, 4970, 4971, 4972, 4973, 4974, 4975, 4976, 4977, 4978, 4979, 4980, 4981, 4982, 4983, 4984, 4985, 4986, 4987, 4988, 4989, 4990, 4991, 4992, 4993, 4994, 4995, 4996, 4997, 4998, 4999, 5000, 5001, 5002, 5003, 5004, 5005, 5006, 5007, 5008, 5009, 5010, 5011, 5012, 5013, 5014, 5015, 5016, 5017, 5018, 5019, 5020, 5021, 5022, 5023, 5024, 5025, 5026, 5027, 5028, 5029, 5030, 5031, 5032, 5033, 5034, 5035, 5036, 5037, 5038, 5039, 5040, 5041, 5042], \"y\": [0.0, 0.0, 0.0, 0.0, 0.0, 0.0, 446.16, 174.28, 2516.64, 153.37, 146.4, 0.0, 0.0, 55.77, 118.51, 418.28, 0.0, 1812.54, 62.74, 313.71, 1045.69, 0.0, 0.0, 20.91, 48.8, 313.71, 118.51, 0.0, 0.0, 0.0, 0.0, 446.16, 97.6, 153.37, 6.97, 6.97, 69.71, 320.68, 780.78, 0.0, 2467.84, 118.51, 55.77, 1847.39, 0.0, 0.0, 0.0, 90.63, 0.0, 0.0, 0.0, 418.28, 20.91, 48.8, 13.94, 139.43, 90.63, 0.0, 118.51, 1157.23, 0.0, 0.0, 250.97, 202.17, 202.17, 460.11, 90.63, 0.0, 167.31, 418.28, 0.0, 0.0, 0.0, 0.0, 0.0, 0.0, 864.44, 0.0, 0.0, 62.74, 0.0, 41.83, 76.68, 0.0, 125.48, 0.0, 6.97, 174.28, 1080.55, 306.74, 529.82, 6.97, 467.08, 0.0, 0.0, 0.0, 0.0, 0.0, 244.0, 2683.95, 1003.87, 1463.97, 102.12, 6.01, 116.24, 1463.97, 0.0, 160.34, 104.57, 6.97, 55.77, 738.96, 6.97, 6.97, 620.44, 411.31, 453.13, 1931.05, 383.42, 0.0, 0.0, 0.0, 0.0, 0.0, 0.0, 69.71, 6.97, 0.0, 34.86, 871.41, 306.74, 188.22, 313.71, 0.0, 0.0, 83.66, 118.51, 6.97, 1024.78, 0.0, 1185.12, 1589.45, 0.0, 0.0, 306.74, 0.0, 0.0, 0.0, 153.37, 0.0, 0.0, 202.17, 4322.2, 4294.53, 174.51, 725.01, 453.13, 6.97, 404.33, 390.39, 6.97, 453.13, 1129.35, 0.0, 6.97, 0.0, 0.0, 0.0, 0.0]}, {\"mode\": \"lines\", \"name\": \"Tank Unmet Heat\", \"type\": \"scatter\", \"x\": [4874, 4875, 4876, 4877, 4878, 4879, 4880, 4881, 4882, 4883, 4884, 4885, 4886, 4887, 4888, 4889, 4890, 4891, 4892, 4893, 4894, 4895, 4896, 4897, 4898, 4899, 4900, 4901, 4902, 4903, 4904, 4905, 4906, 4907, 4908, 4909, 4910, 4911, 4912, 4913, 4914, 4915, 4916, 4917, 4918, 4919, 4920, 4921, 4922, 4923, 4924, 4925, 4926, 4927, 4928, 4929, 4930, 4931, 4932, 4933, 4934, 4935, 4936, 4937, 4938, 4939, 4940, 4941, 4942, 4943, 4944, 4945, 4946, 4947, 4948, 4949, 4950, 4951, 4952, 4953, 4954, 4955, 4956, 4957, 4958, 4959, 4960, 4961, 4962, 4963, 4964, 4965, 4966, 4967, 4968, 4969, 4970, 4971, 4972, 4973, 4974, 4975, 4976, 4977, 4978, 4979, 4980, 4981, 4982, 4983, 4984, 4985, 4986, 4987, 4988, 4989, 4990, 4991, 4992, 4993, 4994, 4995, 4996, 4997, 4998, 4999, 5000, 5001, 5002, 5003, 5004, 5005, 5006, 5007, 5008, 5009, 5010, 5011, 5012, 5013, 5014, 5015, 5016, 5017, 5018, 5019, 5020, 5021, 5022, 5023, 5024, 5025, 5026, 5027, 5028, 5029, 5030, 5031, 5032, 5033, 5034, 5035, 5036, 5037, 5038, 5039, 5040, 5041, 5042], \"y\": [0.0, 0.0, 0.0, 0.0, 0.0, 0.0, 0.0, 0.0, 0.0, 0.0, 0.0, 0.0, 0.0, 0.0, 0.0, 0.0, 0.0, 0.0, 0.0, 0.0, 0.0, 0.0, 0.0, 0.0, 0.0, 0.0, 0.0, 0.0, 0.0, 0.0, 0.0, 0.0, 0.0, 0.0, 0.0, 0.0, 0.0, 0.0, 0.0, 0.0, 0.0, 0.0, 0.0, 0.0, 0.0, 0.0, 0.0, 0.0, 0.0, 0.0, 0.0, 0.0, 0.0, 0.0, 0.0, 0.0, 0.0, 0.0, 0.0, 0.0, 0.0, 0.0, 0.0, 0.0, 0.0, 0.0, 0.0, 0.0, 0.0, 0.0, 0.0, 0.0, 0.0, 0.0, 0.0, 0.0, 0.0, 0.0, 0.0, 0.0, 0.0, 0.0, 0.0, 0.0, 0.0, 0.0, 0.0, 0.0, 0.0, 0.0, 0.0, 0.0, 0.0, 0.0, 0.0, 0.0, 0.0, 0.0, 0.0, 0.0, 0.0, 0.0, 16.39, 0.96, 9.24, 0.0, 0.0, 0.0, 0.0, 0.0, 0.0, 0.0, 0.0, 0.0, 0.0, 0.0, 0.0, 0.0, 0.0, 0.0, 0.0, 0.0, 0.0, 0.0, 0.0, 0.0, 0.0, 0.0, 0.0, 0.0, 0.0, 0.0, 0.0, 0.0, 0.0, 0.0, 0.0, 0.0, 0.0, 0.0, 0.0, 0.0, 0.0, 0.0, 0.0, 0.0, 0.0, 0.0, 0.0, 0.0, 0.0, 0.0, 0.0, 201.95, 13.71, 0.0, 0.0, 0.0, 0.0, 0.0, 0.0, 0.0, 0.0, 0.0, 0.0, 0.0, 0.0, 0.0, 0.0]}, {\"mode\": \"lines\", \"name\": \"Solar Heat Delivered To Tank\", \"type\": \"scatter\", \"x\": [4874, 4875, 4876, 4877, 4878, 4879, 4880, 4881, 4882, 4883, 4884, 4885, 4886, 4887, 4888, 4889, 4890, 4891, 4892, 4893, 4894, 4895, 4896, 4897, 4898, 4899, 4900, 4901, 4902, 4903, 4904, 4905, 4906, 4907, 4908, 4909, 4910, 4911, 4912, 4913, 4914, 4915, 4916, 4917, 4918, 4919, 4920, 4921, 4922, 4923, 4924, 4925, 4926, 4927, 4928, 4929, 4930, 4931, 4932, 4933, 4934, 4935, 4936, 4937, 4938, 4939, 4940, 4941, 4942, 4943, 4944, 4945, 4946, 4947, 4948, 4949, 4950, 4951, 4952, 4953, 4954, 4955, 4956, 4957, 4958, 4959, 4960, 4961, 4962, 4963, 4964, 4965, 4966, 4967, 4968, 4969, 4970, 4971, 4972, 4973, 4974, 4975, 4976, 4977, 4978, 4979, 4980, 4981, 4982, 4983, 4984, 4985, 4986, 4987, 4988, 4989, 4990, 4991, 4992, 4993, 4994, 4995, 4996, 4997, 4998, 4999, 5000, 5001, 5002, 5003, 5004, 5005, 5006, 5007, 5008, 5009, 5010, 5011, 5012, 5013, 5014, 5015, 5016, 5017, 5018, 5019, 5020, 5021, 5022, 5023, 5024, 5025, 5026, 5027, 5028, 5029, 5030, 5031, 5032, 5033, 5034, 5035, 5036, 5037, 5038, 5039, 5040, 5041, 5042], \"y\": [0.0, 0.0, 0.0, 0.0, -0.0, -0.0, 468.40324223852286, 871.1067494722879, 540.0403951729006, 0.0, 3296.7465901201017, 2796.6523381743127, 2462.5325596783114, 2050.177209364725, 1438.5109503702442, 771.3533774337301, 74.59563032157168, -0.0, 0.0, 0.0, 0.0, 0.0, 0.0, 0.0, 0.0, 0.0, 0.0, 0.0, -0.0, 45.8812460468832, 307.3705380589197, 1053.3631808180228, 1104.877704202, 0.0, 3654.209628916287, 2881.545463397006, 2502.31645423548, 2023.4337659071355, 1430.5124932538456, 759.7245161045438, 77.00439897961706, -0.0, 0.0, 0.0, 0.0, 0.0, 0.0, 0.0, 0.0, 0.0, 0.0, 0.0, -0.0, -0.0, 444.46986494474004, 1125.925741576152, 1190.3150479916771, 0.0, 3780.6462452292353, 2898.694771418669, 2485.2985147106215, 2015.4104847595, 1346.6890585499218, 459.2951354717355, -0.0, -0.0, 0.0, 0.0, 0.0, 0.0, 0.0, 0.0, 0.0, 0.0, 0.0, 0.0, -0.0, -0.0, 356.9968210504637, 856.8974214677833, 769.529795520419, 0.0, 1929.5564065459414, 2259.0718303915824, 2020.768315677475, 1742.349011030756, 946.4643287104033, 575.1532211329751, -0.0, -0.0, 0.0, 0.0, 0.0, 0.0, 0.0, 0.0, 0.0, 0.0, 0.0, 0.0, -0.0, 45.940031198736655, 257.23447902372584, 784.72998496216, 1222.497339982274, 0.0, 3711.568760029036, 2938.974236614727, 2421.9136342070087, 1907.655958222569, 1363.3503278662997, 665.6674379580393, -0.0, -0.0, 0.0, 0.0, 0.0, 0.0, 0.0, 0.0, 0.0, 0.0, 0.0, 0.0, -0.0, 29.371529353474717, 190.29080776375164, 1054.6987616437377, 974.6525920508317, 0.0, 3285.7088361830456, 2769.407959955122, 2401.542786014477, 1836.0022127725254, 1349.4689903405142, 671.212689254495, -0.0, -0.0, 0.0, 0.0, 0.0, 0.0, 0.0, 0.0, 0.0, 0.0, 0.0, 0.0, -0.0, 50.65250501267151, 585.2820308303865, 975.2996668419527, 785.7893534827747, 4047.364223589537, 2982.2497158338624, 2595.626260185226, 1985.9012384719472, 1322.701384458149, 1138.034035409711, 549.7931776539896, -0.0, -0.0, 0.0, 0.0, 0.0, 0.0, 0.0, 0.0, 0.0]}, {\"mode\": \"lines\", \"name\": \"Distribution Heat Loss\", \"type\": \"scatter\", \"x\": [4874, 4875, 4876, 4877, 4878, 4879, 4880, 4881, 4882, 4883, 4884, 4885, 4886, 4887, 4888, 4889, 4890, 4891, 4892, 4893, 4894, 4895, 4896, 4897, 4898, 4899, 4900, 4901, 4902, 4903, 4904, 4905, 4906, 4907, 4908, 4909, 4910, 4911, 4912, 4913, 4914, 4915, 4916, 4917, 4918, 4919, 4920, 4921, 4922, 4923, 4924, 4925, 4926, 4927, 4928, 4929, 4930, 4931, 4932, 4933, 4934, 4935, 4936, 4937, 4938, 4939, 4940, 4941, 4942, 4943, 4944, 4945, 4946, 4947, 4948, 4949, 4950, 4951, 4952, 4953, 4954, 4955, 4956, 4957, 4958, 4959, 4960, 4961, 4962, 4963, 4964, 4965, 4966, 4967, 4968, 4969, 4970, 4971, 4972, 4973, 4974, 4975, 4976, 4977, 4978, 4979, 4980, 4981, 4982, 4983, 4984, 4985, 4986, 4987, 4988, 4989, 4990, 4991, 4992, 4993, 4994, 4995, 4996, 4997, 4998, 4999, 5000, 5001, 5002, 5003, 5004, 5005, 5006, 5007, 5008, 5009, 5010, 5011, 5012, 5013, 5014, 5015, 5016, 5017, 5018, 5019, 5020, 5021, 5022, 5023, 5024, 5025, 5026, 5027, 5028, 5029, 5030, 5031, 5032, 5033, 5034, 5035, 5036, 5037, 5038, 5039, 5040, 5041, 5042], \"y\": [0.0, 0.0, 0.0, 0.0, 0.0, 0.0, 0.0, 0.0, 0.0, 0.0, 0.0, 0.0, 0.0, 0.0, 0.0, 0.0, 0.0, 0.0, 0.0, 0.0, 0.0, 0.0, 0.0, 0.0, 0.0, 0.0, 0.0, 0.0, 0.0, 0.0, 0.0, 0.0, 0.0, 0.0, 0.0, 0.0, 0.0, 0.0, 0.0, 0.0, 0.0, 0.0, 0.0, 0.0, 0.0, 0.0, 0.0, 0.0, 0.0, 0.0, 0.0, 0.0, 0.0, 0.0, 0.0, 0.0, 0.0, 0.0, 0.0, 0.0, 0.0, 0.0, 0.0, 0.0, 0.0, 0.0, 0.0, 0.0, 0.0, 0.0, 0.0, 0.0, 0.0, 0.0, 0.0, 0.0, 0.0, 0.0, 0.0, 0.0, 0.0, 0.0, 0.0, 0.0, 0.0, 0.0, 0.0, 0.0, 0.0, 0.0, 0.0, 0.0, 0.0, 0.0, 0.0, 0.0, 0.0, 0.0, 0.0, 0.0, 0.0, 0.0, 0.0, 0.0, 0.0, 0.0, 0.0, 0.0, 0.0, 0.0, 0.0, 0.0, 0.0, 0.0, 0.0, 0.0, 0.0, 0.0, 0.0, 0.0, 0.0, 0.0, 0.0, 0.0, 0.0, 0.0, 0.0, 0.0, 0.0, 0.0, 0.0, 0.0, 0.0, 0.0, 0.0, 0.0, 0.0, 0.0, 0.0, 0.0, 0.0, 0.0, 0.0, 0.0, 0.0, 0.0, 0.0, 0.0, 0.0, 0.0, 0.0, 0.0, 0.0, 0.0, 0.0, 0.0, 0.0, 0.0, 0.0, 0.0, 0.0, 0.0, 0.0, 0.0, 0.0, 0.0, 0.0, 0.0, 0.0]}],\n",
       "                        {\"font\": {\"family\": \"arial\", \"size\": 16}, \"height\": 450, \"legend\": {\"font\": {\"family\": \"arial\", \"size\": 12.8}, \"x\": 0.75, \"y\": 1.15}, \"margin\": {\"b\": 60.0, \"l\": 60.0}, \"showlegend\": true, \"template\": {\"data\": {\"bar\": [{\"error_x\": {\"color\": \"#2a3f5f\"}, \"error_y\": {\"color\": \"#2a3f5f\"}, \"marker\": {\"line\": {\"color\": \"#E5ECF6\", \"width\": 0.5}}, \"type\": \"bar\"}], \"barpolar\": [{\"marker\": {\"line\": {\"color\": \"#E5ECF6\", \"width\": 0.5}}, \"type\": \"barpolar\"}], \"carpet\": [{\"aaxis\": {\"endlinecolor\": \"#2a3f5f\", \"gridcolor\": \"white\", \"linecolor\": \"white\", \"minorgridcolor\": \"white\", \"startlinecolor\": \"#2a3f5f\"}, \"baxis\": {\"endlinecolor\": \"#2a3f5f\", \"gridcolor\": \"white\", \"linecolor\": \"white\", \"minorgridcolor\": \"white\", \"startlinecolor\": \"#2a3f5f\"}, \"type\": \"carpet\"}], \"choropleth\": [{\"colorbar\": {\"outlinewidth\": 0, \"ticks\": \"\"}, \"type\": \"choropleth\"}], \"contour\": [{\"colorbar\": {\"outlinewidth\": 0, \"ticks\": \"\"}, \"colorscale\": [[0.0, \"#0d0887\"], [0.1111111111111111, \"#46039f\"], [0.2222222222222222, \"#7201a8\"], [0.3333333333333333, \"#9c179e\"], [0.4444444444444444, \"#bd3786\"], [0.5555555555555556, \"#d8576b\"], [0.6666666666666666, \"#ed7953\"], [0.7777777777777778, \"#fb9f3a\"], [0.8888888888888888, \"#fdca26\"], [1.0, \"#f0f921\"]], \"type\": \"contour\"}], \"contourcarpet\": [{\"colorbar\": {\"outlinewidth\": 0, \"ticks\": \"\"}, \"type\": \"contourcarpet\"}], \"heatmap\": [{\"colorbar\": {\"outlinewidth\": 0, \"ticks\": \"\"}, \"colorscale\": [[0.0, \"#0d0887\"], [0.1111111111111111, \"#46039f\"], [0.2222222222222222, \"#7201a8\"], [0.3333333333333333, \"#9c179e\"], [0.4444444444444444, \"#bd3786\"], [0.5555555555555556, \"#d8576b\"], [0.6666666666666666, \"#ed7953\"], [0.7777777777777778, \"#fb9f3a\"], [0.8888888888888888, \"#fdca26\"], [1.0, \"#f0f921\"]], \"type\": \"heatmap\"}], \"heatmapgl\": [{\"colorbar\": {\"outlinewidth\": 0, \"ticks\": \"\"}, \"colorscale\": [[0.0, \"#0d0887\"], [0.1111111111111111, \"#46039f\"], [0.2222222222222222, \"#7201a8\"], [0.3333333333333333, \"#9c179e\"], [0.4444444444444444, \"#bd3786\"], [0.5555555555555556, \"#d8576b\"], [0.6666666666666666, \"#ed7953\"], [0.7777777777777778, \"#fb9f3a\"], [0.8888888888888888, \"#fdca26\"], [1.0, \"#f0f921\"]], \"type\": \"heatmapgl\"}], \"histogram\": [{\"marker\": {\"colorbar\": {\"outlinewidth\": 0, \"ticks\": \"\"}}, \"type\": \"histogram\"}], \"histogram2d\": [{\"colorbar\": {\"outlinewidth\": 0, \"ticks\": \"\"}, \"colorscale\": [[0.0, \"#0d0887\"], [0.1111111111111111, \"#46039f\"], [0.2222222222222222, \"#7201a8\"], [0.3333333333333333, \"#9c179e\"], [0.4444444444444444, \"#bd3786\"], [0.5555555555555556, \"#d8576b\"], [0.6666666666666666, \"#ed7953\"], [0.7777777777777778, \"#fb9f3a\"], [0.8888888888888888, \"#fdca26\"], [1.0, \"#f0f921\"]], \"type\": \"histogram2d\"}], \"histogram2dcontour\": [{\"colorbar\": {\"outlinewidth\": 0, \"ticks\": \"\"}, \"colorscale\": [[0.0, \"#0d0887\"], [0.1111111111111111, \"#46039f\"], [0.2222222222222222, \"#7201a8\"], [0.3333333333333333, \"#9c179e\"], [0.4444444444444444, \"#bd3786\"], [0.5555555555555556, \"#d8576b\"], [0.6666666666666666, \"#ed7953\"], [0.7777777777777778, \"#fb9f3a\"], [0.8888888888888888, \"#fdca26\"], [1.0, \"#f0f921\"]], \"type\": \"histogram2dcontour\"}], \"mesh3d\": [{\"colorbar\": {\"outlinewidth\": 0, \"ticks\": \"\"}, \"type\": \"mesh3d\"}], \"parcoords\": [{\"line\": {\"colorbar\": {\"outlinewidth\": 0, \"ticks\": \"\"}}, \"type\": \"parcoords\"}], \"pie\": [{\"automargin\": true, \"type\": \"pie\"}], \"scatter\": [{\"marker\": {\"colorbar\": {\"outlinewidth\": 0, \"ticks\": \"\"}}, \"type\": \"scatter\"}], \"scatter3d\": [{\"line\": {\"colorbar\": {\"outlinewidth\": 0, \"ticks\": \"\"}}, \"marker\": {\"colorbar\": {\"outlinewidth\": 0, \"ticks\": \"\"}}, \"type\": \"scatter3d\"}], \"scattercarpet\": [{\"marker\": {\"colorbar\": {\"outlinewidth\": 0, \"ticks\": \"\"}}, \"type\": \"scattercarpet\"}], \"scattergeo\": [{\"marker\": {\"colorbar\": {\"outlinewidth\": 0, \"ticks\": \"\"}}, \"type\": \"scattergeo\"}], \"scattergl\": [{\"marker\": {\"colorbar\": {\"outlinewidth\": 0, \"ticks\": \"\"}}, \"type\": \"scattergl\"}], \"scattermapbox\": [{\"marker\": {\"colorbar\": {\"outlinewidth\": 0, \"ticks\": \"\"}}, \"type\": \"scattermapbox\"}], \"scatterpolar\": [{\"marker\": {\"colorbar\": {\"outlinewidth\": 0, \"ticks\": \"\"}}, \"type\": \"scatterpolar\"}], \"scatterpolargl\": [{\"marker\": {\"colorbar\": {\"outlinewidth\": 0, \"ticks\": \"\"}}, \"type\": \"scatterpolargl\"}], \"scatterternary\": [{\"marker\": {\"colorbar\": {\"outlinewidth\": 0, \"ticks\": \"\"}}, \"type\": \"scatterternary\"}], \"surface\": [{\"colorbar\": {\"outlinewidth\": 0, \"ticks\": \"\"}, \"colorscale\": [[0.0, \"#0d0887\"], [0.1111111111111111, \"#46039f\"], [0.2222222222222222, \"#7201a8\"], [0.3333333333333333, \"#9c179e\"], [0.4444444444444444, \"#bd3786\"], [0.5555555555555556, \"#d8576b\"], [0.6666666666666666, \"#ed7953\"], [0.7777777777777778, \"#fb9f3a\"], [0.8888888888888888, \"#fdca26\"], [1.0, \"#f0f921\"]], \"type\": \"surface\"}], \"table\": [{\"cells\": {\"fill\": {\"color\": \"#EBF0F8\"}, \"line\": {\"color\": \"white\"}}, \"header\": {\"fill\": {\"color\": \"#C8D4E3\"}, \"line\": {\"color\": \"white\"}}, \"type\": \"table\"}]}, \"layout\": {\"annotationdefaults\": {\"arrowcolor\": \"#2a3f5f\", \"arrowhead\": 0, \"arrowwidth\": 1}, \"coloraxis\": {\"colorbar\": {\"outlinewidth\": 0, \"ticks\": \"\"}}, \"colorscale\": {\"diverging\": [[0, \"#8e0152\"], [0.1, \"#c51b7d\"], [0.2, \"#de77ae\"], [0.3, \"#f1b6da\"], [0.4, \"#fde0ef\"], [0.5, \"#f7f7f7\"], [0.6, \"#e6f5d0\"], [0.7, \"#b8e186\"], [0.8, \"#7fbc41\"], [0.9, \"#4d9221\"], [1, \"#276419\"]], \"sequential\": [[0.0, \"#0d0887\"], [0.1111111111111111, \"#46039f\"], [0.2222222222222222, \"#7201a8\"], [0.3333333333333333, \"#9c179e\"], [0.4444444444444444, \"#bd3786\"], [0.5555555555555556, \"#d8576b\"], [0.6666666666666666, \"#ed7953\"], [0.7777777777777778, \"#fb9f3a\"], [0.8888888888888888, \"#fdca26\"], [1.0, \"#f0f921\"]], \"sequentialminus\": [[0.0, \"#0d0887\"], [0.1111111111111111, \"#46039f\"], [0.2222222222222222, \"#7201a8\"], [0.3333333333333333, \"#9c179e\"], [0.4444444444444444, \"#bd3786\"], [0.5555555555555556, \"#d8576b\"], [0.6666666666666666, \"#ed7953\"], [0.7777777777777778, \"#fb9f3a\"], [0.8888888888888888, \"#fdca26\"], [1.0, \"#f0f921\"]]}, \"colorway\": [\"#636efa\", \"#EF553B\", \"#00cc96\", \"#ab63fa\", \"#FFA15A\", \"#19d3f3\", \"#FF6692\", \"#B6E880\", \"#FF97FF\", \"#FECB52\"], \"font\": {\"color\": \"#2a3f5f\"}, \"geo\": {\"bgcolor\": \"white\", \"lakecolor\": \"white\", \"landcolor\": \"#E5ECF6\", \"showlakes\": true, \"showland\": true, \"subunitcolor\": \"white\"}, \"hoverlabel\": {\"align\": \"left\"}, \"hovermode\": \"closest\", \"mapbox\": {\"style\": \"light\"}, \"paper_bgcolor\": \"white\", \"plot_bgcolor\": \"#E5ECF6\", \"polar\": {\"angularaxis\": {\"gridcolor\": \"white\", \"linecolor\": \"white\", \"ticks\": \"\"}, \"bgcolor\": \"#E5ECF6\", \"radialaxis\": {\"gridcolor\": \"white\", \"linecolor\": \"white\", \"ticks\": \"\"}}, \"scene\": {\"xaxis\": {\"backgroundcolor\": \"#E5ECF6\", \"gridcolor\": \"white\", \"gridwidth\": 2, \"linecolor\": \"white\", \"showbackground\": true, \"ticks\": \"\", \"zerolinecolor\": \"white\"}, \"yaxis\": {\"backgroundcolor\": \"#E5ECF6\", \"gridcolor\": \"white\", \"gridwidth\": 2, \"linecolor\": \"white\", \"showbackground\": true, \"ticks\": \"\", \"zerolinecolor\": \"white\"}, \"zaxis\": {\"backgroundcolor\": \"#E5ECF6\", \"gridcolor\": \"white\", \"gridwidth\": 2, \"linecolor\": \"white\", \"showbackground\": true, \"ticks\": \"\", \"zerolinecolor\": \"white\"}}, \"shapedefaults\": {\"line\": {\"color\": \"#2a3f5f\"}}, \"ternary\": {\"aaxis\": {\"gridcolor\": \"white\", \"linecolor\": \"white\", \"ticks\": \"\"}, \"baxis\": {\"gridcolor\": \"white\", \"linecolor\": \"white\", \"ticks\": \"\"}, \"bgcolor\": \"#E5ECF6\", \"caxis\": {\"gridcolor\": \"white\", \"linecolor\": \"white\", \"ticks\": \"\"}}, \"title\": {\"x\": 0.05}, \"xaxis\": {\"automargin\": true, \"gridcolor\": \"white\", \"linecolor\": \"white\", \"ticks\": \"\", \"title\": {\"standoff\": 15}, \"zerolinecolor\": \"white\", \"zerolinewidth\": 2}, \"yaxis\": {\"automargin\": true, \"gridcolor\": \"white\", \"linecolor\": \"white\", \"ticks\": \"\", \"title\": {\"standoff\": 15}, \"zerolinecolor\": \"white\", \"zerolinewidth\": 2}}}, \"title\": {\"font\": {\"family\": \"arial\", \"size\": 16.0}, \"text\": \"Individual SWH Retrofit, in Banja Luka\"}, \"width\": 650, \"xaxis\": {\"tickfont\": {\"size\": 12.8}, \"title\": {\"font\": {\"color\": \"#7f7f7f\", \"size\": 16}, \"text\": \"Time [h]\"}}, \"yaxis\": {\"tickfont\": {\"size\": 9.6}, \"title\": {\"font\": {\"color\": \"#7f7f7f\", \"size\": 16}, \"text\": \"Heat rate [W]\"}}},\n",
       "                        {\"responsive\": true}\n",
       "                    ).then(function(){\n",
       "                            \n",
       "var gd = document.getElementById('2b223645-bf6a-4e2c-bd15-4097082198ae');\n",
       "var x = new MutationObserver(function (mutations, observer) {{\n",
       "        var display = window.getComputedStyle(gd).display;\n",
       "        if (!display || display === 'none') {{\n",
       "            console.log([gd, 'removed!']);\n",
       "            Plotly.purge(gd);\n",
       "            observer.disconnect();\n",
       "        }}\n",
       "}});\n",
       "\n",
       "// Listen for the removal of the full notebook cells\n",
       "var notebookContainer = gd.closest('#notebook-container');\n",
       "if (notebookContainer) {{\n",
       "    x.observe(notebookContainer, {childList: true});\n",
       "}}\n",
       "\n",
       "// Listen for the clearing of the current output cell\n",
       "var outputEl = gd.closest('.output');\n",
       "if (outputEl) {{\n",
       "    x.observe(outputEl, {childList: true});\n",
       "}}\n",
       "\n",
       "                        })\n",
       "                };\n",
       "                });\n",
       "            </script>\n",
       "        </div>"
      ]
     },
     "metadata": {},
     "output_type": "display_data"
    }
   ],
   "source": [
    "print('month, day, hour:\\nData starts at', ts_res_indiv_retrofit_cold.loc[first_hour, ['month','day', 'hour']].transpose().values, 'and ends at',\n",
    "ts_res_indiv_retrofit_cold.loc[last_hour, ['month','day', 'hour']].transpose().values)\n",
    "\n",
    "fig = Plot(data_headers = [r['q_dem'], r['q_del_tank'],r['q_unmet_tank'],r['q_del_sol'],r['q_dist_loss']], \\\n",
    "                 outpath = '', save_image = False, title = 'Individual SWH Retrofit' + ', in Banja Luka',\n",
    "                 label_v = 'Heat rate [W]',\\\n",
    "                 legend = True, duration_curve = False, margin_l = m_l, margin_b = m_b,\\\n",
    "                 notebook_mode = True, width = w, height = h, fontsize = f, legend_x = 0.75, legend_y = 1.15).\\\n",
    "            series(ts_res_indiv_retrofit_cold.loc[first_hour + 1 : last_hour + 1,\\\n",
    "                [r['q_dem'], r['q_del_tank'],r['q_unmet_tank'],r['q_del_sol'],r['q_dist_loss']]], \\\n",
    "                 outfile = '', modes = 'lines')"
   ]
  },
  {
   "cell_type": "code",
   "execution_count": 45,
   "metadata": {
    "scrolled": true
   },
   "outputs": [
    {
     "data": {
      "application/vnd.plotly.v1+json": {
       "config": {
        "linkText": "Export to plot.ly",
        "plotlyServerURL": "https://plot.ly",
        "showLink": false
       },
       "data": [
        {
         "mode": "lines",
         "name": "Temperature - Upper Tank Volume",
         "type": "scatter",
         "x": [
          4874,
          4875,
          4876,
          4877,
          4878,
          4879,
          4880,
          4881,
          4882,
          4883,
          4884,
          4885,
          4886,
          4887,
          4888,
          4889,
          4890,
          4891,
          4892,
          4893,
          4894,
          4895,
          4896,
          4897,
          4898,
          4899,
          4900,
          4901,
          4902,
          4903,
          4904,
          4905,
          4906,
          4907,
          4908,
          4909,
          4910,
          4911,
          4912,
          4913,
          4914,
          4915,
          4916,
          4917,
          4918,
          4919,
          4920,
          4921,
          4922,
          4923,
          4924,
          4925,
          4926,
          4927,
          4928,
          4929,
          4930,
          4931,
          4932,
          4933,
          4934,
          4935,
          4936,
          4937,
          4938,
          4939,
          4940,
          4941,
          4942,
          4943,
          4944,
          4945,
          4946,
          4947,
          4948,
          4949,
          4950,
          4951,
          4952,
          4953,
          4954,
          4955,
          4956,
          4957,
          4958,
          4959,
          4960,
          4961,
          4962,
          4963,
          4964,
          4965,
          4966,
          4967,
          4968,
          4969,
          4970,
          4971,
          4972,
          4973,
          4974,
          4975,
          4976,
          4977,
          4978,
          4979,
          4980,
          4981,
          4982,
          4983,
          4984,
          4985,
          4986,
          4987,
          4988,
          4989,
          4990,
          4991,
          4992,
          4993,
          4994,
          4995,
          4996,
          4997,
          4998,
          4999,
          5000,
          5001,
          5002,
          5003,
          5004,
          5005,
          5006,
          5007,
          5008,
          5009,
          5010,
          5011,
          5012,
          5013,
          5014,
          5015,
          5016,
          5017,
          5018,
          5019,
          5020,
          5021,
          5022,
          5023,
          5024,
          5025,
          5026,
          5027,
          5028,
          5029,
          5030,
          5031,
          5032,
          5033,
          5034,
          5035,
          5036,
          5037,
          5038,
          5039,
          5040,
          5041,
          5042
         ],
         "y": [
          340.0088436159829,
          340.0088436159829,
          340.0088436159829,
          340.0088436159829,
          340.0088436159829,
          340.0088436159829,
          339.9121689014814,
          340.42351278267734,
          333.84790556234225,
          333.22955193155553,
          343.3449067820287,
          344.15,
          344.15,
          344.15,
          344.15,
          344.15,
          344.15,
          338.1128437068907,
          337.7759453114818,
          336.61610126296677,
          333.0763540990733,
          333.0763540990733,
          333.0763540990733,
          332.8674763677276,
          332.5661187452989,
          331.4030823269481,
          330.87603349918805,
          330.87603349918805,
          330.87603349918805,
          330.87603349918805,
          331.18254858673674,
          333.0268373744819,
          336.1769820586148,
          335.5557691925894,
          344.15,
          344.15,
          344.15,
          344.15,
          344.15,
          344.15,
          336.24502553470325,
          335.7410439057688,
          335.43607739398806,
          329.30778562151494,
          329.30778562151494,
          329.30778562151494,
          329.30778562151494,
          328.8876526045037,
          328.8876526045037,
          328.8876526045037,
          328.8876526045037,
          327.3966669271584,
          327.1981883124629,
          326.91307160704287,
          327.4462565359034,
          330.5370853604355,
          333.9950634309284,
          333.9950634309284,
          344.15,
          344.15,
          344.15,
          344.15,
          344.15,
          344.15,
          343.32770130215664,
          341.6527102514098,
          341.1862766178688,
          341.1862766178688,
          340.4674944886642,
          338.9323625865713,
          338.9323625865713,
          338.9323625865713,
          338.9323625865713,
          338.9323625865713,
          338.9323625865713,
          338.9323625865713,
          335.9431369880815,
          335.9431369880815,
          335.9431369880815,
          337.9512420674915,
          340.28269757831583,
          339.97380687803474,
          344.15,
          344.15,
          344.15,
          344.15,
          344.15,
          344.15,
          340.46909147880285,
          339.3099430111364,
          337.42907864414383,
          337.2469162673842,
          335.5696124701179,
          335.5696124701179,
          335.5696124701179,
          335.5696124701179,
          335.5696124701179,
          335.5696124701179,
          334.61534893610525,
          325.7423539476823,
          322.35868374038984,
          317.6443642813388,
          317.6443642813388,
          319.6982375164531,
          323.2016294984233,
          318.35405671402964,
          330.3334659845539,
          339.23917669192195,
          344.15,
          344.15,
          344.15,
          343.7512415516302,
          343.5678157415513,
          343.3796188658681,
          341.1936656540266,
          339.6901946433779,
          338.05213169473404,
          331.6184210834826,
          330.23129019939404,
          330.23129019939404,
          330.23129019939404,
          330.23129019939404,
          330.23129019939404,
          330.23129019939404,
          330.23129019939404,
          329.9582817734151,
          329.9582817734151,
          332.85158687243063,
          335.76761985304734,
          332.8013701080046,
          342.35216692147645,
          344.15,
          344.15,
          344.15,
          344.15,
          344.15,
          343.6063894717322,
          343.42313955903586,
          339.93243156138465,
          339.93243156138465,
          335.9252331949485,
          330.61743313882846,
          330.61743313882846,
          330.61743313882846,
          329.48796446561454,
          329.48796446561454,
          329.48796446561454,
          329.48796446561454,
          328.8573357230519,
          328.8573357230519,
          329.8496111808583,
          332.23001758420475,
          320.61270312177794,
          319.7244605726219,
          328.7678458272201,
          334.73701476258105,
          339.5842831752188,
          343.6992245395908,
          344.15,
          344.15,
          343.9461861052292,
          342.2933932027345,
          338.4456340099539,
          338.4456340099539,
          338.2542605956594,
          338.2542605956594,
          338.2542605956594,
          338.2542605956594,
          338.2542605956594
         ]
        },
        {
         "mode": "lines",
         "name": "Temperature - Lower Tank Volume",
         "type": "scatter",
         "x": [
          4874,
          4875,
          4876,
          4877,
          4878,
          4879,
          4880,
          4881,
          4882,
          4883,
          4884,
          4885,
          4886,
          4887,
          4888,
          4889,
          4890,
          4891,
          4892,
          4893,
          4894,
          4895,
          4896,
          4897,
          4898,
          4899,
          4900,
          4901,
          4902,
          4903,
          4904,
          4905,
          4906,
          4907,
          4908,
          4909,
          4910,
          4911,
          4912,
          4913,
          4914,
          4915,
          4916,
          4917,
          4918,
          4919,
          4920,
          4921,
          4922,
          4923,
          4924,
          4925,
          4926,
          4927,
          4928,
          4929,
          4930,
          4931,
          4932,
          4933,
          4934,
          4935,
          4936,
          4937,
          4938,
          4939,
          4940,
          4941,
          4942,
          4943,
          4944,
          4945,
          4946,
          4947,
          4948,
          4949,
          4950,
          4951,
          4952,
          4953,
          4954,
          4955,
          4956,
          4957,
          4958,
          4959,
          4960,
          4961,
          4962,
          4963,
          4964,
          4965,
          4966,
          4967,
          4968,
          4969,
          4970,
          4971,
          4972,
          4973,
          4974,
          4975,
          4976,
          4977,
          4978,
          4979,
          4980,
          4981,
          4982,
          4983,
          4984,
          4985,
          4986,
          4987,
          4988,
          4989,
          4990,
          4991,
          4992,
          4993,
          4994,
          4995,
          4996,
          4997,
          4998,
          4999,
          5000,
          5001,
          5002,
          5003,
          5004,
          5005,
          5006,
          5007,
          5008,
          5009,
          5010,
          5011,
          5012,
          5013,
          5014,
          5015,
          5016,
          5017,
          5018,
          5019,
          5020,
          5021,
          5022,
          5023,
          5024,
          5025,
          5026,
          5027,
          5028,
          5029,
          5030,
          5031,
          5032,
          5033,
          5034,
          5035,
          5036,
          5037,
          5038,
          5039,
          5040,
          5041,
          5042
         ],
         "y": [
          336.63067567071835,
          336.27089879179783,
          335.9093954802367,
          335.54617250662363,
          335.1804522706213,
          334.8240097314014,
          334.7273350168999,
          338.42351278267734,
          331.84790556234225,
          331.22955193155553,
          341.3449067820287,
          342.15,
          342.15,
          342.15,
          342.15,
          342.15,
          342.15,
          336.1128437068907,
          335.7759453114818,
          334.61610126296677,
          331.0763540990733,
          330.80241120581337,
          330.52405222977364,
          330.31517449842795,
          330.0138168759993,
          328.85078045764845,
          328.3237316298884,
          328.0378390268303,
          327.7460085156835,
          327.7595336517739,
          329.18254858673674,
          331.0268373744819,
          334.1769820586148,
          333.5557691925894,
          342.15,
          342.15,
          342.15,
          342.15,
          342.15,
          342.15,
          334.24502553470325,
          333.7410439057688,
          333.43607739398806,
          327.30778562151494,
          327.07673513742213,
          326.8332569147151,
          326.58524313526357,
          326.16511011825236,
          325.9111677926874,
          325.65351529205253,
          325.3913828222489,
          323.90039714490354,
          323.70191853020805,
          323.416801824788,
          325.4462565359034,
          328.5370853604355,
          331.9950634309284,
          331.7570536332597,
          342.15,
          342.15,
          342.15,
          342.15,
          342.15,
          342.15,
          341.32770130215664,
          339.6527102514098,
          339.1862766178688,
          338.8440179373927,
          338.1252358081881,
          336.5901039060952,
          336.2433355856534,
          335.89322112787573,
          335.539773655382,
          335.183006239329,
          334.82371624398553,
          334.46112921783237,
          331.4719036193426,
          331.13653741457375,
          333.12618660081876,
          335.9512420674915,
          338.28269757831583,
          337.97380687803474,
          342.15,
          342.15,
          342.15,
          342.15,
          342.15,
          342.15,
          338.46909147880285,
          337.3099430111364,
          335.42907864414383,
          335.2469162673842,
          333.5696124701179,
          333.2557208913946,
          332.9383542418985,
          332.61674180551694,
          332.29168457741883,
          331.9671177889869,
          331.0128542549743,
          322.13985926655135,
          318.7561890592589,
          314.04186960020786,
          314.87113540411474,
          317.6982375164531,
          321.2016294984233,
          316.35405671402964,
          328.3334659845539,
          337.23917669192195,
          342.15,
          342.15,
          342.15,
          341.7512415516302,
          341.5678157415513,
          341.3796188658681,
          339.1936656540266,
          337.6901946433779,
          336.05213169473404,
          329.6184210834826,
          328.23129019939404,
          327.9514260073074,
          327.665600265381,
          327.3777580750229,
          327.0886916885565,
          326.7976215625649,
          326.50455555515737,
          326.2315471291784,
          327.15415322171015,
          330.85158687243063,
          333.76761985304734,
          330.8013701080046,
          340.35216692147645,
          342.15,
          342.15,
          342.15,
          342.15,
          342.15,
          341.6063894717322,
          341.42313955903586,
          337.93243156138465,
          337.62040029777415,
          333.613201931338,
          328.30540187521797,
          328.04726302374826,
          327.78464611044245,
          326.65517743722853,
          326.3946059146683,
          326.1319189036521,
          325.8679090449107,
          325.23728030234804,
          325.2987592500773,
          327.8496111808583,
          330.23001758420475,
          318.61270312177794,
          317.7244605726219,
          326.7678458272201,
          332.73701476258105,
          337.5842831752188,
          341.6992245395908,
          342.15,
          342.15,
          341.9461861052292,
          340.2933932027345,
          336.4456340099539,
          336.1099688624746,
          335.9185954481801,
          335.5755512358013,
          335.2322836586647,
          334.8887935927448,
          334.5450819105806
         ]
        }
       ],
       "layout": {
        "font": {
         "family": "arial",
         "size": 16
        },
        "height": 450,
        "legend": {
         "font": {
          "family": "arial",
          "size": 12.8
         },
         "x": 0.75,
         "y": 1.15
        },
        "margin": {
         "b": 60,
         "l": 60
        },
        "showlegend": true,
        "template": {
         "data": {
          "bar": [
           {
            "error_x": {
             "color": "#2a3f5f"
            },
            "error_y": {
             "color": "#2a3f5f"
            },
            "marker": {
             "line": {
              "color": "#E5ECF6",
              "width": 0.5
             }
            },
            "type": "bar"
           }
          ],
          "barpolar": [
           {
            "marker": {
             "line": {
              "color": "#E5ECF6",
              "width": 0.5
             }
            },
            "type": "barpolar"
           }
          ],
          "carpet": [
           {
            "aaxis": {
             "endlinecolor": "#2a3f5f",
             "gridcolor": "white",
             "linecolor": "white",
             "minorgridcolor": "white",
             "startlinecolor": "#2a3f5f"
            },
            "baxis": {
             "endlinecolor": "#2a3f5f",
             "gridcolor": "white",
             "linecolor": "white",
             "minorgridcolor": "white",
             "startlinecolor": "#2a3f5f"
            },
            "type": "carpet"
           }
          ],
          "choropleth": [
           {
            "colorbar": {
             "outlinewidth": 0,
             "ticks": ""
            },
            "type": "choropleth"
           }
          ],
          "contour": [
           {
            "colorbar": {
             "outlinewidth": 0,
             "ticks": ""
            },
            "colorscale": [
             [
              0,
              "#0d0887"
             ],
             [
              0.1111111111111111,
              "#46039f"
             ],
             [
              0.2222222222222222,
              "#7201a8"
             ],
             [
              0.3333333333333333,
              "#9c179e"
             ],
             [
              0.4444444444444444,
              "#bd3786"
             ],
             [
              0.5555555555555556,
              "#d8576b"
             ],
             [
              0.6666666666666666,
              "#ed7953"
             ],
             [
              0.7777777777777778,
              "#fb9f3a"
             ],
             [
              0.8888888888888888,
              "#fdca26"
             ],
             [
              1,
              "#f0f921"
             ]
            ],
            "type": "contour"
           }
          ],
          "contourcarpet": [
           {
            "colorbar": {
             "outlinewidth": 0,
             "ticks": ""
            },
            "type": "contourcarpet"
           }
          ],
          "heatmap": [
           {
            "colorbar": {
             "outlinewidth": 0,
             "ticks": ""
            },
            "colorscale": [
             [
              0,
              "#0d0887"
             ],
             [
              0.1111111111111111,
              "#46039f"
             ],
             [
              0.2222222222222222,
              "#7201a8"
             ],
             [
              0.3333333333333333,
              "#9c179e"
             ],
             [
              0.4444444444444444,
              "#bd3786"
             ],
             [
              0.5555555555555556,
              "#d8576b"
             ],
             [
              0.6666666666666666,
              "#ed7953"
             ],
             [
              0.7777777777777778,
              "#fb9f3a"
             ],
             [
              0.8888888888888888,
              "#fdca26"
             ],
             [
              1,
              "#f0f921"
             ]
            ],
            "type": "heatmap"
           }
          ],
          "heatmapgl": [
           {
            "colorbar": {
             "outlinewidth": 0,
             "ticks": ""
            },
            "colorscale": [
             [
              0,
              "#0d0887"
             ],
             [
              0.1111111111111111,
              "#46039f"
             ],
             [
              0.2222222222222222,
              "#7201a8"
             ],
             [
              0.3333333333333333,
              "#9c179e"
             ],
             [
              0.4444444444444444,
              "#bd3786"
             ],
             [
              0.5555555555555556,
              "#d8576b"
             ],
             [
              0.6666666666666666,
              "#ed7953"
             ],
             [
              0.7777777777777778,
              "#fb9f3a"
             ],
             [
              0.8888888888888888,
              "#fdca26"
             ],
             [
              1,
              "#f0f921"
             ]
            ],
            "type": "heatmapgl"
           }
          ],
          "histogram": [
           {
            "marker": {
             "colorbar": {
              "outlinewidth": 0,
              "ticks": ""
             }
            },
            "type": "histogram"
           }
          ],
          "histogram2d": [
           {
            "colorbar": {
             "outlinewidth": 0,
             "ticks": ""
            },
            "colorscale": [
             [
              0,
              "#0d0887"
             ],
             [
              0.1111111111111111,
              "#46039f"
             ],
             [
              0.2222222222222222,
              "#7201a8"
             ],
             [
              0.3333333333333333,
              "#9c179e"
             ],
             [
              0.4444444444444444,
              "#bd3786"
             ],
             [
              0.5555555555555556,
              "#d8576b"
             ],
             [
              0.6666666666666666,
              "#ed7953"
             ],
             [
              0.7777777777777778,
              "#fb9f3a"
             ],
             [
              0.8888888888888888,
              "#fdca26"
             ],
             [
              1,
              "#f0f921"
             ]
            ],
            "type": "histogram2d"
           }
          ],
          "histogram2dcontour": [
           {
            "colorbar": {
             "outlinewidth": 0,
             "ticks": ""
            },
            "colorscale": [
             [
              0,
              "#0d0887"
             ],
             [
              0.1111111111111111,
              "#46039f"
             ],
             [
              0.2222222222222222,
              "#7201a8"
             ],
             [
              0.3333333333333333,
              "#9c179e"
             ],
             [
              0.4444444444444444,
              "#bd3786"
             ],
             [
              0.5555555555555556,
              "#d8576b"
             ],
             [
              0.6666666666666666,
              "#ed7953"
             ],
             [
              0.7777777777777778,
              "#fb9f3a"
             ],
             [
              0.8888888888888888,
              "#fdca26"
             ],
             [
              1,
              "#f0f921"
             ]
            ],
            "type": "histogram2dcontour"
           }
          ],
          "mesh3d": [
           {
            "colorbar": {
             "outlinewidth": 0,
             "ticks": ""
            },
            "type": "mesh3d"
           }
          ],
          "parcoords": [
           {
            "line": {
             "colorbar": {
              "outlinewidth": 0,
              "ticks": ""
             }
            },
            "type": "parcoords"
           }
          ],
          "pie": [
           {
            "automargin": true,
            "type": "pie"
           }
          ],
          "scatter": [
           {
            "marker": {
             "colorbar": {
              "outlinewidth": 0,
              "ticks": ""
             }
            },
            "type": "scatter"
           }
          ],
          "scatter3d": [
           {
            "line": {
             "colorbar": {
              "outlinewidth": 0,
              "ticks": ""
             }
            },
            "marker": {
             "colorbar": {
              "outlinewidth": 0,
              "ticks": ""
             }
            },
            "type": "scatter3d"
           }
          ],
          "scattercarpet": [
           {
            "marker": {
             "colorbar": {
              "outlinewidth": 0,
              "ticks": ""
             }
            },
            "type": "scattercarpet"
           }
          ],
          "scattergeo": [
           {
            "marker": {
             "colorbar": {
              "outlinewidth": 0,
              "ticks": ""
             }
            },
            "type": "scattergeo"
           }
          ],
          "scattergl": [
           {
            "marker": {
             "colorbar": {
              "outlinewidth": 0,
              "ticks": ""
             }
            },
            "type": "scattergl"
           }
          ],
          "scattermapbox": [
           {
            "marker": {
             "colorbar": {
              "outlinewidth": 0,
              "ticks": ""
             }
            },
            "type": "scattermapbox"
           }
          ],
          "scatterpolar": [
           {
            "marker": {
             "colorbar": {
              "outlinewidth": 0,
              "ticks": ""
             }
            },
            "type": "scatterpolar"
           }
          ],
          "scatterpolargl": [
           {
            "marker": {
             "colorbar": {
              "outlinewidth": 0,
              "ticks": ""
             }
            },
            "type": "scatterpolargl"
           }
          ],
          "scatterternary": [
           {
            "marker": {
             "colorbar": {
              "outlinewidth": 0,
              "ticks": ""
             }
            },
            "type": "scatterternary"
           }
          ],
          "surface": [
           {
            "colorbar": {
             "outlinewidth": 0,
             "ticks": ""
            },
            "colorscale": [
             [
              0,
              "#0d0887"
             ],
             [
              0.1111111111111111,
              "#46039f"
             ],
             [
              0.2222222222222222,
              "#7201a8"
             ],
             [
              0.3333333333333333,
              "#9c179e"
             ],
             [
              0.4444444444444444,
              "#bd3786"
             ],
             [
              0.5555555555555556,
              "#d8576b"
             ],
             [
              0.6666666666666666,
              "#ed7953"
             ],
             [
              0.7777777777777778,
              "#fb9f3a"
             ],
             [
              0.8888888888888888,
              "#fdca26"
             ],
             [
              1,
              "#f0f921"
             ]
            ],
            "type": "surface"
           }
          ],
          "table": [
           {
            "cells": {
             "fill": {
              "color": "#EBF0F8"
             },
             "line": {
              "color": "white"
             }
            },
            "header": {
             "fill": {
              "color": "#C8D4E3"
             },
             "line": {
              "color": "white"
             }
            },
            "type": "table"
           }
          ]
         },
         "layout": {
          "annotationdefaults": {
           "arrowcolor": "#2a3f5f",
           "arrowhead": 0,
           "arrowwidth": 1
          },
          "coloraxis": {
           "colorbar": {
            "outlinewidth": 0,
            "ticks": ""
           }
          },
          "colorscale": {
           "diverging": [
            [
             0,
             "#8e0152"
            ],
            [
             0.1,
             "#c51b7d"
            ],
            [
             0.2,
             "#de77ae"
            ],
            [
             0.3,
             "#f1b6da"
            ],
            [
             0.4,
             "#fde0ef"
            ],
            [
             0.5,
             "#f7f7f7"
            ],
            [
             0.6,
             "#e6f5d0"
            ],
            [
             0.7,
             "#b8e186"
            ],
            [
             0.8,
             "#7fbc41"
            ],
            [
             0.9,
             "#4d9221"
            ],
            [
             1,
             "#276419"
            ]
           ],
           "sequential": [
            [
             0,
             "#0d0887"
            ],
            [
             0.1111111111111111,
             "#46039f"
            ],
            [
             0.2222222222222222,
             "#7201a8"
            ],
            [
             0.3333333333333333,
             "#9c179e"
            ],
            [
             0.4444444444444444,
             "#bd3786"
            ],
            [
             0.5555555555555556,
             "#d8576b"
            ],
            [
             0.6666666666666666,
             "#ed7953"
            ],
            [
             0.7777777777777778,
             "#fb9f3a"
            ],
            [
             0.8888888888888888,
             "#fdca26"
            ],
            [
             1,
             "#f0f921"
            ]
           ],
           "sequentialminus": [
            [
             0,
             "#0d0887"
            ],
            [
             0.1111111111111111,
             "#46039f"
            ],
            [
             0.2222222222222222,
             "#7201a8"
            ],
            [
             0.3333333333333333,
             "#9c179e"
            ],
            [
             0.4444444444444444,
             "#bd3786"
            ],
            [
             0.5555555555555556,
             "#d8576b"
            ],
            [
             0.6666666666666666,
             "#ed7953"
            ],
            [
             0.7777777777777778,
             "#fb9f3a"
            ],
            [
             0.8888888888888888,
             "#fdca26"
            ],
            [
             1,
             "#f0f921"
            ]
           ]
          },
          "colorway": [
           "#636efa",
           "#EF553B",
           "#00cc96",
           "#ab63fa",
           "#FFA15A",
           "#19d3f3",
           "#FF6692",
           "#B6E880",
           "#FF97FF",
           "#FECB52"
          ],
          "font": {
           "color": "#2a3f5f"
          },
          "geo": {
           "bgcolor": "white",
           "lakecolor": "white",
           "landcolor": "#E5ECF6",
           "showlakes": true,
           "showland": true,
           "subunitcolor": "white"
          },
          "hoverlabel": {
           "align": "left"
          },
          "hovermode": "closest",
          "mapbox": {
           "style": "light"
          },
          "paper_bgcolor": "white",
          "plot_bgcolor": "#E5ECF6",
          "polar": {
           "angularaxis": {
            "gridcolor": "white",
            "linecolor": "white",
            "ticks": ""
           },
           "bgcolor": "#E5ECF6",
           "radialaxis": {
            "gridcolor": "white",
            "linecolor": "white",
            "ticks": ""
           }
          },
          "scene": {
           "xaxis": {
            "backgroundcolor": "#E5ECF6",
            "gridcolor": "white",
            "gridwidth": 2,
            "linecolor": "white",
            "showbackground": true,
            "ticks": "",
            "zerolinecolor": "white"
           },
           "yaxis": {
            "backgroundcolor": "#E5ECF6",
            "gridcolor": "white",
            "gridwidth": 2,
            "linecolor": "white",
            "showbackground": true,
            "ticks": "",
            "zerolinecolor": "white"
           },
           "zaxis": {
            "backgroundcolor": "#E5ECF6",
            "gridcolor": "white",
            "gridwidth": 2,
            "linecolor": "white",
            "showbackground": true,
            "ticks": "",
            "zerolinecolor": "white"
           }
          },
          "shapedefaults": {
           "line": {
            "color": "#2a3f5f"
           }
          },
          "ternary": {
           "aaxis": {
            "gridcolor": "white",
            "linecolor": "white",
            "ticks": ""
           },
           "baxis": {
            "gridcolor": "white",
            "linecolor": "white",
            "ticks": ""
           },
           "bgcolor": "#E5ECF6",
           "caxis": {
            "gridcolor": "white",
            "linecolor": "white",
            "ticks": ""
           }
          },
          "title": {
           "x": 0.05
          },
          "xaxis": {
           "automargin": true,
           "gridcolor": "white",
           "linecolor": "white",
           "ticks": "",
           "title": {
            "standoff": 15
           },
           "zerolinecolor": "white",
           "zerolinewidth": 2
          },
          "yaxis": {
           "automargin": true,
           "gridcolor": "white",
           "linecolor": "white",
           "ticks": "",
           "title": {
            "standoff": 15
           },
           "zerolinecolor": "white",
           "zerolinewidth": 2
          }
         }
        },
        "title": {
         "font": {
          "family": "arial",
          "size": 16
         },
         "text": "Individual SWH Retrofit, in Banja Luka"
        },
        "width": 650,
        "xaxis": {
         "tickfont": {
          "size": 12.8
         },
         "title": {
          "font": {
           "color": "#7f7f7f",
           "size": 16
          },
          "text": "Time [h]"
         }
        },
        "yaxis": {
         "tickfont": {
          "size": 9.6
         },
         "title": {
          "font": {
           "color": "#7f7f7f",
           "size": 16
          },
          "text": "Temperature [K]"
         }
        }
       }
      },
      "text/html": [
       "<div>\n",
       "        \n",
       "        \n",
       "            <div id=\"fa3ac771-f5b8-4535-8548-63661e9a112a\" class=\"plotly-graph-div\" style=\"height:450px; width:650px;\"></div>\n",
       "            <script type=\"text/javascript\">\n",
       "                require([\"plotly\"], function(Plotly) {\n",
       "                    window.PLOTLYENV=window.PLOTLYENV || {};\n",
       "                    \n",
       "                if (document.getElementById(\"fa3ac771-f5b8-4535-8548-63661e9a112a\")) {\n",
       "                    Plotly.newPlot(\n",
       "                        'fa3ac771-f5b8-4535-8548-63661e9a112a',\n",
       "                        [{\"mode\": \"lines\", \"name\": \"Temperature - Upper Tank Volume\", \"type\": \"scatter\", \"x\": [4874, 4875, 4876, 4877, 4878, 4879, 4880, 4881, 4882, 4883, 4884, 4885, 4886, 4887, 4888, 4889, 4890, 4891, 4892, 4893, 4894, 4895, 4896, 4897, 4898, 4899, 4900, 4901, 4902, 4903, 4904, 4905, 4906, 4907, 4908, 4909, 4910, 4911, 4912, 4913, 4914, 4915, 4916, 4917, 4918, 4919, 4920, 4921, 4922, 4923, 4924, 4925, 4926, 4927, 4928, 4929, 4930, 4931, 4932, 4933, 4934, 4935, 4936, 4937, 4938, 4939, 4940, 4941, 4942, 4943, 4944, 4945, 4946, 4947, 4948, 4949, 4950, 4951, 4952, 4953, 4954, 4955, 4956, 4957, 4958, 4959, 4960, 4961, 4962, 4963, 4964, 4965, 4966, 4967, 4968, 4969, 4970, 4971, 4972, 4973, 4974, 4975, 4976, 4977, 4978, 4979, 4980, 4981, 4982, 4983, 4984, 4985, 4986, 4987, 4988, 4989, 4990, 4991, 4992, 4993, 4994, 4995, 4996, 4997, 4998, 4999, 5000, 5001, 5002, 5003, 5004, 5005, 5006, 5007, 5008, 5009, 5010, 5011, 5012, 5013, 5014, 5015, 5016, 5017, 5018, 5019, 5020, 5021, 5022, 5023, 5024, 5025, 5026, 5027, 5028, 5029, 5030, 5031, 5032, 5033, 5034, 5035, 5036, 5037, 5038, 5039, 5040, 5041, 5042], \"y\": [340.0088436159829, 340.0088436159829, 340.0088436159829, 340.0088436159829, 340.0088436159829, 340.0088436159829, 339.9121689014814, 340.42351278267734, 333.84790556234225, 333.22955193155553, 343.3449067820287, 344.15, 344.15, 344.15, 344.15, 344.15, 344.15, 338.1128437068907, 337.7759453114818, 336.61610126296677, 333.0763540990733, 333.0763540990733, 333.0763540990733, 332.8674763677276, 332.5661187452989, 331.4030823269481, 330.87603349918805, 330.87603349918805, 330.87603349918805, 330.87603349918805, 331.18254858673674, 333.0268373744819, 336.1769820586148, 335.5557691925894, 344.15, 344.15, 344.15, 344.15, 344.15, 344.15, 336.24502553470325, 335.7410439057688, 335.43607739398806, 329.30778562151494, 329.30778562151494, 329.30778562151494, 329.30778562151494, 328.8876526045037, 328.8876526045037, 328.8876526045037, 328.8876526045037, 327.3966669271584, 327.1981883124629, 326.91307160704287, 327.4462565359034, 330.5370853604355, 333.9950634309284, 333.9950634309284, 344.15, 344.15, 344.15, 344.15, 344.15, 344.15, 343.32770130215664, 341.6527102514098, 341.1862766178688, 341.1862766178688, 340.4674944886642, 338.9323625865713, 338.9323625865713, 338.9323625865713, 338.9323625865713, 338.9323625865713, 338.9323625865713, 338.9323625865713, 335.9431369880815, 335.9431369880815, 335.9431369880815, 337.9512420674915, 340.28269757831583, 339.97380687803474, 344.15, 344.15, 344.15, 344.15, 344.15, 344.15, 340.46909147880285, 339.3099430111364, 337.42907864414383, 337.2469162673842, 335.5696124701179, 335.5696124701179, 335.5696124701179, 335.5696124701179, 335.5696124701179, 335.5696124701179, 334.61534893610525, 325.7423539476823, 322.35868374038984, 317.6443642813388, 317.6443642813388, 319.6982375164531, 323.2016294984233, 318.35405671402964, 330.3334659845539, 339.23917669192195, 344.15, 344.15, 344.15, 343.7512415516302, 343.5678157415513, 343.3796188658681, 341.1936656540266, 339.6901946433779, 338.05213169473404, 331.6184210834826, 330.23129019939404, 330.23129019939404, 330.23129019939404, 330.23129019939404, 330.23129019939404, 330.23129019939404, 330.23129019939404, 329.9582817734151, 329.9582817734151, 332.85158687243063, 335.76761985304734, 332.8013701080046, 342.35216692147645, 344.15, 344.15, 344.15, 344.15, 344.15, 343.6063894717322, 343.42313955903586, 339.93243156138465, 339.93243156138465, 335.9252331949485, 330.61743313882846, 330.61743313882846, 330.61743313882846, 329.48796446561454, 329.48796446561454, 329.48796446561454, 329.48796446561454, 328.8573357230519, 328.8573357230519, 329.8496111808583, 332.23001758420475, 320.61270312177794, 319.7244605726219, 328.7678458272201, 334.73701476258105, 339.5842831752188, 343.6992245395908, 344.15, 344.15, 343.9461861052292, 342.2933932027345, 338.4456340099539, 338.4456340099539, 338.2542605956594, 338.2542605956594, 338.2542605956594, 338.2542605956594, 338.2542605956594]}, {\"mode\": \"lines\", \"name\": \"Temperature - Lower Tank Volume\", \"type\": \"scatter\", \"x\": [4874, 4875, 4876, 4877, 4878, 4879, 4880, 4881, 4882, 4883, 4884, 4885, 4886, 4887, 4888, 4889, 4890, 4891, 4892, 4893, 4894, 4895, 4896, 4897, 4898, 4899, 4900, 4901, 4902, 4903, 4904, 4905, 4906, 4907, 4908, 4909, 4910, 4911, 4912, 4913, 4914, 4915, 4916, 4917, 4918, 4919, 4920, 4921, 4922, 4923, 4924, 4925, 4926, 4927, 4928, 4929, 4930, 4931, 4932, 4933, 4934, 4935, 4936, 4937, 4938, 4939, 4940, 4941, 4942, 4943, 4944, 4945, 4946, 4947, 4948, 4949, 4950, 4951, 4952, 4953, 4954, 4955, 4956, 4957, 4958, 4959, 4960, 4961, 4962, 4963, 4964, 4965, 4966, 4967, 4968, 4969, 4970, 4971, 4972, 4973, 4974, 4975, 4976, 4977, 4978, 4979, 4980, 4981, 4982, 4983, 4984, 4985, 4986, 4987, 4988, 4989, 4990, 4991, 4992, 4993, 4994, 4995, 4996, 4997, 4998, 4999, 5000, 5001, 5002, 5003, 5004, 5005, 5006, 5007, 5008, 5009, 5010, 5011, 5012, 5013, 5014, 5015, 5016, 5017, 5018, 5019, 5020, 5021, 5022, 5023, 5024, 5025, 5026, 5027, 5028, 5029, 5030, 5031, 5032, 5033, 5034, 5035, 5036, 5037, 5038, 5039, 5040, 5041, 5042], \"y\": [336.63067567071835, 336.27089879179783, 335.9093954802367, 335.54617250662363, 335.1804522706213, 334.8240097314014, 334.7273350168999, 338.42351278267734, 331.84790556234225, 331.22955193155553, 341.3449067820287, 342.15, 342.15, 342.15, 342.15, 342.15, 342.15, 336.1128437068907, 335.7759453114818, 334.61610126296677, 331.0763540990733, 330.80241120581337, 330.52405222977364, 330.31517449842795, 330.0138168759993, 328.85078045764845, 328.3237316298884, 328.0378390268303, 327.7460085156835, 327.7595336517739, 329.18254858673674, 331.0268373744819, 334.1769820586148, 333.5557691925894, 342.15, 342.15, 342.15, 342.15, 342.15, 342.15, 334.24502553470325, 333.7410439057688, 333.43607739398806, 327.30778562151494, 327.07673513742213, 326.8332569147151, 326.58524313526357, 326.16511011825236, 325.9111677926874, 325.65351529205253, 325.3913828222489, 323.90039714490354, 323.70191853020805, 323.416801824788, 325.4462565359034, 328.5370853604355, 331.9950634309284, 331.7570536332597, 342.15, 342.15, 342.15, 342.15, 342.15, 342.15, 341.32770130215664, 339.6527102514098, 339.1862766178688, 338.8440179373927, 338.1252358081881, 336.5901039060952, 336.2433355856534, 335.89322112787573, 335.539773655382, 335.183006239329, 334.82371624398553, 334.46112921783237, 331.4719036193426, 331.13653741457375, 333.12618660081876, 335.9512420674915, 338.28269757831583, 337.97380687803474, 342.15, 342.15, 342.15, 342.15, 342.15, 342.15, 338.46909147880285, 337.3099430111364, 335.42907864414383, 335.2469162673842, 333.5696124701179, 333.2557208913946, 332.9383542418985, 332.61674180551694, 332.29168457741883, 331.9671177889869, 331.0128542549743, 322.13985926655135, 318.7561890592589, 314.04186960020786, 314.87113540411474, 317.6982375164531, 321.2016294984233, 316.35405671402964, 328.3334659845539, 337.23917669192195, 342.15, 342.15, 342.15, 341.7512415516302, 341.5678157415513, 341.3796188658681, 339.1936656540266, 337.6901946433779, 336.05213169473404, 329.6184210834826, 328.23129019939404, 327.9514260073074, 327.665600265381, 327.3777580750229, 327.0886916885565, 326.7976215625649, 326.50455555515737, 326.2315471291784, 327.15415322171015, 330.85158687243063, 333.76761985304734, 330.8013701080046, 340.35216692147645, 342.15, 342.15, 342.15, 342.15, 342.15, 341.6063894717322, 341.42313955903586, 337.93243156138465, 337.62040029777415, 333.613201931338, 328.30540187521797, 328.04726302374826, 327.78464611044245, 326.65517743722853, 326.3946059146683, 326.1319189036521, 325.8679090449107, 325.23728030234804, 325.2987592500773, 327.8496111808583, 330.23001758420475, 318.61270312177794, 317.7244605726219, 326.7678458272201, 332.73701476258105, 337.5842831752188, 341.6992245395908, 342.15, 342.15, 341.9461861052292, 340.2933932027345, 336.4456340099539, 336.1099688624746, 335.9185954481801, 335.5755512358013, 335.2322836586647, 334.8887935927448, 334.5450819105806]}],\n",
       "                        {\"font\": {\"family\": \"arial\", \"size\": 16}, \"height\": 450, \"legend\": {\"font\": {\"family\": \"arial\", \"size\": 12.8}, \"x\": 0.75, \"y\": 1.15}, \"margin\": {\"b\": 60.0, \"l\": 60.0}, \"showlegend\": true, \"template\": {\"data\": {\"bar\": [{\"error_x\": {\"color\": \"#2a3f5f\"}, \"error_y\": {\"color\": \"#2a3f5f\"}, \"marker\": {\"line\": {\"color\": \"#E5ECF6\", \"width\": 0.5}}, \"type\": \"bar\"}], \"barpolar\": [{\"marker\": {\"line\": {\"color\": \"#E5ECF6\", \"width\": 0.5}}, \"type\": \"barpolar\"}], \"carpet\": [{\"aaxis\": {\"endlinecolor\": \"#2a3f5f\", \"gridcolor\": \"white\", \"linecolor\": \"white\", \"minorgridcolor\": \"white\", \"startlinecolor\": \"#2a3f5f\"}, \"baxis\": {\"endlinecolor\": \"#2a3f5f\", \"gridcolor\": \"white\", \"linecolor\": \"white\", \"minorgridcolor\": \"white\", \"startlinecolor\": \"#2a3f5f\"}, \"type\": \"carpet\"}], \"choropleth\": [{\"colorbar\": {\"outlinewidth\": 0, \"ticks\": \"\"}, \"type\": \"choropleth\"}], \"contour\": [{\"colorbar\": {\"outlinewidth\": 0, \"ticks\": \"\"}, \"colorscale\": [[0.0, \"#0d0887\"], [0.1111111111111111, \"#46039f\"], [0.2222222222222222, \"#7201a8\"], [0.3333333333333333, \"#9c179e\"], [0.4444444444444444, \"#bd3786\"], [0.5555555555555556, \"#d8576b\"], [0.6666666666666666, \"#ed7953\"], [0.7777777777777778, \"#fb9f3a\"], [0.8888888888888888, \"#fdca26\"], [1.0, \"#f0f921\"]], \"type\": \"contour\"}], \"contourcarpet\": [{\"colorbar\": {\"outlinewidth\": 0, \"ticks\": \"\"}, \"type\": \"contourcarpet\"}], \"heatmap\": [{\"colorbar\": {\"outlinewidth\": 0, \"ticks\": \"\"}, \"colorscale\": [[0.0, \"#0d0887\"], [0.1111111111111111, \"#46039f\"], [0.2222222222222222, \"#7201a8\"], [0.3333333333333333, \"#9c179e\"], [0.4444444444444444, \"#bd3786\"], [0.5555555555555556, \"#d8576b\"], [0.6666666666666666, \"#ed7953\"], [0.7777777777777778, \"#fb9f3a\"], [0.8888888888888888, \"#fdca26\"], [1.0, \"#f0f921\"]], \"type\": \"heatmap\"}], \"heatmapgl\": [{\"colorbar\": {\"outlinewidth\": 0, \"ticks\": \"\"}, \"colorscale\": [[0.0, \"#0d0887\"], [0.1111111111111111, \"#46039f\"], [0.2222222222222222, \"#7201a8\"], [0.3333333333333333, \"#9c179e\"], [0.4444444444444444, \"#bd3786\"], [0.5555555555555556, \"#d8576b\"], [0.6666666666666666, \"#ed7953\"], [0.7777777777777778, \"#fb9f3a\"], [0.8888888888888888, \"#fdca26\"], [1.0, \"#f0f921\"]], \"type\": \"heatmapgl\"}], \"histogram\": [{\"marker\": {\"colorbar\": {\"outlinewidth\": 0, \"ticks\": \"\"}}, \"type\": \"histogram\"}], \"histogram2d\": [{\"colorbar\": {\"outlinewidth\": 0, \"ticks\": \"\"}, \"colorscale\": [[0.0, \"#0d0887\"], [0.1111111111111111, \"#46039f\"], [0.2222222222222222, \"#7201a8\"], [0.3333333333333333, \"#9c179e\"], [0.4444444444444444, \"#bd3786\"], [0.5555555555555556, \"#d8576b\"], [0.6666666666666666, \"#ed7953\"], [0.7777777777777778, \"#fb9f3a\"], [0.8888888888888888, \"#fdca26\"], [1.0, \"#f0f921\"]], \"type\": \"histogram2d\"}], \"histogram2dcontour\": [{\"colorbar\": {\"outlinewidth\": 0, \"ticks\": \"\"}, \"colorscale\": [[0.0, \"#0d0887\"], [0.1111111111111111, \"#46039f\"], [0.2222222222222222, \"#7201a8\"], [0.3333333333333333, \"#9c179e\"], [0.4444444444444444, \"#bd3786\"], [0.5555555555555556, \"#d8576b\"], [0.6666666666666666, \"#ed7953\"], [0.7777777777777778, \"#fb9f3a\"], [0.8888888888888888, \"#fdca26\"], [1.0, \"#f0f921\"]], \"type\": \"histogram2dcontour\"}], \"mesh3d\": [{\"colorbar\": {\"outlinewidth\": 0, \"ticks\": \"\"}, \"type\": \"mesh3d\"}], \"parcoords\": [{\"line\": {\"colorbar\": {\"outlinewidth\": 0, \"ticks\": \"\"}}, \"type\": \"parcoords\"}], \"pie\": [{\"automargin\": true, \"type\": \"pie\"}], \"scatter\": [{\"marker\": {\"colorbar\": {\"outlinewidth\": 0, \"ticks\": \"\"}}, \"type\": \"scatter\"}], \"scatter3d\": [{\"line\": {\"colorbar\": {\"outlinewidth\": 0, \"ticks\": \"\"}}, \"marker\": {\"colorbar\": {\"outlinewidth\": 0, \"ticks\": \"\"}}, \"type\": \"scatter3d\"}], \"scattercarpet\": [{\"marker\": {\"colorbar\": {\"outlinewidth\": 0, \"ticks\": \"\"}}, \"type\": \"scattercarpet\"}], \"scattergeo\": [{\"marker\": {\"colorbar\": {\"outlinewidth\": 0, \"ticks\": \"\"}}, \"type\": \"scattergeo\"}], \"scattergl\": [{\"marker\": {\"colorbar\": {\"outlinewidth\": 0, \"ticks\": \"\"}}, \"type\": \"scattergl\"}], \"scattermapbox\": [{\"marker\": {\"colorbar\": {\"outlinewidth\": 0, \"ticks\": \"\"}}, \"type\": \"scattermapbox\"}], \"scatterpolar\": [{\"marker\": {\"colorbar\": {\"outlinewidth\": 0, \"ticks\": \"\"}}, \"type\": \"scatterpolar\"}], \"scatterpolargl\": [{\"marker\": {\"colorbar\": {\"outlinewidth\": 0, \"ticks\": \"\"}}, \"type\": \"scatterpolargl\"}], \"scatterternary\": [{\"marker\": {\"colorbar\": {\"outlinewidth\": 0, \"ticks\": \"\"}}, \"type\": \"scatterternary\"}], \"surface\": [{\"colorbar\": {\"outlinewidth\": 0, \"ticks\": \"\"}, \"colorscale\": [[0.0, \"#0d0887\"], [0.1111111111111111, \"#46039f\"], [0.2222222222222222, \"#7201a8\"], [0.3333333333333333, \"#9c179e\"], [0.4444444444444444, \"#bd3786\"], [0.5555555555555556, \"#d8576b\"], [0.6666666666666666, \"#ed7953\"], [0.7777777777777778, \"#fb9f3a\"], [0.8888888888888888, \"#fdca26\"], [1.0, \"#f0f921\"]], \"type\": \"surface\"}], \"table\": [{\"cells\": {\"fill\": {\"color\": \"#EBF0F8\"}, \"line\": {\"color\": \"white\"}}, \"header\": {\"fill\": {\"color\": \"#C8D4E3\"}, \"line\": {\"color\": \"white\"}}, \"type\": \"table\"}]}, \"layout\": {\"annotationdefaults\": {\"arrowcolor\": \"#2a3f5f\", \"arrowhead\": 0, \"arrowwidth\": 1}, \"coloraxis\": {\"colorbar\": {\"outlinewidth\": 0, \"ticks\": \"\"}}, \"colorscale\": {\"diverging\": [[0, \"#8e0152\"], [0.1, \"#c51b7d\"], [0.2, \"#de77ae\"], [0.3, \"#f1b6da\"], [0.4, \"#fde0ef\"], [0.5, \"#f7f7f7\"], [0.6, \"#e6f5d0\"], [0.7, \"#b8e186\"], [0.8, \"#7fbc41\"], [0.9, \"#4d9221\"], [1, \"#276419\"]], \"sequential\": [[0.0, \"#0d0887\"], [0.1111111111111111, \"#46039f\"], [0.2222222222222222, \"#7201a8\"], [0.3333333333333333, \"#9c179e\"], [0.4444444444444444, \"#bd3786\"], [0.5555555555555556, \"#d8576b\"], [0.6666666666666666, \"#ed7953\"], [0.7777777777777778, \"#fb9f3a\"], [0.8888888888888888, \"#fdca26\"], [1.0, \"#f0f921\"]], \"sequentialminus\": [[0.0, \"#0d0887\"], [0.1111111111111111, \"#46039f\"], [0.2222222222222222, \"#7201a8\"], [0.3333333333333333, \"#9c179e\"], [0.4444444444444444, \"#bd3786\"], [0.5555555555555556, \"#d8576b\"], [0.6666666666666666, \"#ed7953\"], [0.7777777777777778, \"#fb9f3a\"], [0.8888888888888888, \"#fdca26\"], [1.0, \"#f0f921\"]]}, \"colorway\": [\"#636efa\", \"#EF553B\", \"#00cc96\", \"#ab63fa\", \"#FFA15A\", \"#19d3f3\", \"#FF6692\", \"#B6E880\", \"#FF97FF\", \"#FECB52\"], \"font\": {\"color\": \"#2a3f5f\"}, \"geo\": {\"bgcolor\": \"white\", \"lakecolor\": \"white\", \"landcolor\": \"#E5ECF6\", \"showlakes\": true, \"showland\": true, \"subunitcolor\": \"white\"}, \"hoverlabel\": {\"align\": \"left\"}, \"hovermode\": \"closest\", \"mapbox\": {\"style\": \"light\"}, \"paper_bgcolor\": \"white\", \"plot_bgcolor\": \"#E5ECF6\", \"polar\": {\"angularaxis\": {\"gridcolor\": \"white\", \"linecolor\": \"white\", \"ticks\": \"\"}, \"bgcolor\": \"#E5ECF6\", \"radialaxis\": {\"gridcolor\": \"white\", \"linecolor\": \"white\", \"ticks\": \"\"}}, \"scene\": {\"xaxis\": {\"backgroundcolor\": \"#E5ECF6\", \"gridcolor\": \"white\", \"gridwidth\": 2, \"linecolor\": \"white\", \"showbackground\": true, \"ticks\": \"\", \"zerolinecolor\": \"white\"}, \"yaxis\": {\"backgroundcolor\": \"#E5ECF6\", \"gridcolor\": \"white\", \"gridwidth\": 2, \"linecolor\": \"white\", \"showbackground\": true, \"ticks\": \"\", \"zerolinecolor\": \"white\"}, \"zaxis\": {\"backgroundcolor\": \"#E5ECF6\", \"gridcolor\": \"white\", \"gridwidth\": 2, \"linecolor\": \"white\", \"showbackground\": true, \"ticks\": \"\", \"zerolinecolor\": \"white\"}}, \"shapedefaults\": {\"line\": {\"color\": \"#2a3f5f\"}}, \"ternary\": {\"aaxis\": {\"gridcolor\": \"white\", \"linecolor\": \"white\", \"ticks\": \"\"}, \"baxis\": {\"gridcolor\": \"white\", \"linecolor\": \"white\", \"ticks\": \"\"}, \"bgcolor\": \"#E5ECF6\", \"caxis\": {\"gridcolor\": \"white\", \"linecolor\": \"white\", \"ticks\": \"\"}}, \"title\": {\"x\": 0.05}, \"xaxis\": {\"automargin\": true, \"gridcolor\": \"white\", \"linecolor\": \"white\", \"ticks\": \"\", \"title\": {\"standoff\": 15}, \"zerolinecolor\": \"white\", \"zerolinewidth\": 2}, \"yaxis\": {\"automargin\": true, \"gridcolor\": \"white\", \"linecolor\": \"white\", \"ticks\": \"\", \"title\": {\"standoff\": 15}, \"zerolinecolor\": \"white\", \"zerolinewidth\": 2}}}, \"title\": {\"font\": {\"family\": \"arial\", \"size\": 16.0}, \"text\": \"Individual SWH Retrofit, in Banja Luka\"}, \"width\": 650, \"xaxis\": {\"tickfont\": {\"size\": 12.8}, \"title\": {\"font\": {\"color\": \"#7f7f7f\", \"size\": 16}, \"text\": \"Time [h]\"}}, \"yaxis\": {\"tickfont\": {\"size\": 9.6}, \"title\": {\"font\": {\"color\": \"#7f7f7f\", \"size\": 16}, \"text\": \"Temperature [K]\"}}},\n",
       "                        {\"responsive\": true}\n",
       "                    ).then(function(){\n",
       "                            \n",
       "var gd = document.getElementById('fa3ac771-f5b8-4535-8548-63661e9a112a');\n",
       "var x = new MutationObserver(function (mutations, observer) {{\n",
       "        var display = window.getComputedStyle(gd).display;\n",
       "        if (!display || display === 'none') {{\n",
       "            console.log([gd, 'removed!']);\n",
       "            Plotly.purge(gd);\n",
       "            observer.disconnect();\n",
       "        }}\n",
       "}});\n",
       "\n",
       "// Listen for the removal of the full notebook cells\n",
       "var notebookContainer = gd.closest('#notebook-container');\n",
       "if (notebookContainer) {{\n",
       "    x.observe(notebookContainer, {childList: true});\n",
       "}}\n",
       "\n",
       "// Listen for the clearing of the current output cell\n",
       "var outputEl = gd.closest('.output');\n",
       "if (outputEl) {{\n",
       "    x.observe(outputEl, {childList: true});\n",
       "}}\n",
       "\n",
       "                        })\n",
       "                };\n",
       "                });\n",
       "            </script>\n",
       "        </div>"
      ]
     },
     "metadata": {},
     "output_type": "display_data"
    }
   ],
   "source": [
    "fig = Plot(data_headers = [r['t_tank_up'], r['t_tank_low']], \\\n",
    "                 outpath = '', save_image = False, title = 'Individual SWH Retrofit' + ', in Banja Luka', label_v = 'Temperature [K]',\\\n",
    "                 legend = True, duration_curve = False, margin_l = m_l, margin_b = m_b,\\\n",
    "                 notebook_mode = True, width = w, height = h, fontsize = f, legend_x = 0.75, legend_y = 1.15).\\\n",
    "            series(ts_res_indiv_retrofit_cold.loc[first_hour + 1 : last_hour + 1,\\\n",
    "                [r['t_tank_up'], r['t_tank_low']]], \\\n",
    "                 outfile = '', modes = 'lines')"
   ]
  },
  {
   "cell_type": "markdown",
   "metadata": {},
   "source": [
    "## Community retrofit solar thermal system"
   ]
  },
  {
   "cell_type": "code",
   "execution_count": 46,
   "metadata": {},
   "outputs": [
    {
     "name": "stderr",
     "output_type": "stream",
     "text": [
      "INFO:mswh.system.models:Assigned weather data timeseries.\n",
      "INFO:mswh.system.components:Assigned weather data timeseries.\n",
      "INFO:mswh.system.components:Solar storage tank is set.\n",
      "INFO:mswh.system.components:Gas tank WH (WHAM) is set up.\n",
      "INFO:mswh.system.components:Gas tank WH (WHAM) is set up.\n",
      "INFO:mswh.system.components:Gas tank WH (WHAM) is set up.\n",
      "INFO:mswh.system.components:Gas tank WH (WHAM) is set up.\n"
     ]
    }
   ],
   "source": [
    "# in a cold climate\n",
    "sol_wh_com_retrofit_cold = System(sys_params = sol_the_sys_params_com,\n",
    "                          backup_params = gas_tank_wh_params,\n",
    "                          sys_sizes = sys_sizes_com,\n",
    "                          backup_sizes = retrofit_bckp_size_com,\n",
    "                          weather = weather_bl,\n",
    "                          loads = loads_com)\n",
    "\n",
    "cons_total_com_retrofit_cold, proj_total_com_retrofit_cold,\\\n",
    "[proj_total_dict_com_retrofit_cold, sol_fra_com_retrofit_cold, pump_el_use_com_retrofit_cold,\\\n",
    " pump_op_hour_com_retrofit_cold, ts_res_com_retrofit_cold, backup_ts_cons_com_retrofit_cold, rel_err_com_retrofit_cold] = \\\n",
    "    sol_wh_com_retrofit_cold.solar_thermal(backup = 'retrofit')"
   ]
  },
  {
   "cell_type": "code",
   "execution_count": 47,
   "metadata": {},
   "outputs": [
    {
     "name": "stdout",
     "output_type": "stream",
     "text": [
      "month, day, hour:\n",
      "Data starts at [7 23 0] and ends at [7 30 0]\n"
     ]
    },
    {
     "data": {
      "application/vnd.plotly.v1+json": {
       "config": {
        "linkText": "Export to plot.ly",
        "plotlyServerURL": "https://plot.ly",
        "showLink": false
       },
       "data": [
        {
         "mode": "lines",
         "name": "Net Heat Demand",
         "type": "scatter",
         "x": [
          4874,
          4875,
          4876,
          4877,
          4878,
          4879,
          4880,
          4881,
          4882,
          4883,
          4884,
          4885,
          4886,
          4887,
          4888,
          4889,
          4890,
          4891,
          4892,
          4893,
          4894,
          4895,
          4896,
          4897,
          4898,
          4899,
          4900,
          4901,
          4902,
          4903,
          4904,
          4905,
          4906,
          4907,
          4908,
          4909,
          4910,
          4911,
          4912,
          4913,
          4914,
          4915,
          4916,
          4917,
          4918,
          4919,
          4920,
          4921,
          4922,
          4923,
          4924,
          4925,
          4926,
          4927,
          4928,
          4929,
          4930,
          4931,
          4932,
          4933,
          4934,
          4935,
          4936,
          4937,
          4938,
          4939,
          4940,
          4941,
          4942,
          4943,
          4944,
          4945,
          4946,
          4947,
          4948,
          4949,
          4950,
          4951,
          4952,
          4953,
          4954,
          4955,
          4956,
          4957,
          4958,
          4959,
          4960,
          4961,
          4962,
          4963,
          4964,
          4965,
          4966,
          4967,
          4968,
          4969,
          4970,
          4971,
          4972,
          4973,
          4974,
          4975,
          4976,
          4977,
          4978,
          4979,
          4980,
          4981,
          4982,
          4983,
          4984,
          4985,
          4986,
          4987,
          4988,
          4989,
          4990,
          4991,
          4992,
          4993,
          4994,
          4995,
          4996,
          4997,
          4998,
          4999,
          5000,
          5001,
          5002,
          5003,
          5004,
          5005,
          5006,
          5007,
          5008,
          5009,
          5010,
          5011,
          5012,
          5013,
          5014,
          5015,
          5016,
          5017,
          5018,
          5019,
          5020,
          5021,
          5022,
          5023,
          5024,
          5025,
          5026,
          5027,
          5028,
          5029,
          5030,
          5031,
          5032,
          5033,
          5034,
          5035,
          5036,
          5037,
          5038,
          5039,
          5040,
          5041,
          5042
         ],
         "y": [
          418.28,
          0,
          6.97,
          250.97,
          4322.2,
          3813.3,
          5430.64,
          1331.52,
          955.07,
          132.45,
          920.21,
          244,
          578.62,
          982.95,
          1129.35,
          1847.39,
          1171.18,
          627.42,
          188.22,
          5535.21,
          4858.99,
          0,
          0,
          599.53,
          0,
          522.85,
          0,
          1185.12,
          3206.79,
          1819.51,
          620.44,
          4371,
          529.82,
          237.02,
          397.36,
          487.99,
          5054.19,
          599.53,
          1310.6,
          1073.58,
          2077.44,
          1965.9,
          5862.86,
          3457.76,
          899.3,
          20.91,
          383.42,
          237.02,
          118.51,
          6.97,
          20.91,
          0,
          439.19,
          1854.36,
          885.35,
          5353.95,
          697.13,
          752.9,
          501.93,
          1289.69,
          613.47,
          62.74,
          474.05,
          237.02,
          446.16,
          1554.6,
          3004.63,
          1429.11,
          2119.27,
          418.28,
          0,
          34.86,
          0,
          0,
          0,
          0,
          139.43,
          529.82,
          662.27,
          1122.38,
          906.27,
          794.73,
          460.11,
          390.39,
          313.71,
          578.62,
          446.16,
          704.1,
          2453.89,
          1484.88,
          1791.62,
          508.9,
          1443.06,
          160.34,
          0,
          0,
          0,
          0,
          0,
          2161.1,
          1345.46,
          1554.6,
          6406.62,
          1401.23,
          613.47,
          111.54,
          6.97,
          425.25,
          341.59,
          467.08,
          83.66,
          1261.8,
          906.27,
          1268.77,
          1659.17,
          2886.11,
          1366.37,
          989.92,
          0,
          1631.28,
          0,
          0,
          146.4,
          0,
          257.94,
          160.34,
          153.37,
          5340.01,
          4357.06,
          1059.64,
          955.07,
          2154.13,
          369.48,
          1296.66,
          738.96,
          404.33,
          3367.13,
          606.5,
          1024.78,
          3792.38,
          3917.87,
          620.44,
          0,
          0,
          0,
          83.66,
          34.86,
          0,
          0,
          690.16,
          1554.6,
          975.98,
          4147.92,
          996.89,
          4587.11,
          3053.43,
          1568.54,
          697.13,
          885.35,
          550.73,
          139.43,
          801.7,
          83.66,
          2739.72,
          1192.09,
          1247.86,
          0,
          271.88,
          0
         ]
        },
        {
         "mode": "lines",
         "name": "Tank Heat Delivered",
         "type": "scatter",
         "x": [
          4874,
          4875,
          4876,
          4877,
          4878,
          4879,
          4880,
          4881,
          4882,
          4883,
          4884,
          4885,
          4886,
          4887,
          4888,
          4889,
          4890,
          4891,
          4892,
          4893,
          4894,
          4895,
          4896,
          4897,
          4898,
          4899,
          4900,
          4901,
          4902,
          4903,
          4904,
          4905,
          4906,
          4907,
          4908,
          4909,
          4910,
          4911,
          4912,
          4913,
          4914,
          4915,
          4916,
          4917,
          4918,
          4919,
          4920,
          4921,
          4922,
          4923,
          4924,
          4925,
          4926,
          4927,
          4928,
          4929,
          4930,
          4931,
          4932,
          4933,
          4934,
          4935,
          4936,
          4937,
          4938,
          4939,
          4940,
          4941,
          4942,
          4943,
          4944,
          4945,
          4946,
          4947,
          4948,
          4949,
          4950,
          4951,
          4952,
          4953,
          4954,
          4955,
          4956,
          4957,
          4958,
          4959,
          4960,
          4961,
          4962,
          4963,
          4964,
          4965,
          4966,
          4967,
          4968,
          4969,
          4970,
          4971,
          4972,
          4973,
          4974,
          4975,
          4976,
          4977,
          4978,
          4979,
          4980,
          4981,
          4982,
          4983,
          4984,
          4985,
          4986,
          4987,
          4988,
          4989,
          4990,
          4991,
          4992,
          4993,
          4994,
          4995,
          4996,
          4997,
          4998,
          4999,
          5000,
          5001,
          5002,
          5003,
          5004,
          5005,
          5006,
          5007,
          5008,
          5009,
          5010,
          5011,
          5012,
          5013,
          5014,
          5015,
          5016,
          5017,
          5018,
          5019,
          5020,
          5021,
          5022,
          5023,
          5024,
          5025,
          5026,
          5027,
          5028,
          5029,
          5030,
          5031,
          5032,
          5033,
          5034,
          5035,
          5036,
          5037,
          5038,
          5039,
          5040,
          5041,
          5042
         ],
         "y": [
          423.04,
          0,
          7.05,
          253.86,
          4372.35,
          3853.84,
          5482,
          1342.67,
          962.97,
          133.5,
          927.17,
          246.31,
          584.04,
          991.98,
          1139.77,
          1864.53,
          1182.07,
          633.35,
          190.04,
          5591.44,
          4906.23,
          0,
          0,
          605.3,
          0,
          527.99,
          0,
          1197.02,
          3239,
          1836.44,
          625.69,
          4405.6,
          533.61,
          238.77,
          400.14,
          492.53,
          5099.98,
          604.93,
          1322.29,
          1083.26,
          2096.17,
          1983.99,
          5917.22,
          3488.05,
          907.18,
          21.1,
          386.93,
          239.21,
          119.62,
          7.04,
          21.11,
          0,
          443.55,
          1872.21,
          893.1,
          5398.13,
          702.33,
          758.79,
          505.61,
          1301.81,
          619.23,
          63.34,
          478.63,
          239.42,
          450.83,
          1572.48,
          3037.92,
          1444.28,
          2141.89,
          422.7,
          0,
          35.23,
          0,
          0,
          0,
          0,
          141.02,
          535.74,
          669.49,
          1134.17,
          915.95,
          803.4,
          465.17,
          395.14,
          317.41,
          585.1,
          451.18,
          711.72,
          2480.58,
          1500.87,
          1810.65,
          514.35,
          1458.51,
          162.04,
          0,
          0,
          0,
          0,
          0,
          2185.09,
          1359.92,
          1570.86,
          6470.77,
          1413.54,
          618.57,
          112.49,
          7.03,
          429.81,
          345.18,
          471.9,
          84.5,
          1274.61,
          915.55,
          1281.99,
          1676.75,
          2916.75,
          1380.6,
          1000.21,
          0,
          1648.6,
          0,
          0,
          147.97,
          0,
          260.74,
          162.03,
          154.91,
          5391.56,
          4396.74,
          1068.65,
          962.78,
          2176.12,
          373.18,
          1309.51,
          746.37,
          408.37,
          3400.9,
          612.39,
          1034.82,
          3830.3,
          3955.48,
          626.13,
          0,
          0,
          0,
          84.46,
          35.19,
          0,
          0,
          697.07,
          1569.48,
          984.97,
          4187.33,
          1006,
          4635.88,
          3085.15,
          1584.99,
          704.81,
          895.6,
          557.01,
          141.02,
          810.86,
          84.63,
          2771.82,
          1205.61,
          1262.01,
          0,
          274.93,
          0
         ]
        },
        {
         "mode": "lines",
         "name": "Tank Unmet Heat",
         "type": "scatter",
         "x": [
          4874,
          4875,
          4876,
          4877,
          4878,
          4879,
          4880,
          4881,
          4882,
          4883,
          4884,
          4885,
          4886,
          4887,
          4888,
          4889,
          4890,
          4891,
          4892,
          4893,
          4894,
          4895,
          4896,
          4897,
          4898,
          4899,
          4900,
          4901,
          4902,
          4903,
          4904,
          4905,
          4906,
          4907,
          4908,
          4909,
          4910,
          4911,
          4912,
          4913,
          4914,
          4915,
          4916,
          4917,
          4918,
          4919,
          4920,
          4921,
          4922,
          4923,
          4924,
          4925,
          4926,
          4927,
          4928,
          4929,
          4930,
          4931,
          4932,
          4933,
          4934,
          4935,
          4936,
          4937,
          4938,
          4939,
          4940,
          4941,
          4942,
          4943,
          4944,
          4945,
          4946,
          4947,
          4948,
          4949,
          4950,
          4951,
          4952,
          4953,
          4954,
          4955,
          4956,
          4957,
          4958,
          4959,
          4960,
          4961,
          4962,
          4963,
          4964,
          4965,
          4966,
          4967,
          4968,
          4969,
          4970,
          4971,
          4972,
          4973,
          4974,
          4975,
          4976,
          4977,
          4978,
          4979,
          4980,
          4981,
          4982,
          4983,
          4984,
          4985,
          4986,
          4987,
          4988,
          4989,
          4990,
          4991,
          4992,
          4993,
          4994,
          4995,
          4996,
          4997,
          4998,
          4999,
          5000,
          5001,
          5002,
          5003,
          5004,
          5005,
          5006,
          5007,
          5008,
          5009,
          5010,
          5011,
          5012,
          5013,
          5014,
          5015,
          5016,
          5017,
          5018,
          5019,
          5020,
          5021,
          5022,
          5023,
          5024,
          5025,
          5026,
          5027,
          5028,
          5029,
          5030,
          5031,
          5032,
          5033,
          5034,
          5035,
          5036,
          5037,
          5038,
          5039,
          5040,
          5041,
          5042
         ],
         "y": [
          0,
          0,
          0,
          0,
          0,
          0,
          0,
          0,
          0,
          0,
          0,
          0,
          0,
          0,
          0,
          0,
          0,
          0,
          0,
          0,
          0,
          0,
          0,
          0,
          0,
          0,
          0,
          0,
          0,
          0,
          0,
          0,
          0,
          0,
          0,
          0,
          0,
          0,
          0,
          0,
          0,
          0,
          0,
          0,
          0,
          0,
          0,
          0,
          0,
          0,
          0,
          0,
          0,
          0,
          0,
          0,
          0,
          0,
          0,
          0,
          0,
          0,
          0,
          0,
          0,
          0,
          0,
          0,
          0,
          0,
          0,
          0,
          0,
          0,
          0,
          0,
          0,
          0,
          0,
          0,
          0,
          0,
          0,
          0,
          0,
          0,
          0,
          0,
          0,
          0,
          0,
          0,
          0,
          0,
          0,
          0,
          0,
          0,
          0,
          0,
          0,
          0,
          0,
          0,
          0,
          0,
          0,
          0,
          0,
          0,
          0,
          0,
          0,
          0,
          0,
          0,
          0,
          0,
          0,
          0,
          0,
          0,
          0,
          0,
          0,
          0,
          0,
          0,
          0,
          0,
          0,
          0,
          0,
          0,
          0,
          0,
          0,
          0,
          0,
          0,
          0,
          0,
          0,
          0,
          0,
          0,
          0,
          0,
          0,
          0,
          0,
          0,
          0,
          0,
          0,
          0,
          0,
          0,
          0,
          0,
          0,
          0,
          0,
          0,
          0,
          0,
          0,
          0,
          0
         ]
        },
        {
         "mode": "lines",
         "name": "Solar Heat Delivered To Tank",
         "type": "scatter",
         "x": [
          4874,
          4875,
          4876,
          4877,
          4878,
          4879,
          4880,
          4881,
          4882,
          4883,
          4884,
          4885,
          4886,
          4887,
          4888,
          4889,
          4890,
          4891,
          4892,
          4893,
          4894,
          4895,
          4896,
          4897,
          4898,
          4899,
          4900,
          4901,
          4902,
          4903,
          4904,
          4905,
          4906,
          4907,
          4908,
          4909,
          4910,
          4911,
          4912,
          4913,
          4914,
          4915,
          4916,
          4917,
          4918,
          4919,
          4920,
          4921,
          4922,
          4923,
          4924,
          4925,
          4926,
          4927,
          4928,
          4929,
          4930,
          4931,
          4932,
          4933,
          4934,
          4935,
          4936,
          4937,
          4938,
          4939,
          4940,
          4941,
          4942,
          4943,
          4944,
          4945,
          4946,
          4947,
          4948,
          4949,
          4950,
          4951,
          4952,
          4953,
          4954,
          4955,
          4956,
          4957,
          4958,
          4959,
          4960,
          4961,
          4962,
          4963,
          4964,
          4965,
          4966,
          4967,
          4968,
          4969,
          4970,
          4971,
          4972,
          4973,
          4974,
          4975,
          4976,
          4977,
          4978,
          4979,
          4980,
          4981,
          4982,
          4983,
          4984,
          4985,
          4986,
          4987,
          4988,
          4989,
          4990,
          4991,
          4992,
          4993,
          4994,
          4995,
          4996,
          4997,
          4998,
          4999,
          5000,
          5001,
          5002,
          5003,
          5004,
          5005,
          5006,
          5007,
          5008,
          5009,
          5010,
          5011,
          5012,
          5013,
          5014,
          5015,
          5016,
          5017,
          5018,
          5019,
          5020,
          5021,
          5022,
          5023,
          5024,
          5025,
          5026,
          5027,
          5028,
          5029,
          5030,
          5031,
          5032,
          5033,
          5034,
          5035,
          5036,
          5037,
          5038,
          5039,
          5040,
          5041,
          5042
         ],
         "y": [
          0,
          0,
          0,
          0,
          0,
          0,
          2617.7759275718845,
          4743.518395379957,
          3224.709697310059,
          0,
          16000.614882912792,
          13605.761179720632,
          12039.04806953841,
          10023.088579116435,
          7032.7202018100825,
          3771.06095634268,
          364.68974823879483,
          0,
          0,
          0,
          0,
          0,
          0,
          0,
          0,
          0,
          0,
          0,
          0,
          131.77652231732824,
          1512.2903428727298,
          5205.479692545516,
          5572.298937944202,
          0,
          17992.204975374374,
          14087.55559882981,
          12233.54710959568,
          9892.342855545994,
          6993.616633685468,
          3714.208745399992,
          376.4659505670168,
          0,
          0,
          0,
          0,
          0,
          0,
          0,
          0,
          0,
          0,
          0,
          0,
          0,
          1670.5634263311927,
          5126.831018907071,
          5719.2192792225305,
          0,
          18427.3088499035,
          14171.396660269047,
          12150.348294140818,
          9853.117925490888,
          6583.813175132951,
          2245.4428845284847,
          0,
          0,
          0,
          0,
          0,
          0,
          0,
          0,
          0,
          0,
          0,
          0,
          0,
          0,
          1531.635726646977,
          4062.322994135524,
          3713.01258386197,
          0,
          9458.914678310925,
          11044.351170803291,
          9879.311765534323,
          8518.150720594807,
          4627.158940361973,
          2811.8601922056564,
          0,
          0,
          0,
          0,
          0,
          0,
          0,
          0,
          0,
          0,
          0,
          0,
          0,
          0,
          0,
          2815.7815355099374,
          5077.601761304827,
          0,
          16908.52529308267,
          13222.599441907138,
          11433.242688074057,
          9326.318017977004,
          6665.268269568577,
          3254.3741411281917,
          0,
          0,
          0,
          0,
          0,
          0,
          0,
          0,
          0,
          0,
          0,
          0,
          0,
          0,
          384.4879610787502,
          4677.129754572593,
          4639.14238267662,
          0,
          15986.061812522981,
          13411.315835742313,
          11740.875842737441,
          8976.010817999013,
          6597.403952775847,
          3281.4842585775314,
          0,
          0,
          0,
          0,
          0,
          0,
          0,
          0,
          0,
          0,
          0,
          0,
          0,
          0,
          2391.163632598991,
          4434.829586295256,
          3522.850282342631,
          18548.91321429228,
          12554.429757954806,
          11414.182213694537,
          8928.290304072916,
          6087.933663376503,
          5526.341951618675,
          2687.8777574195046,
          0,
          0,
          0,
          0,
          0,
          0,
          0,
          0,
          0
         ]
        },
        {
         "mode": "lines",
         "name": "Distribution Heat Loss",
         "type": "scatter",
         "x": [
          4874,
          4875,
          4876,
          4877,
          4878,
          4879,
          4880,
          4881,
          4882,
          4883,
          4884,
          4885,
          4886,
          4887,
          4888,
          4889,
          4890,
          4891,
          4892,
          4893,
          4894,
          4895,
          4896,
          4897,
          4898,
          4899,
          4900,
          4901,
          4902,
          4903,
          4904,
          4905,
          4906,
          4907,
          4908,
          4909,
          4910,
          4911,
          4912,
          4913,
          4914,
          4915,
          4916,
          4917,
          4918,
          4919,
          4920,
          4921,
          4922,
          4923,
          4924,
          4925,
          4926,
          4927,
          4928,
          4929,
          4930,
          4931,
          4932,
          4933,
          4934,
          4935,
          4936,
          4937,
          4938,
          4939,
          4940,
          4941,
          4942,
          4943,
          4944,
          4945,
          4946,
          4947,
          4948,
          4949,
          4950,
          4951,
          4952,
          4953,
          4954,
          4955,
          4956,
          4957,
          4958,
          4959,
          4960,
          4961,
          4962,
          4963,
          4964,
          4965,
          4966,
          4967,
          4968,
          4969,
          4970,
          4971,
          4972,
          4973,
          4974,
          4975,
          4976,
          4977,
          4978,
          4979,
          4980,
          4981,
          4982,
          4983,
          4984,
          4985,
          4986,
          4987,
          4988,
          4989,
          4990,
          4991,
          4992,
          4993,
          4994,
          4995,
          4996,
          4997,
          4998,
          4999,
          5000,
          5001,
          5002,
          5003,
          5004,
          5005,
          5006,
          5007,
          5008,
          5009,
          5010,
          5011,
          5012,
          5013,
          5014,
          5015,
          5016,
          5017,
          5018,
          5019,
          5020,
          5021,
          5022,
          5023,
          5024,
          5025,
          5026,
          5027,
          5028,
          5029,
          5030,
          5031,
          5032,
          5033,
          5034,
          5035,
          5036,
          5037,
          5038,
          5039,
          5040,
          5041,
          5042
         ],
         "y": [
          4.759384458179354,
          0,
          0.08001883830304198,
          2.898179145005618,
          50.14704355253633,
          40.54608359297001,
          51.36792240476696,
          11.150179981029973,
          7.898457752330132,
          1.0450062561287374,
          6.957235722664575,
          2.3170872445602964,
          5.4248984095834,
          9.025774959181426,
          10.424618469092636,
          17.141897346888797,
          10.895616356100307,
          5.938592342546511,
          1.8130142998031593,
          56.23719821766207,
          47.2438041821399,
          0,
          0,
          5.764173824438803,
          0,
          5.1417119369087105,
          0,
          11.900321106784784,
          32.21027880975238,
          16.937486459631483,
          5.248186348606998,
          34.60220669616273,
          3.791929880952484,
          1.74680138992971,
          2.7722638885174757,
          4.539840148375128,
          45.798480161019974,
          5.403673182915675,
          11.686003368203323,
          9.676345001965279,
          18.72435591289385,
          18.086716259277583,
          54.35982722044562,
          30.291936943557136,
          7.878790924498349,
          0.1883624539992522,
          3.5091027967902124,
          2.1840303188681207,
          1.1050546358254651,
          0.06573380573478003,
          0.20027133481993728,
          0,
          4.353926577932089,
          17.85143221625682,
          7.74583846075156,
          44.182082544616364,
          5.204257612292957,
          5.886717675768615,
          3.672639865403792,
          12.122805056690765,
          5.7516995185944495,
          0.5973385219346272,
          4.581953693350784,
          2.3940708047757835,
          4.668202233460913,
          17.882145579759612,
          33.289435803166086,
          15.170276748849739,
          22.62014638863644,
          4.421826477865388,
          0,
          0.37539633854090687,
          0,
          0,
          0,
          0,
          1.5917473221418246,
          5.920700323550388,
          7.215372668420326,
          11.794219923262174,
          9.67800873352433,
          8.670800147183504,
          5.060453479498161,
          4.745017339496504,
          3.706834228756762,
          6.487507376409012,
          5.013196393901444,
          7.622214732232951,
          26.683142096572183,
          15.985200248797092,
          19.02867924949216,
          5.441710237400071,
          15.450990622803765,
          1.7024914378635811,
          0,
          0,
          0,
          0,
          0,
          23.987468449818557,
          14.4614727198844,
          16.257667662938207,
          64.15096979465078,
          12.307524720574065,
          5.097984193281344,
          0.9507374838751178,
          0.05747729286160775,
          4.5624130084820775,
          3.5906008446239666,
          4.819305632833547,
          0.844966166391453,
          12.805886756195825,
          9.285194396231434,
          13.212748531933903,
          17.579433718153485,
          30.6403215266882,
          14.229928354948497,
          10.282129197945963,
          0,
          17.3138195813324,
          0,
          0,
          1.5681727510915253,
          0,
          2.800510585561521,
          1.6915066266268504,
          1.5436478885398797,
          51.553402515742334,
          39.680494164517654,
          9.010170297180794,
          7.708342842907967,
          21.989978959745876,
          3.705149686957737,
          12.846315759372454,
          7.410299373915474,
          4.035151425386935,
          33.765798090577114,
          5.883866758207633,
          10.04146019683527,
          37.912923813829075,
          37.61755582109509,
          5.684902113543227,
          0,
          0,
          0,
          0.8048882866350354,
          0.33751637732237133,
          0,
          0,
          6.914125506920211,
          14.877253747687336,
          8.989824721595198,
          39.414889597066676,
          9.104297120737224,
          48.770854165401396,
          31.726660242856102,
          16.449550667489103,
          7.681510603558666,
          10.247573126015002,
          6.281319460208234,
          1.5902074582805654,
          9.162986069172618,
          0.9734110895175234,
          32.10088376298515,
          13.520911013574437,
          14.151411279344476,
          0,
          3.0475118968404478,
          0
         ]
        }
       ],
       "layout": {
        "font": {
         "family": "arial",
         "size": 16
        },
        "height": 450,
        "legend": {
         "font": {
          "family": "arial",
          "size": 12.8
         },
         "x": 0.75,
         "y": 1
        },
        "margin": {
         "b": 60,
         "l": 60
        },
        "showlegend": true,
        "template": {
         "data": {
          "bar": [
           {
            "error_x": {
             "color": "#2a3f5f"
            },
            "error_y": {
             "color": "#2a3f5f"
            },
            "marker": {
             "line": {
              "color": "#E5ECF6",
              "width": 0.5
             }
            },
            "type": "bar"
           }
          ],
          "barpolar": [
           {
            "marker": {
             "line": {
              "color": "#E5ECF6",
              "width": 0.5
             }
            },
            "type": "barpolar"
           }
          ],
          "carpet": [
           {
            "aaxis": {
             "endlinecolor": "#2a3f5f",
             "gridcolor": "white",
             "linecolor": "white",
             "minorgridcolor": "white",
             "startlinecolor": "#2a3f5f"
            },
            "baxis": {
             "endlinecolor": "#2a3f5f",
             "gridcolor": "white",
             "linecolor": "white",
             "minorgridcolor": "white",
             "startlinecolor": "#2a3f5f"
            },
            "type": "carpet"
           }
          ],
          "choropleth": [
           {
            "colorbar": {
             "outlinewidth": 0,
             "ticks": ""
            },
            "type": "choropleth"
           }
          ],
          "contour": [
           {
            "colorbar": {
             "outlinewidth": 0,
             "ticks": ""
            },
            "colorscale": [
             [
              0,
              "#0d0887"
             ],
             [
              0.1111111111111111,
              "#46039f"
             ],
             [
              0.2222222222222222,
              "#7201a8"
             ],
             [
              0.3333333333333333,
              "#9c179e"
             ],
             [
              0.4444444444444444,
              "#bd3786"
             ],
             [
              0.5555555555555556,
              "#d8576b"
             ],
             [
              0.6666666666666666,
              "#ed7953"
             ],
             [
              0.7777777777777778,
              "#fb9f3a"
             ],
             [
              0.8888888888888888,
              "#fdca26"
             ],
             [
              1,
              "#f0f921"
             ]
            ],
            "type": "contour"
           }
          ],
          "contourcarpet": [
           {
            "colorbar": {
             "outlinewidth": 0,
             "ticks": ""
            },
            "type": "contourcarpet"
           }
          ],
          "heatmap": [
           {
            "colorbar": {
             "outlinewidth": 0,
             "ticks": ""
            },
            "colorscale": [
             [
              0,
              "#0d0887"
             ],
             [
              0.1111111111111111,
              "#46039f"
             ],
             [
              0.2222222222222222,
              "#7201a8"
             ],
             [
              0.3333333333333333,
              "#9c179e"
             ],
             [
              0.4444444444444444,
              "#bd3786"
             ],
             [
              0.5555555555555556,
              "#d8576b"
             ],
             [
              0.6666666666666666,
              "#ed7953"
             ],
             [
              0.7777777777777778,
              "#fb9f3a"
             ],
             [
              0.8888888888888888,
              "#fdca26"
             ],
             [
              1,
              "#f0f921"
             ]
            ],
            "type": "heatmap"
           }
          ],
          "heatmapgl": [
           {
            "colorbar": {
             "outlinewidth": 0,
             "ticks": ""
            },
            "colorscale": [
             [
              0,
              "#0d0887"
             ],
             [
              0.1111111111111111,
              "#46039f"
             ],
             [
              0.2222222222222222,
              "#7201a8"
             ],
             [
              0.3333333333333333,
              "#9c179e"
             ],
             [
              0.4444444444444444,
              "#bd3786"
             ],
             [
              0.5555555555555556,
              "#d8576b"
             ],
             [
              0.6666666666666666,
              "#ed7953"
             ],
             [
              0.7777777777777778,
              "#fb9f3a"
             ],
             [
              0.8888888888888888,
              "#fdca26"
             ],
             [
              1,
              "#f0f921"
             ]
            ],
            "type": "heatmapgl"
           }
          ],
          "histogram": [
           {
            "marker": {
             "colorbar": {
              "outlinewidth": 0,
              "ticks": ""
             }
            },
            "type": "histogram"
           }
          ],
          "histogram2d": [
           {
            "colorbar": {
             "outlinewidth": 0,
             "ticks": ""
            },
            "colorscale": [
             [
              0,
              "#0d0887"
             ],
             [
              0.1111111111111111,
              "#46039f"
             ],
             [
              0.2222222222222222,
              "#7201a8"
             ],
             [
              0.3333333333333333,
              "#9c179e"
             ],
             [
              0.4444444444444444,
              "#bd3786"
             ],
             [
              0.5555555555555556,
              "#d8576b"
             ],
             [
              0.6666666666666666,
              "#ed7953"
             ],
             [
              0.7777777777777778,
              "#fb9f3a"
             ],
             [
              0.8888888888888888,
              "#fdca26"
             ],
             [
              1,
              "#f0f921"
             ]
            ],
            "type": "histogram2d"
           }
          ],
          "histogram2dcontour": [
           {
            "colorbar": {
             "outlinewidth": 0,
             "ticks": ""
            },
            "colorscale": [
             [
              0,
              "#0d0887"
             ],
             [
              0.1111111111111111,
              "#46039f"
             ],
             [
              0.2222222222222222,
              "#7201a8"
             ],
             [
              0.3333333333333333,
              "#9c179e"
             ],
             [
              0.4444444444444444,
              "#bd3786"
             ],
             [
              0.5555555555555556,
              "#d8576b"
             ],
             [
              0.6666666666666666,
              "#ed7953"
             ],
             [
              0.7777777777777778,
              "#fb9f3a"
             ],
             [
              0.8888888888888888,
              "#fdca26"
             ],
             [
              1,
              "#f0f921"
             ]
            ],
            "type": "histogram2dcontour"
           }
          ],
          "mesh3d": [
           {
            "colorbar": {
             "outlinewidth": 0,
             "ticks": ""
            },
            "type": "mesh3d"
           }
          ],
          "parcoords": [
           {
            "line": {
             "colorbar": {
              "outlinewidth": 0,
              "ticks": ""
             }
            },
            "type": "parcoords"
           }
          ],
          "pie": [
           {
            "automargin": true,
            "type": "pie"
           }
          ],
          "scatter": [
           {
            "marker": {
             "colorbar": {
              "outlinewidth": 0,
              "ticks": ""
             }
            },
            "type": "scatter"
           }
          ],
          "scatter3d": [
           {
            "line": {
             "colorbar": {
              "outlinewidth": 0,
              "ticks": ""
             }
            },
            "marker": {
             "colorbar": {
              "outlinewidth": 0,
              "ticks": ""
             }
            },
            "type": "scatter3d"
           }
          ],
          "scattercarpet": [
           {
            "marker": {
             "colorbar": {
              "outlinewidth": 0,
              "ticks": ""
             }
            },
            "type": "scattercarpet"
           }
          ],
          "scattergeo": [
           {
            "marker": {
             "colorbar": {
              "outlinewidth": 0,
              "ticks": ""
             }
            },
            "type": "scattergeo"
           }
          ],
          "scattergl": [
           {
            "marker": {
             "colorbar": {
              "outlinewidth": 0,
              "ticks": ""
             }
            },
            "type": "scattergl"
           }
          ],
          "scattermapbox": [
           {
            "marker": {
             "colorbar": {
              "outlinewidth": 0,
              "ticks": ""
             }
            },
            "type": "scattermapbox"
           }
          ],
          "scatterpolar": [
           {
            "marker": {
             "colorbar": {
              "outlinewidth": 0,
              "ticks": ""
             }
            },
            "type": "scatterpolar"
           }
          ],
          "scatterpolargl": [
           {
            "marker": {
             "colorbar": {
              "outlinewidth": 0,
              "ticks": ""
             }
            },
            "type": "scatterpolargl"
           }
          ],
          "scatterternary": [
           {
            "marker": {
             "colorbar": {
              "outlinewidth": 0,
              "ticks": ""
             }
            },
            "type": "scatterternary"
           }
          ],
          "surface": [
           {
            "colorbar": {
             "outlinewidth": 0,
             "ticks": ""
            },
            "colorscale": [
             [
              0,
              "#0d0887"
             ],
             [
              0.1111111111111111,
              "#46039f"
             ],
             [
              0.2222222222222222,
              "#7201a8"
             ],
             [
              0.3333333333333333,
              "#9c179e"
             ],
             [
              0.4444444444444444,
              "#bd3786"
             ],
             [
              0.5555555555555556,
              "#d8576b"
             ],
             [
              0.6666666666666666,
              "#ed7953"
             ],
             [
              0.7777777777777778,
              "#fb9f3a"
             ],
             [
              0.8888888888888888,
              "#fdca26"
             ],
             [
              1,
              "#f0f921"
             ]
            ],
            "type": "surface"
           }
          ],
          "table": [
           {
            "cells": {
             "fill": {
              "color": "#EBF0F8"
             },
             "line": {
              "color": "white"
             }
            },
            "header": {
             "fill": {
              "color": "#C8D4E3"
             },
             "line": {
              "color": "white"
             }
            },
            "type": "table"
           }
          ]
         },
         "layout": {
          "annotationdefaults": {
           "arrowcolor": "#2a3f5f",
           "arrowhead": 0,
           "arrowwidth": 1
          },
          "coloraxis": {
           "colorbar": {
            "outlinewidth": 0,
            "ticks": ""
           }
          },
          "colorscale": {
           "diverging": [
            [
             0,
             "#8e0152"
            ],
            [
             0.1,
             "#c51b7d"
            ],
            [
             0.2,
             "#de77ae"
            ],
            [
             0.3,
             "#f1b6da"
            ],
            [
             0.4,
             "#fde0ef"
            ],
            [
             0.5,
             "#f7f7f7"
            ],
            [
             0.6,
             "#e6f5d0"
            ],
            [
             0.7,
             "#b8e186"
            ],
            [
             0.8,
             "#7fbc41"
            ],
            [
             0.9,
             "#4d9221"
            ],
            [
             1,
             "#276419"
            ]
           ],
           "sequential": [
            [
             0,
             "#0d0887"
            ],
            [
             0.1111111111111111,
             "#46039f"
            ],
            [
             0.2222222222222222,
             "#7201a8"
            ],
            [
             0.3333333333333333,
             "#9c179e"
            ],
            [
             0.4444444444444444,
             "#bd3786"
            ],
            [
             0.5555555555555556,
             "#d8576b"
            ],
            [
             0.6666666666666666,
             "#ed7953"
            ],
            [
             0.7777777777777778,
             "#fb9f3a"
            ],
            [
             0.8888888888888888,
             "#fdca26"
            ],
            [
             1,
             "#f0f921"
            ]
           ],
           "sequentialminus": [
            [
             0,
             "#0d0887"
            ],
            [
             0.1111111111111111,
             "#46039f"
            ],
            [
             0.2222222222222222,
             "#7201a8"
            ],
            [
             0.3333333333333333,
             "#9c179e"
            ],
            [
             0.4444444444444444,
             "#bd3786"
            ],
            [
             0.5555555555555556,
             "#d8576b"
            ],
            [
             0.6666666666666666,
             "#ed7953"
            ],
            [
             0.7777777777777778,
             "#fb9f3a"
            ],
            [
             0.8888888888888888,
             "#fdca26"
            ],
            [
             1,
             "#f0f921"
            ]
           ]
          },
          "colorway": [
           "#636efa",
           "#EF553B",
           "#00cc96",
           "#ab63fa",
           "#FFA15A",
           "#19d3f3",
           "#FF6692",
           "#B6E880",
           "#FF97FF",
           "#FECB52"
          ],
          "font": {
           "color": "#2a3f5f"
          },
          "geo": {
           "bgcolor": "white",
           "lakecolor": "white",
           "landcolor": "#E5ECF6",
           "showlakes": true,
           "showland": true,
           "subunitcolor": "white"
          },
          "hoverlabel": {
           "align": "left"
          },
          "hovermode": "closest",
          "mapbox": {
           "style": "light"
          },
          "paper_bgcolor": "white",
          "plot_bgcolor": "#E5ECF6",
          "polar": {
           "angularaxis": {
            "gridcolor": "white",
            "linecolor": "white",
            "ticks": ""
           },
           "bgcolor": "#E5ECF6",
           "radialaxis": {
            "gridcolor": "white",
            "linecolor": "white",
            "ticks": ""
           }
          },
          "scene": {
           "xaxis": {
            "backgroundcolor": "#E5ECF6",
            "gridcolor": "white",
            "gridwidth": 2,
            "linecolor": "white",
            "showbackground": true,
            "ticks": "",
            "zerolinecolor": "white"
           },
           "yaxis": {
            "backgroundcolor": "#E5ECF6",
            "gridcolor": "white",
            "gridwidth": 2,
            "linecolor": "white",
            "showbackground": true,
            "ticks": "",
            "zerolinecolor": "white"
           },
           "zaxis": {
            "backgroundcolor": "#E5ECF6",
            "gridcolor": "white",
            "gridwidth": 2,
            "linecolor": "white",
            "showbackground": true,
            "ticks": "",
            "zerolinecolor": "white"
           }
          },
          "shapedefaults": {
           "line": {
            "color": "#2a3f5f"
           }
          },
          "ternary": {
           "aaxis": {
            "gridcolor": "white",
            "linecolor": "white",
            "ticks": ""
           },
           "baxis": {
            "gridcolor": "white",
            "linecolor": "white",
            "ticks": ""
           },
           "bgcolor": "#E5ECF6",
           "caxis": {
            "gridcolor": "white",
            "linecolor": "white",
            "ticks": ""
           }
          },
          "title": {
           "x": 0.05
          },
          "xaxis": {
           "automargin": true,
           "gridcolor": "white",
           "linecolor": "white",
           "ticks": "",
           "title": {
            "standoff": 15
           },
           "zerolinecolor": "white",
           "zerolinewidth": 2
          },
          "yaxis": {
           "automargin": true,
           "gridcolor": "white",
           "linecolor": "white",
           "ticks": "",
           "title": {
            "standoff": 15
           },
           "zerolinecolor": "white",
           "zerolinewidth": 2
          }
         }
        },
        "title": {
         "font": {
          "family": "arial",
          "size": 16
         },
         "text": "Community SWH Retrofit in Banja Luka"
        },
        "width": 650,
        "xaxis": {
         "tickfont": {
          "size": 12.8
         },
         "title": {
          "font": {
           "color": "#7f7f7f",
           "size": 16
          },
          "text": "Time [h]"
         }
        },
        "yaxis": {
         "tickfont": {
          "size": 9.6
         },
         "title": {
          "font": {
           "color": "#7f7f7f",
           "size": 16
          },
          "text": "Heat rate [W]"
         }
        }
       }
      },
      "text/html": [
       "<div>\n",
       "        \n",
       "        \n",
       "            <div id=\"f6ace84b-6487-4c78-98ac-ac3365ecd069\" class=\"plotly-graph-div\" style=\"height:450px; width:650px;\"></div>\n",
       "            <script type=\"text/javascript\">\n",
       "                require([\"plotly\"], function(Plotly) {\n",
       "                    window.PLOTLYENV=window.PLOTLYENV || {};\n",
       "                    \n",
       "                if (document.getElementById(\"f6ace84b-6487-4c78-98ac-ac3365ecd069\")) {\n",
       "                    Plotly.newPlot(\n",
       "                        'f6ace84b-6487-4c78-98ac-ac3365ecd069',\n",
       "                        [{\"mode\": \"lines\", \"name\": \"Net Heat Demand\", \"type\": \"scatter\", \"x\": [4874, 4875, 4876, 4877, 4878, 4879, 4880, 4881, 4882, 4883, 4884, 4885, 4886, 4887, 4888, 4889, 4890, 4891, 4892, 4893, 4894, 4895, 4896, 4897, 4898, 4899, 4900, 4901, 4902, 4903, 4904, 4905, 4906, 4907, 4908, 4909, 4910, 4911, 4912, 4913, 4914, 4915, 4916, 4917, 4918, 4919, 4920, 4921, 4922, 4923, 4924, 4925, 4926, 4927, 4928, 4929, 4930, 4931, 4932, 4933, 4934, 4935, 4936, 4937, 4938, 4939, 4940, 4941, 4942, 4943, 4944, 4945, 4946, 4947, 4948, 4949, 4950, 4951, 4952, 4953, 4954, 4955, 4956, 4957, 4958, 4959, 4960, 4961, 4962, 4963, 4964, 4965, 4966, 4967, 4968, 4969, 4970, 4971, 4972, 4973, 4974, 4975, 4976, 4977, 4978, 4979, 4980, 4981, 4982, 4983, 4984, 4985, 4986, 4987, 4988, 4989, 4990, 4991, 4992, 4993, 4994, 4995, 4996, 4997, 4998, 4999, 5000, 5001, 5002, 5003, 5004, 5005, 5006, 5007, 5008, 5009, 5010, 5011, 5012, 5013, 5014, 5015, 5016, 5017, 5018, 5019, 5020, 5021, 5022, 5023, 5024, 5025, 5026, 5027, 5028, 5029, 5030, 5031, 5032, 5033, 5034, 5035, 5036, 5037, 5038, 5039, 5040, 5041, 5042], \"y\": [418.28, 0.0, 6.97, 250.97, 4322.2, 3813.3, 5430.64, 1331.52, 955.07, 132.45, 920.21, 244.0, 578.62, 982.95, 1129.35, 1847.39, 1171.18, 627.42, 188.22, 5535.21, 4858.99, 0.0, 0.0, 599.53, 0.0, 522.85, 0.0, 1185.12, 3206.79, 1819.51, 620.44, 4371.0, 529.82, 237.02, 397.36, 487.99, 5054.19, 599.53, 1310.6, 1073.58, 2077.44, 1965.9, 5862.86, 3457.76, 899.3, 20.91, 383.42, 237.02, 118.51, 6.97, 20.91, 0.0, 439.19, 1854.36, 885.35, 5353.95, 697.13, 752.9, 501.93, 1289.69, 613.47, 62.74, 474.05, 237.02, 446.16, 1554.6, 3004.63, 1429.11, 2119.27, 418.28, 0.0, 34.86, 0.0, 0.0, 0.0, 0.0, 139.43, 529.82, 662.27, 1122.38, 906.27, 794.73, 460.11, 390.39, 313.71, 578.62, 446.16, 704.1, 2453.89, 1484.88, 1791.62, 508.9, 1443.06, 160.34, 0.0, 0.0, 0.0, 0.0, 0.0, 2161.1, 1345.46, 1554.6, 6406.62, 1401.23, 613.47, 111.54, 6.97, 425.25, 341.59, 467.08, 83.66, 1261.8, 906.27, 1268.77, 1659.17, 2886.11, 1366.37, 989.92, 0.0, 1631.28, 0.0, 0.0, 146.4, 0.0, 257.94, 160.34, 153.37, 5340.01, 4357.06, 1059.64, 955.07, 2154.13, 369.48, 1296.66, 738.96, 404.33, 3367.13, 606.5, 1024.78, 3792.38, 3917.87, 620.44, 0.0, 0.0, 0.0, 83.66, 34.86, 0.0, 0.0, 690.16, 1554.6, 975.98, 4147.92, 996.89, 4587.11, 3053.43, 1568.54, 697.13, 885.35, 550.73, 139.43, 801.7, 83.66, 2739.72, 1192.09, 1247.86, 0.0, 271.88, 0.0]}, {\"mode\": \"lines\", \"name\": \"Tank Heat Delivered\", \"type\": \"scatter\", \"x\": [4874, 4875, 4876, 4877, 4878, 4879, 4880, 4881, 4882, 4883, 4884, 4885, 4886, 4887, 4888, 4889, 4890, 4891, 4892, 4893, 4894, 4895, 4896, 4897, 4898, 4899, 4900, 4901, 4902, 4903, 4904, 4905, 4906, 4907, 4908, 4909, 4910, 4911, 4912, 4913, 4914, 4915, 4916, 4917, 4918, 4919, 4920, 4921, 4922, 4923, 4924, 4925, 4926, 4927, 4928, 4929, 4930, 4931, 4932, 4933, 4934, 4935, 4936, 4937, 4938, 4939, 4940, 4941, 4942, 4943, 4944, 4945, 4946, 4947, 4948, 4949, 4950, 4951, 4952, 4953, 4954, 4955, 4956, 4957, 4958, 4959, 4960, 4961, 4962, 4963, 4964, 4965, 4966, 4967, 4968, 4969, 4970, 4971, 4972, 4973, 4974, 4975, 4976, 4977, 4978, 4979, 4980, 4981, 4982, 4983, 4984, 4985, 4986, 4987, 4988, 4989, 4990, 4991, 4992, 4993, 4994, 4995, 4996, 4997, 4998, 4999, 5000, 5001, 5002, 5003, 5004, 5005, 5006, 5007, 5008, 5009, 5010, 5011, 5012, 5013, 5014, 5015, 5016, 5017, 5018, 5019, 5020, 5021, 5022, 5023, 5024, 5025, 5026, 5027, 5028, 5029, 5030, 5031, 5032, 5033, 5034, 5035, 5036, 5037, 5038, 5039, 5040, 5041, 5042], \"y\": [423.04, 0.0, 7.05, 253.86, 4372.35, 3853.84, 5482.0, 1342.67, 962.97, 133.5, 927.17, 246.31, 584.04, 991.98, 1139.77, 1864.53, 1182.07, 633.35, 190.04, 5591.44, 4906.23, 0.0, 0.0, 605.3, 0.0, 527.99, 0.0, 1197.02, 3239.0, 1836.44, 625.69, 4405.6, 533.61, 238.77, 400.14, 492.53, 5099.98, 604.93, 1322.29, 1083.26, 2096.17, 1983.99, 5917.22, 3488.05, 907.18, 21.1, 386.93, 239.21, 119.62, 7.04, 21.11, 0.0, 443.55, 1872.21, 893.1, 5398.13, 702.33, 758.79, 505.61, 1301.81, 619.23, 63.34, 478.63, 239.42, 450.83, 1572.48, 3037.92, 1444.28, 2141.89, 422.7, 0.0, 35.23, 0.0, 0.0, 0.0, 0.0, 141.02, 535.74, 669.49, 1134.17, 915.95, 803.4, 465.17, 395.14, 317.41, 585.1, 451.18, 711.72, 2480.58, 1500.87, 1810.65, 514.35, 1458.51, 162.04, 0.0, 0.0, 0.0, 0.0, 0.0, 2185.09, 1359.92, 1570.86, 6470.77, 1413.54, 618.57, 112.49, 7.03, 429.81, 345.18, 471.9, 84.5, 1274.61, 915.55, 1281.99, 1676.75, 2916.75, 1380.6, 1000.21, 0.0, 1648.6, 0.0, 0.0, 147.97, 0.0, 260.74, 162.03, 154.91, 5391.56, 4396.74, 1068.65, 962.78, 2176.12, 373.18, 1309.51, 746.37, 408.37, 3400.9, 612.39, 1034.82, 3830.3, 3955.48, 626.13, 0.0, 0.0, 0.0, 84.46, 35.19, 0.0, 0.0, 697.07, 1569.48, 984.97, 4187.33, 1006.0, 4635.88, 3085.15, 1584.99, 704.81, 895.6, 557.01, 141.02, 810.86, 84.63, 2771.82, 1205.61, 1262.01, 0.0, 274.93, 0.0]}, {\"mode\": \"lines\", \"name\": \"Tank Unmet Heat\", \"type\": \"scatter\", \"x\": [4874, 4875, 4876, 4877, 4878, 4879, 4880, 4881, 4882, 4883, 4884, 4885, 4886, 4887, 4888, 4889, 4890, 4891, 4892, 4893, 4894, 4895, 4896, 4897, 4898, 4899, 4900, 4901, 4902, 4903, 4904, 4905, 4906, 4907, 4908, 4909, 4910, 4911, 4912, 4913, 4914, 4915, 4916, 4917, 4918, 4919, 4920, 4921, 4922, 4923, 4924, 4925, 4926, 4927, 4928, 4929, 4930, 4931, 4932, 4933, 4934, 4935, 4936, 4937, 4938, 4939, 4940, 4941, 4942, 4943, 4944, 4945, 4946, 4947, 4948, 4949, 4950, 4951, 4952, 4953, 4954, 4955, 4956, 4957, 4958, 4959, 4960, 4961, 4962, 4963, 4964, 4965, 4966, 4967, 4968, 4969, 4970, 4971, 4972, 4973, 4974, 4975, 4976, 4977, 4978, 4979, 4980, 4981, 4982, 4983, 4984, 4985, 4986, 4987, 4988, 4989, 4990, 4991, 4992, 4993, 4994, 4995, 4996, 4997, 4998, 4999, 5000, 5001, 5002, 5003, 5004, 5005, 5006, 5007, 5008, 5009, 5010, 5011, 5012, 5013, 5014, 5015, 5016, 5017, 5018, 5019, 5020, 5021, 5022, 5023, 5024, 5025, 5026, 5027, 5028, 5029, 5030, 5031, 5032, 5033, 5034, 5035, 5036, 5037, 5038, 5039, 5040, 5041, 5042], \"y\": [0.0, 0.0, 0.0, 0.0, 0.0, 0.0, 0.0, 0.0, 0.0, 0.0, 0.0, 0.0, 0.0, 0.0, 0.0, 0.0, 0.0, 0.0, 0.0, 0.0, 0.0, 0.0, 0.0, 0.0, 0.0, 0.0, 0.0, 0.0, 0.0, 0.0, 0.0, 0.0, 0.0, 0.0, 0.0, 0.0, 0.0, 0.0, 0.0, 0.0, 0.0, 0.0, 0.0, 0.0, 0.0, 0.0, 0.0, 0.0, 0.0, 0.0, 0.0, 0.0, 0.0, 0.0, 0.0, 0.0, 0.0, 0.0, 0.0, 0.0, 0.0, 0.0, 0.0, 0.0, 0.0, 0.0, 0.0, 0.0, 0.0, 0.0, 0.0, 0.0, 0.0, 0.0, 0.0, 0.0, 0.0, 0.0, 0.0, 0.0, 0.0, 0.0, 0.0, 0.0, 0.0, 0.0, 0.0, 0.0, 0.0, 0.0, 0.0, 0.0, 0.0, 0.0, 0.0, 0.0, 0.0, 0.0, 0.0, 0.0, 0.0, 0.0, 0.0, 0.0, 0.0, 0.0, 0.0, 0.0, 0.0, 0.0, 0.0, 0.0, 0.0, 0.0, 0.0, 0.0, 0.0, 0.0, 0.0, 0.0, 0.0, 0.0, 0.0, 0.0, 0.0, 0.0, 0.0, 0.0, 0.0, 0.0, 0.0, 0.0, 0.0, 0.0, 0.0, 0.0, 0.0, 0.0, 0.0, 0.0, 0.0, 0.0, 0.0, 0.0, 0.0, 0.0, 0.0, 0.0, 0.0, 0.0, 0.0, 0.0, 0.0, 0.0, 0.0, 0.0, 0.0, 0.0, 0.0, 0.0, 0.0, 0.0, 0.0, 0.0, 0.0, 0.0, 0.0, 0.0, 0.0]}, {\"mode\": \"lines\", \"name\": \"Solar Heat Delivered To Tank\", \"type\": \"scatter\", \"x\": [4874, 4875, 4876, 4877, 4878, 4879, 4880, 4881, 4882, 4883, 4884, 4885, 4886, 4887, 4888, 4889, 4890, 4891, 4892, 4893, 4894, 4895, 4896, 4897, 4898, 4899, 4900, 4901, 4902, 4903, 4904, 4905, 4906, 4907, 4908, 4909, 4910, 4911, 4912, 4913, 4914, 4915, 4916, 4917, 4918, 4919, 4920, 4921, 4922, 4923, 4924, 4925, 4926, 4927, 4928, 4929, 4930, 4931, 4932, 4933, 4934, 4935, 4936, 4937, 4938, 4939, 4940, 4941, 4942, 4943, 4944, 4945, 4946, 4947, 4948, 4949, 4950, 4951, 4952, 4953, 4954, 4955, 4956, 4957, 4958, 4959, 4960, 4961, 4962, 4963, 4964, 4965, 4966, 4967, 4968, 4969, 4970, 4971, 4972, 4973, 4974, 4975, 4976, 4977, 4978, 4979, 4980, 4981, 4982, 4983, 4984, 4985, 4986, 4987, 4988, 4989, 4990, 4991, 4992, 4993, 4994, 4995, 4996, 4997, 4998, 4999, 5000, 5001, 5002, 5003, 5004, 5005, 5006, 5007, 5008, 5009, 5010, 5011, 5012, 5013, 5014, 5015, 5016, 5017, 5018, 5019, 5020, 5021, 5022, 5023, 5024, 5025, 5026, 5027, 5028, 5029, 5030, 5031, 5032, 5033, 5034, 5035, 5036, 5037, 5038, 5039, 5040, 5041, 5042], \"y\": [0.0, 0.0, 0.0, 0.0, -0.0, -0.0, 2617.7759275718845, 4743.518395379957, 3224.709697310059, 0.0, 16000.614882912792, 13605.761179720632, 12039.04806953841, 10023.088579116435, 7032.7202018100825, 3771.06095634268, 364.68974823879483, -0.0, 0.0, 0.0, 0.0, 0.0, 0.0, 0.0, 0.0, 0.0, 0.0, 0.0, -0.0, 131.77652231732824, 1512.2903428727298, 5205.479692545516, 5572.298937944202, 0.0, 17992.204975374374, 14087.55559882981, 12233.54710959568, 9892.342855545994, 6993.616633685468, 3714.208745399992, 376.4659505670168, -0.0, 0.0, 0.0, 0.0, 0.0, 0.0, 0.0, 0.0, 0.0, 0.0, 0.0, -0.0, -0.0, 1670.5634263311927, 5126.831018907071, 5719.2192792225305, 0.0, 18427.3088499035, 14171.396660269047, 12150.348294140818, 9853.117925490888, 6583.813175132951, 2245.4428845284847, -0.0, -0.0, 0.0, 0.0, 0.0, 0.0, 0.0, 0.0, 0.0, 0.0, 0.0, 0.0, -0.0, -0.0, 1531.635726646977, 4062.322994135524, 3713.01258386197, 0.0, 9458.914678310925, 11044.351170803291, 9879.311765534323, 8518.150720594807, 4627.158940361973, 2811.8601922056564, -0.0, -0.0, 0.0, 0.0, 0.0, 0.0, 0.0, 0.0, 0.0, 0.0, 0.0, 0.0, -0.0, -0.0, -0.0, 2815.7815355099374, 5077.601761304827, 0.0, 16908.52529308267, 13222.599441907138, 11433.242688074057, 9326.318017977004, 6665.268269568577, 3254.3741411281917, -0.0, -0.0, 0.0, 0.0, 0.0, 0.0, 0.0, 0.0, 0.0, 0.0, 0.0, 0.0, -0.0, -0.0, 384.4879610787502, 4677.129754572593, 4639.14238267662, 0.0, 15986.061812522981, 13411.315835742313, 11740.875842737441, 8976.010817999013, 6597.403952775847, 3281.4842585775314, -0.0, -0.0, 0.0, 0.0, 0.0, 0.0, 0.0, 0.0, 0.0, 0.0, 0.0, 0.0, -0.0, -0.0, 2391.163632598991, 4434.829586295256, 3522.850282342631, 18548.91321429228, 12554.429757954806, 11414.182213694537, 8928.290304072916, 6087.933663376503, 5526.341951618675, 2687.8777574195046, -0.0, -0.0, 0.0, 0.0, 0.0, 0.0, 0.0, 0.0, 0.0]}, {\"mode\": \"lines\", \"name\": \"Distribution Heat Loss\", \"type\": \"scatter\", \"x\": [4874, 4875, 4876, 4877, 4878, 4879, 4880, 4881, 4882, 4883, 4884, 4885, 4886, 4887, 4888, 4889, 4890, 4891, 4892, 4893, 4894, 4895, 4896, 4897, 4898, 4899, 4900, 4901, 4902, 4903, 4904, 4905, 4906, 4907, 4908, 4909, 4910, 4911, 4912, 4913, 4914, 4915, 4916, 4917, 4918, 4919, 4920, 4921, 4922, 4923, 4924, 4925, 4926, 4927, 4928, 4929, 4930, 4931, 4932, 4933, 4934, 4935, 4936, 4937, 4938, 4939, 4940, 4941, 4942, 4943, 4944, 4945, 4946, 4947, 4948, 4949, 4950, 4951, 4952, 4953, 4954, 4955, 4956, 4957, 4958, 4959, 4960, 4961, 4962, 4963, 4964, 4965, 4966, 4967, 4968, 4969, 4970, 4971, 4972, 4973, 4974, 4975, 4976, 4977, 4978, 4979, 4980, 4981, 4982, 4983, 4984, 4985, 4986, 4987, 4988, 4989, 4990, 4991, 4992, 4993, 4994, 4995, 4996, 4997, 4998, 4999, 5000, 5001, 5002, 5003, 5004, 5005, 5006, 5007, 5008, 5009, 5010, 5011, 5012, 5013, 5014, 5015, 5016, 5017, 5018, 5019, 5020, 5021, 5022, 5023, 5024, 5025, 5026, 5027, 5028, 5029, 5030, 5031, 5032, 5033, 5034, 5035, 5036, 5037, 5038, 5039, 5040, 5041, 5042], \"y\": [4.759384458179354, 0.0, 0.08001883830304198, 2.898179145005618, 50.14704355253633, 40.54608359297001, 51.36792240476696, 11.150179981029973, 7.898457752330132, 1.0450062561287374, 6.957235722664575, 2.3170872445602964, 5.4248984095834, 9.025774959181426, 10.424618469092636, 17.141897346888797, 10.895616356100307, 5.938592342546511, 1.8130142998031593, 56.23719821766207, 47.2438041821399, 0.0, 0.0, 5.764173824438803, 0.0, 5.1417119369087105, 0.0, 11.900321106784784, 32.21027880975238, 16.937486459631483, 5.248186348606998, 34.60220669616273, 3.791929880952484, 1.74680138992971, 2.7722638885174757, 4.539840148375128, 45.798480161019974, 5.403673182915675, 11.686003368203323, 9.676345001965279, 18.72435591289385, 18.086716259277583, 54.35982722044562, 30.291936943557136, 7.878790924498349, 0.1883624539992522, 3.5091027967902124, 2.1840303188681207, 1.1050546358254651, 0.06573380573478003, 0.20027133481993728, 0.0, 4.353926577932089, 17.85143221625682, 7.74583846075156, 44.182082544616364, 5.204257612292957, 5.886717675768615, 3.672639865403792, 12.122805056690765, 5.7516995185944495, 0.5973385219346272, 4.581953693350784, 2.3940708047757835, 4.668202233460913, 17.882145579759612, 33.289435803166086, 15.170276748849739, 22.62014638863644, 4.421826477865388, 0.0, 0.37539633854090687, 0.0, 0.0, 0.0, 0.0, 1.5917473221418246, 5.920700323550388, 7.215372668420326, 11.794219923262174, 9.67800873352433, 8.670800147183504, 5.060453479498161, 4.745017339496504, 3.706834228756762, 6.487507376409012, 5.013196393901444, 7.622214732232951, 26.683142096572183, 15.985200248797092, 19.02867924949216, 5.441710237400071, 15.450990622803765, 1.7024914378635811, 0.0, 0.0, 0.0, 0.0, 0.0, 23.987468449818557, 14.4614727198844, 16.257667662938207, 64.15096979465078, 12.307524720574065, 5.097984193281344, 0.9507374838751178, 0.05747729286160775, 4.5624130084820775, 3.5906008446239666, 4.819305632833547, 0.844966166391453, 12.805886756195825, 9.285194396231434, 13.212748531933903, 17.579433718153485, 30.6403215266882, 14.229928354948497, 10.282129197945963, 0.0, 17.3138195813324, 0.0, 0.0, 1.5681727510915253, 0.0, 2.800510585561521, 1.6915066266268504, 1.5436478885398797, 51.553402515742334, 39.680494164517654, 9.010170297180794, 7.708342842907967, 21.989978959745876, 3.705149686957737, 12.846315759372454, 7.410299373915474, 4.035151425386935, 33.765798090577114, 5.883866758207633, 10.04146019683527, 37.912923813829075, 37.61755582109509, 5.684902113543227, 0.0, 0.0, 0.0, 0.8048882866350354, 0.33751637732237133, 0.0, 0.0, 6.914125506920211, 14.877253747687336, 8.989824721595198, 39.414889597066676, 9.104297120737224, 48.770854165401396, 31.726660242856102, 16.449550667489103, 7.681510603558666, 10.247573126015002, 6.281319460208234, 1.5902074582805654, 9.162986069172618, 0.9734110895175234, 32.10088376298515, 13.520911013574437, 14.151411279344476, 0.0, 3.0475118968404478, 0.0]}],\n",
       "                        {\"font\": {\"family\": \"arial\", \"size\": 16}, \"height\": 450, \"legend\": {\"font\": {\"family\": \"arial\", \"size\": 12.8}, \"x\": 0.75, \"y\": 1.0}, \"margin\": {\"b\": 60.0, \"l\": 60.0}, \"showlegend\": true, \"template\": {\"data\": {\"bar\": [{\"error_x\": {\"color\": \"#2a3f5f\"}, \"error_y\": {\"color\": \"#2a3f5f\"}, \"marker\": {\"line\": {\"color\": \"#E5ECF6\", \"width\": 0.5}}, \"type\": \"bar\"}], \"barpolar\": [{\"marker\": {\"line\": {\"color\": \"#E5ECF6\", \"width\": 0.5}}, \"type\": \"barpolar\"}], \"carpet\": [{\"aaxis\": {\"endlinecolor\": \"#2a3f5f\", \"gridcolor\": \"white\", \"linecolor\": \"white\", \"minorgridcolor\": \"white\", \"startlinecolor\": \"#2a3f5f\"}, \"baxis\": {\"endlinecolor\": \"#2a3f5f\", \"gridcolor\": \"white\", \"linecolor\": \"white\", \"minorgridcolor\": \"white\", \"startlinecolor\": \"#2a3f5f\"}, \"type\": \"carpet\"}], \"choropleth\": [{\"colorbar\": {\"outlinewidth\": 0, \"ticks\": \"\"}, \"type\": \"choropleth\"}], \"contour\": [{\"colorbar\": {\"outlinewidth\": 0, \"ticks\": \"\"}, \"colorscale\": [[0.0, \"#0d0887\"], [0.1111111111111111, \"#46039f\"], [0.2222222222222222, \"#7201a8\"], [0.3333333333333333, \"#9c179e\"], [0.4444444444444444, \"#bd3786\"], [0.5555555555555556, \"#d8576b\"], [0.6666666666666666, \"#ed7953\"], [0.7777777777777778, \"#fb9f3a\"], [0.8888888888888888, \"#fdca26\"], [1.0, \"#f0f921\"]], \"type\": \"contour\"}], \"contourcarpet\": [{\"colorbar\": {\"outlinewidth\": 0, \"ticks\": \"\"}, \"type\": \"contourcarpet\"}], \"heatmap\": [{\"colorbar\": {\"outlinewidth\": 0, \"ticks\": \"\"}, \"colorscale\": [[0.0, \"#0d0887\"], [0.1111111111111111, \"#46039f\"], [0.2222222222222222, \"#7201a8\"], [0.3333333333333333, \"#9c179e\"], [0.4444444444444444, \"#bd3786\"], [0.5555555555555556, \"#d8576b\"], [0.6666666666666666, \"#ed7953\"], [0.7777777777777778, \"#fb9f3a\"], [0.8888888888888888, \"#fdca26\"], [1.0, \"#f0f921\"]], \"type\": \"heatmap\"}], \"heatmapgl\": [{\"colorbar\": {\"outlinewidth\": 0, \"ticks\": \"\"}, \"colorscale\": [[0.0, \"#0d0887\"], [0.1111111111111111, \"#46039f\"], [0.2222222222222222, \"#7201a8\"], [0.3333333333333333, \"#9c179e\"], [0.4444444444444444, \"#bd3786\"], [0.5555555555555556, \"#d8576b\"], [0.6666666666666666, \"#ed7953\"], [0.7777777777777778, \"#fb9f3a\"], [0.8888888888888888, \"#fdca26\"], [1.0, \"#f0f921\"]], \"type\": \"heatmapgl\"}], \"histogram\": [{\"marker\": {\"colorbar\": {\"outlinewidth\": 0, \"ticks\": \"\"}}, \"type\": \"histogram\"}], \"histogram2d\": [{\"colorbar\": {\"outlinewidth\": 0, \"ticks\": \"\"}, \"colorscale\": [[0.0, \"#0d0887\"], [0.1111111111111111, \"#46039f\"], [0.2222222222222222, \"#7201a8\"], [0.3333333333333333, \"#9c179e\"], [0.4444444444444444, \"#bd3786\"], [0.5555555555555556, \"#d8576b\"], [0.6666666666666666, \"#ed7953\"], [0.7777777777777778, \"#fb9f3a\"], [0.8888888888888888, \"#fdca26\"], [1.0, \"#f0f921\"]], \"type\": \"histogram2d\"}], \"histogram2dcontour\": [{\"colorbar\": {\"outlinewidth\": 0, \"ticks\": \"\"}, \"colorscale\": [[0.0, \"#0d0887\"], [0.1111111111111111, \"#46039f\"], [0.2222222222222222, \"#7201a8\"], [0.3333333333333333, \"#9c179e\"], [0.4444444444444444, \"#bd3786\"], [0.5555555555555556, \"#d8576b\"], [0.6666666666666666, \"#ed7953\"], [0.7777777777777778, \"#fb9f3a\"], [0.8888888888888888, \"#fdca26\"], [1.0, \"#f0f921\"]], \"type\": \"histogram2dcontour\"}], \"mesh3d\": [{\"colorbar\": {\"outlinewidth\": 0, \"ticks\": \"\"}, \"type\": \"mesh3d\"}], \"parcoords\": [{\"line\": {\"colorbar\": {\"outlinewidth\": 0, \"ticks\": \"\"}}, \"type\": \"parcoords\"}], \"pie\": [{\"automargin\": true, \"type\": \"pie\"}], \"scatter\": [{\"marker\": {\"colorbar\": {\"outlinewidth\": 0, \"ticks\": \"\"}}, \"type\": \"scatter\"}], \"scatter3d\": [{\"line\": {\"colorbar\": {\"outlinewidth\": 0, \"ticks\": \"\"}}, \"marker\": {\"colorbar\": {\"outlinewidth\": 0, \"ticks\": \"\"}}, \"type\": \"scatter3d\"}], \"scattercarpet\": [{\"marker\": {\"colorbar\": {\"outlinewidth\": 0, \"ticks\": \"\"}}, \"type\": \"scattercarpet\"}], \"scattergeo\": [{\"marker\": {\"colorbar\": {\"outlinewidth\": 0, \"ticks\": \"\"}}, \"type\": \"scattergeo\"}], \"scattergl\": [{\"marker\": {\"colorbar\": {\"outlinewidth\": 0, \"ticks\": \"\"}}, \"type\": \"scattergl\"}], \"scattermapbox\": [{\"marker\": {\"colorbar\": {\"outlinewidth\": 0, \"ticks\": \"\"}}, \"type\": \"scattermapbox\"}], \"scatterpolar\": [{\"marker\": {\"colorbar\": {\"outlinewidth\": 0, \"ticks\": \"\"}}, \"type\": \"scatterpolar\"}], \"scatterpolargl\": [{\"marker\": {\"colorbar\": {\"outlinewidth\": 0, \"ticks\": \"\"}}, \"type\": \"scatterpolargl\"}], \"scatterternary\": [{\"marker\": {\"colorbar\": {\"outlinewidth\": 0, \"ticks\": \"\"}}, \"type\": \"scatterternary\"}], \"surface\": [{\"colorbar\": {\"outlinewidth\": 0, \"ticks\": \"\"}, \"colorscale\": [[0.0, \"#0d0887\"], [0.1111111111111111, \"#46039f\"], [0.2222222222222222, \"#7201a8\"], [0.3333333333333333, \"#9c179e\"], [0.4444444444444444, \"#bd3786\"], [0.5555555555555556, \"#d8576b\"], [0.6666666666666666, \"#ed7953\"], [0.7777777777777778, \"#fb9f3a\"], [0.8888888888888888, \"#fdca26\"], [1.0, \"#f0f921\"]], \"type\": \"surface\"}], \"table\": [{\"cells\": {\"fill\": {\"color\": \"#EBF0F8\"}, \"line\": {\"color\": \"white\"}}, \"header\": {\"fill\": {\"color\": \"#C8D4E3\"}, \"line\": {\"color\": \"white\"}}, \"type\": \"table\"}]}, \"layout\": {\"annotationdefaults\": {\"arrowcolor\": \"#2a3f5f\", \"arrowhead\": 0, \"arrowwidth\": 1}, \"coloraxis\": {\"colorbar\": {\"outlinewidth\": 0, \"ticks\": \"\"}}, \"colorscale\": {\"diverging\": [[0, \"#8e0152\"], [0.1, \"#c51b7d\"], [0.2, \"#de77ae\"], [0.3, \"#f1b6da\"], [0.4, \"#fde0ef\"], [0.5, \"#f7f7f7\"], [0.6, \"#e6f5d0\"], [0.7, \"#b8e186\"], [0.8, \"#7fbc41\"], [0.9, \"#4d9221\"], [1, \"#276419\"]], \"sequential\": [[0.0, \"#0d0887\"], [0.1111111111111111, \"#46039f\"], [0.2222222222222222, \"#7201a8\"], [0.3333333333333333, \"#9c179e\"], [0.4444444444444444, \"#bd3786\"], [0.5555555555555556, \"#d8576b\"], [0.6666666666666666, \"#ed7953\"], [0.7777777777777778, \"#fb9f3a\"], [0.8888888888888888, \"#fdca26\"], [1.0, \"#f0f921\"]], \"sequentialminus\": [[0.0, \"#0d0887\"], [0.1111111111111111, \"#46039f\"], [0.2222222222222222, \"#7201a8\"], [0.3333333333333333, \"#9c179e\"], [0.4444444444444444, \"#bd3786\"], [0.5555555555555556, \"#d8576b\"], [0.6666666666666666, \"#ed7953\"], [0.7777777777777778, \"#fb9f3a\"], [0.8888888888888888, \"#fdca26\"], [1.0, \"#f0f921\"]]}, \"colorway\": [\"#636efa\", \"#EF553B\", \"#00cc96\", \"#ab63fa\", \"#FFA15A\", \"#19d3f3\", \"#FF6692\", \"#B6E880\", \"#FF97FF\", \"#FECB52\"], \"font\": {\"color\": \"#2a3f5f\"}, \"geo\": {\"bgcolor\": \"white\", \"lakecolor\": \"white\", \"landcolor\": \"#E5ECF6\", \"showlakes\": true, \"showland\": true, \"subunitcolor\": \"white\"}, \"hoverlabel\": {\"align\": \"left\"}, \"hovermode\": \"closest\", \"mapbox\": {\"style\": \"light\"}, \"paper_bgcolor\": \"white\", \"plot_bgcolor\": \"#E5ECF6\", \"polar\": {\"angularaxis\": {\"gridcolor\": \"white\", \"linecolor\": \"white\", \"ticks\": \"\"}, \"bgcolor\": \"#E5ECF6\", \"radialaxis\": {\"gridcolor\": \"white\", \"linecolor\": \"white\", \"ticks\": \"\"}}, \"scene\": {\"xaxis\": {\"backgroundcolor\": \"#E5ECF6\", \"gridcolor\": \"white\", \"gridwidth\": 2, \"linecolor\": \"white\", \"showbackground\": true, \"ticks\": \"\", \"zerolinecolor\": \"white\"}, \"yaxis\": {\"backgroundcolor\": \"#E5ECF6\", \"gridcolor\": \"white\", \"gridwidth\": 2, \"linecolor\": \"white\", \"showbackground\": true, \"ticks\": \"\", \"zerolinecolor\": \"white\"}, \"zaxis\": {\"backgroundcolor\": \"#E5ECF6\", \"gridcolor\": \"white\", \"gridwidth\": 2, \"linecolor\": \"white\", \"showbackground\": true, \"ticks\": \"\", \"zerolinecolor\": \"white\"}}, \"shapedefaults\": {\"line\": {\"color\": \"#2a3f5f\"}}, \"ternary\": {\"aaxis\": {\"gridcolor\": \"white\", \"linecolor\": \"white\", \"ticks\": \"\"}, \"baxis\": {\"gridcolor\": \"white\", \"linecolor\": \"white\", \"ticks\": \"\"}, \"bgcolor\": \"#E5ECF6\", \"caxis\": {\"gridcolor\": \"white\", \"linecolor\": \"white\", \"ticks\": \"\"}}, \"title\": {\"x\": 0.05}, \"xaxis\": {\"automargin\": true, \"gridcolor\": \"white\", \"linecolor\": \"white\", \"ticks\": \"\", \"title\": {\"standoff\": 15}, \"zerolinecolor\": \"white\", \"zerolinewidth\": 2}, \"yaxis\": {\"automargin\": true, \"gridcolor\": \"white\", \"linecolor\": \"white\", \"ticks\": \"\", \"title\": {\"standoff\": 15}, \"zerolinecolor\": \"white\", \"zerolinewidth\": 2}}}, \"title\": {\"font\": {\"family\": \"arial\", \"size\": 16.0}, \"text\": \"Community SWH Retrofit in Banja Luka\"}, \"width\": 650, \"xaxis\": {\"tickfont\": {\"size\": 12.8}, \"title\": {\"font\": {\"color\": \"#7f7f7f\", \"size\": 16}, \"text\": \"Time [h]\"}}, \"yaxis\": {\"tickfont\": {\"size\": 9.6}, \"title\": {\"font\": {\"color\": \"#7f7f7f\", \"size\": 16}, \"text\": \"Heat rate [W]\"}}},\n",
       "                        {\"responsive\": true}\n",
       "                    ).then(function(){\n",
       "                            \n",
       "var gd = document.getElementById('f6ace84b-6487-4c78-98ac-ac3365ecd069');\n",
       "var x = new MutationObserver(function (mutations, observer) {{\n",
       "        var display = window.getComputedStyle(gd).display;\n",
       "        if (!display || display === 'none') {{\n",
       "            console.log([gd, 'removed!']);\n",
       "            Plotly.purge(gd);\n",
       "            observer.disconnect();\n",
       "        }}\n",
       "}});\n",
       "\n",
       "// Listen for the removal of the full notebook cells\n",
       "var notebookContainer = gd.closest('#notebook-container');\n",
       "if (notebookContainer) {{\n",
       "    x.observe(notebookContainer, {childList: true});\n",
       "}}\n",
       "\n",
       "// Listen for the clearing of the current output cell\n",
       "var outputEl = gd.closest('.output');\n",
       "if (outputEl) {{\n",
       "    x.observe(outputEl, {childList: true});\n",
       "}}\n",
       "\n",
       "                        })\n",
       "                };\n",
       "                });\n",
       "            </script>\n",
       "        </div>"
      ]
     },
     "metadata": {},
     "output_type": "display_data"
    }
   ],
   "source": [
    "print('month, day, hour:\\nData starts at', ts_res_com_retrofit_cold.loc[first_hour, ['month','day', 'hour']].transpose().values, 'and ends at',\n",
    "ts_res_com_retrofit_cold.loc[last_hour, ['month','day', 'hour']].transpose().values)\n",
    "\n",
    "fig = Plot(data_headers = [r['q_dem'], r['q_del_tank'],r['q_unmet_tank'],r['q_del_sol'],r['q_dist_loss']], \\\n",
    "                 outpath = '', save_image = False, title = 'Community SWH Retrofit in Banja Luka', label_v = 'Heat rate [W]',\\\n",
    "                 legend = True, duration_curve = False, margin_l = m_l, margin_b = m_b,\\\n",
    "                 notebook_mode = True, width = w, height = h, fontsize = f, legend_x = 0.75, legend_y = 1.).\\\n",
    "            series(ts_res_com_retrofit_cold.loc[first_hour + 1 : last_hour + 1,\\\n",
    "                [r['q_dem'], r['q_del_tank'],r['q_unmet_tank'],r['q_del_sol'],r['q_dist_loss']]], \\\n",
    "                 outfile = '', modes = 'lines')"
   ]
  },
  {
   "cell_type": "markdown",
   "metadata": {},
   "source": [
    "## Compare systems across climates, configurations and scales"
   ]
  },
  {
   "cell_type": "markdown",
   "metadata": {},
   "source": [
    "### Retrofits"
   ]
  },
  {
   "cell_type": "code",
   "execution_count": 48,
   "metadata": {},
   "outputs": [
    {
     "data": {
      "text/html": [
       "<div>\n",
       "<style scoped>\n",
       "    .dataframe tbody tr th:only-of-type {\n",
       "        vertical-align: middle;\n",
       "    }\n",
       "\n",
       "    .dataframe tbody tr th {\n",
       "        vertical-align: top;\n",
       "    }\n",
       "\n",
       "    .dataframe thead th {\n",
       "        text-align: right;\n",
       "    }\n",
       "</style>\n",
       "<table border=\"1\" class=\"dataframe\">\n",
       "  <thead>\n",
       "    <tr style=\"text-align: right;\">\n",
       "      <th></th>\n",
       "      <th>Community SWH, Per Household, Retrofit, BL Climate</th>\n",
       "      <th>Individual SWH, Retrofit, BL Climate</th>\n",
       "    </tr>\n",
       "  </thead>\n",
       "  <tbody>\n",
       "    <tr>\n",
       "      <td>Consumer ID</td>\n",
       "      <td>2</td>\n",
       "      <td>1</td>\n",
       "    </tr>\n",
       "    <tr>\n",
       "      <td>Occupancy</td>\n",
       "      <td>4</td>\n",
       "      <td>4</td>\n",
       "    </tr>\n",
       "    <tr>\n",
       "      <td>Energy Use - Gas</td>\n",
       "      <td>2,150,210</td>\n",
       "      <td>2,248,688</td>\n",
       "    </tr>\n",
       "    <tr>\n",
       "      <td>Energy Use - Gas, Summer</td>\n",
       "      <td>565,002</td>\n",
       "      <td>589,376</td>\n",
       "    </tr>\n",
       "    <tr>\n",
       "      <td>Energy Use - Gas, Winter</td>\n",
       "      <td>1,585,208</td>\n",
       "      <td>1,659,313</td>\n",
       "    </tr>\n",
       "    <tr>\n",
       "      <td>Energy Use - Electricity</td>\n",
       "      <td>30,814</td>\n",
       "      <td>45,994</td>\n",
       "    </tr>\n",
       "    <tr>\n",
       "      <td>Energy Use - Electricity, Summer</td>\n",
       "      <td>14,723</td>\n",
       "      <td>22,545</td>\n",
       "    </tr>\n",
       "    <tr>\n",
       "      <td>Energy Use - Electricity, Winter</td>\n",
       "      <td>16,091</td>\n",
       "      <td>23,449</td>\n",
       "    </tr>\n",
       "    <tr>\n",
       "      <td>Solar Fraction</td>\n",
       "      <td>1</td>\n",
       "      <td>1</td>\n",
       "    </tr>\n",
       "    <tr>\n",
       "      <td>Backup Heat Delivered</td>\n",
       "      <td>646,029</td>\n",
       "      <td>698,770</td>\n",
       "    </tr>\n",
       "    <tr>\n",
       "      <td>Unmet Heat</td>\n",
       "      <td>0</td>\n",
       "      <td>0</td>\n",
       "    </tr>\n",
       "    <tr>\n",
       "      <td>Energy Use - Gas, w/o Dist Loss</td>\n",
       "      <td>2,142,528</td>\n",
       "      <td>2,248,688</td>\n",
       "    </tr>\n",
       "    <tr>\n",
       "      <td>Energy Use - Gas, Summer, w/o Dist Loss</td>\n",
       "      <td>564,778</td>\n",
       "      <td>589,376</td>\n",
       "    </tr>\n",
       "    <tr>\n",
       "      <td>Energy Use - Gas, Winter, w/o Dist Loss</td>\n",
       "      <td>1,577,750</td>\n",
       "      <td>1,659,313</td>\n",
       "    </tr>\n",
       "    <tr>\n",
       "      <td>Net Heat Demand</td>\n",
       "      <td>2,662,589</td>\n",
       "      <td>2,562,274</td>\n",
       "    </tr>\n",
       "    <tr>\n",
       "      <td>Total Heat Delivered</td>\n",
       "      <td>2,683,272</td>\n",
       "      <td>2,562,274</td>\n",
       "    </tr>\n",
       "    <tr>\n",
       "      <td>Tank Unmet Heat</td>\n",
       "      <td>646,289</td>\n",
       "      <td>698,769</td>\n",
       "    </tr>\n",
       "    <tr>\n",
       "      <td>Tank Heat Delivered</td>\n",
       "      <td>2,037,243</td>\n",
       "      <td>1,863,504</td>\n",
       "    </tr>\n",
       "    <tr>\n",
       "      <td>Distribution Heat Loss</td>\n",
       "      <td>20,944</td>\n",
       "      <td>0</td>\n",
       "    </tr>\n",
       "    <tr>\n",
       "      <td>Distribution Heat Loss at Backup</td>\n",
       "      <td>6,329</td>\n",
       "      <td>0</td>\n",
       "    </tr>\n",
       "    <tr>\n",
       "      <td>Distribution Heat Loss at Backup, Winter</td>\n",
       "      <td>6,155</td>\n",
       "      <td>0</td>\n",
       "    </tr>\n",
       "    <tr>\n",
       "      <td>Distribution Heat Loss at Backup, Summer</td>\n",
       "      <td>174</td>\n",
       "      <td>0</td>\n",
       "    </tr>\n",
       "  </tbody>\n",
       "</table>\n",
       "</div>"
      ],
      "text/plain": [
       "                                          Community SWH, Per Household, Retrofit, BL Climate   \\\n",
       "Consumer ID                                                                               2     \n",
       "Occupancy                                                                                 4     \n",
       "Energy Use - Gas                                                                  2,150,210     \n",
       "Energy Use - Gas, Summer                                                            565,002     \n",
       "Energy Use - Gas, Winter                                                          1,585,208     \n",
       "Energy Use - Electricity                                                             30,814     \n",
       "Energy Use - Electricity, Summer                                                     14,723     \n",
       "Energy Use - Electricity, Winter                                                     16,091     \n",
       "Solar Fraction                                                                            1     \n",
       "Backup Heat Delivered                                                               646,029     \n",
       "Unmet Heat                                                                                0     \n",
       "Energy Use - Gas, w/o Dist Loss                                                   2,142,528     \n",
       "Energy Use - Gas, Summer, w/o Dist Loss                                             564,778     \n",
       "Energy Use - Gas, Winter, w/o Dist Loss                                           1,577,750     \n",
       "Net Heat Demand                                                                   2,662,589     \n",
       "Total Heat Delivered                                                              2,683,272     \n",
       "Tank Unmet Heat                                                                     646,289     \n",
       "Tank Heat Delivered                                                               2,037,243     \n",
       "Distribution Heat Loss                                                               20,944     \n",
       "Distribution Heat Loss at Backup                                                      6,329     \n",
       "Distribution Heat Loss at Backup, Winter                                              6,155     \n",
       "Distribution Heat Loss at Backup, Summer                                                174     \n",
       "\n",
       "                                          Individual SWH, Retrofit, BL Climate   \n",
       "Consumer ID                                                                   1  \n",
       "Occupancy                                                                     4  \n",
       "Energy Use - Gas                                                      2,248,688  \n",
       "Energy Use - Gas, Summer                                                589,376  \n",
       "Energy Use - Gas, Winter                                              1,659,313  \n",
       "Energy Use - Electricity                                                 45,994  \n",
       "Energy Use - Electricity, Summer                                         22,545  \n",
       "Energy Use - Electricity, Winter                                         23,449  \n",
       "Solar Fraction                                                                1  \n",
       "Backup Heat Delivered                                                   698,770  \n",
       "Unmet Heat                                                                    0  \n",
       "Energy Use - Gas, w/o Dist Loss                                       2,248,688  \n",
       "Energy Use - Gas, Summer, w/o Dist Loss                                 589,376  \n",
       "Energy Use - Gas, Winter, w/o Dist Loss                               1,659,313  \n",
       "Net Heat Demand                                                       2,562,274  \n",
       "Total Heat Delivered                                                  2,562,274  \n",
       "Tank Unmet Heat                                                         698,769  \n",
       "Tank Heat Delivered                                                   1,863,504  \n",
       "Distribution Heat Loss                                                        0  \n",
       "Distribution Heat Loss at Backup                                              0  \n",
       "Distribution Heat Loss at Backup, Winter                                      0  \n",
       "Distribution Heat Loss at Backup, Summer                                      0  "
      ]
     },
     "execution_count": 48,
     "metadata": {},
     "output_type": "execute_result"
    }
   ],
   "source": [
    "# for cold climate\n",
    "\n",
    "# Energy use per household\n",
    "com = cons_total_com_retrofit_cold.sum()/4\n",
    "ind = cons_total_indiv_retrofit_cold.sum()\n",
    "\n",
    "# temperatures are averaged, heat contents summed over a year period\n",
    "df = pd.DataFrame(com)\n",
    "df = df.transpose()\n",
    "df.index = ['Community SWH, Per Household, Retrofit, BL Climate ']\n",
    "df1 = pd.DataFrame(ind)\n",
    "df1 = df1.transpose()\n",
    "df1.index = ['Individual SWH, Retrofit, BL Climate ']\n",
    "compare_cold = df.append(df1).transpose()\n",
    "\n",
    "compare_cold"
   ]
  },
  {
   "cell_type": "code",
   "execution_count": 49,
   "metadata": {},
   "outputs": [
    {
     "data": {
      "text/html": [
       "<div>\n",
       "<style scoped>\n",
       "    .dataframe tbody tr th:only-of-type {\n",
       "        vertical-align: middle;\n",
       "    }\n",
       "\n",
       "    .dataframe tbody tr th {\n",
       "        vertical-align: top;\n",
       "    }\n",
       "\n",
       "    .dataframe thead th {\n",
       "        text-align: right;\n",
       "    }\n",
       "</style>\n",
       "<table border=\"1\" class=\"dataframe\">\n",
       "  <thead>\n",
       "    <tr style=\"text-align: right;\">\n",
       "      <th></th>\n",
       "      <th>Community SWH, Per Household, Retrofit, BL Climate</th>\n",
       "      <th>Individual SWH, Retrofit, BL Climate</th>\n",
       "    </tr>\n",
       "  </thead>\n",
       "  <tbody>\n",
       "    <tr>\n",
       "      <td>Energy Use - Gas</td>\n",
       "      <td>2,150</td>\n",
       "      <td>2,249</td>\n",
       "    </tr>\n",
       "    <tr>\n",
       "      <td>Energy Use - Gas, Summer</td>\n",
       "      <td>565</td>\n",
       "      <td>589</td>\n",
       "    </tr>\n",
       "    <tr>\n",
       "      <td>Energy Use - Gas, Winter</td>\n",
       "      <td>1,585</td>\n",
       "      <td>1,659</td>\n",
       "    </tr>\n",
       "    <tr>\n",
       "      <td>Energy Use - Gas, w/o Dist Loss</td>\n",
       "      <td>2,143</td>\n",
       "      <td>2,249</td>\n",
       "    </tr>\n",
       "    <tr>\n",
       "      <td>Energy Use - Electricity</td>\n",
       "      <td>31</td>\n",
       "      <td>46</td>\n",
       "    </tr>\n",
       "    <tr>\n",
       "      <td>Solar Fraction</td>\n",
       "      <td>0</td>\n",
       "      <td>0</td>\n",
       "    </tr>\n",
       "    <tr>\n",
       "      <td>Backup Heat Delivered</td>\n",
       "      <td>646</td>\n",
       "      <td>699</td>\n",
       "    </tr>\n",
       "    <tr>\n",
       "      <td>Unmet Heat</td>\n",
       "      <td>0</td>\n",
       "      <td>0</td>\n",
       "    </tr>\n",
       "    <tr>\n",
       "      <td>Net Heat Demand</td>\n",
       "      <td>2,663</td>\n",
       "      <td>2,562</td>\n",
       "    </tr>\n",
       "    <tr>\n",
       "      <td>Total Heat Delivered</td>\n",
       "      <td>2,683</td>\n",
       "      <td>2,562</td>\n",
       "    </tr>\n",
       "    <tr>\n",
       "      <td>Tank Unmet Heat</td>\n",
       "      <td>646</td>\n",
       "      <td>699</td>\n",
       "    </tr>\n",
       "    <tr>\n",
       "      <td>Tank Heat Delivered</td>\n",
       "      <td>2,037</td>\n",
       "      <td>1,864</td>\n",
       "    </tr>\n",
       "    <tr>\n",
       "      <td>Distribution Heat Loss</td>\n",
       "      <td>21</td>\n",
       "      <td>0</td>\n",
       "    </tr>\n",
       "  </tbody>\n",
       "</table>\n",
       "</div>"
      ],
      "text/plain": [
       "                                 Community SWH, Per Household, Retrofit, BL Climate   \\\n",
       "Energy Use - Gas                                                             2,150     \n",
       "Energy Use - Gas, Summer                                                       565     \n",
       "Energy Use - Gas, Winter                                                     1,585     \n",
       "Energy Use - Gas, w/o Dist Loss                                              2,143     \n",
       "Energy Use - Electricity                                                        31     \n",
       "Solar Fraction                                                                   0     \n",
       "Backup Heat Delivered                                                          646     \n",
       "Unmet Heat                                                                       0     \n",
       "Net Heat Demand                                                              2,663     \n",
       "Total Heat Delivered                                                         2,683     \n",
       "Tank Unmet Heat                                                                646     \n",
       "Tank Heat Delivered                                                          2,037     \n",
       "Distribution Heat Loss                                                          21     \n",
       "\n",
       "                                 Individual SWH, Retrofit, BL Climate   \n",
       "Energy Use - Gas                                                 2,249  \n",
       "Energy Use - Gas, Summer                                           589  \n",
       "Energy Use - Gas, Winter                                         1,659  \n",
       "Energy Use - Gas, w/o Dist Loss                                  2,249  \n",
       "Energy Use - Electricity                                            46  \n",
       "Solar Fraction                                                       0  \n",
       "Backup Heat Delivered                                              699  \n",
       "Unmet Heat                                                           0  \n",
       "Net Heat Demand                                                  2,562  \n",
       "Total Heat Delivered                                             2,562  \n",
       "Tank Unmet Heat                                                    699  \n",
       "Tank Heat Delivered                                              1,864  \n",
       "Distribution Heat Loss                                               0  "
      ]
     },
     "execution_count": 49,
     "metadata": {},
     "output_type": "execute_result"
    }
   ],
   "source": [
    "pd.options.display.float_format = '{:,.0f}'.format\n",
    "# subset of results for the report\n",
    "(compare_cold.loc[['Energy Use - Gas',\n",
    "'Energy Use - Gas, Summer',\n",
    "'Energy Use - Gas, Winter',\n",
    "'Energy Use - Gas, w/o Dist Loss',\n",
    "'Energy Use - Electricity',\n",
    "'Solar Fraction',\n",
    "'Backup Heat Delivered',\n",
    "'Unmet Heat',\n",
    "'Net Heat Demand',\n",
    "'Total Heat Delivered',\n",
    "'Tank Unmet Heat',\n",
    "'Tank Heat Delivered',\n",
    "'Distribution Heat Loss'\n",
    "],:]/1000).round(0)#.to_clipboard()"
   ]
  },
  {
   "cell_type": "markdown",
   "metadata": {},
   "source": [
    "### New and Retrofit"
   ]
  },
  {
   "cell_type": "code",
   "execution_count": 50,
   "metadata": {},
   "outputs": [
    {
     "data": {
      "text/html": [
       "<div>\n",
       "<style scoped>\n",
       "    .dataframe tbody tr th:only-of-type {\n",
       "        vertical-align: middle;\n",
       "    }\n",
       "\n",
       "    .dataframe tbody tr th {\n",
       "        vertical-align: top;\n",
       "    }\n",
       "\n",
       "    .dataframe thead th {\n",
       "        text-align: right;\n",
       "    }\n",
       "</style>\n",
       "<table border=\"1\" class=\"dataframe\">\n",
       "  <thead>\n",
       "    <tr style=\"text-align: right;\">\n",
       "      <th></th>\n",
       "      <th>Community SWH, Per Household, New, BL Climate</th>\n",
       "      <th>Individual SWH, Retrofit, BL Climate</th>\n",
       "      <th>Community SWH, Per Household, Retrofit, BL Climate</th>\n",
       "      <th>indiv, retrofit, BL Climate</th>\n",
       "    </tr>\n",
       "  </thead>\n",
       "  <tbody>\n",
       "    <tr>\n",
       "      <td>Consumer ID</td>\n",
       "      <td>2</td>\n",
       "      <td>1</td>\n",
       "      <td>2</td>\n",
       "      <td>1</td>\n",
       "    </tr>\n",
       "    <tr>\n",
       "      <td>Occupancy</td>\n",
       "      <td>4</td>\n",
       "      <td>4</td>\n",
       "      <td>4</td>\n",
       "      <td>4</td>\n",
       "    </tr>\n",
       "    <tr>\n",
       "      <td>Energy Use - Gas</td>\n",
       "      <td>760,340</td>\n",
       "      <td>822,082</td>\n",
       "      <td>2,150,210</td>\n",
       "      <td>2,248,688</td>\n",
       "    </tr>\n",
       "    <tr>\n",
       "      <td>Energy Use - Gas, Summer</td>\n",
       "      <td>6,080</td>\n",
       "      <td>16,410</td>\n",
       "      <td>565,002</td>\n",
       "      <td>589,376</td>\n",
       "    </tr>\n",
       "    <tr>\n",
       "      <td>Energy Use - Gas, Winter</td>\n",
       "      <td>754,260</td>\n",
       "      <td>805,672</td>\n",
       "      <td>1,585,208</td>\n",
       "      <td>1,659,313</td>\n",
       "    </tr>\n",
       "    <tr>\n",
       "      <td>Energy Use - Electricity</td>\n",
       "      <td>30,814</td>\n",
       "      <td>45,994</td>\n",
       "      <td>30,814</td>\n",
       "      <td>45,994</td>\n",
       "    </tr>\n",
       "    <tr>\n",
       "      <td>Energy Use - Electricity, Summer</td>\n",
       "      <td>14,723</td>\n",
       "      <td>22,545</td>\n",
       "      <td>14,723</td>\n",
       "      <td>22,545</td>\n",
       "    </tr>\n",
       "    <tr>\n",
       "      <td>Energy Use - Electricity, Winter</td>\n",
       "      <td>16,091</td>\n",
       "      <td>23,449</td>\n",
       "      <td>16,091</td>\n",
       "      <td>23,449</td>\n",
       "    </tr>\n",
       "    <tr>\n",
       "      <td>Solar Fraction</td>\n",
       "      <td>1</td>\n",
       "      <td>1</td>\n",
       "      <td>1</td>\n",
       "      <td>1</td>\n",
       "    </tr>\n",
       "    <tr>\n",
       "      <td>Backup Heat Delivered</td>\n",
       "      <td>646,289</td>\n",
       "      <td>698,769</td>\n",
       "      <td>646,029</td>\n",
       "      <td>698,770</td>\n",
       "    </tr>\n",
       "    <tr>\n",
       "      <td>Unmet Heat</td>\n",
       "      <td>0</td>\n",
       "      <td>0</td>\n",
       "      <td>0</td>\n",
       "      <td>0</td>\n",
       "    </tr>\n",
       "    <tr>\n",
       "      <td>Energy Use - Gas, w/o Dist Loss</td>\n",
       "      <td>752,894</td>\n",
       "      <td>822,082</td>\n",
       "      <td>2,142,528</td>\n",
       "      <td>2,248,688</td>\n",
       "    </tr>\n",
       "    <tr>\n",
       "      <td>Energy Use - Gas, Summer, w/o Dist Loss</td>\n",
       "      <td>5,875</td>\n",
       "      <td>16,410</td>\n",
       "      <td>564,778</td>\n",
       "      <td>589,376</td>\n",
       "    </tr>\n",
       "    <tr>\n",
       "      <td>Energy Use - Gas, Winter, w/o Dist Loss</td>\n",
       "      <td>747,019</td>\n",
       "      <td>805,672</td>\n",
       "      <td>1,577,750</td>\n",
       "      <td>1,659,313</td>\n",
       "    </tr>\n",
       "    <tr>\n",
       "      <td>Net Heat Demand</td>\n",
       "      <td>2,662,589</td>\n",
       "      <td>2,562,274</td>\n",
       "      <td>2,662,589</td>\n",
       "      <td>2,562,274</td>\n",
       "    </tr>\n",
       "    <tr>\n",
       "      <td>Total Heat Delivered</td>\n",
       "      <td>2,683,533</td>\n",
       "      <td>2,562,274</td>\n",
       "      <td>2,683,272</td>\n",
       "      <td>2,562,274</td>\n",
       "    </tr>\n",
       "    <tr>\n",
       "      <td>Tank Unmet Heat</td>\n",
       "      <td>646,289</td>\n",
       "      <td>698,769</td>\n",
       "      <td>646,289</td>\n",
       "      <td>698,769</td>\n",
       "    </tr>\n",
       "    <tr>\n",
       "      <td>Tank Heat Delivered</td>\n",
       "      <td>2,037,243</td>\n",
       "      <td>1,863,504</td>\n",
       "      <td>2,037,243</td>\n",
       "      <td>1,863,504</td>\n",
       "    </tr>\n",
       "    <tr>\n",
       "      <td>Distribution Heat Loss</td>\n",
       "      <td>20,944</td>\n",
       "      <td>0</td>\n",
       "      <td>20,944</td>\n",
       "      <td>0</td>\n",
       "    </tr>\n",
       "    <tr>\n",
       "      <td>Distribution Heat Loss at Backup</td>\n",
       "      <td>6,329</td>\n",
       "      <td>0</td>\n",
       "      <td>6,329</td>\n",
       "      <td>0</td>\n",
       "    </tr>\n",
       "    <tr>\n",
       "      <td>Distribution Heat Loss at Backup, Winter</td>\n",
       "      <td>6,155</td>\n",
       "      <td>0</td>\n",
       "      <td>6,155</td>\n",
       "      <td>0</td>\n",
       "    </tr>\n",
       "    <tr>\n",
       "      <td>Distribution Heat Loss at Backup, Summer</td>\n",
       "      <td>174</td>\n",
       "      <td>0</td>\n",
       "      <td>174</td>\n",
       "      <td>0</td>\n",
       "    </tr>\n",
       "  </tbody>\n",
       "</table>\n",
       "</div>"
      ],
      "text/plain": [
       "                                          Community SWH, Per Household, New, BL Climate   \\\n",
       "Consumer ID                                                                            2   \n",
       "Occupancy                                                                              4   \n",
       "Energy Use - Gas                                                                 760,340   \n",
       "Energy Use - Gas, Summer                                                           6,080   \n",
       "Energy Use - Gas, Winter                                                         754,260   \n",
       "Energy Use - Electricity                                                          30,814   \n",
       "Energy Use - Electricity, Summer                                                  14,723   \n",
       "Energy Use - Electricity, Winter                                                  16,091   \n",
       "Solar Fraction                                                                         1   \n",
       "Backup Heat Delivered                                                            646,289   \n",
       "Unmet Heat                                                                             0   \n",
       "Energy Use - Gas, w/o Dist Loss                                                  752,894   \n",
       "Energy Use - Gas, Summer, w/o Dist Loss                                            5,875   \n",
       "Energy Use - Gas, Winter, w/o Dist Loss                                          747,019   \n",
       "Net Heat Demand                                                                2,662,589   \n",
       "Total Heat Delivered                                                           2,683,533   \n",
       "Tank Unmet Heat                                                                  646,289   \n",
       "Tank Heat Delivered                                                            2,037,243   \n",
       "Distribution Heat Loss                                                            20,944   \n",
       "Distribution Heat Loss at Backup                                                   6,329   \n",
       "Distribution Heat Loss at Backup, Winter                                           6,155   \n",
       "Distribution Heat Loss at Backup, Summer                                             174   \n",
       "\n",
       "                                          Individual SWH, Retrofit, BL Climate   \\\n",
       "Consumer ID                                                                   1   \n",
       "Occupancy                                                                     4   \n",
       "Energy Use - Gas                                                        822,082   \n",
       "Energy Use - Gas, Summer                                                 16,410   \n",
       "Energy Use - Gas, Winter                                                805,672   \n",
       "Energy Use - Electricity                                                 45,994   \n",
       "Energy Use - Electricity, Summer                                         22,545   \n",
       "Energy Use - Electricity, Winter                                         23,449   \n",
       "Solar Fraction                                                                1   \n",
       "Backup Heat Delivered                                                   698,769   \n",
       "Unmet Heat                                                                    0   \n",
       "Energy Use - Gas, w/o Dist Loss                                         822,082   \n",
       "Energy Use - Gas, Summer, w/o Dist Loss                                  16,410   \n",
       "Energy Use - Gas, Winter, w/o Dist Loss                                 805,672   \n",
       "Net Heat Demand                                                       2,562,274   \n",
       "Total Heat Delivered                                                  2,562,274   \n",
       "Tank Unmet Heat                                                         698,769   \n",
       "Tank Heat Delivered                                                   1,863,504   \n",
       "Distribution Heat Loss                                                        0   \n",
       "Distribution Heat Loss at Backup                                              0   \n",
       "Distribution Heat Loss at Backup, Winter                                      0   \n",
       "Distribution Heat Loss at Backup, Summer                                      0   \n",
       "\n",
       "                                          Community SWH, Per Household, Retrofit, BL Climate   \\\n",
       "Consumer ID                                                                               2     \n",
       "Occupancy                                                                                 4     \n",
       "Energy Use - Gas                                                                  2,150,210     \n",
       "Energy Use - Gas, Summer                                                            565,002     \n",
       "Energy Use - Gas, Winter                                                          1,585,208     \n",
       "Energy Use - Electricity                                                             30,814     \n",
       "Energy Use - Electricity, Summer                                                     14,723     \n",
       "Energy Use - Electricity, Winter                                                     16,091     \n",
       "Solar Fraction                                                                            1     \n",
       "Backup Heat Delivered                                                               646,029     \n",
       "Unmet Heat                                                                                0     \n",
       "Energy Use - Gas, w/o Dist Loss                                                   2,142,528     \n",
       "Energy Use - Gas, Summer, w/o Dist Loss                                             564,778     \n",
       "Energy Use - Gas, Winter, w/o Dist Loss                                           1,577,750     \n",
       "Net Heat Demand                                                                   2,662,589     \n",
       "Total Heat Delivered                                                              2,683,272     \n",
       "Tank Unmet Heat                                                                     646,289     \n",
       "Tank Heat Delivered                                                               2,037,243     \n",
       "Distribution Heat Loss                                                               20,944     \n",
       "Distribution Heat Loss at Backup                                                      6,329     \n",
       "Distribution Heat Loss at Backup, Winter                                              6,155     \n",
       "Distribution Heat Loss at Backup, Summer                                                174     \n",
       "\n",
       "                                          indiv, retrofit, BL Climate  \n",
       "Consumer ID                                                         1  \n",
       "Occupancy                                                           4  \n",
       "Energy Use - Gas                                            2,248,688  \n",
       "Energy Use - Gas, Summer                                      589,376  \n",
       "Energy Use - Gas, Winter                                    1,659,313  \n",
       "Energy Use - Electricity                                       45,994  \n",
       "Energy Use - Electricity, Summer                               22,545  \n",
       "Energy Use - Electricity, Winter                               23,449  \n",
       "Solar Fraction                                                      1  \n",
       "Backup Heat Delivered                                         698,770  \n",
       "Unmet Heat                                                          0  \n",
       "Energy Use - Gas, w/o Dist Loss                             2,248,688  \n",
       "Energy Use - Gas, Summer, w/o Dist Loss                       589,376  \n",
       "Energy Use - Gas, Winter, w/o Dist Loss                     1,659,313  \n",
       "Net Heat Demand                                             2,562,274  \n",
       "Total Heat Delivered                                        2,562,274  \n",
       "Tank Unmet Heat                                               698,769  \n",
       "Tank Heat Delivered                                         1,863,504  \n",
       "Distribution Heat Loss                                              0  \n",
       "Distribution Heat Loss at Backup                                    0  \n",
       "Distribution Heat Loss at Backup, Winter                            0  \n",
       "Distribution Heat Loss at Backup, Summer                            0  "
      ]
     },
     "execution_count": 50,
     "metadata": {},
     "output_type": "execute_result"
    }
   ],
   "source": [
    "# New installations\n",
    "\n",
    "# for cold climate\n",
    "\n",
    "# Energy use per household\n",
    "com = cons_total_com_new_cold.sum()/4\n",
    "ind = cons_total_indiv_new_cold.sum()\n",
    "\n",
    "# temperatures are averaged, heat contents summed over a year period\n",
    "df = pd.DataFrame(com)\n",
    "df = df.transpose()\n",
    "df.index = ['Community SWH, Per Household, New, BL Climate ']\n",
    "df1 = pd.DataFrame(ind)\n",
    "df1 = df1.transpose()\n",
    "df1.index = ['Individual SWH, Retrofit, BL Climate ']\n",
    "compare_cold = df.append(df1).transpose()\n",
    "compare = compare_cold.copy()\n",
    "\n",
    "\n",
    "# Retrofits\n",
    "\n",
    "# for cold climate\n",
    "\n",
    "# Energy use per household\n",
    "com = cons_total_com_retrofit_cold.sum()/4\n",
    "ind = cons_total_indiv_retrofit_cold.sum()\n",
    "\n",
    "# temperatures are averaged, heat contents summed over a year period\n",
    "df = pd.DataFrame(com)\n",
    "df = df.transpose()\n",
    "df.index = ['Community SWH, Per Household, Retrofit, BL Climate ']\n",
    "df1 = pd.DataFrame(ind)\n",
    "df1 = df1.transpose()\n",
    "df1.index = ['indiv, retrofit, BL Climate']\n",
    "compare_cold_retr = df.append(df1).transpose()\n",
    "compare[compare_cold_retr.columns] = compare_cold_retr\n",
    "\n",
    "compare"
   ]
  },
  {
   "cell_type": "code",
   "execution_count": 51,
   "metadata": {},
   "outputs": [
    {
     "data": {
      "text/html": [
       "<div>\n",
       "<style scoped>\n",
       "    .dataframe tbody tr th:only-of-type {\n",
       "        vertical-align: middle;\n",
       "    }\n",
       "\n",
       "    .dataframe tbody tr th {\n",
       "        vertical-align: top;\n",
       "    }\n",
       "\n",
       "    .dataframe thead th {\n",
       "        text-align: right;\n",
       "    }\n",
       "</style>\n",
       "<table border=\"1\" class=\"dataframe\">\n",
       "  <thead>\n",
       "    <tr style=\"text-align: right;\">\n",
       "      <th></th>\n",
       "      <th>Community SWH, Per Household, New, BL Climate</th>\n",
       "      <th>Individual SWH, Retrofit, BL Climate</th>\n",
       "      <th>Community SWH, Per Household, Retrofit, BL Climate</th>\n",
       "      <th>indiv, retrofit, BL Climate</th>\n",
       "    </tr>\n",
       "  </thead>\n",
       "  <tbody>\n",
       "    <tr>\n",
       "      <td>Energy Use - Gas</td>\n",
       "      <td>760,340</td>\n",
       "      <td>822,082</td>\n",
       "      <td>2,150,210</td>\n",
       "      <td>2,248,688</td>\n",
       "    </tr>\n",
       "    <tr>\n",
       "      <td>Energy Use - Gas, Summer</td>\n",
       "      <td>6,080</td>\n",
       "      <td>16,410</td>\n",
       "      <td>565,002</td>\n",
       "      <td>589,376</td>\n",
       "    </tr>\n",
       "    <tr>\n",
       "      <td>Energy Use - Gas, Winter</td>\n",
       "      <td>754,260</td>\n",
       "      <td>805,672</td>\n",
       "      <td>1,585,208</td>\n",
       "      <td>1,659,313</td>\n",
       "    </tr>\n",
       "    <tr>\n",
       "      <td>Energy Use - Gas, w/o Dist Loss</td>\n",
       "      <td>752,894</td>\n",
       "      <td>822,082</td>\n",
       "      <td>2,142,528</td>\n",
       "      <td>2,248,688</td>\n",
       "    </tr>\n",
       "    <tr>\n",
       "      <td>Energy Use - Electricity</td>\n",
       "      <td>30,814</td>\n",
       "      <td>45,994</td>\n",
       "      <td>30,814</td>\n",
       "      <td>45,994</td>\n",
       "    </tr>\n",
       "    <tr>\n",
       "      <td>Solar Fraction</td>\n",
       "      <td>1</td>\n",
       "      <td>1</td>\n",
       "      <td>1</td>\n",
       "      <td>1</td>\n",
       "    </tr>\n",
       "    <tr>\n",
       "      <td>Backup Heat Delivered</td>\n",
       "      <td>646,289</td>\n",
       "      <td>698,769</td>\n",
       "      <td>646,029</td>\n",
       "      <td>698,770</td>\n",
       "    </tr>\n",
       "    <tr>\n",
       "      <td>Unmet Heat</td>\n",
       "      <td>0</td>\n",
       "      <td>0</td>\n",
       "      <td>0</td>\n",
       "      <td>0</td>\n",
       "    </tr>\n",
       "    <tr>\n",
       "      <td>Net Heat Demand</td>\n",
       "      <td>2,662,589</td>\n",
       "      <td>2,562,274</td>\n",
       "      <td>2,662,589</td>\n",
       "      <td>2,562,274</td>\n",
       "    </tr>\n",
       "    <tr>\n",
       "      <td>Total Heat Delivered</td>\n",
       "      <td>2,683,533</td>\n",
       "      <td>2,562,274</td>\n",
       "      <td>2,683,272</td>\n",
       "      <td>2,562,274</td>\n",
       "    </tr>\n",
       "    <tr>\n",
       "      <td>Tank Unmet Heat</td>\n",
       "      <td>646,289</td>\n",
       "      <td>698,769</td>\n",
       "      <td>646,289</td>\n",
       "      <td>698,769</td>\n",
       "    </tr>\n",
       "    <tr>\n",
       "      <td>Tank Heat Delivered</td>\n",
       "      <td>2,037,243</td>\n",
       "      <td>1,863,504</td>\n",
       "      <td>2,037,243</td>\n",
       "      <td>1,863,504</td>\n",
       "    </tr>\n",
       "    <tr>\n",
       "      <td>Distribution Heat Loss</td>\n",
       "      <td>20,944</td>\n",
       "      <td>0</td>\n",
       "      <td>20,944</td>\n",
       "      <td>0</td>\n",
       "    </tr>\n",
       "  </tbody>\n",
       "</table>\n",
       "</div>"
      ],
      "text/plain": [
       "                                 Community SWH, Per Household, New, BL Climate   \\\n",
       "Energy Use - Gas                                                        760,340   \n",
       "Energy Use - Gas, Summer                                                  6,080   \n",
       "Energy Use - Gas, Winter                                                754,260   \n",
       "Energy Use - Gas, w/o Dist Loss                                         752,894   \n",
       "Energy Use - Electricity                                                 30,814   \n",
       "Solar Fraction                                                                1   \n",
       "Backup Heat Delivered                                                   646,289   \n",
       "Unmet Heat                                                                    0   \n",
       "Net Heat Demand                                                       2,662,589   \n",
       "Total Heat Delivered                                                  2,683,533   \n",
       "Tank Unmet Heat                                                         646,289   \n",
       "Tank Heat Delivered                                                   2,037,243   \n",
       "Distribution Heat Loss                                                   20,944   \n",
       "\n",
       "                                 Individual SWH, Retrofit, BL Climate   \\\n",
       "Energy Use - Gas                                               822,082   \n",
       "Energy Use - Gas, Summer                                        16,410   \n",
       "Energy Use - Gas, Winter                                       805,672   \n",
       "Energy Use - Gas, w/o Dist Loss                                822,082   \n",
       "Energy Use - Electricity                                        45,994   \n",
       "Solar Fraction                                                       1   \n",
       "Backup Heat Delivered                                          698,769   \n",
       "Unmet Heat                                                           0   \n",
       "Net Heat Demand                                              2,562,274   \n",
       "Total Heat Delivered                                         2,562,274   \n",
       "Tank Unmet Heat                                                698,769   \n",
       "Tank Heat Delivered                                          1,863,504   \n",
       "Distribution Heat Loss                                               0   \n",
       "\n",
       "                                 Community SWH, Per Household, Retrofit, BL Climate   \\\n",
       "Energy Use - Gas                                                         2,150,210     \n",
       "Energy Use - Gas, Summer                                                   565,002     \n",
       "Energy Use - Gas, Winter                                                 1,585,208     \n",
       "Energy Use - Gas, w/o Dist Loss                                          2,142,528     \n",
       "Energy Use - Electricity                                                    30,814     \n",
       "Solar Fraction                                                                   1     \n",
       "Backup Heat Delivered                                                      646,029     \n",
       "Unmet Heat                                                                       0     \n",
       "Net Heat Demand                                                          2,662,589     \n",
       "Total Heat Delivered                                                     2,683,272     \n",
       "Tank Unmet Heat                                                            646,289     \n",
       "Tank Heat Delivered                                                      2,037,243     \n",
       "Distribution Heat Loss                                                      20,944     \n",
       "\n",
       "                                 indiv, retrofit, BL Climate  \n",
       "Energy Use - Gas                                   2,248,688  \n",
       "Energy Use - Gas, Summer                             589,376  \n",
       "Energy Use - Gas, Winter                           1,659,313  \n",
       "Energy Use - Gas, w/o Dist Loss                    2,248,688  \n",
       "Energy Use - Electricity                              45,994  \n",
       "Solar Fraction                                             1  \n",
       "Backup Heat Delivered                                698,770  \n",
       "Unmet Heat                                                 0  \n",
       "Net Heat Demand                                    2,562,274  \n",
       "Total Heat Delivered                               2,562,274  \n",
       "Tank Unmet Heat                                      698,769  \n",
       "Tank Heat Delivered                                1,863,504  \n",
       "Distribution Heat Loss                                     0  "
      ]
     },
     "execution_count": 51,
     "metadata": {},
     "output_type": "execute_result"
    }
   ],
   "source": [
    "pd.options.display.float_format = '{:,.0f}'.format\n",
    "# subset of results for the report\n",
    "(compare.loc[['Energy Use - Gas',\n",
    "'Energy Use - Gas, Summer',\n",
    "'Energy Use - Gas, Winter',\n",
    "'Energy Use - Gas, w/o Dist Loss',\n",
    "'Energy Use - Electricity',\n",
    "'Solar Fraction',\n",
    "'Backup Heat Delivered',\n",
    "'Unmet Heat',\n",
    "'Net Heat Demand',\n",
    "'Total Heat Delivered',\n",
    "'Tank Unmet Heat',\n",
    "'Tank Heat Delivered',\n",
    "'Distribution Heat Loss'\n",
    "],:]).round(0)#.to_clipboard()"
   ]
  },
  {
   "cell_type": "code",
   "execution_count": null,
   "metadata": {},
   "outputs": [],
   "source": []
  }
 ],
 "metadata": {
  "kernelspec": {
   "display_name": "Python LCC 3.6",
   "language": "python",
   "name": "py36lcc"
  },
  "language_info": {
   "codemirror_mode": {
    "name": "ipython",
    "version": 3
   },
   "file_extension": ".py",
   "mimetype": "text/x-python",
   "name": "python",
   "nbconvert_exporter": "python",
   "pygments_lexer": "ipython3",
   "version": "3.6.8"
  }
 },
 "nbformat": 4,
 "nbformat_minor": 2
}
